{
 "cells": [
  {
   "cell_type": "markdown",
   "metadata": {},
   "source": [
    "# Structured hierarchical models\n",
    "\n",
    "The goal of this project is to model essential genes for multiple conditions given that we have prior knowledge about functional relations of these genes. We extend the model from before to:\n",
    "\n",
    "\\begin{align}\n",
    "\\boldsymbol \\pi & \\sim \\text{Dirichlet}(0.5, 0.5) \\\\\n",
    "z_g & \\sim \\text{Categorical}(\\boldsymbol \\pi) \\\\\n",
    "\\tau^2 & \\sim P(\\cdot) \\\\\n",
    "\\mu_{z_g} & \\sim \\mathcal{N}(0, 1) \\\\\n",
    "\\gamma_g \\mid z_g &  \\sim \\mathcal{N}(\\mu_{z_g}, \\tau^2) \\\\\n",
    "\\beta_{vg} \\mid \\gamma_g &  \\sim \\mathcal{N}(\\gamma_g, \\tau^2) \\\\\n",
    "l_{vg} & \\sim \\text{Gamma}(1, 1) \\\\\n",
    "x_{svg} \\mid \\beta_{vg} &  \\sim \\text{Pois}\\left(l_{vg} \\cdot \\exp \\left( \\beta_{vg} \\right) \\right) \\\\\n",
    "\\end{align}"
   ]
  },
  {
   "cell_type": "code",
   "execution_count": 1,
   "metadata": {},
   "outputs": [],
   "source": [
    "import warnings\n",
    "warnings.filterwarnings(\"ignore\")"
   ]
  },
  {
   "cell_type": "code",
   "execution_count": 2,
   "metadata": {},
   "outputs": [],
   "source": [
    "import pandas as pd\n",
    "import numpy as np\n",
    "import scipy as sp\n",
    "import tensorflow as tf\n",
    "import tensorflow_probability as tfp\n",
    "from tensorflow_probability import distributions as tfd\n",
    "from tensorflow_probability import edward2 as ed"
   ]
  },
  {
   "cell_type": "code",
   "execution_count": 3,
   "metadata": {},
   "outputs": [],
   "source": [
    "from sklearn import preprocessing"
   ]
  },
  {
   "cell_type": "code",
   "execution_count": 4,
   "metadata": {},
   "outputs": [
    {
     "name": "stderr",
     "output_type": "stream",
     "text": [
      "/home/simon/miniconda3/envs/tensorflow/lib/python3.6/importlib/_bootstrap.py:219: RuntimeWarning: numpy.dtype size changed, may indicate binary incompatibility. Expected 96, got 88\n",
      "  return f(*args, **kwds)\n",
      "/home/simon/miniconda3/envs/tensorflow/lib/python3.6/importlib/_bootstrap.py:219: RuntimeWarning: numpy.ufunc size changed, may indicate binary incompatibility. Expected 216, got 192\n",
      "  return f(*args, **kwds)\n",
      "/home/simon/miniconda3/envs/tensorflow/lib/python3.6/importlib/_bootstrap.py:219: ImportWarning: can't resolve package from __spec__ or __package__, falling back on __name__ and __path__\n",
      "  return f(*args, **kwds)\n",
      "/home/simon/miniconda3/envs/tensorflow/lib/python3.6/importlib/_bootstrap.py:219: RuntimeWarning: numpy.dtype size changed, may indicate binary incompatibility. Expected 96, got 88\n",
      "  return f(*args, **kwds)\n",
      "/home/simon/miniconda3/envs/tensorflow/lib/python3.6/importlib/_bootstrap.py:219: RuntimeWarning: numpy.ufunc size changed, may indicate binary incompatibility. Expected 216, got 192\n",
      "  return f(*args, **kwds)\n",
      "/home/simon/miniconda3/envs/tensorflow/lib/python3.6/importlib/_bootstrap.py:219: ImportWarning: can't resolve package from __spec__ or __package__, falling back on __name__ and __path__\n",
      "  return f(*args, **kwds)\n",
      "/home/simon/miniconda3/envs/tensorflow/lib/python3.6/importlib/_bootstrap.py:219: RuntimeWarning: numpy.ufunc size changed, may indicate binary incompatibility. Expected 192 from C header, got 216 from PyObject\n",
      "  return f(*args, **kwds)\n",
      "/home/simon/miniconda3/envs/tensorflow/lib/python3.6/importlib/_bootstrap.py:219: RuntimeWarning: numpy.ufunc size changed, may indicate binary incompatibility. Expected 192 from C header, got 216 from PyObject\n",
      "  return f(*args, **kwds)\n",
      "/home/simon/miniconda3/envs/tensorflow/lib/python3.6/importlib/_bootstrap.py:219: RuntimeWarning: numpy.ufunc size changed, may indicate binary incompatibility. Expected 192 from C header, got 216 from PyObject\n",
      "  return f(*args, **kwds)\n",
      "/home/simon/miniconda3/envs/tensorflow/lib/python3.6/importlib/_bootstrap.py:219: RuntimeWarning: numpy.ufunc size changed, may indicate binary incompatibility. Expected 192 from C header, got 216 from PyObject\n",
      "  return f(*args, **kwds)\n",
      "/home/simon/miniconda3/envs/tensorflow/lib/python3.6/importlib/_bootstrap.py:219: RuntimeWarning: numpy.ufunc size changed, may indicate binary incompatibility. Expected 192 from C header, got 216 from PyObject\n",
      "  return f(*args, **kwds)\n",
      "/home/simon/miniconda3/envs/tensorflow/lib/python3.6/importlib/_bootstrap.py:219: RuntimeWarning: numpy.ufunc size changed, may indicate binary incompatibility. Expected 192 from C header, got 216 from PyObject\n",
      "  return f(*args, **kwds)\n",
      "/home/simon/miniconda3/envs/tensorflow/lib/python3.6/importlib/_bootstrap.py:219: RuntimeWarning: numpy.ufunc size changed, may indicate binary incompatibility. Expected 192 from C header, got 216 from PyObject\n",
      "  return f(*args, **kwds)\n"
     ]
    }
   ],
   "source": [
    "%matplotlib inline\n",
    "from matplotlib import pyplot as plt\n",
    "import seaborn as sns\n",
    "import arviz as az\n",
    "\n",
    "sns.set_style(\n",
    "    \"white\", \n",
    "    {'xtick.bottom': True,\n",
    "     'ytick.left': True,\n",
    "     'axes.spines.top': False, \n",
    "     'axes.spines.right': False})"
   ]
  },
  {
   "cell_type": "markdown",
   "metadata": {},
   "source": [
    "## Simulated data"
   ]
  },
  {
   "cell_type": "code",
   "execution_count": 5,
   "metadata": {},
   "outputs": [],
   "source": [
    "seed = 42\n",
    "np.random.seed(seed)"
   ]
  },
  {
   "cell_type": "code",
   "execution_count": 6,
   "metadata": {},
   "outputs": [],
   "source": [
    "conditions = [\"C\" + str(i) for i in range(2)]\n",
    "genes = [\"G\" + str(i) for i in range(2)]\n",
    "sgrnas = [\"S\" + str(i) for i in range(2)]\n",
    "replicates = [\"R\" + str(i) for i in range(2)]"
   ]
  },
  {
   "cell_type": "code",
   "execution_count": 7,
   "metadata": {},
   "outputs": [],
   "source": [
    "combinations = [(g, c, s, r) \\\n",
    "     for g in genes for c in conditions \\\n",
    "     for s in sgrnas for r in replicates]"
   ]
  },
  {
   "cell_type": "code",
   "execution_count": 8,
   "metadata": {},
   "outputs": [
    {
     "data": {
      "text/plain": [
       "[('G0', 'C0', 'S0', 'R0'),\n",
       " ('G0', 'C0', 'S0', 'R1'),\n",
       " ('G0', 'C0', 'S1', 'R0'),\n",
       " ('G0', 'C0', 'S1', 'R1'),\n",
       " ('G0', 'C1', 'S0', 'R0'),\n",
       " ('G0', 'C1', 'S0', 'R1'),\n",
       " ('G0', 'C1', 'S1', 'R0'),\n",
       " ('G0', 'C1', 'S1', 'R1'),\n",
       " ('G1', 'C0', 'S0', 'R0'),\n",
       " ('G1', 'C0', 'S0', 'R1'),\n",
       " ('G1', 'C0', 'S1', 'R0'),\n",
       " ('G1', 'C0', 'S1', 'R1'),\n",
       " ('G1', 'C1', 'S0', 'R0'),\n",
       " ('G1', 'C1', 'S0', 'R1'),\n",
       " ('G1', 'C1', 'S1', 'R0'),\n",
       " ('G1', 'C1', 'S1', 'R1')]"
      ]
     },
     "execution_count": 8,
     "metadata": {},
     "output_type": "execute_result"
    }
   ],
   "source": [
    "combinations"
   ]
  },
  {
   "cell_type": "code",
   "execution_count": 9,
   "metadata": {},
   "outputs": [],
   "source": [
    "count_table = pd.DataFrame(\n",
    "    combinations, \n",
    "    columns=[\"genes\", \"conditions\", \"sgrnas\", \"replicates\"])"
   ]
  },
  {
   "cell_type": "code",
   "execution_count": 10,
   "metadata": {},
   "outputs": [
    {
     "data": {
      "text/plain": [
       "array(['S0', 'S0', 'S1', 'S1', 'S2', 'S2', 'S3', 'S3', 'S4', 'S4', 'S5',\n",
       "       'S5', 'S6', 'S6', 'S7', 'S7'], dtype='<U2')"
      ]
     },
     "execution_count": 10,
     "metadata": {},
     "output_type": "execute_result"
    }
   ],
   "source": [
    "sgrna_ids = np.repeat([\"S\" + str(i) for i in range(len(genes) * len(conditions) * len(sgrnas))], 2)\n",
    "sgrna_ids"
   ]
  },
  {
   "cell_type": "code",
   "execution_count": 11,
   "metadata": {},
   "outputs": [
    {
     "data": {
      "text/plain": [
       "array(['C0', 'C0', 'C0', 'C0', 'C1', 'C1', 'C1', 'C1', 'C2', 'C2', 'C2',\n",
       "       'C2', 'C3', 'C3', 'C3', 'C3'], dtype='<U2')"
      ]
     },
     "execution_count": 11,
     "metadata": {},
     "output_type": "execute_result"
    }
   ],
   "source": [
    "condition_ids = np.repeat([\"C\" + str(i) for i in range(len(genes) * len(conditions))], 4)\n",
    "condition_ids"
   ]
  },
  {
   "cell_type": "code",
   "execution_count": 12,
   "metadata": {},
   "outputs": [],
   "source": [
    "count_table.sgrnas = sgrna_ids\n",
    "count_table.conditions = condition_ids"
   ]
  },
  {
   "cell_type": "code",
   "execution_count": 13,
   "metadata": {},
   "outputs": [
    {
     "data": {
      "text/html": [
       "<div>\n",
       "<style scoped>\n",
       "    .dataframe tbody tr th:only-of-type {\n",
       "        vertical-align: middle;\n",
       "    }\n",
       "\n",
       "    .dataframe tbody tr th {\n",
       "        vertical-align: top;\n",
       "    }\n",
       "\n",
       "    .dataframe thead th {\n",
       "        text-align: right;\n",
       "    }\n",
       "</style>\n",
       "<table border=\"1\" class=\"dataframe\">\n",
       "  <thead>\n",
       "    <tr style=\"text-align: right;\">\n",
       "      <th></th>\n",
       "      <th>genes</th>\n",
       "      <th>conditions</th>\n",
       "      <th>sgrnas</th>\n",
       "      <th>replicates</th>\n",
       "    </tr>\n",
       "  </thead>\n",
       "  <tbody>\n",
       "    <tr>\n",
       "      <th>0</th>\n",
       "      <td>G0</td>\n",
       "      <td>C0</td>\n",
       "      <td>S0</td>\n",
       "      <td>R0</td>\n",
       "    </tr>\n",
       "    <tr>\n",
       "      <th>1</th>\n",
       "      <td>G0</td>\n",
       "      <td>C0</td>\n",
       "      <td>S0</td>\n",
       "      <td>R1</td>\n",
       "    </tr>\n",
       "    <tr>\n",
       "      <th>2</th>\n",
       "      <td>G0</td>\n",
       "      <td>C0</td>\n",
       "      <td>S1</td>\n",
       "      <td>R0</td>\n",
       "    </tr>\n",
       "    <tr>\n",
       "      <th>3</th>\n",
       "      <td>G0</td>\n",
       "      <td>C0</td>\n",
       "      <td>S1</td>\n",
       "      <td>R1</td>\n",
       "    </tr>\n",
       "    <tr>\n",
       "      <th>4</th>\n",
       "      <td>G0</td>\n",
       "      <td>C1</td>\n",
       "      <td>S2</td>\n",
       "      <td>R0</td>\n",
       "    </tr>\n",
       "    <tr>\n",
       "      <th>5</th>\n",
       "      <td>G0</td>\n",
       "      <td>C1</td>\n",
       "      <td>S2</td>\n",
       "      <td>R1</td>\n",
       "    </tr>\n",
       "    <tr>\n",
       "      <th>6</th>\n",
       "      <td>G0</td>\n",
       "      <td>C1</td>\n",
       "      <td>S3</td>\n",
       "      <td>R0</td>\n",
       "    </tr>\n",
       "    <tr>\n",
       "      <th>7</th>\n",
       "      <td>G0</td>\n",
       "      <td>C1</td>\n",
       "      <td>S3</td>\n",
       "      <td>R1</td>\n",
       "    </tr>\n",
       "    <tr>\n",
       "      <th>8</th>\n",
       "      <td>G1</td>\n",
       "      <td>C2</td>\n",
       "      <td>S4</td>\n",
       "      <td>R0</td>\n",
       "    </tr>\n",
       "    <tr>\n",
       "      <th>9</th>\n",
       "      <td>G1</td>\n",
       "      <td>C2</td>\n",
       "      <td>S4</td>\n",
       "      <td>R1</td>\n",
       "    </tr>\n",
       "    <tr>\n",
       "      <th>10</th>\n",
       "      <td>G1</td>\n",
       "      <td>C2</td>\n",
       "      <td>S5</td>\n",
       "      <td>R0</td>\n",
       "    </tr>\n",
       "    <tr>\n",
       "      <th>11</th>\n",
       "      <td>G1</td>\n",
       "      <td>C2</td>\n",
       "      <td>S5</td>\n",
       "      <td>R1</td>\n",
       "    </tr>\n",
       "    <tr>\n",
       "      <th>12</th>\n",
       "      <td>G1</td>\n",
       "      <td>C3</td>\n",
       "      <td>S6</td>\n",
       "      <td>R0</td>\n",
       "    </tr>\n",
       "    <tr>\n",
       "      <th>13</th>\n",
       "      <td>G1</td>\n",
       "      <td>C3</td>\n",
       "      <td>S6</td>\n",
       "      <td>R1</td>\n",
       "    </tr>\n",
       "    <tr>\n",
       "      <th>14</th>\n",
       "      <td>G1</td>\n",
       "      <td>C3</td>\n",
       "      <td>S7</td>\n",
       "      <td>R0</td>\n",
       "    </tr>\n",
       "    <tr>\n",
       "      <th>15</th>\n",
       "      <td>G1</td>\n",
       "      <td>C3</td>\n",
       "      <td>S7</td>\n",
       "      <td>R1</td>\n",
       "    </tr>\n",
       "  </tbody>\n",
       "</table>\n",
       "</div>"
      ],
      "text/plain": [
       "   genes conditions sgrnas replicates\n",
       "0     G0         C0     S0         R0\n",
       "1     G0         C0     S0         R1\n",
       "2     G0         C0     S1         R0\n",
       "3     G0         C0     S1         R1\n",
       "4     G0         C1     S2         R0\n",
       "5     G0         C1     S2         R1\n",
       "6     G0         C1     S3         R0\n",
       "7     G0         C1     S3         R1\n",
       "8     G1         C2     S4         R0\n",
       "9     G1         C2     S4         R1\n",
       "10    G1         C2     S5         R0\n",
       "11    G1         C2     S5         R1\n",
       "12    G1         C3     S6         R0\n",
       "13    G1         C3     S6         R1\n",
       "14    G1         C3     S7         R0\n",
       "15    G1         C3     S7         R1"
      ]
     },
     "execution_count": 13,
     "metadata": {},
     "output_type": "execute_result"
    }
   ],
   "source": [
    "count_table"
   ]
  },
  {
   "cell_type": "code",
   "execution_count": 14,
   "metadata": {},
   "outputs": [
    {
     "data": {
      "text/plain": [
       "array([0.06671342])"
      ]
     },
     "execution_count": 14,
     "metadata": {},
     "output_type": "execute_result"
    }
   ],
   "source": [
    "tau_true = sp.stats.halfcauchy.rvs(0, .1, size=1)\n",
    "tau_true"
   ]
  },
  {
   "cell_type": "code",
   "execution_count": 15,
   "metadata": {},
   "outputs": [
    {
     "data": {
      "text/plain": [
       "array([0.6, 6. ])"
      ]
     },
     "execution_count": 15,
     "metadata": {},
     "output_type": "execute_result"
    }
   ],
   "source": [
    "gamma_true = sp.array([.6, 6])\n",
    "gamma_true"
   ]
  },
  {
   "cell_type": "code",
   "execution_count": 16,
   "metadata": {},
   "outputs": [
    {
     "data": {
      "text/plain": [
       "array([0.52582267, 0.62127506, 6.0186158 , 6.06741494])"
      ]
     },
     "execution_count": 16,
     "metadata": {},
     "output_type": "execute_result"
    }
   ],
   "source": [
    "beta_true = sp.stats.norm.rvs(\n",
    "    np.repeat(gamma_true, len(conditions)), tau_true)\n",
    "beta_true"
   ]
  },
  {
   "cell_type": "code",
   "execution_count": 17,
   "metadata": {},
   "outputs": [
    {
     "data": {
      "text/plain": [
       "array([-0.05808781, -0.05251698, -0.05713802, -0.09240828, -0.2612549 ,\n",
       "        0.09503697,  0.08164451, -0.1523876 ])"
      ]
     },
     "execution_count": 17,
     "metadata": {},
     "output_type": "execute_result"
    }
   ],
   "source": [
    "l_true = sp.stats.norm.rvs(0, .1, size= len(conditions) * len(genes) * len(sgrnas))\n",
    "l_true"
   ]
  },
  {
   "cell_type": "code",
   "execution_count": 18,
   "metadata": {},
   "outputs": [
    {
     "data": {
      "text/plain": [
       "array([0, 0, 1, 1, 2, 2, 3, 3, 4, 4, 5, 5, 6, 6, 7, 7])"
      ]
     },
     "execution_count": 18,
     "metadata": {},
     "output_type": "execute_result"
    }
   ],
   "source": [
    "l_idx = np.repeat(range(len(l_true)), len(replicates))\n",
    "l_idx"
   ]
  },
  {
   "cell_type": "code",
   "execution_count": 19,
   "metadata": {},
   "outputs": [
    {
     "data": {
      "text/plain": [
       "array([0, 0, 0, 0, 1, 1, 1, 1, 2, 2, 2, 2, 3, 3, 3, 3])"
      ]
     },
     "execution_count": 19,
     "metadata": {},
     "output_type": "execute_result"
    }
   ],
   "source": [
    "beta_idx = np.repeat(range(len(beta_true)),\n",
    "                     len(sgrnas) * len(replicates))\n",
    "beta_idx"
   ]
  },
  {
   "cell_type": "code",
   "execution_count": 20,
   "metadata": {},
   "outputs": [
    {
     "data": {
      "text/plain": [
       "array([  0,   1,   2,   2,   1,   0,   4,   2, 316, 345, 462, 453, 500,\n",
       "       506, 352, 361])"
      ]
     },
     "execution_count": 20,
     "metadata": {},
     "output_type": "execute_result"
    }
   ],
   "source": [
    "counts = sp.stats.poisson.rvs(\n",
    "    np.exp(beta_true[beta_idx] + l_true[l_idx]))\n",
    "counts"
   ]
  },
  {
   "cell_type": "markdown",
   "metadata": {},
   "source": [
    "## Model"
   ]
  },
  {
   "cell_type": "code",
   "execution_count": 21,
   "metadata": {},
   "outputs": [],
   "source": [
    "le = preprocessing.LabelEncoder()\n",
    "for i in count_table.columns.values:\n",
    "    count_table[i] = le.fit_transform(count_table[i])"
   ]
  },
  {
   "cell_type": "markdown",
   "metadata": {},
   "source": [
    "## Test 1"
   ]
  },
  {
   "cell_type": "code",
   "execution_count": 75,
   "metadata": {},
   "outputs": [],
   "source": [
    "n = 10000\n",
    "var = tfd.Normal(1, 1).sample(n)\n",
    "with tf.Session() as sess:\n",
    "    v = sess.run(var)"
   ]
  },
  {
   "cell_type": "code",
   "execution_count": 78,
   "metadata": {},
   "outputs": [
    {
     "data": {
      "image/png": "[encoded data removed]",
      "text/plain": [
       "<Figure size 432x288 with 1 Axes>"
      ]
     },
     "metadata": {},
     "output_type": "display_data"
    }
   ],
   "source": [
    "plt.hist(v);"
   ]
  },
  {
   "cell_type": "code",
   "execution_count": 79,
   "metadata": {},
   "outputs": [],
   "source": [
    "def easy_model(size):\n",
    "    gamma_tau = ed.InverseGamma(5, 1, name=\"gamma_tau\")\n",
    "    gamma = ed.Normal(1, 5, name=\"gamma\")   \n",
    "    x = ed.Normal(tf.ones(size) * gamma, 1, name=\"x\")\n",
    "    return x\n",
    "\n",
    "log_joint = ed.make_log_joint_fn(easy_model)"
   ]
  },
  {
   "cell_type": "code",
   "execution_count": 80,
   "metadata": {},
   "outputs": [],
   "source": [
    "def target_log_prob_fn(gamma_tau, gamma):\n",
    "    return log_joint(\n",
    "        size=len(v),        \n",
    "        gamma_tau=gamma_tau,\n",
    "        gamma=gamma,        \n",
    "        x=v)"
   ]
  },
  {
   "cell_type": "code",
   "execution_count": 81,
   "metadata": {},
   "outputs": [],
   "source": []
  },
  {
   "cell_type": "code",
   "execution_count": 41,
   "metadata": {},
   "outputs": [],
   "source": [
    "tf.reset_default_graph()\n",
    "step_size = tf.get_variable(name='step_size', initializer=1., use_resource=True)"
   ]
  },
  {
   "cell_type": "code",
   "execution_count": 42,
   "metadata": {},
   "outputs": [
    {
     "name": "stderr",
     "output_type": "stream",
     "text": [
      "/home/simon/miniconda3/envs/tensorflow/lib/python3.6/site-packages/numpy/lib/type_check.py:546: DeprecationWarning: np.asscalar(a) is deprecated since NumPy v1.16, use a.item() instead\n",
      "  'a.item() instead', DeprecationWarning, stacklevel=1)\n"
     ]
    }
   ],
   "source": [
    "num_results = int(10e3)\n",
    "num_burnin_steps = int(1e3)\n",
    "\n",
    "states, kernel_results = tfp.mcmc.sample_chain(\n",
    "    num_results=num_results,\n",
    "    num_burnin_steps=num_burnin_steps,\n",
    "    current_state=[\n",
    "        tf.ones([], name='gamma_tau'),\n",
    "        tf.zeros([], name='gamma')\n",
    "    ],\n",
    "    kernel=tfp.mcmc.HamiltonianMonteCarlo(\n",
    "        target_log_prob_fn=target_log_prob_fn,\n",
    "        step_size=step_size,\n",
    "        step_size_update_fn=tfp.mcmc.make_simple_step_size_update_policy(num_adaptation_steps=3000),\n",
    "        num_leapfrog_steps=5));"
   ]
  },
  {
   "cell_type": "code",
   "execution_count": 82,
   "metadata": {},
   "outputs": [],
   "source": [
    "num_results = 100000\n",
    "num_burnin_steps = 100000\n",
    "\n",
    "states, kernel_results = tfp.mcmc.sample_chain(\n",
    "    num_results=num_results,\n",
    "    num_burnin_steps=num_burnin_steps,\n",
    "    current_state=[\n",
    "        tf.ones([], name='gamma_tau'),\n",
    "        tf.zeros([], name='gamma')\n",
    "    ],\n",
    "    kernel=tfp.mcmc.RandomWalkMetropolis(\n",
    "        target_log_prob_fn=target_log_prob_fn));"
   ]
  },
  {
   "cell_type": "code",
   "execution_count": 83,
   "metadata": {},
   "outputs": [],
   "source": [
    "init_op = tf.global_variables_initializer()"
   ]
  },
  {
   "cell_type": "code",
   "execution_count": 97,
   "metadata": {},
   "outputs": [],
   "source": [
    "with tf.Session() as sess:\n",
    "    init_op.run()\n",
    "    states_, is_accepted_, = sess.run([states, kernel_results.is_accepted])"
   ]
  },
  {
   "cell_type": "code",
   "execution_count": 99,
   "metadata": {},
   "outputs": [
    {
     "data": {
      "text/plain": [
       "[array([0.43423843, 0.43423843, 0.43423843, ..., 0.4460097 , 0.4460097 ,\n",
       "        0.4460097 ], dtype=float32),\n",
       " array([1.0188668, 1.0188668, 1.0188668, ..., 1.0231538, 1.0231538,\n",
       "        1.0231538], dtype=float32)]"
      ]
     },
     "execution_count": 99,
     "metadata": {},
     "output_type": "execute_result"
    }
   ],
   "source": [
    "states_"
   ]
  },
  {
   "cell_type": "code",
   "execution_count": 90,
   "metadata": {},
   "outputs": [
    {
     "data": {
      "image/png": "[encoded data removed]",
      "text/plain": [
       "<Figure size 432x288 with 1 Axes>"
      ]
     },
     "metadata": {},
     "output_type": "display_data"
    }
   ],
   "source": [
    "plt.hist(g_, bins=30);"
   ]
  },
  {
   "cell_type": "code",
   "execution_count": 91,
   "metadata": {},
   "outputs": [
    {
     "data": {
      "image/png": "[encoded data removed]",
      "text/plain": [
       "<Figure size 432x288 with 1 Axes>"
      ]
     },
     "metadata": {},
     "output_type": "display_data"
    }
   ],
   "source": [
    "plt.hist(gt_);"
   ]
  },
  {
   "cell_type": "markdown",
   "metadata": {},
   "source": [
    "### Test 2"
   ]
  },
  {
   "cell_type": "code",
   "execution_count": 172,
   "metadata": {},
   "outputs": [],
   "source": [
    "var = tfd.Poisson(tf.exp(tf.gather(gamma_true, count_table['genes']))).sample(1)\n",
    "with tf.Session() as sess:\n",
    "    v = sess.run(var)"
   ]
  },
  {
   "cell_type": "code",
   "execution_count": 181,
   "metadata": {},
   "outputs": [
    {
     "data": {
      "text/plain": [
       "array([[  1.,   2.,   1.,   1.,   1.,   1.,   2.,   2., 394., 376., 440.,\n",
       "        395., 384., 404., 423., 420.]])"
      ]
     },
     "execution_count": 181,
     "metadata": {},
     "output_type": "execute_result"
    }
   ],
   "source": [
    "v"
   ]
  },
  {
   "cell_type": "code",
   "execution_count": 188,
   "metadata": {},
   "outputs": [],
   "source": [
    "tf.reset_default_graph()"
   ]
  },
  {
   "cell_type": "code",
   "execution_count": 189,
   "metadata": {},
   "outputs": [],
   "source": [
    "def easy_model(count_table, len_g):\n",
    "    gamma_tau = ed.InverseGamma(5., 1., name=\"gamma_tau\")\n",
    "    gamma = ed.Normal(tf.zeros(len_g), gamma_tau, name=\"gamma\")   \n",
    "    x = ed.Poisson(tf.exp(tf.gather(gamma, count_table['genes'])), name=\"x\")\n",
    "    return x\n",
    "\n",
    "log_joint = ed.make_log_joint_fn(easy_model)"
   ]
  },
  {
   "cell_type": "code",
   "execution_count": 190,
   "metadata": {},
   "outputs": [],
   "source": [
    "def target_log_prob_fn(gamma_tau, gamma):\n",
    "    return log_joint(\n",
    "        count_table=count_table, \n",
    "        len_g=2,\n",
    "        gamma_tau=gamma_tau,\n",
    "        gamma=gamma,        \n",
    "        x=v[0])"
   ]
  },
  {
   "cell_type": "code",
   "execution_count": 191,
   "metadata": {},
   "outputs": [],
   "source": [
    "num_results = int(10e3)\n",
    "num_burnin_steps = int(1e3)\n",
    "\n",
    "step_size = tf.get_variable(name='step_size', initializer=1., use_resource=True)\n",
    "\n",
    "states, kernel_results = tfp.mcmc.sample_chain(\n",
    "    num_results=num_results,\n",
    "    num_burnin_steps=num_burnin_steps,\n",
    "    current_state=[\n",
    "        tf.ones([], name='gamma_tau'),\n",
    "        tf.zeros(2, name='gamma')\n",
    "    ],\n",
    "    kernel=tfp.mcmc.HamiltonianMonteCarlo(\n",
    "        target_log_prob_fn=target_log_prob_fn,\n",
    "        step_size=step_size,\n",
    "        step_size_update_fn=tfp.mcmc.make_simple_step_size_update_policy(num_adaptation_steps=1000),\n",
    "        num_leapfrog_steps=5));"
   ]
  },
  {
   "cell_type": "code",
   "execution_count": 192,
   "metadata": {},
   "outputs": [],
   "source": [
    "gt_, g_ = states"
   ]
  },
  {
   "cell_type": "code",
   "execution_count": 193,
   "metadata": {},
   "outputs": [],
   "source": [
    "init_op = tf.global_variables_initializer()\n",
    "with tf.Session() as sess:\n",
    "    init_op.run()\n",
    "    gt, g, is_accepted_ = sess.run([gt_, g_, kernel_results.is_accepted])"
   ]
  },
  {
   "cell_type": "code",
   "execution_count": 194,
   "metadata": {},
   "outputs": [
    {
     "data": {
      "text/plain": [
       "array([0.6, 6. ])"
      ]
     },
     "execution_count": 194,
     "metadata": {},
     "output_type": "execute_result"
    }
   ],
   "source": [
    "gamma_true"
   ]
  },
  {
   "cell_type": "code",
   "execution_count": 203,
   "metadata": {},
   "outputs": [
    {
     "data": {
      "text/plain": [
       "0.25671744"
      ]
     },
     "execution_count": 203,
     "metadata": {},
     "output_type": "execute_result"
    }
   ],
   "source": [
    "np.mean(g[:,0])"
   ]
  },
  {
   "cell_type": "markdown",
   "metadata": {},
   "source": [
    "## Test 3"
   ]
  },
  {
   "cell_type": "code",
   "execution_count": 300,
   "metadata": {},
   "outputs": [
    {
     "data": {
      "text/plain": [
       "array([0.6, 6. ])"
      ]
     },
     "execution_count": 300,
     "metadata": {},
     "output_type": "execute_result"
    }
   ],
   "source": [
    "gamma_true"
   ]
  },
  {
   "cell_type": "code",
   "execution_count": 301,
   "metadata": {},
   "outputs": [
    {
     "data": {
      "text/plain": [
       "array([0.52582267, 0.62127506, 6.0186158 , 6.06741494])"
      ]
     },
     "execution_count": 301,
     "metadata": {},
     "output_type": "execute_result"
    }
   ],
   "source": [
    "beta_true"
   ]
  },
  {
   "cell_type": "code",
   "execution_count": 302,
   "metadata": {},
   "outputs": [],
   "source": [
    "var = tfd.Poisson(tf.exp(tf.gather(beta_true, count_table['conditions']))).sample(1)\n",
    "with tf.Session() as sess:\n",
    "    v = sess.run(var)"
   ]
  },
  {
   "cell_type": "code",
   "execution_count": 303,
   "metadata": {},
   "outputs": [
    {
     "data": {
      "text/plain": [
       "array([0.52582267, 0.62127506, 6.0186158 , 6.06741494])"
      ]
     },
     "execution_count": 303,
     "metadata": {},
     "output_type": "execute_result"
    }
   ],
   "source": [
    "beta_true"
   ]
  },
  {
   "cell_type": "code",
   "execution_count": 338,
   "metadata": {},
   "outputs": [],
   "source": [
    "def easy_model(count_table, len_g, len_beta, len_l):\n",
    "    gamma_tau = ed.InverseGamma(1, 1, name=\"gamma_tau\")\n",
    "    gamma = ed.Normal(tf.zeros(len_g), gamma_tau, name=\"gamma\")\n",
    "    \n",
    "    beta_tau = ed.InverseGamma(1, 1, name=\"beta_tau\")\n",
    "    beta = ed.Normal(tf.gather(gamma, np.array([0, 0, 1, 1])),\n",
    "                     beta_tau, name=\"beta\")\n",
    "    beta_f = tf.gather(beta, count_table['conditions'])\n",
    "    x = ed.Poisson(tf.exp(beta_f), name=\"x\")\n",
    "    return x\n",
    "\n",
    "log_joint = ed.make_log_joint_fn(easy_model)"
   ]
  },
  {
   "cell_type": "code",
   "execution_count": 339,
   "metadata": {},
   "outputs": [],
   "source": [
    "def target_log_prob_fn(gamma_tau, gamma, beta_tau, beta):\n",
    "    return log_joint(\n",
    "        count_table=count_table, \n",
    "        len_g=2, len_beta=4, len_l=8,\n",
    "        gamma_tau=gamma_tau,\n",
    "        gamma=gamma,\n",
    "        beta_tau=beta_tau,\n",
    "        beta=beta,\n",
    "        x=v[0])"
   ]
  },
  {
   "cell_type": "code",
   "execution_count": 340,
   "metadata": {},
   "outputs": [],
   "source": [
    "tf.reset_default_graph()"
   ]
  },
  {
   "cell_type": "code",
   "execution_count": 341,
   "metadata": {},
   "outputs": [],
   "source": [
    "num_results = int(10e3)\n",
    "num_burnin_steps = int(10e3)\n",
    "\n",
    "step_size = tf.get_variable(name='step_size', initializer=1., use_resource=True)\n",
    "\n",
    "states, kernel_results = tfp.mcmc.sample_chain(\n",
    "    num_results=num_results,\n",
    "    num_burnin_steps=num_burnin_steps,\n",
    "    current_state=[\n",
    "        tf.ones([], name='gamma_tau'),\n",
    "        tf.zeros(2, name='gamma'),\n",
    "        tf.ones([], name='beta_tau'),\n",
    "        tf.zeros(4, name='beta')\n",
    "    ],\n",
    "    kernel=tfp.mcmc.HamiltonianMonteCarlo(\n",
    "        target_log_prob_fn=target_log_prob_fn,\n",
    "        step_size=step_size,\n",
    "        step_size_update_fn=tfp.mcmc.make_simple_step_size_update_policy(num_adaptation_steps=1000),\n",
    "        num_leapfrog_steps=5)\n",
    "    );"
   ]
  },
  {
   "cell_type": "code",
   "execution_count": 342,
   "metadata": {},
   "outputs": [],
   "source": [
    "_, gamma_, _, beta_f_  = states"
   ]
  },
  {
   "cell_type": "code",
   "execution_count": 343,
   "metadata": {},
   "outputs": [],
   "source": [
    "init_op = tf.global_variables_initializer()\n",
    "with tf.Session() as sess:\n",
    "    init_op.run()\n",
    "    gamma_, beta_f_, is_accepted_ = sess.run([gamma_, beta_f_, kernel_results.is_accepted])"
   ]
  },
  {
   "cell_type": "code",
   "execution_count": 346,
   "metadata": {},
   "outputs": [
    {
     "data": {
      "text/plain": [
       "array([0.29491165, 0.67291135, 5.9871955 , 6.1256948 ], dtype=float32)"
      ]
     },
     "execution_count": 346,
     "metadata": {},
     "output_type": "execute_result"
    }
   ],
   "source": [
    "np.mean(beta_f_, 0)"
   ]
  },
  {
   "cell_type": "code",
   "execution_count": 345,
   "metadata": {},
   "outputs": [
    {
     "data": {
      "text/plain": [
       "array([0.5349346, 5.9255295], dtype=float32)"
      ]
     },
     "execution_count": 345,
     "metadata": {},
     "output_type": "execute_result"
    }
   ],
   "source": [
    "np.mean(gamma_, 0)"
   ]
  },
  {
   "cell_type": "code",
   "execution_count": 356,
   "metadata": {},
   "outputs": [
    {
     "data": {
      "image/png": "[encoded data removed]",
      "text/plain": [
       "<Figure size 432x288 with 1 Axes>"
      ]
     },
     "metadata": {},
     "output_type": "display_data"
    }
   ],
   "source": [
    "plt.hist(gamma_[:,1]);"
   ]
  },
  {
   "cell_type": "code",
   "execution_count": 347,
   "metadata": {},
   "outputs": [
    {
     "data": {
      "text/plain": [
       "array([0.52582267, 0.62127506, 6.0186158 , 6.06741494])"
      ]
     },
     "execution_count": 347,
     "metadata": {},
     "output_type": "execute_result"
    }
   ],
   "source": [
    "beta_true"
   ]
  },
  {
   "cell_type": "code",
   "execution_count": 348,
   "metadata": {},
   "outputs": [
    {
     "data": {
      "text/plain": [
       "array([0.6, 6. ])"
      ]
     },
     "execution_count": 348,
     "metadata": {},
     "output_type": "execute_result"
    }
   ],
   "source": [
    "gamma_true"
   ]
  },
  {
   "cell_type": "code",
   "execution_count": 353,
   "metadata": {},
   "outputs": [],
   "source": [
    "ps = tfp.mcmc.potential_scale_reduction(beta_)\n",
    "with tf.Session() as sess:\n",
    "    ps_ = sess.run(ps)"
   ]
  },
  {
   "cell_type": "code",
   "execution_count": 354,
   "metadata": {},
   "outputs": [
    {
     "data": {
      "text/plain": [
       "5.4635587"
      ]
     },
     "execution_count": 354,
     "metadata": {},
     "output_type": "execute_result"
    }
   ],
   "source": [
    "ps_"
   ]
  },
  {
   "cell_type": "markdown",
   "metadata": {},
   "source": [
    "## Test 4"
   ]
  },
  {
   "cell_type": "code",
   "execution_count": 387,
   "metadata": {},
   "outputs": [],
   "source": [
    "var = tfd.Poisson(tf.exp(tf.gather(beta_true, count_table['conditions']) + \n",
    "                         tf.gather(l_true, count_table['sgrnas']))).sample(1)\n",
    "with tf.Session() as sess:\n",
    "    v = sess.run(var)"
   ]
  },
  {
   "cell_type": "code",
   "execution_count": 388,
   "metadata": {},
   "outputs": [
    {
     "data": {
      "text/plain": [
       "array([[  2.,   1.,   2.,   3.,   1.,   2.,   0.,   2., 350., 364., 478.,\n",
       "        421., 488., 480., 465., 408.]])"
      ]
     },
     "execution_count": 388,
     "metadata": {},
     "output_type": "execute_result"
    }
   ],
   "source": [
    "v"
   ]
  },
  {
   "cell_type": "code",
   "execution_count": 390,
   "metadata": {},
   "outputs": [],
   "source": [
    "def easy_model(count_table, len_g, len_beta, len_l):\n",
    "    gamma_tau = ed.InverseGamma(1, 1, name=\"gamma_tau\")\n",
    "    gamma = ed.Normal(tf.zeros(len_g), gamma_tau, name=\"gamma\")\n",
    "    \n",
    "    beta_tau = ed.InverseGamma(1, 1, name=\"beta_tau\")\n",
    "    beta = ed.Normal(tf.gather(gamma, np.array([0, 0, 1, 1])),\n",
    "                     beta_tau, name=\"beta\")\n",
    "    beta_f = tf.gather(beta, count_table['conditions'])\n",
    "    \n",
    "    l = ed.Normal(tf.zeros(len_l), .1, name=\"l\")    \n",
    "    le = tf.gather(l, count_table['sgrnas'])\n",
    "    \n",
    "    x = ed.Poisson(le + tf.exp(beta_f), name=\"x\")\n",
    "    return x\n",
    "\n",
    "log_joint = ed.make_log_joint_fn(easy_model)"
   ]
  },
  {
   "cell_type": "code",
   "execution_count": 391,
   "metadata": {},
   "outputs": [],
   "source": [
    "def target_log_prob_fn(gamma_tau, gamma, beta_tau, beta, l):\n",
    "    return log_joint(\n",
    "        count_table=count_table, \n",
    "        len_g=2, len_beta=4, len_l=8,\n",
    "        gamma_tau=gamma_tau,\n",
    "        gamma=gamma,\n",
    "        beta_tau=beta_tau,\n",
    "        beta=beta,\n",
    "        l=l,\n",
    "        x=v[0])"
   ]
  },
  {
   "cell_type": "code",
   "execution_count": 393,
   "metadata": {},
   "outputs": [],
   "source": [
    "tf.reset_default_graph\n",
    "\n",
    "num_results = int(10e3)\n",
    "num_burnin_steps = int(10e3)\n",
    "\n",
    "step_size = tf.get_variable(name='step_size', initializer=1., use_resource=True)\n",
    "\n",
    "states, kernel_results = tfp.mcmc.sample_chain(\n",
    "    num_results=num_results,\n",
    "    num_burnin_steps=num_burnin_steps,\n",
    "    current_state=[\n",
    "        tf.ones([], name='gamma_tau'),\n",
    "        tf.zeros(2, name='gamma'),\n",
    "        tf.ones([], name='beta_tau'),\n",
    "        tf.zeros(4, name='beta'),\n",
    "        tf.zeros(8, name='l')\n",
    "    ],\n",
    "    kernel=tfp.mcmc.HamiltonianMonteCarlo(\n",
    "        target_log_prob_fn=target_log_prob_fn,\n",
    "        step_size=step_size,\n",
    "        step_size_update_fn=tfp.mcmc.make_simple_step_size_update_policy(num_adaptation_steps=1000),\n",
    "        num_leapfrog_steps=5)\n",
    "    );"
   ]
  },
  {
   "cell_type": "code",
   "execution_count": 394,
   "metadata": {},
   "outputs": [],
   "source": [
    "_, gamma_, _, beta_f_, l_  = states"
   ]
  },
  {
   "cell_type": "code",
   "execution_count": 395,
   "metadata": {},
   "outputs": [],
   "source": [
    "init_op = tf.global_variables_initializer()\n",
    "with tf.Session() as sess:\n",
    "    init_op.run()\n",
    "    gamma_, beta_f_, l_, is_accepted_ = sess.run([gamma_, beta_f_, l_, kernel_results.is_accepted])"
   ]
  },
  {
   "cell_type": "code",
   "execution_count": 396,
   "metadata": {},
   "outputs": [
    {
     "data": {
      "text/plain": [
       "array([0.52582267, 0.62127506, 6.0186158 , 6.06741494])"
      ]
     },
     "execution_count": 396,
     "metadata": {},
     "output_type": "execute_result"
    }
   ],
   "source": [
    "beta_true"
   ]
  },
  {
   "cell_type": "code",
   "execution_count": 397,
   "metadata": {},
   "outputs": [
    {
     "data": {
      "text/plain": [
       "array([0.5883136 , 0.28950652, 5.9987693 , 6.1308713 ], dtype=float32)"
      ]
     },
     "execution_count": 397,
     "metadata": {},
     "output_type": "execute_result"
    }
   ],
   "source": [
    "np.mean(beta_f_, 0)"
   ]
  },
  {
   "cell_type": "code",
   "execution_count": 398,
   "metadata": {},
   "outputs": [
    {
     "data": {
      "text/plain": [
       "array([0.6, 6. ])"
      ]
     },
     "execution_count": 398,
     "metadata": {},
     "output_type": "execute_result"
    }
   ],
   "source": [
    "gamma_true"
   ]
  },
  {
   "cell_type": "code",
   "execution_count": 399,
   "metadata": {},
   "outputs": [
    {
     "data": {
      "text/plain": [
       "array([0.53385913, 5.852625  ], dtype=float32)"
      ]
     },
     "execution_count": 399,
     "metadata": {},
     "output_type": "execute_result"
    }
   ],
   "source": [
    "np.mean(gamma_, 0)"
   ]
  },
  {
   "cell_type": "code",
   "execution_count": 400,
   "metadata": {},
   "outputs": [
    {
     "data": {
      "text/plain": [
       "array([ 0.33722963, -0.09203908, -0.03986384, -0.00608641, -0.14187505,\n",
       "        0.10424916,  0.09035325,  0.00190003])"
      ]
     },
     "execution_count": 400,
     "metadata": {},
     "output_type": "execute_result"
    }
   ],
   "source": [
    "l_true"
   ]
  },
  {
   "cell_type": "code",
   "execution_count": 401,
   "metadata": {},
   "outputs": [
    {
     "data": {
      "text/plain": [
       "array([-0.00195797,  0.01101431,  0.00306771, -0.0040696 , -0.00059212,\n",
       "        0.00162464,  0.00212914,  0.00116956], dtype=float32)"
      ]
     },
     "execution_count": 401,
     "metadata": {},
     "output_type": "execute_result"
    }
   ],
   "source": [
    "np.mean(l_, 0)"
   ]
  },
  {
   "cell_type": "markdown",
   "metadata": {},
   "source": [
    "## Test 5"
   ]
  },
  {
   "cell_type": "code",
   "execution_count": 120,
   "metadata": {},
   "outputs": [
    {
     "name": "stdout",
     "output_type": "stream",
     "text": [
      "[1 1 0 0 1 1 1 1 1 0 1 0 1 1 1 1 1 0 0 1 0 0 0 1 0 1 0 1 0 1 1 1 1 1 0 0 0\n",
      " 0 0 1 1 0 0 1 1 0 0 0 0 0 0 0 0 0 1 1 0 0 0 0 0 1 1 1 0 0 1 1 1 1 1 0 1 1\n",
      " 0 1 1 0 1 0 0 0 1 0 0 0 1 1 0 0 0 1 1 1 1 1 1 0 1 1]\n"
     ]
    }
   ],
   "source": [
    "s = tfd.Bernoulli(probs=.5).sample(100)\n",
    "with tf.Session() as sess:\n",
    "    s = sess.run(s)\n",
    "    print(s)"
   ]
  },
  {
   "cell_type": "code",
   "execution_count": 25,
   "metadata": {},
   "outputs": [],
   "source": [
    "var = tfd.Poisson(tf.exp(tf.gather(beta_true, count_table['conditions']) + \n",
    "                         tf.gather(l_true, count_table['sgrnas']))).sample(1)\n",
    "with tf.Session() as sess:\n",
    "    v = sess.run(var)"
   ]
  },
  {
   "cell_type": "code",
   "execution_count": 155,
   "metadata": {},
   "outputs": [],
   "source": [
    "def shm(count_table, len_g, len_beta, len_l):\n",
    "    p = ed.Uniform(0., 1., name=\"p\")\n",
    "    category = ed.Bernoulli(probs=tf.ones(len_g) * p, name=\"category\")\n",
    "    \n",
    "    gamma_tau = ed.InverseGamma(5, 1, name=\"gamma_tau\")    \n",
    "    gamma = ed.Normal(tf.constant([-1. , 1.]), gamma_tau, name=\"gamma\")\n",
    "        \n",
    "    beta_tau = ed.InverseGamma(5, 1, name=\"beta_tau\")\n",
    "    beta = ed.Normal(tf.gather(gamma, np.array([0, 0, 1, 1])),\n",
    "                     beta_tau, name=\"beta\")\n",
    "    beta_f = tf.gather(beta, count_table['conditions'])\n",
    "    \n",
    "    l = ed.Normal(tf.zeros(len_l), .1, name=\"l\")    \n",
    "    le = tf.gather(l, count_table['sgrnas'])\n",
    "    \n",
    "    x = ed.Poisson(le + tf.exp(beta_f), name=\"x\")\n",
    "    return x\n",
    "\n",
    "log_joint = ed.make_log_joint_fn(shm)\n",
    "def target_log_prob_fn(p, category, gamma_tau, gamma, beta_tau, beta, l):\n",
    "    return log_joint(\n",
    "        count_table=count_table, \n",
    "        len_g=2, len_beta=4, len_l=8,\n",
    "        p=p,\n",
    "        category=category,        \n",
    "        gamma_tau=gamma_tau,\n",
    "        gamma=gamma,\n",
    "        beta_tau=beta_tau,\n",
    "        beta=beta,\n",
    "        l=l,\n",
    "        x=v[0])"
   ]
  },
  {
   "cell_type": "code",
   "execution_count": 167,
   "metadata": {},
   "outputs": [
    {
     "name": "stderr",
     "output_type": "stream",
     "text": [
      "/home/simon/miniconda3/envs/tensorflow/lib/python3.6/site-packages/numpy/lib/type_check.py:546: DeprecationWarning: np.asscalar(a) is deprecated since NumPy v1.16, use a.item() instead\n",
      "  'a.item() instead', DeprecationWarning, stacklevel=1)\n"
     ]
    }
   ],
   "source": [
    "tf.reset_default_graph()\n",
    "\n",
    "num_results = int(10e5)\n",
    "num_burnin_steps = int(10e5)\n",
    "\n",
    "states, kernel_results = tfp.mcmc.sample_chain(\n",
    "    num_results=num_results,\n",
    "    num_burnin_steps=num_burnin_steps,\n",
    "    current_state=[\n",
    "        tf.ones([], name='p'),\n",
    "        tf.ones(2, name='category'),                \n",
    "        tf.ones([], name='gamma_tau'),        \n",
    "        tf.zeros(2, name='gamma'),\n",
    "        tf.ones([], name='beta_tau'),\n",
    "        tf.zeros(4, name='beta'),\n",
    "        tf.zeros(8, name='l')\n",
    "    ],\n",
    "    kernel=tfp.mcmc.RandomWalkMetropolis(\n",
    "        target_log_prob_fn=target_log_prob_fn)\n",
    "    );"
   ]
  },
  {
   "cell_type": "code",
   "execution_count": 163,
   "metadata": {},
   "outputs": [],
   "source": [
    "p_, category_, gamma_tau_, gamma_, beta_tau_, beta_, l_ = states"
   ]
  },
  {
   "cell_type": "code",
   "execution_count": 168,
   "metadata": {},
   "outputs": [],
   "source": [
    "init_op = tf.global_variables_initializer()\n",
    "with tf.Session() as sess:\n",
    "    init_op.run()\n",
    "    [\n",
    "        states, is_accepted_\n",
    "    ] = sess.run([\n",
    "        states, kernel_results.is_accepted\n",
    "    ])"
   ]
  },
  {
   "cell_type": "code",
   "execution_count": 169,
   "metadata": {},
   "outputs": [
    {
     "data": {
      "text/plain": [
       "[array([1., 1., 1., ..., 1., 1., 1.], dtype=float32), array([[1., 1.],\n",
       "        [1., 1.],\n",
       "        [1., 1.],\n",
       "        ...,\n",
       "        [1., 1.],\n",
       "        [1., 1.],\n",
       "        [1., 1.]], dtype=float32), array([1., 1., 1., ..., 1., 1., 1.], dtype=float32), array([[0., 0.],\n",
       "        [0., 0.],\n",
       "        [0., 0.],\n",
       "        ...,\n",
       "        [0., 0.],\n",
       "        [0., 0.],\n",
       "        [0., 0.]], dtype=float32), array([1., 1., 1., ..., 1., 1., 1.], dtype=float32), array([[0., 0., 0., 0.],\n",
       "        [0., 0., 0., 0.],\n",
       "        [0., 0., 0., 0.],\n",
       "        ...,\n",
       "        [0., 0., 0., 0.],\n",
       "        [0., 0., 0., 0.],\n",
       "        [0., 0., 0., 0.]], dtype=float32), array([[0., 0., 0., ..., 0., 0., 0.],\n",
       "        [0., 0., 0., ..., 0., 0., 0.],\n",
       "        [0., 0., 0., ..., 0., 0., 0.],\n",
       "        ...,\n",
       "        [0., 0., 0., ..., 0., 0., 0.],\n",
       "        [0., 0., 0., ..., 0., 0., 0.],\n",
       "        [0., 0., 0., ..., 0., 0., 0.]], dtype=float32)]"
      ]
     },
     "execution_count": 169,
     "metadata": {},
     "output_type": "execute_result"
    }
   ],
   "source": [
    "states"
   ]
  },
  {
   "cell_type": "code",
   "execution_count": null,
   "metadata": {},
   "outputs": [],
   "source": []
  }
 ],
 "metadata": {
  "kernelspec": {
   "display_name": "Python (TF)",
   "language": "python",
   "name": "python3"
  },
  "language_info": {
   "codemirror_mode": {
    "name": "ipython",
    "version": 3
   },
   "file_extension": ".py",
   "mimetype": "text/x-python",
   "name": "python",
   "nbconvert_exporter": "python",
   "pygments_lexer": "ipython3",
   "version": "3.6.7"
  }
 },
 "nbformat": 4,
 "nbformat_minor": 2
}
