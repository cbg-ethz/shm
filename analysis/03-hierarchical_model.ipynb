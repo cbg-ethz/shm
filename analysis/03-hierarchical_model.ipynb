{
 "cells": [
  {
   "cell_type": "markdown",
   "metadata": {},
   "source": [
    "# Structured hierarchical models\n",
    "\n",
    "The goal of this project is to model essential genes for multiple conditions given that we have prior knowledge about functional relations of these genes. The model we want to use is:\n",
    "\n",
    "\\begin{align}\n",
    "\\mathbf{z} & \\sim \\text{MRF} \\\\\n",
    "\\tau^2 & \\sim P(\\cdot) \\\\\n",
    "\\mu_{z_g} & \\sim \\mathcal{N}(0, 1) \\\\\n",
    "\\gamma_g \\mid z_g &  \\sim \\mathcal{N}(\\mu_{z_g}, \\tau^2) \\\\\n",
    "\\beta_{vg} \\mid \\gamma_g &  \\sim \\mathcal{N}(\\gamma_g, \\tau^2) \\\\\n",
    "l_{vg} & \\sim \\text{Gamma}(1, 1) \\\\\n",
    "\\sigma_2 & \\sim \\text{Half-Cauchy}(0, 1) \\\\\n",
    "x_{svg} \\mid \\beta_{vg} &  \\sim \\text{Pois}\\left(l_{vg} \\cdot \\exp \\left( \\beta_{vg} \\right), \\sigma^2\\right) \\\\\n",
    "\\end{align}\n",
    "\n",
    "\n",
    "We start with some simple models, see them in the other notebooks."
   ]
  },
  {
   "cell_type": "code",
   "execution_count": 5,
   "metadata": {},
   "outputs": [],
   "source": [
    "import warnings\n",
    "warnings.filterwarnings(\"ignore\")\n",
    "import os"
   ]
  },
  {
   "cell_type": "code",
   "execution_count": 2,
   "metadata": {},
   "outputs": [],
   "source": [
    "import pandas as pd\n",
    "import pymc3 as pm\n",
    "import numpy as np\n",
    "import scipy as sp\n",
    "import theano.tensor as tt"
   ]
  },
  {
   "cell_type": "code",
   "execution_count": 3,
   "metadata": {},
   "outputs": [],
   "source": [
    "from sklearn import preprocessing\n",
    "from pymc3 import  model_to_graphviz"
   ]
  },
  {
   "cell_type": "code",
   "execution_count": 4,
   "metadata": {},
   "outputs": [],
   "source": [
    "%matplotlib inline\n",
    "from matplotlib import pyplot as plt\n",
    "import seaborn as sns\n",
    "import arviz as az\n",
    "\n",
    "sns.set_style(\n",
    "    \"white\", \n",
    "    {'xtick.bottom': True,\n",
    "     'ytick.left': True,\n",
    "     'axes.spines.top': False, \n",
    "     'axes.spines.right': False})"
   ]
  },
  {
   "cell_type": "markdown",
   "metadata": {},
   "source": [
    "Since the MRF is particularly hard to estimate, we make use of a simpler representation first.\n",
    "\n",
    "\\begin{align}\n",
    "\\boldsymbol \\pi & \\sim \\text{Dirichlet}(1, 1) \\\\\n",
    "z_g & \\sim \\text{Categorical}(\\boldsymbol \\pi) \\\\\n",
    "\\tau_g^2 & \\sim \\text{Gamma}(1, 1) \\\\\n",
    "\\mu_{z_g} & \\sim \\mathcal{N}(0, 1) \\\\\n",
    "\\gamma_g \\mid z_g &  \\sim \\mathcal{N}(\\mu_{z_g}, \\tau_g^2) \\\\\n",
    "\\tau_b^2 & \\sim \\text{Gamma}(1, 1) \\\\\n",
    "\\beta_{cg} \\mid \\gamma_g &  \\sim \\mathcal{N}(\\gamma_g, \\tau_b^2) \\\\\n",
    "l_{cgs} & \\sim \\text{Lognormal}(1, 1) \\\\\n",
    "x_{cgs} \\mid \\beta_{vg} &  \\sim \\text{Pois}\\left(l_{vgs} \\cdot \\exp \\left( \\beta_{cg} \\right) \\right) \\\\\n",
    "\\end{align}"
   ]
  },
  {
   "cell_type": "markdown",
   "metadata": {},
   "source": [
    "## Data"
   ]
  },
  {
   "cell_type": "code",
   "execution_count": 7,
   "metadata": {},
   "outputs": [
    {
     "data": {
      "text/plain": [
       "'../data_raw/read_counts-normalized.tsv'"
      ]
     },
     "execution_count": 7,
     "metadata": {},
     "output_type": "execute_result"
    }
   ],
   "source": [
    "file_path = os.path.join('../', 'data_raw', 'read_counts-normalized.tsv')\n",
    "file_path"
   ]
  },
  {
   "cell_type": "code",
   "execution_count": 75,
   "metadata": {},
   "outputs": [],
   "source": [
    "sirna_data = pd.read_csv(file_path, sep=\"\\t\")"
   ]
  },
  {
   "cell_type": "code",
   "execution_count": 76,
   "metadata": {},
   "outputs": [],
   "source": [
    "sirna_data = sirna_data.query(\"Gene != 'Control'\")"
   ]
  },
  {
   "cell_type": "code",
   "execution_count": 77,
   "metadata": {},
   "outputs": [],
   "source": [
    "sirna_data = sirna_data[[\"sgRNA\", \"Gene\", \"LSLCas9_134\", \"LSLCas9_136\"]]"
   ]
  },
  {
   "cell_type": "code",
   "execution_count": 78,
   "metadata": {},
   "outputs": [],
   "source": [
    "sirna_data = sirna_data.rename(index=str, columns={\"LSLCas9_134\": \"r1\", \"LSLCas9_136\": \"r2\"})"
   ]
  },
  {
   "cell_type": "code",
   "execution_count": 79,
   "metadata": {},
   "outputs": [],
   "source": [
    "sirna_data = sirna_data.melt(id_vars=['sgRNA', 'Gene'], value_vars=['r1', 'r2'],\n",
    "                             var_name='replicate', value_name='counts')"
   ]
  },
  {
   "cell_type": "code",
   "execution_count": 80,
   "metadata": {},
   "outputs": [
    {
     "data": {
      "text/html": [
       "<div>\n",
       "<style scoped>\n",
       "    .dataframe tbody tr th:only-of-type {\n",
       "        vertical-align: middle;\n",
       "    }\n",
       "\n",
       "    .dataframe tbody tr th {\n",
       "        vertical-align: top;\n",
       "    }\n",
       "\n",
       "    .dataframe thead th {\n",
       "        text-align: right;\n",
       "    }\n",
       "</style>\n",
       "<table border=\"1\" class=\"dataframe\">\n",
       "  <thead>\n",
       "    <tr style=\"text-align: right;\">\n",
       "      <th></th>\n",
       "      <th>sgRNA</th>\n",
       "      <th>Gene</th>\n",
       "      <th>replicate</th>\n",
       "      <th>counts</th>\n",
       "    </tr>\n",
       "  </thead>\n",
       "  <tbody>\n",
       "    <tr>\n",
       "      <th>0</th>\n",
       "      <td>ACSM3_sg001</td>\n",
       "      <td>ACSM3</td>\n",
       "      <td>r1</td>\n",
       "      <td>8987.015957</td>\n",
       "    </tr>\n",
       "    <tr>\n",
       "      <th>1</th>\n",
       "      <td>ACSM3_sg002</td>\n",
       "      <td>ACSM3</td>\n",
       "      <td>r1</td>\n",
       "      <td>15742.897879</td>\n",
       "    </tr>\n",
       "    <tr>\n",
       "      <th>2</th>\n",
       "      <td>ACSM3_sg003</td>\n",
       "      <td>ACSM3</td>\n",
       "      <td>r1</td>\n",
       "      <td>17348.226026</td>\n",
       "    </tr>\n",
       "    <tr>\n",
       "      <th>3</th>\n",
       "      <td>ACSM3_sg004</td>\n",
       "      <td>ACSM3</td>\n",
       "      <td>r1</td>\n",
       "      <td>9330.654939</td>\n",
       "    </tr>\n",
       "    <tr>\n",
       "      <th>4</th>\n",
       "      <td>ACSM3_sg005</td>\n",
       "      <td>ACSM3</td>\n",
       "      <td>r1</td>\n",
       "      <td>8995.077869</td>\n",
       "    </tr>\n",
       "  </tbody>\n",
       "</table>\n",
       "</div>"
      ],
      "text/plain": [
       "         sgRNA   Gene replicate        counts\n",
       "0  ACSM3_sg001  ACSM3        r1   8987.015957\n",
       "1  ACSM3_sg002  ACSM3        r1  15742.897879\n",
       "2  ACSM3_sg003  ACSM3        r1  17348.226026\n",
       "3  ACSM3_sg004  ACSM3        r1   9330.654939\n",
       "4  ACSM3_sg005  ACSM3        r1   8995.077869"
      ]
     },
     "execution_count": 80,
     "metadata": {},
     "output_type": "execute_result"
    }
   ],
   "source": [
    "sirna_data[:5]"
   ]
  },
  {
   "cell_type": "code",
   "execution_count": 82,
   "metadata": {},
   "outputs": [],
   "source": [
    "sirna_data = sirna_data[[\"Gene\", \"sgRNA\", \"replicate\", \"counts\"]].sort_values(['Gene', 'sgRNA', 'replicate'])"
   ]
  },
  {
   "cell_type": "code",
   "execution_count": 85,
   "metadata": {},
   "outputs": [
    {
     "data": {
      "text/html": [
       "<div>\n",
       "<style scoped>\n",
       "    .dataframe tbody tr th:only-of-type {\n",
       "        vertical-align: middle;\n",
       "    }\n",
       "\n",
       "    .dataframe tbody tr th {\n",
       "        vertical-align: top;\n",
       "    }\n",
       "\n",
       "    .dataframe thead th {\n",
       "        text-align: right;\n",
       "    }\n",
       "</style>\n",
       "<table border=\"1\" class=\"dataframe\">\n",
       "  <thead>\n",
       "    <tr style=\"text-align: right;\">\n",
       "      <th></th>\n",
       "      <th>Gene</th>\n",
       "      <th>sgRNA</th>\n",
       "      <th>replicate</th>\n",
       "      <th>counts</th>\n",
       "    </tr>\n",
       "  </thead>\n",
       "  <tbody>\n",
       "    <tr>\n",
       "      <th>0</th>\n",
       "      <td>ACSM3</td>\n",
       "      <td>ACSM3_sg001</td>\n",
       "      <td>r1</td>\n",
       "      <td>8987.015957</td>\n",
       "    </tr>\n",
       "    <tr>\n",
       "      <th>900</th>\n",
       "      <td>ACSM3</td>\n",
       "      <td>ACSM3_sg001</td>\n",
       "      <td>r2</td>\n",
       "      <td>9300.411518</td>\n",
       "    </tr>\n",
       "    <tr>\n",
       "      <th>1</th>\n",
       "      <td>ACSM3</td>\n",
       "      <td>ACSM3_sg002</td>\n",
       "      <td>r1</td>\n",
       "      <td>15742.897879</td>\n",
       "    </tr>\n",
       "    <tr>\n",
       "      <th>901</th>\n",
       "      <td>ACSM3</td>\n",
       "      <td>ACSM3_sg002</td>\n",
       "      <td>r2</td>\n",
       "      <td>15869.905865</td>\n",
       "    </tr>\n",
       "    <tr>\n",
       "      <th>2</th>\n",
       "      <td>ACSM3</td>\n",
       "      <td>ACSM3_sg003</td>\n",
       "      <td>r1</td>\n",
       "      <td>17348.226026</td>\n",
       "    </tr>\n",
       "  </tbody>\n",
       "</table>\n",
       "</div>"
      ],
      "text/plain": [
       "      Gene        sgRNA replicate        counts\n",
       "0    ACSM3  ACSM3_sg001        r1   8987.015957\n",
       "900  ACSM3  ACSM3_sg001        r2   9300.411518\n",
       "1    ACSM3  ACSM3_sg002        r1  15742.897879\n",
       "901  ACSM3  ACSM3_sg002        r2  15869.905865\n",
       "2    ACSM3  ACSM3_sg003        r1  17348.226026"
      ]
     },
     "execution_count": 85,
     "metadata": {},
     "output_type": "execute_result"
    }
   ],
   "source": [
    "sirna_data[:5]"
   ]
  },
  {
   "cell_type": "code",
   "execution_count": 107,
   "metadata": {},
   "outputs": [
    {
     "data": {
      "image/png": "[encoded data removed]",
      "text/plain": [
       "<Figure size 432x288 with 1 Axes>"
      ]
     },
     "metadata": {},
     "output_type": "display_data"
    }
   ],
   "source": [
    "plt.hist(sirna_data[[\"counts\"]].values, color=\"darkgrey\", bins=50, density=True);\n",
    "plt.show()"
   ]
  },
  {
   "cell_type": "markdown",
   "metadata": {},
   "source": [
    "Since it is always _both_ replicates that have a low read count, it is safe to assume that these are no batch effects."
   ]
  },
  {
   "cell_type": "markdown",
   "metadata": {},
   "source": [
    "## Inference"
   ]
  },
  {
   "cell_type": "code",
   "execution_count": null,
   "metadata": {},
   "outputs": [],
   "source": [
    "with pm.Model() as model:\n",
    "    p = pm.Dirichlet('p', a=np.array([1., 1.]), shape=2)\n",
    "    p_min_pot = pm.Potential('p_pot', tt.switch(tt.min(p) < .05, -np.inf, 0))\n",
    "    category = pm.Categorical('category', p=p, shape=4)\n",
    "    \n",
    "    tau_g = pm.HalfCauchy('tau_g', 1., shape=1)\n",
    "    mean_g = pm.Normal('mu_g', mu=np.array([0, 1]), sd=.5, shape=2)\n",
    "    mean_order_pot = pm.Potential('mop', tt.switch(mean_g[1] - mean_g[0] < 0, -np.inf, 0))    \n",
    "    gamma = pm.Normal('gamma', mean_g[category], tau_g, shape=4)\n",
    "    \n",
    "    tau_b = pm.HalfCauchy('tau_b', 1., shape=1)\n",
    "    beta = pm.Normal('beta', gamma[np.repeat([0, 1, 2, 3], 2)], tau_b, shape=8)\n",
    "    l = pm.Lognormal('l', 0, .25, shape = 4 * 2 * 2)\n",
    "    \n",
    "    x = pm.Poisson(\n",
    "        'x', \n",
    "        mu = np.exp(beta[beta_idx]) * l[l_idx] ,\n",
    "        observed=counts)"
   ]
  }
 ],
 "metadata": {
  "kernelspec": {
   "display_name": "Python 3 (Tix)",
   "language": "python",
   "name": "tix"
  },
  "language_info": {
   "codemirror_mode": {
    "name": "ipython",
    "version": 3
   },
   "file_extension": ".py",
   "mimetype": "text/x-python",
   "name": "python",
   "nbconvert_exporter": "python",
   "pygments_lexer": "ipython3",
   "version": "3.6.8"
  }
 },
 "nbformat": 4,
 "nbformat_minor": 2
}
