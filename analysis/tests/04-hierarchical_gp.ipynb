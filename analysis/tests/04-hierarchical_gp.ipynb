{
 "cells": [
  {
   "cell_type": "code",
   "execution_count": 1,
   "metadata": {},
   "outputs": [],
   "source": [
    "import pymc3 as pm\n",
    "from pymc3 import model_to_graphviz, Continuous, Discrete\n",
    "import pandas as pd\n",
    "import numpy as np\n",
    "import scipy as sp"
   ]
  },
  {
   "cell_type": "code",
   "execution_count": 2,
   "metadata": {},
   "outputs": [],
   "source": [
    "import matplotlib.pyplot as plt"
   ]
  },
  {
   "cell_type": "code",
   "execution_count": 3,
   "metadata": {},
   "outputs": [],
   "source": [
    "%matplotlib inline\n",
    "import seaborn as sns\n",
    "import arviz as az"
   ]
  },
  {
   "cell_type": "code",
   "execution_count": 4,
   "metadata": {},
   "outputs": [],
   "source": [
    "import networkx"
   ]
  },
  {
   "cell_type": "code",
   "execution_count": 5,
   "metadata": {},
   "outputs": [],
   "source": [
    "from sklearn import preprocessing"
   ]
  },
  {
   "cell_type": "code",
   "execution_count": 6,
   "metadata": {},
   "outputs": [],
   "source": [
    "from pymc3.theanof import floatX\n",
    "import theano.tensor as tt"
   ]
  },
  {
   "cell_type": "code",
   "execution_count": 26,
   "metadata": {},
   "outputs": [],
   "source": [
    "import theano.tensor as tt\n",
    "import sklearn.gaussian_process"
   ]
  },
  {
   "cell_type": "code",
   "execution_count": 8,
   "metadata": {},
   "outputs": [],
   "source": [
    "seed = 42\n",
    "np.random.seed(seed)"
   ]
  },
  {
   "cell_type": "code",
   "execution_count": 9,
   "metadata": {},
   "outputs": [],
   "source": [
    "conditions = [\"C\" + str(i) for i in range(2)]\n",
    "genes = [\"G\" + str(i) for i in range(2)]\n",
    "sgrnas = [\"S\" + str(i) for i in range(2)]\n",
    "replicates = [\"R\" + str(i) for i in range(2)]"
   ]
  },
  {
   "cell_type": "code",
   "execution_count": 10,
   "metadata": {},
   "outputs": [],
   "source": [
    "combinations = [(g, c, s, r) \\\n",
    "     for g in genes for c in conditions \\\n",
    "     for s in sgrnas for r in replicates]"
   ]
  },
  {
   "cell_type": "code",
   "execution_count": 11,
   "metadata": {},
   "outputs": [],
   "source": [
    "count_table = pd.DataFrame(\n",
    "    combinations, \n",
    "    columns=[\"genes\", \"conditions\", \"sgrnas\", \"replicates\"])"
   ]
  },
  {
   "cell_type": "code",
   "execution_count": 12,
   "metadata": {},
   "outputs": [],
   "source": [
    "sgrna_ids = np.repeat([\"S\" + str(i) for i in range(len(genes) * len(conditions) * len(sgrnas))], 2)\n",
    "condition_ids = np.repeat([\"C\" + str(i) for i in range(len(genes) * len(conditions))], 4)\n",
    "count_table.sgrnas = sgrna_ids\n",
    "count_table.conditions = condition_ids"
   ]
  },
  {
   "cell_type": "code",
   "execution_count": 13,
   "metadata": {},
   "outputs": [
    {
     "data": {
      "text/html": [
       "<div>\n",
       "<style scoped>\n",
       "    .dataframe tbody tr th:only-of-type {\n",
       "        vertical-align: middle;\n",
       "    }\n",
       "\n",
       "    .dataframe tbody tr th {\n",
       "        vertical-align: top;\n",
       "    }\n",
       "\n",
       "    .dataframe thead th {\n",
       "        text-align: right;\n",
       "    }\n",
       "</style>\n",
       "<table border=\"1\" class=\"dataframe\">\n",
       "  <thead>\n",
       "    <tr style=\"text-align: right;\">\n",
       "      <th></th>\n",
       "      <th>genes</th>\n",
       "      <th>conditions</th>\n",
       "      <th>sgrnas</th>\n",
       "      <th>replicates</th>\n",
       "    </tr>\n",
       "  </thead>\n",
       "  <tbody>\n",
       "    <tr>\n",
       "      <th>0</th>\n",
       "      <td>G0</td>\n",
       "      <td>C0</td>\n",
       "      <td>S0</td>\n",
       "      <td>R0</td>\n",
       "    </tr>\n",
       "    <tr>\n",
       "      <th>1</th>\n",
       "      <td>G0</td>\n",
       "      <td>C0</td>\n",
       "      <td>S0</td>\n",
       "      <td>R1</td>\n",
       "    </tr>\n",
       "    <tr>\n",
       "      <th>2</th>\n",
       "      <td>G0</td>\n",
       "      <td>C0</td>\n",
       "      <td>S1</td>\n",
       "      <td>R0</td>\n",
       "    </tr>\n",
       "    <tr>\n",
       "      <th>3</th>\n",
       "      <td>G0</td>\n",
       "      <td>C0</td>\n",
       "      <td>S1</td>\n",
       "      <td>R1</td>\n",
       "    </tr>\n",
       "    <tr>\n",
       "      <th>4</th>\n",
       "      <td>G0</td>\n",
       "      <td>C1</td>\n",
       "      <td>S2</td>\n",
       "      <td>R0</td>\n",
       "    </tr>\n",
       "    <tr>\n",
       "      <th>5</th>\n",
       "      <td>G0</td>\n",
       "      <td>C1</td>\n",
       "      <td>S2</td>\n",
       "      <td>R1</td>\n",
       "    </tr>\n",
       "    <tr>\n",
       "      <th>6</th>\n",
       "      <td>G0</td>\n",
       "      <td>C1</td>\n",
       "      <td>S3</td>\n",
       "      <td>R0</td>\n",
       "    </tr>\n",
       "    <tr>\n",
       "      <th>7</th>\n",
       "      <td>G0</td>\n",
       "      <td>C1</td>\n",
       "      <td>S3</td>\n",
       "      <td>R1</td>\n",
       "    </tr>\n",
       "    <tr>\n",
       "      <th>8</th>\n",
       "      <td>G1</td>\n",
       "      <td>C2</td>\n",
       "      <td>S4</td>\n",
       "      <td>R0</td>\n",
       "    </tr>\n",
       "    <tr>\n",
       "      <th>9</th>\n",
       "      <td>G1</td>\n",
       "      <td>C2</td>\n",
       "      <td>S4</td>\n",
       "      <td>R1</td>\n",
       "    </tr>\n",
       "    <tr>\n",
       "      <th>10</th>\n",
       "      <td>G1</td>\n",
       "      <td>C2</td>\n",
       "      <td>S5</td>\n",
       "      <td>R0</td>\n",
       "    </tr>\n",
       "    <tr>\n",
       "      <th>11</th>\n",
       "      <td>G1</td>\n",
       "      <td>C2</td>\n",
       "      <td>S5</td>\n",
       "      <td>R1</td>\n",
       "    </tr>\n",
       "    <tr>\n",
       "      <th>12</th>\n",
       "      <td>G1</td>\n",
       "      <td>C3</td>\n",
       "      <td>S6</td>\n",
       "      <td>R0</td>\n",
       "    </tr>\n",
       "    <tr>\n",
       "      <th>13</th>\n",
       "      <td>G1</td>\n",
       "      <td>C3</td>\n",
       "      <td>S6</td>\n",
       "      <td>R1</td>\n",
       "    </tr>\n",
       "    <tr>\n",
       "      <th>14</th>\n",
       "      <td>G1</td>\n",
       "      <td>C3</td>\n",
       "      <td>S7</td>\n",
       "      <td>R0</td>\n",
       "    </tr>\n",
       "    <tr>\n",
       "      <th>15</th>\n",
       "      <td>G1</td>\n",
       "      <td>C3</td>\n",
       "      <td>S7</td>\n",
       "      <td>R1</td>\n",
       "    </tr>\n",
       "  </tbody>\n",
       "</table>\n",
       "</div>"
      ],
      "text/plain": [
       "   genes conditions sgrnas replicates\n",
       "0     G0         C0     S0         R0\n",
       "1     G0         C0     S0         R1\n",
       "2     G0         C0     S1         R0\n",
       "3     G0         C0     S1         R1\n",
       "4     G0         C1     S2         R0\n",
       "5     G0         C1     S2         R1\n",
       "6     G0         C1     S3         R0\n",
       "7     G0         C1     S3         R1\n",
       "8     G1         C2     S4         R0\n",
       "9     G1         C2     S4         R1\n",
       "10    G1         C2     S5         R0\n",
       "11    G1         C2     S5         R1\n",
       "12    G1         C3     S6         R0\n",
       "13    G1         C3     S6         R1\n",
       "14    G1         C3     S7         R0\n",
       "15    G1         C3     S7         R1"
      ]
     },
     "execution_count": 13,
     "metadata": {},
     "output_type": "execute_result"
    }
   ],
   "source": [
    "count_table"
   ]
  },
  {
   "cell_type": "code",
   "execution_count": 14,
   "metadata": {},
   "outputs": [
    {
     "data": {
      "text/plain": [
       "array([0.06671342])"
      ]
     },
     "execution_count": 14,
     "metadata": {},
     "output_type": "execute_result"
    }
   ],
   "source": [
    "tau_true = sp.stats.halfcauchy.rvs(0, .1, size=1)\n",
    "tau_true"
   ]
  },
  {
   "cell_type": "code",
   "execution_count": 15,
   "metadata": {},
   "outputs": [
    {
     "data": {
      "text/plain": [
       "array([0.6, 6. ])"
      ]
     },
     "execution_count": 15,
     "metadata": {},
     "output_type": "execute_result"
    }
   ],
   "source": [
    "gamma_true = sp.array([.6, 6])\n",
    "gamma_true"
   ]
  },
  {
   "cell_type": "code",
   "execution_count": 16,
   "metadata": {},
   "outputs": [
    {
     "data": {
      "text/plain": [
       "array([0.52582267, 0.62127506, 6.0186158 , 6.06741494])"
      ]
     },
     "execution_count": 16,
     "metadata": {},
     "output_type": "execute_result"
    }
   ],
   "source": [
    "beta_true = sp.stats.norm.rvs(\n",
    "    np.repeat(gamma_true, len(conditions)), tau_true)\n",
    "beta_true"
   ]
  },
  {
   "cell_type": "code",
   "execution_count": 17,
   "metadata": {},
   "outputs": [
    {
     "data": {
      "text/plain": [
       "array([-0.05808781, -0.05251698, -0.05713802, -0.09240828, -0.2612549 ,\n",
       "        0.09503697,  0.08164451, -0.1523876 ])"
      ]
     },
     "execution_count": 17,
     "metadata": {},
     "output_type": "execute_result"
    }
   ],
   "source": [
    "l_true = sp.stats.norm.rvs(0, .1, size= len(conditions) * len(genes) * len(sgrnas))\n",
    "l_true"
   ]
  },
  {
   "cell_type": "code",
   "execution_count": 18,
   "metadata": {},
   "outputs": [
    {
     "data": {
      "text/plain": [
       "array([0, 0, 1, 1, 2, 2, 3, 3, 4, 4, 5, 5, 6, 6, 7, 7])"
      ]
     },
     "execution_count": 18,
     "metadata": {},
     "output_type": "execute_result"
    }
   ],
   "source": [
    "l_idx = np.repeat(range(len(l_true)), len(replicates))\n",
    "l_idx"
   ]
  },
  {
   "cell_type": "code",
   "execution_count": 19,
   "metadata": {},
   "outputs": [
    {
     "data": {
      "text/plain": [
       "array([0, 0, 0, 0, 1, 1, 1, 1, 2, 2, 2, 2, 3, 3, 3, 3])"
      ]
     },
     "execution_count": 19,
     "metadata": {},
     "output_type": "execute_result"
    }
   ],
   "source": [
    "beta_idx = np.repeat(range(len(beta_true)),\n",
    "                     len(sgrnas) * len(replicates))\n",
    "beta_idx"
   ]
  },
  {
   "cell_type": "code",
   "execution_count": 29,
   "metadata": {},
   "outputs": [],
   "source": [
    "k = sklearn.gaussian_process.kernels.Matern()"
   ]
  },
  {
   "cell_type": "code",
   "execution_count": 35,
   "metadata": {},
   "outputs": [],
   "source": [
    "K = k(beta_true[beta_idx].reshape((16, 1)) + l_true[l_idx].reshape((16, 1)))"
   ]
  },
  {
   "cell_type": "code",
   "execution_count": 39,
   "metadata": {},
   "outputs": [
    {
     "data": {
      "text/plain": [
       "array([ 0.19714922,  0.19714921,  0.18536754,  0.18536754, -0.03760361,\n",
       "       -0.03760361,  0.04798266,  0.04798266,  0.87390314,  0.87390314,\n",
       "        1.09219552,  1.09219552,  1.15959613,  1.15959613,  0.8842148 ,\n",
       "        0.8842148 ])"
      ]
     },
     "execution_count": 39,
     "metadata": {},
     "output_type": "execute_result"
    }
   ],
   "source": [
    "f = sp.stats.multivariate_normal.rvs(np.repeat(1, 16), K)\n",
    "f"
   ]
  },
  {
   "cell_type": "code",
   "execution_count": 40,
   "metadata": {},
   "outputs": [
    {
     "data": {
      "text/plain": [
       "array([ 0.13299168,  0.10519278,  0.50380094,  0.11237937, -0.70139762,\n",
       "        0.04877588, -0.05089646, -0.02430156,  0.98713722,  0.83238791,\n",
       "        1.14593023,  0.58661679,  0.92383193,  1.51058582,  0.8795771 ,\n",
       "        0.46583864])"
      ]
     },
     "execution_count": 40,
     "metadata": {},
     "output_type": "execute_result"
    }
   ],
   "source": [
    "counts = sp.stats.norm.rvs(f, 0.25)\n",
    "counts"
   ]
  },
  {
   "cell_type": "code",
   "execution_count": 60,
   "metadata": {},
   "outputs": [
    {
     "data": {
      "text/plain": [
       "array([[1.20397412e-35, 1.20397412e-35, 1.19620393e-35, 1.19620393e-35,\n",
       "        1.35651743e-35, 1.35651743e-35, 1.42478413e-35, 1.42478413e-35,\n",
       "        1.14740842e-18, 1.14740842e-18, 1.48391844e-20, 1.48391844e-20,\n",
       "        3.11225522e-20, 3.11225522e-20, 5.41546360e-19, 5.41546360e-19],\n",
       "       [1.20397412e-35, 1.20397412e-35, 1.19620393e-35, 1.19620393e-35,\n",
       "        1.35651743e-35, 1.35651743e-35, 1.42478413e-35, 1.42478413e-35,\n",
       "        1.14740842e-18, 1.14740842e-18, 1.48391844e-20, 1.48391844e-20,\n",
       "        3.11225522e-20, 3.11225522e-20, 5.41546360e-19, 5.41546360e-19],\n",
       "       [1.19620393e-35, 1.19620393e-35, 1.18848389e-35, 1.18848389e-35,\n",
       "        1.34776276e-35, 1.34776276e-35, 1.41558888e-35, 1.41558888e-35,\n",
       "        1.14000329e-18, 1.14000329e-18, 1.47434155e-20, 1.47434155e-20,\n",
       "        3.09216939e-20, 3.09216939e-20, 5.38051336e-19, 5.38051336e-19],\n",
       "       [1.19620393e-35, 1.19620393e-35, 1.18848389e-35, 1.18848389e-35,\n",
       "        1.34776276e-35, 1.34776276e-35, 1.41558888e-35, 1.41558888e-35,\n",
       "        1.14000329e-18, 1.14000329e-18, 1.47434155e-20, 1.47434155e-20,\n",
       "        3.09216939e-20, 3.09216939e-20, 5.38051336e-19, 5.38051336e-19],\n",
       "       [1.35651743e-35, 1.35651743e-35, 1.34776276e-35, 1.34776276e-35,\n",
       "        1.52838794e-35, 1.52838794e-35, 1.60530402e-35, 1.60530402e-35,\n",
       "        1.29278486e-18, 1.29278486e-18, 1.67193064e-20, 1.67193064e-20,\n",
       "        3.50657740e-20, 3.50657740e-20, 6.10160186e-19, 6.10160186e-19],\n",
       "       [1.35651743e-35, 1.35651743e-35, 1.34776276e-35, 1.34776276e-35,\n",
       "        1.52838794e-35, 1.52838794e-35, 1.60530402e-35, 1.60530402e-35,\n",
       "        1.29278486e-18, 1.29278486e-18, 1.67193064e-20, 1.67193064e-20,\n",
       "        3.50657740e-20, 3.50657740e-20, 6.10160186e-19, 6.10160186e-19],\n",
       "       [1.42478413e-35, 1.42478413e-35, 1.41558888e-35, 1.41558888e-35,\n",
       "        1.60530402e-35, 1.60530402e-35, 1.68609090e-35, 1.68609090e-35,\n",
       "        1.35784422e-18, 1.35784422e-18, 1.75607050e-20, 1.75607050e-20,\n",
       "        3.68304580e-20, 3.68304580e-20, 6.40866479e-19, 6.40866479e-19],\n",
       "       [1.42478413e-35, 1.42478413e-35, 1.41558888e-35, 1.41558888e-35,\n",
       "        1.60530402e-35, 1.60530402e-35, 1.68609090e-35, 1.68609090e-35,\n",
       "        1.35784422e-18, 1.35784422e-18, 1.75607050e-20, 1.75607050e-20,\n",
       "        3.68304580e-20, 3.68304580e-20, 6.40866479e-19, 6.40866479e-19],\n",
       "       [1.14740842e-18, 1.14740842e-18, 1.14000329e-18, 1.14000329e-18,\n",
       "        1.29278486e-18, 1.29278486e-18, 1.35784422e-18, 1.35784422e-18,\n",
       "        1.09350031e-01, 1.09350031e-01, 1.41420026e-03, 1.41420026e-03,\n",
       "        2.96603371e-03, 2.96603371e-03, 5.16103161e-02, 5.16103161e-02],\n",
       "       [1.14740842e-18, 1.14740842e-18, 1.14000329e-18, 1.14000329e-18,\n",
       "        1.29278486e-18, 1.29278486e-18, 1.35784422e-18, 1.35784422e-18,\n",
       "        1.09350031e-01, 1.09350031e-01, 1.41420026e-03, 1.41420026e-03,\n",
       "        2.96603371e-03, 2.96603371e-03, 5.16103161e-02, 5.16103161e-02],\n",
       "       [1.48391844e-20, 1.48391844e-20, 1.47434155e-20, 1.47434155e-20,\n",
       "        1.67193064e-20, 1.67193064e-20, 1.75607050e-20, 1.75607050e-20,\n",
       "        1.41420026e-03, 1.41420026e-03, 1.82895455e-05, 1.82895455e-05,\n",
       "        3.83590713e-05, 3.83590713e-05, 6.67465036e-04, 6.67465036e-04],\n",
       "       [1.48391844e-20, 1.48391844e-20, 1.47434155e-20, 1.47434155e-20,\n",
       "        1.67193064e-20, 1.67193064e-20, 1.75607050e-20, 1.75607050e-20,\n",
       "        1.41420026e-03, 1.41420026e-03, 1.82895455e-05, 1.82895455e-05,\n",
       "        3.83590713e-05, 3.83590713e-05, 6.67465036e-04, 6.67465036e-04],\n",
       "       [3.11225522e-20, 3.11225522e-20, 3.09216939e-20, 3.09216939e-20,\n",
       "        3.50657740e-20, 3.50657740e-20, 3.68304580e-20, 3.68304580e-20,\n",
       "        2.96603371e-03, 2.96603371e-03, 3.83590713e-05, 3.83590713e-05,\n",
       "        8.04513351e-05, 8.04513351e-05, 1.39988929e-03, 1.39988929e-03],\n",
       "       [3.11225522e-20, 3.11225522e-20, 3.09216939e-20, 3.09216939e-20,\n",
       "        3.50657740e-20, 3.50657740e-20, 3.68304580e-20, 3.68304580e-20,\n",
       "        2.96603371e-03, 2.96603371e-03, 3.83590713e-05, 3.83590713e-05,\n",
       "        8.04513351e-05, 8.04513351e-05, 1.39988929e-03, 1.39988929e-03],\n",
       "       [5.41546360e-19, 5.41546360e-19, 5.38051336e-19, 5.38051336e-19,\n",
       "        6.10160186e-19, 6.10160186e-19, 6.40866479e-19, 6.40866479e-19,\n",
       "        5.16103161e-02, 5.16103161e-02, 6.67465036e-04, 6.67465036e-04,\n",
       "        1.39988929e-03, 1.39988929e-03, 2.43587012e-02, 2.43587012e-02],\n",
       "       [5.41546360e-19, 5.41546360e-19, 5.38051336e-19, 5.38051336e-19,\n",
       "        6.10160186e-19, 6.10160186e-19, 6.40866479e-19, 6.40866479e-19,\n",
       "        5.16103161e-02, 5.16103161e-02, 6.67465036e-04, 6.67465036e-04,\n",
       "        1.39988929e-03, 1.39988929e-03, 2.43587012e-02, 2.43587012e-02]])"
      ]
     },
     "execution_count": 60,
     "metadata": {},
     "output_type": "execute_result"
    }
   ],
   "source": [
    "kern1d = np.exp((beta_true[beta_idx] - l_true[l_idx])**2)\n",
    "kern2d = np.outer(kern1d, kern1d)\n",
    "kern2d / kern2d.sum()"
   ]
  },
  {
   "cell_type": "code",
   "execution_count": 21,
   "metadata": {},
   "outputs": [],
   "source": [
    "le = preprocessing.LabelEncoder()\n",
    "for i in count_table.columns.values:\n",
    "    count_table[i] = le.fit_transform(count_table[i])"
   ]
  },
  {
   "cell_type": "markdown",
   "metadata": {},
   "source": [
    "## Model"
   ]
  },
  {
   "cell_type": "code",
   "execution_count": 52,
   "metadata": {},
   "outputs": [
    {
     "data": {
      "text/html": [
       "<div>\n",
       "<style scoped>\n",
       "    .dataframe tbody tr th:only-of-type {\n",
       "        vertical-align: middle;\n",
       "    }\n",
       "\n",
       "    .dataframe tbody tr th {\n",
       "        vertical-align: top;\n",
       "    }\n",
       "\n",
       "    .dataframe thead th {\n",
       "        text-align: right;\n",
       "    }\n",
       "</style>\n",
       "<table border=\"1\" class=\"dataframe\">\n",
       "  <thead>\n",
       "    <tr style=\"text-align: right;\">\n",
       "      <th></th>\n",
       "      <th>genes</th>\n",
       "      <th>conditions</th>\n",
       "      <th>sgrnas</th>\n",
       "      <th>replicates</th>\n",
       "    </tr>\n",
       "  </thead>\n",
       "  <tbody>\n",
       "    <tr>\n",
       "      <th>0</th>\n",
       "      <td>0</td>\n",
       "      <td>0</td>\n",
       "      <td>0</td>\n",
       "      <td>0</td>\n",
       "    </tr>\n",
       "    <tr>\n",
       "      <th>1</th>\n",
       "      <td>0</td>\n",
       "      <td>0</td>\n",
       "      <td>0</td>\n",
       "      <td>1</td>\n",
       "    </tr>\n",
       "    <tr>\n",
       "      <th>2</th>\n",
       "      <td>0</td>\n",
       "      <td>0</td>\n",
       "      <td>1</td>\n",
       "      <td>0</td>\n",
       "    </tr>\n",
       "    <tr>\n",
       "      <th>3</th>\n",
       "      <td>0</td>\n",
       "      <td>0</td>\n",
       "      <td>1</td>\n",
       "      <td>1</td>\n",
       "    </tr>\n",
       "    <tr>\n",
       "      <th>4</th>\n",
       "      <td>0</td>\n",
       "      <td>1</td>\n",
       "      <td>2</td>\n",
       "      <td>0</td>\n",
       "    </tr>\n",
       "    <tr>\n",
       "      <th>5</th>\n",
       "      <td>0</td>\n",
       "      <td>1</td>\n",
       "      <td>2</td>\n",
       "      <td>1</td>\n",
       "    </tr>\n",
       "    <tr>\n",
       "      <th>6</th>\n",
       "      <td>0</td>\n",
       "      <td>1</td>\n",
       "      <td>3</td>\n",
       "      <td>0</td>\n",
       "    </tr>\n",
       "    <tr>\n",
       "      <th>7</th>\n",
       "      <td>0</td>\n",
       "      <td>1</td>\n",
       "      <td>3</td>\n",
       "      <td>1</td>\n",
       "    </tr>\n",
       "    <tr>\n",
       "      <th>8</th>\n",
       "      <td>1</td>\n",
       "      <td>2</td>\n",
       "      <td>4</td>\n",
       "      <td>0</td>\n",
       "    </tr>\n",
       "    <tr>\n",
       "      <th>9</th>\n",
       "      <td>1</td>\n",
       "      <td>2</td>\n",
       "      <td>4</td>\n",
       "      <td>1</td>\n",
       "    </tr>\n",
       "    <tr>\n",
       "      <th>10</th>\n",
       "      <td>1</td>\n",
       "      <td>2</td>\n",
       "      <td>5</td>\n",
       "      <td>0</td>\n",
       "    </tr>\n",
       "    <tr>\n",
       "      <th>11</th>\n",
       "      <td>1</td>\n",
       "      <td>2</td>\n",
       "      <td>5</td>\n",
       "      <td>1</td>\n",
       "    </tr>\n",
       "    <tr>\n",
       "      <th>12</th>\n",
       "      <td>1</td>\n",
       "      <td>3</td>\n",
       "      <td>6</td>\n",
       "      <td>0</td>\n",
       "    </tr>\n",
       "    <tr>\n",
       "      <th>13</th>\n",
       "      <td>1</td>\n",
       "      <td>3</td>\n",
       "      <td>6</td>\n",
       "      <td>1</td>\n",
       "    </tr>\n",
       "    <tr>\n",
       "      <th>14</th>\n",
       "      <td>1</td>\n",
       "      <td>3</td>\n",
       "      <td>7</td>\n",
       "      <td>0</td>\n",
       "    </tr>\n",
       "    <tr>\n",
       "      <th>15</th>\n",
       "      <td>1</td>\n",
       "      <td>3</td>\n",
       "      <td>7</td>\n",
       "      <td>1</td>\n",
       "    </tr>\n",
       "  </tbody>\n",
       "</table>\n",
       "</div>"
      ],
      "text/plain": [
       "    genes  conditions  sgrnas  replicates\n",
       "0       0           0       0           0\n",
       "1       0           0       0           1\n",
       "2       0           0       1           0\n",
       "3       0           0       1           1\n",
       "4       0           1       2           0\n",
       "5       0           1       2           1\n",
       "6       0           1       3           0\n",
       "7       0           1       3           1\n",
       "8       1           2       4           0\n",
       "9       1           2       4           1\n",
       "10      1           2       5           0\n",
       "11      1           2       5           1\n",
       "12      1           3       6           0\n",
       "13      1           3       6           1\n",
       "14      1           3       7           0\n",
       "15      1           3       7           1"
      ]
     },
     "execution_count": 52,
     "metadata": {},
     "output_type": "execute_result"
    }
   ],
   "source": [
    "count_table"
   ]
  },
  {
   "cell_type": "code",
   "execution_count": 23,
   "metadata": {},
   "outputs": [
    {
     "data": {
      "text/plain": [
       "array([-0.05808781, -0.05808781, -0.05251698, -0.05251698, -0.05713802,\n",
       "       -0.05713802, -0.09240828, -0.09240828, -0.2612549 , -0.2612549 ,\n",
       "        0.09503697,  0.09503697,  0.08164451,  0.08164451, -0.1523876 ,\n",
       "       -0.1523876 ])"
      ]
     },
     "execution_count": 23,
     "metadata": {},
     "output_type": "execute_result"
    }
   ],
   "source": [
    "l_true[l_idx]"
   ]
  },
  {
   "cell_type": "code",
   "execution_count": 24,
   "metadata": {},
   "outputs": [
    {
     "data": {
      "text/plain": [
       "array([0, 0, 1, 1, 2, 2, 3, 3, 4, 4, 5, 5, 6, 6, 7, 7])"
      ]
     },
     "execution_count": 24,
     "metadata": {},
     "output_type": "execute_result"
    }
   ],
   "source": [
    "l_idx"
   ]
  },
  {
   "cell_type": "code",
   "execution_count": null,
   "metadata": {},
   "outputs": [],
   "source": []
  },
  {
   "cell_type": "code",
   "execution_count": 51,
   "metadata": {},
   "outputs": [
    {
     "name": "stdout",
     "output_type": "stream",
     "text": [
      "testing here\n",
      "testing here\n",
      "testing here\n",
      "testing here\n",
      "testing here\n",
      "testing here\n",
      "testing here\n",
      "testing here\n",
      "testing here\n",
      "testing here\n",
      "testing here\n"
     ]
    },
    {
     "ename": "ValueError",
     "evalue": "setting an array element with a sequence.",
     "output_type": "error",
     "traceback": [
      "\u001b[0;31m---------------------------------------------------------------------------\u001b[0m",
      "\u001b[0;31mValueError\u001b[0m                                Traceback (most recent call last)",
      "\u001b[0;32m<ipython-input-51-2344a97dc6f2>\u001b[0m in \u001b[0;36m<module>\u001b[0;34m\u001b[0m\n\u001b[1;32m      9\u001b[0m     \u001b[0mcov_func\u001b[0m \u001b[0;34m=\u001b[0m \u001b[0mpm\u001b[0m\u001b[0;34m.\u001b[0m\u001b[0mgp\u001b[0m\u001b[0;34m.\u001b[0m\u001b[0mcov\u001b[0m\u001b[0;34m.\u001b[0m\u001b[0mExpQuad\u001b[0m\u001b[0;34m(\u001b[0m\u001b[0;36m1\u001b[0m\u001b[0;34m,\u001b[0m \u001b[0mls\u001b[0m\u001b[0;34m=\u001b[0m\u001b[0;36m0.1\u001b[0m\u001b[0;34m)\u001b[0m\u001b[0;34m\u001b[0m\u001b[0;34m\u001b[0m\u001b[0m\n\u001b[1;32m     10\u001b[0m     \u001b[0mgp\u001b[0m \u001b[0;34m=\u001b[0m \u001b[0mpm\u001b[0m\u001b[0;34m.\u001b[0m\u001b[0mgp\u001b[0m\u001b[0;34m.\u001b[0m\u001b[0mLatent\u001b[0m\u001b[0;34m(\u001b[0m\u001b[0mcov_func\u001b[0m\u001b[0;34m=\u001b[0m\u001b[0mcov_func\u001b[0m\u001b[0;34m)\u001b[0m\u001b[0;34m\u001b[0m\u001b[0;34m\u001b[0m\u001b[0m\n\u001b[0;32m---> 11\u001b[0;31m     \u001b[0mK\u001b[0m \u001b[0;34m=\u001b[0m \u001b[0mk\u001b[0m\u001b[0;34m(\u001b[0m\u001b[0mbeta\u001b[0m\u001b[0;34m[\u001b[0m\u001b[0mbeta_idx\u001b[0m\u001b[0;34m]\u001b[0m \u001b[0;34m+\u001b[0m \u001b[0ml_true\u001b[0m\u001b[0;34m[\u001b[0m\u001b[0ml_idx\u001b[0m\u001b[0;34m]\u001b[0m\u001b[0;34m)\u001b[0m\u001b[0;34m\u001b[0m\u001b[0;34m\u001b[0m\u001b[0m\n\u001b[0m\u001b[1;32m     12\u001b[0m     \u001b[0mf\u001b[0m \u001b[0;34m=\u001b[0m \u001b[0msp\u001b[0m\u001b[0;34m.\u001b[0m\u001b[0mstats\u001b[0m\u001b[0;34m.\u001b[0m\u001b[0mmultivariate_normal\u001b[0m\u001b[0;34m.\u001b[0m\u001b[0mrvs\u001b[0m\u001b[0;34m(\u001b[0m\u001b[0mnp\u001b[0m\u001b[0;34m.\u001b[0m\u001b[0mrepeat\u001b[0m\u001b[0;34m(\u001b[0m\u001b[0;36m1\u001b[0m\u001b[0;34m,\u001b[0m \u001b[0;36m16\u001b[0m\u001b[0;34m)\u001b[0m\u001b[0;34m,\u001b[0m \u001b[0mK\u001b[0m\u001b[0;34m)\u001b[0m\u001b[0;34m\u001b[0m\u001b[0;34m\u001b[0m\u001b[0m\n\u001b[1;32m     13\u001b[0m \u001b[0;34m\u001b[0m\u001b[0m\n",
      "\u001b[0;32m~/miniconda3/envs/ml/lib/python3.6/site-packages/sklearn/gaussian_process/kernels.py\u001b[0m in \u001b[0;36m__call__\u001b[0;34m(self, X, Y, eval_gradient)\u001b[0m\n\u001b[1;32m   1331\u001b[0m         \u001b[0mlength_scale\u001b[0m \u001b[0;34m=\u001b[0m \u001b[0m_check_length_scale\u001b[0m\u001b[0;34m(\u001b[0m\u001b[0mX\u001b[0m\u001b[0;34m,\u001b[0m \u001b[0mself\u001b[0m\u001b[0;34m.\u001b[0m\u001b[0mlength_scale\u001b[0m\u001b[0;34m)\u001b[0m\u001b[0;34m\u001b[0m\u001b[0;34m\u001b[0m\u001b[0m\n\u001b[1;32m   1332\u001b[0m         \u001b[0;32mif\u001b[0m \u001b[0mY\u001b[0m \u001b[0;32mis\u001b[0m \u001b[0;32mNone\u001b[0m\u001b[0;34m:\u001b[0m\u001b[0;34m\u001b[0m\u001b[0;34m\u001b[0m\u001b[0m\n\u001b[0;32m-> 1333\u001b[0;31m             \u001b[0mdists\u001b[0m \u001b[0;34m=\u001b[0m \u001b[0mpdist\u001b[0m\u001b[0;34m(\u001b[0m\u001b[0mX\u001b[0m \u001b[0;34m/\u001b[0m \u001b[0mlength_scale\u001b[0m\u001b[0;34m,\u001b[0m \u001b[0mmetric\u001b[0m\u001b[0;34m=\u001b[0m\u001b[0;34m'euclidean'\u001b[0m\u001b[0;34m)\u001b[0m\u001b[0;34m\u001b[0m\u001b[0;34m\u001b[0m\u001b[0m\n\u001b[0m\u001b[1;32m   1334\u001b[0m         \u001b[0;32melse\u001b[0m\u001b[0;34m:\u001b[0m\u001b[0;34m\u001b[0m\u001b[0;34m\u001b[0m\u001b[0m\n\u001b[1;32m   1335\u001b[0m             \u001b[0;32mif\u001b[0m \u001b[0meval_gradient\u001b[0m\u001b[0;34m:\u001b[0m\u001b[0;34m\u001b[0m\u001b[0;34m\u001b[0m\u001b[0m\n",
      "\u001b[0;32m~/miniconda3/envs/ml/lib/python3.6/site-packages/scipy/spatial/distance.py\u001b[0m in \u001b[0;36mpdist\u001b[0;34m(X, metric, *args, **kwargs)\u001b[0m\n\u001b[1;32m   2040\u001b[0m         \u001b[0;32mif\u001b[0m \u001b[0mmetric_name\u001b[0m \u001b[0;32mis\u001b[0m \u001b[0;32mnot\u001b[0m \u001b[0;32mNone\u001b[0m\u001b[0;34m:\u001b[0m\u001b[0;34m\u001b[0m\u001b[0;34m\u001b[0m\u001b[0m\n\u001b[1;32m   2041\u001b[0m             X, typ, kwargs = _validate_pdist_input(X, m, n,\n\u001b[0;32m-> 2042\u001b[0;31m                                                    metric_name, **kwargs)\n\u001b[0m\u001b[1;32m   2043\u001b[0m \u001b[0;34m\u001b[0m\u001b[0m\n\u001b[1;32m   2044\u001b[0m             \u001b[0;31m# get pdist wrapper\u001b[0m\u001b[0;34m\u001b[0m\u001b[0;34m\u001b[0m\u001b[0;34m\u001b[0m\u001b[0m\n",
      "\u001b[0;32m~/miniconda3/envs/ml/lib/python3.6/site-packages/scipy/spatial/distance.py\u001b[0m in \u001b[0;36m_validate_pdist_input\u001b[0;34m(X, m, n, metric_name, **kwargs)\u001b[0m\n\u001b[1;32m    291\u001b[0m         \u001b[0mtyp\u001b[0m \u001b[0;34m=\u001b[0m \u001b[0mtypes\u001b[0m\u001b[0;34m[\u001b[0m\u001b[0mtypes\u001b[0m\u001b[0;34m.\u001b[0m\u001b[0mindex\u001b[0m\u001b[0;34m(\u001b[0m\u001b[0mX\u001b[0m\u001b[0;34m.\u001b[0m\u001b[0mdtype\u001b[0m\u001b[0;34m)\u001b[0m\u001b[0;34m]\u001b[0m \u001b[0;32mif\u001b[0m \u001b[0mX\u001b[0m\u001b[0;34m.\u001b[0m\u001b[0mdtype\u001b[0m \u001b[0;32min\u001b[0m \u001b[0mtypes\u001b[0m \u001b[0;32melse\u001b[0m \u001b[0mtypes\u001b[0m\u001b[0;34m[\u001b[0m\u001b[0;36m0\u001b[0m\u001b[0;34m]\u001b[0m\u001b[0;34m\u001b[0m\u001b[0;34m\u001b[0m\u001b[0m\n\u001b[1;32m    292\u001b[0m         \u001b[0;31m# validate data\u001b[0m\u001b[0;34m\u001b[0m\u001b[0;34m\u001b[0m\u001b[0;34m\u001b[0m\u001b[0m\n\u001b[0;32m--> 293\u001b[0;31m         \u001b[0mX\u001b[0m \u001b[0;34m=\u001b[0m \u001b[0m_convert_to_type\u001b[0m\u001b[0;34m(\u001b[0m\u001b[0mX\u001b[0m\u001b[0;34m,\u001b[0m \u001b[0mout_type\u001b[0m\u001b[0;34m=\u001b[0m\u001b[0mtyp\u001b[0m\u001b[0;34m)\u001b[0m\u001b[0;34m\u001b[0m\u001b[0;34m\u001b[0m\u001b[0m\n\u001b[0m\u001b[1;32m    294\u001b[0m \u001b[0;34m\u001b[0m\u001b[0m\n\u001b[1;32m    295\u001b[0m         \u001b[0;31m# validate kwargs\u001b[0m\u001b[0;34m\u001b[0m\u001b[0;34m\u001b[0m\u001b[0;34m\u001b[0m\u001b[0m\n",
      "\u001b[0;32m~/miniconda3/envs/ml/lib/python3.6/site-packages/scipy/spatial/distance.py\u001b[0m in \u001b[0;36m_convert_to_type\u001b[0;34m(X, out_type)\u001b[0m\n\u001b[1;32m    186\u001b[0m \u001b[0;34m\u001b[0m\u001b[0m\n\u001b[1;32m    187\u001b[0m \u001b[0;32mdef\u001b[0m \u001b[0m_convert_to_type\u001b[0m\u001b[0;34m(\u001b[0m\u001b[0mX\u001b[0m\u001b[0;34m,\u001b[0m \u001b[0mout_type\u001b[0m\u001b[0;34m)\u001b[0m\u001b[0;34m:\u001b[0m\u001b[0;34m\u001b[0m\u001b[0;34m\u001b[0m\u001b[0m\n\u001b[0;32m--> 188\u001b[0;31m     \u001b[0;32mreturn\u001b[0m \u001b[0mnp\u001b[0m\u001b[0;34m.\u001b[0m\u001b[0mascontiguousarray\u001b[0m\u001b[0;34m(\u001b[0m\u001b[0mX\u001b[0m\u001b[0;34m,\u001b[0m \u001b[0mdtype\u001b[0m\u001b[0;34m=\u001b[0m\u001b[0mout_type\u001b[0m\u001b[0;34m)\u001b[0m\u001b[0;34m\u001b[0m\u001b[0;34m\u001b[0m\u001b[0m\n\u001b[0m\u001b[1;32m    189\u001b[0m \u001b[0;34m\u001b[0m\u001b[0m\n\u001b[1;32m    190\u001b[0m \u001b[0;34m\u001b[0m\u001b[0m\n",
      "\u001b[0;32m~/miniconda3/envs/ml/lib/python3.6/site-packages/numpy/core/numeric.py\u001b[0m in \u001b[0;36mascontiguousarray\u001b[0;34m(a, dtype)\u001b[0m\n\u001b[1;32m    630\u001b[0m \u001b[0;34m\u001b[0m\u001b[0m\n\u001b[1;32m    631\u001b[0m     \"\"\"\n\u001b[0;32m--> 632\u001b[0;31m     \u001b[0;32mreturn\u001b[0m \u001b[0marray\u001b[0m\u001b[0;34m(\u001b[0m\u001b[0ma\u001b[0m\u001b[0;34m,\u001b[0m \u001b[0mdtype\u001b[0m\u001b[0;34m,\u001b[0m \u001b[0mcopy\u001b[0m\u001b[0;34m=\u001b[0m\u001b[0;32mFalse\u001b[0m\u001b[0;34m,\u001b[0m \u001b[0morder\u001b[0m\u001b[0;34m=\u001b[0m\u001b[0;34m'C'\u001b[0m\u001b[0;34m,\u001b[0m \u001b[0mndmin\u001b[0m\u001b[0;34m=\u001b[0m\u001b[0;36m1\u001b[0m\u001b[0;34m)\u001b[0m\u001b[0;34m\u001b[0m\u001b[0;34m\u001b[0m\u001b[0m\n\u001b[0m\u001b[1;32m    633\u001b[0m \u001b[0;34m\u001b[0m\u001b[0m\n\u001b[1;32m    634\u001b[0m \u001b[0;34m\u001b[0m\u001b[0m\n",
      "\u001b[0;31mValueError\u001b[0m: setting an array element with a sequence."
     ]
    }
   ],
   "source": [
    "with pm.Model() as model:\n",
    "    tau_g = pm.InverseGamma('tau_g', 10., 1., shape=1)\n",
    "    gamma = pm.Normal('gamma', 0., tau_g, shape=2)\n",
    "    \n",
    "    tau_b = pm.HalfCauchy('tau_b', 1., shape=1)\n",
    "    beta = pm.Normal('beta', gamma[[0, 0, 1, 1]], tau_b, shape=4)    \n",
    "    l = pm.Lognormal('l', 0, .25, shape=8)\n",
    "    \n",
    "    cov_func = pm.gp.cov.ExpQuad(1, ls=0.1)\n",
    "    gp = pm.gp.Latent(cov_func=cov_func)\n",
    "    K = pm.Deterministic( \n",
    "        np.exp(np.sum((beta[beta_idx] - l_true[l_idx])**2)))\n",
    "    )\n",
    "    f = sp.stats.multivariate_normal.rvs(np.repeat(1, 16), K)\n",
    "    \n",
    "    x = pm.Normal('x', mu = f, observed=counts)"
   ]
  },
  {
   "cell_type": "code",
   "execution_count": 58,
   "metadata": {},
   "outputs": [
    {
     "name": "stderr",
     "output_type": "stream",
     "text": [
      "Only 10 samples in chain.\n",
      "Auto-assigning NUTS sampler...\n",
      "Initializing NUTS using jitter+adapt_diag...\n",
      "Sequential sampling (1 chains in 1 job)\n",
      "NUTS: [f_rotated_]\n",
      "100%|██████████| 510/510 [00:00<00:00, 685.12it/s]\n",
      "/home/simon/miniconda3/envs/ml/lib/python3.6/site-packages/pymc3/sampling.py:466: UserWarning: The number of samples is too small to check convergence reliably.\n",
      "  warnings.warn(\"The number of samples is too small to check convergence reliably.\")\n"
     ]
    }
   ],
   "source": [
    "with model:\n",
    "    t = pm.sample(10, ntune=10)"
   ]
  },
  {
   "cell_type": "code",
   "execution_count": 55,
   "metadata": {},
   "outputs": [
    {
     "data": {
      "text/plain": [
       "(100, 1)"
      ]
     },
     "execution_count": 55,
     "metadata": {},
     "output_type": "execute_result"
    }
   ],
   "source": [
    "X.shape"
   ]
  },
  {
   "cell_type": "code",
   "execution_count": 5,
   "metadata": {},
   "outputs": [],
   "source": [
    "data = pd.read_csv(\"../data_raw/gene_summary.tsv\", sep=\"\\t\")"
   ]
  },
  {
   "cell_type": "code",
   "execution_count": 13,
   "metadata": {},
   "outputs": [],
   "source": [
    "G = networkx.read_edgelist(\n",
    "    \"../data_raw/mouse_gene_network.tsv\",\n",
    "    delimiter=\"\\t\", data=(('weight',float),), nodetype=str)"
   ]
  },
  {
   "cell_type": "code",
   "execution_count": 24,
   "metadata": {},
   "outputs": [],
   "source": [
    "filter_genes = list(data.id.values[:4]) + \\\n",
    "            [\"POLR2C\", \"POLR1B\", \"PSMC1\", \"PSMD4\", \"TH\"]"
   ]
  },
  {
   "cell_type": "code",
   "execution_count": 25,
   "metadata": {},
   "outputs": [],
   "source": [
    "networkx.nei"
   ]
  },
  {
   "cell_type": "code",
   "execution_count": 26,
   "metadata": {},
   "outputs": [
    {
     "data": {
      "text/html": [
       "<div>\n",
       "<style scoped>\n",
       "    .dataframe tbody tr th:only-of-type {\n",
       "        vertical-align: middle;\n",
       "    }\n",
       "\n",
       "    .dataframe tbody tr th {\n",
       "        vertical-align: top;\n",
       "    }\n",
       "\n",
       "    .dataframe thead th {\n",
       "        text-align: right;\n",
       "    }\n",
       "</style>\n",
       "<table border=\"1\" class=\"dataframe\">\n",
       "  <thead>\n",
       "    <tr style=\"text-align: right;\">\n",
       "      <th></th>\n",
       "      <th>id</th>\n",
       "      <th>num</th>\n",
       "      <th>neg|score</th>\n",
       "      <th>neg|p-value</th>\n",
       "      <th>neg|fdr</th>\n",
       "      <th>neg|rank</th>\n",
       "      <th>neg|goodsgrna</th>\n",
       "      <th>neg|lfc</th>\n",
       "      <th>pos|score</th>\n",
       "      <th>pos|p-value</th>\n",
       "      <th>pos|fdr</th>\n",
       "      <th>pos|rank</th>\n",
       "      <th>pos|goodsgrna</th>\n",
       "      <th>pos|lfc</th>\n",
       "    </tr>\n",
       "  </thead>\n",
       "  <tbody>\n",
       "    <tr>\n",
       "      <th>0</th>\n",
       "      <td>PSMC5</td>\n",
       "      <td>10</td>\n",
       "      <td>7.342000e-13</td>\n",
       "      <td>0.000005</td>\n",
       "      <td>0.000114</td>\n",
       "      <td>1</td>\n",
       "      <td>9</td>\n",
       "      <td>-0.098003</td>\n",
       "      <td>0.999990</td>\n",
       "      <td>0.999990</td>\n",
       "      <td>0.999995</td>\n",
       "      <td>90</td>\n",
       "      <td>0</td>\n",
       "      <td>-0.098003</td>\n",
       "    </tr>\n",
       "    <tr>\n",
       "      <th>1</th>\n",
       "      <td>PSMB1</td>\n",
       "      <td>10</td>\n",
       "      <td>3.090900e-12</td>\n",
       "      <td>0.000005</td>\n",
       "      <td>0.000114</td>\n",
       "      <td>2</td>\n",
       "      <td>9</td>\n",
       "      <td>-0.116810</td>\n",
       "      <td>1.000000</td>\n",
       "      <td>1.000000</td>\n",
       "      <td>0.999995</td>\n",
       "      <td>91</td>\n",
       "      <td>0</td>\n",
       "      <td>-0.116810</td>\n",
       "    </tr>\n",
       "    <tr>\n",
       "      <th>2</th>\n",
       "      <td>PSMC3</td>\n",
       "      <td>10</td>\n",
       "      <td>9.788600e-10</td>\n",
       "      <td>0.000005</td>\n",
       "      <td>0.000114</td>\n",
       "      <td>3</td>\n",
       "      <td>9</td>\n",
       "      <td>-0.052708</td>\n",
       "      <td>0.999560</td>\n",
       "      <td>0.999430</td>\n",
       "      <td>0.999995</td>\n",
       "      <td>89</td>\n",
       "      <td>0</td>\n",
       "      <td>-0.052708</td>\n",
       "    </tr>\n",
       "    <tr>\n",
       "      <th>3</th>\n",
       "      <td>POLR3K</td>\n",
       "      <td>10</td>\n",
       "      <td>2.574700e-07</td>\n",
       "      <td>0.000005</td>\n",
       "      <td>0.000114</td>\n",
       "      <td>4</td>\n",
       "      <td>8</td>\n",
       "      <td>-0.048451</td>\n",
       "      <td>0.970720</td>\n",
       "      <td>0.970730</td>\n",
       "      <td>0.999995</td>\n",
       "      <td>85</td>\n",
       "      <td>0</td>\n",
       "      <td>-0.048451</td>\n",
       "    </tr>\n",
       "    <tr>\n",
       "      <th>4</th>\n",
       "      <td>PSMC1</td>\n",
       "      <td>10</td>\n",
       "      <td>1.674400e-05</td>\n",
       "      <td>0.000115</td>\n",
       "      <td>0.002091</td>\n",
       "      <td>5</td>\n",
       "      <td>7</td>\n",
       "      <td>-0.041440</td>\n",
       "      <td>0.951490</td>\n",
       "      <td>0.951780</td>\n",
       "      <td>0.999995</td>\n",
       "      <td>81</td>\n",
       "      <td>0</td>\n",
       "      <td>-0.041440</td>\n",
       "    </tr>\n",
       "    <tr>\n",
       "      <th>13</th>\n",
       "      <td>PSMD4</td>\n",
       "      <td>10</td>\n",
       "      <td>1.420900e-01</td>\n",
       "      <td>0.290850</td>\n",
       "      <td>0.995418</td>\n",
       "      <td>14</td>\n",
       "      <td>3</td>\n",
       "      <td>-0.001814</td>\n",
       "      <td>0.341440</td>\n",
       "      <td>0.497830</td>\n",
       "      <td>0.999995</td>\n",
       "      <td>44</td>\n",
       "      <td>1</td>\n",
       "      <td>-0.001814</td>\n",
       "    </tr>\n",
       "    <tr>\n",
       "      <th>16</th>\n",
       "      <td>TH</td>\n",
       "      <td>10</td>\n",
       "      <td>1.745800e-01</td>\n",
       "      <td>0.333640</td>\n",
       "      <td>0.995418</td>\n",
       "      <td>17</td>\n",
       "      <td>3</td>\n",
       "      <td>-0.001190</td>\n",
       "      <td>0.413870</td>\n",
       "      <td>0.560790</td>\n",
       "      <td>0.999995</td>\n",
       "      <td>49</td>\n",
       "      <td>1</td>\n",
       "      <td>-0.001190</td>\n",
       "    </tr>\n",
       "    <tr>\n",
       "      <th>28</th>\n",
       "      <td>POLR2C</td>\n",
       "      <td>10</td>\n",
       "      <td>3.483400e-01</td>\n",
       "      <td>0.520110</td>\n",
       "      <td>0.995418</td>\n",
       "      <td>29</td>\n",
       "      <td>1</td>\n",
       "      <td>0.002940</td>\n",
       "      <td>0.114530</td>\n",
       "      <td>0.242440</td>\n",
       "      <td>0.885564</td>\n",
       "      <td>22</td>\n",
       "      <td>3</td>\n",
       "      <td>0.002940</td>\n",
       "    </tr>\n",
       "    <tr>\n",
       "      <th>35</th>\n",
       "      <td>POLR1B</td>\n",
       "      <td>10</td>\n",
       "      <td>4.104200e-01</td>\n",
       "      <td>0.569030</td>\n",
       "      <td>0.995418</td>\n",
       "      <td>36</td>\n",
       "      <td>2</td>\n",
       "      <td>-0.000904</td>\n",
       "      <td>0.010147</td>\n",
       "      <td>0.037418</td>\n",
       "      <td>0.555505</td>\n",
       "      <td>6</td>\n",
       "      <td>3</td>\n",
       "      <td>-0.000904</td>\n",
       "    </tr>\n",
       "  </tbody>\n",
       "</table>\n",
       "</div>"
      ],
      "text/plain": [
       "        id  num     neg|score  neg|p-value   neg|fdr  neg|rank  neg|goodsgrna  \\\n",
       "0    PSMC5   10  7.342000e-13     0.000005  0.000114         1              9   \n",
       "1    PSMB1   10  3.090900e-12     0.000005  0.000114         2              9   \n",
       "2    PSMC3   10  9.788600e-10     0.000005  0.000114         3              9   \n",
       "3   POLR3K   10  2.574700e-07     0.000005  0.000114         4              8   \n",
       "4    PSMC1   10  1.674400e-05     0.000115  0.002091         5              7   \n",
       "13   PSMD4   10  1.420900e-01     0.290850  0.995418        14              3   \n",
       "16      TH   10  1.745800e-01     0.333640  0.995418        17              3   \n",
       "28  POLR2C   10  3.483400e-01     0.520110  0.995418        29              1   \n",
       "35  POLR1B   10  4.104200e-01     0.569030  0.995418        36              2   \n",
       "\n",
       "     neg|lfc  pos|score  pos|p-value   pos|fdr  pos|rank  pos|goodsgrna  \\\n",
       "0  -0.098003   0.999990     0.999990  0.999995        90              0   \n",
       "1  -0.116810   1.000000     1.000000  0.999995        91              0   \n",
       "2  -0.052708   0.999560     0.999430  0.999995        89              0   \n",
       "3  -0.048451   0.970720     0.970730  0.999995        85              0   \n",
       "4  -0.041440   0.951490     0.951780  0.999995        81              0   \n",
       "13 -0.001814   0.341440     0.497830  0.999995        44              1   \n",
       "16 -0.001190   0.413870     0.560790  0.999995        49              1   \n",
       "28  0.002940   0.114530     0.242440  0.885564        22              3   \n",
       "35 -0.000904   0.010147     0.037418  0.555505         6              3   \n",
       "\n",
       "     pos|lfc  \n",
       "0  -0.098003  \n",
       "1  -0.116810  \n",
       "2  -0.052708  \n",
       "3  -0.048451  \n",
       "4  -0.041440  \n",
       "13 -0.001814  \n",
       "16 -0.001190  \n",
       "28  0.002940  \n",
       "35 -0.000904  "
      ]
     },
     "execution_count": 26,
     "metadata": {},
     "output_type": "execute_result"
    }
   ],
   "source": [
    "filter_data"
   ]
  },
  {
   "cell_type": "code",
   "execution_count": 27,
   "metadata": {},
   "outputs": [],
   "source": [
    "G = G.subgraph(np.sort(filter_genes))\n",
    "adj = networkx.to_numpy_matrix(G, nodelist=np.sort(G.nodes()), weight='weight')"
   ]
  },
  {
   "cell_type": "code",
   "execution_count": 28,
   "metadata": {},
   "outputs": [
    {
     "name": "stderr",
     "output_type": "stream",
     "text": [
      "/home/simon/miniconda3/envs/ml/lib/python3.6/site-packages/networkx/drawing/nx_pylab.py:611: MatplotlibDeprecationWarning: isinstance(..., numbers.Number)\n",
      "  if cb.is_numlike(alpha):\n"
     ]
    },
    {
     "data": {
      "image/png": "[encoded data removed]",
      "text/plain": [
       "<Figure size 432x288 with 1 Axes>"
      ]
     },
     "metadata": {},
     "output_type": "display_data"
    }
   ],
   "source": [
    "nodes = np.sort(G.nodes());\n",
    "g = networkx.from_numpy_array(adj);\n",
    "networkx.draw(g, font_weight='bold', labels={n: nodes[n] for n in g.nodes()});"
   ]
  },
  {
   "cell_type": "code",
   "execution_count": 62,
   "metadata": {},
   "outputs": [
    {
     "data": {
      "text/plain": [
       "array([[0.        , 2.64913642, 1.70678613, 0.        , 0.79336804,\n",
       "        1.10690699, 1.16002386, 0.        , 0.        ],\n",
       "       [2.64913642, 0.        , 0.        , 0.        , 0.        ,\n",
       "        0.        , 0.        , 0.        , 0.        ],\n",
       "       [1.70678613, 0.        , 0.        , 0.        , 0.        ,\n",
       "        0.        , 0.        , 0.        , 0.        ],\n",
       "       [0.        , 0.        , 0.        , 0.        , 3.97387421,\n",
       "        3.90412409, 3.93096682, 3.9720452 , 0.        ],\n",
       "       [0.79336804, 0.        , 0.        , 3.97387421, 0.        ,\n",
       "        4.31363258, 4.25705482, 4.32526574, 0.        ],\n",
       "       [1.10690699, 0.        , 0.        , 3.90412409, 4.31363258,\n",
       "        0.        , 4.22677194, 4.22326907, 0.        ],\n",
       "       [1.16002386, 0.        , 0.        , 3.93096682, 4.25705482,\n",
       "        4.22677194, 0.        , 4.19165085, 0.        ],\n",
       "       [0.        , 0.        , 0.        , 3.9720452 , 4.32526574,\n",
       "        4.22326907, 4.19165085, 0.        , 1.89745033],\n",
       "       [0.        , 0.        , 0.        , 0.        , 0.        ,\n",
       "        0.        , 0.        , 1.89745033, 0.        ]])"
      ]
     },
     "execution_count": 62,
     "metadata": {},
     "output_type": "execute_result"
    }
   ],
   "source": [
    "adj"
   ]
  },
  {
   "cell_type": "code",
   "execution_count": 105,
   "metadata": {},
   "outputs": [
    {
     "data": {
      "text/plain": [
       "array([1, 2, 4, 5, 6])"
      ]
     },
     "execution_count": 105,
     "metadata": {},
     "output_type": "execute_result"
    }
   ],
   "source": [
    "def _markov_blank(adj, i):\n",
    "    children = np.where(adj[i,:] != 0)[0]    \n",
    "    parents = np.where(adj[:, i] != 0) [0]         \n",
    "    return np.unique(np.append(children, parents))"
   ]
  },
  {
   "cell_type": "code",
   "execution_count": 54,
   "metadata": {},
   "outputs": [],
   "source": [
    "adj = np.asarray(adj)"
   ]
  },
  {
   "cell_type": "code",
   "execution_count": 70,
   "metadata": {},
   "outputs": [
    {
     "name": "stdout",
     "output_type": "stream",
     "text": [
      "[1 2 4 5 6]\n",
      "[1 2 4 5 6]\n"
     ]
    },
    {
     "data": {
      "text/plain": [
       "array([1, 2, 4, 5, 6])"
      ]
     },
     "execution_count": 70,
     "metadata": {},
     "output_type": "execute_result"
    }
   ],
   "source": [
    "mb = _markov_blank(adj, 0)\n",
    "mb"
   ]
  },
  {
   "cell_type": "code",
   "execution_count": 72,
   "metadata": {},
   "outputs": [],
   "source": [
    "import scipy.stats"
   ]
  },
  {
   "cell_type": "code",
   "execution_count": 78,
   "metadata": {},
   "outputs": [],
   "source": [
    "labels = scipy.stats.binom.rvs(1, .5, size=9)"
   ]
  },
  {
   "cell_type": "code",
   "execution_count": 82,
   "metadata": {},
   "outputs": [
    {
     "data": {
      "text/plain": [
       "array([False, False,  True,  True, False])"
      ]
     },
     "execution_count": 82,
     "metadata": {},
     "output_type": "execute_result"
    }
   ],
   "source": [
    "(labels[mb] == labels[0])"
   ]
  },
  {
   "cell_type": "code",
   "execution_count": 83,
   "metadata": {},
   "outputs": [
    {
     "data": {
      "text/plain": [
       "array([2.64913642, 1.70678613, 0.79336804, 1.10690699, 1.16002386])"
      ]
     },
     "execution_count": 83,
     "metadata": {},
     "output_type": "execute_result"
    }
   ],
   "source": [
    "adj[mb, 0]"
   ]
  },
  {
   "cell_type": "code",
   "execution_count": 81,
   "metadata": {},
   "outputs": [
    {
     "data": {
      "text/plain": [
       "array([0.        , 0.        , 0.79336804, 1.10690699, 0.        ])"
      ]
     },
     "execution_count": 81,
     "metadata": {},
     "output_type": "execute_result"
    }
   ],
   "source": [
    "(labels[mb] == labels[0]) *  adj[mb, 0]"
   ]
  },
  {
   "cell_type": "code",
   "execution_count": 79,
   "metadata": {},
   "outputs": [
    {
     "data": {
      "text/plain": [
       "1.900275024345316"
      ]
     },
     "execution_count": 79,
     "metadata": {},
     "output_type": "execute_result"
    }
   ],
   "source": [
    "np.sum((labels[mb] == labels[0]) * adj[mb, 0]) "
   ]
  },
  {
   "cell_type": "code",
   "execution_count": 106,
   "metadata": {},
   "outputs": [],
   "source": [
    " def edge_potential(labels, x, adj_mb):\n",
    "    s1 = np.sum((labels == x) * adj_mb)\n",
    "    s2 = np.sum((labels != x) * adj_mb)\n",
    "    return s1 - s2"
   ]
  },
  {
   "cell_type": "code",
   "execution_count": 131,
   "metadata": {},
   "outputs": [
    {
     "data": {
      "text/plain": [
       "array([1., 1., 1., 1., 1., 1., 1., 1., 1.])"
      ]
     },
     "execution_count": 131,
     "metadata": {},
     "output_type": "execute_result"
    }
   ],
   "source": [
    "lab"
   ]
  },
  {
   "cell_type": "code",
   "execution_count": 140,
   "metadata": {},
   "outputs": [
    {
     "data": {
      "text/plain": [
       "2.64913642034503"
      ]
     },
     "execution_count": 140,
     "metadata": {},
     "output_type": "execute_result"
    }
   ],
   "source": [
    "idx = 8\n",
    "mb = _markov_blank(adj, 1)\n",
    "edge_potential(lab[mb], 1, adj[mb, 1])"
   ]
  },
  {
   "cell_type": "code",
   "execution_count": 146,
   "metadata": {},
   "outputs": [],
   "source": [
    "def _energy(labels):\n",
    "    eneg = 0    \n",
    "    for idx, l in enumerate(labels):        \n",
    "        mb = _markov_blank(adj, idx)        \n",
    "        eneg += edge_potential(labels[mb], labels[idx], adj[mb, idx])\n",
    "    return eneg"
   ]
  },
  {
   "cell_type": "code",
   "execution_count": 175,
   "metadata": {},
   "outputs": [
    {
     "name": "stdout",
     "output_type": "stream",
     "text": [
      "[1 0 1 0 1 0 0 1 0]\n"
     ]
    },
    {
     "data": {
      "text/plain": [
       "-25.715523099974252"
      ]
     },
     "execution_count": 175,
     "metadata": {},
     "output_type": "execute_result"
    }
   ],
   "source": [
    "lab = scipy.stats.binom.rvs(1, .5, size=9)\n",
    "print(lab)\n",
    "_energy(lab)"
   ]
  },
  {
   "cell_type": "code",
   "execution_count": 178,
   "metadata": {},
   "outputs": [],
   "source": [
    "binom = scipy.stats.binom.rvs"
   ]
  },
  {
   "cell_type": "code",
   "execution_count": 194,
   "metadata": {},
   "outputs": [
    {
     "data": {
      "text/plain": [
       "1"
      ]
     },
     "execution_count": 194,
     "metadata": {},
     "output_type": "execute_result"
    }
   ],
   "source": [
    "binom(1, .5)"
   ]
  },
  {
   "cell_type": "code",
   "execution_count": 92,
   "metadata": {},
   "outputs": [
    {
     "ename": "AttributeError",
     "evalue": "'BinaryMRF' object has no attribute 'logp'",
     "output_type": "error",
     "traceback": [
      "\u001b[0;31m---------------------------------------------------------------------------\u001b[0m",
      "\u001b[0;31mAttributeError\u001b[0m                            Traceback (most recent call last)",
      "\u001b[0;32m<ipython-input-92-257aea996c33>\u001b[0m in \u001b[0;36m<module>\u001b[0;34m\u001b[0m\n\u001b[1;32m      1\u001b[0m \u001b[0;32mwith\u001b[0m \u001b[0mpm\u001b[0m\u001b[0;34m.\u001b[0m\u001b[0mModel\u001b[0m\u001b[0;34m(\u001b[0m\u001b[0;34m)\u001b[0m \u001b[0;32mas\u001b[0m \u001b[0mmodel\u001b[0m\u001b[0;34m:\u001b[0m\u001b[0;34m\u001b[0m\u001b[0;34m\u001b[0m\u001b[0m\n\u001b[0;32m----> 2\u001b[0;31m     \u001b[0mA\u001b[0m \u001b[0;34m=\u001b[0m \u001b[0mBinaryMRF\u001b[0m\u001b[0;34m(\u001b[0m\u001b[0;34m'A'\u001b[0m\u001b[0;34m,\u001b[0m \u001b[0mG\u001b[0m\u001b[0;34m)\u001b[0m\u001b[0;34m\u001b[0m\u001b[0;34m\u001b[0m\u001b[0m\n\u001b[0m\u001b[1;32m      3\u001b[0m     \u001b[0mB\u001b[0m \u001b[0;34m=\u001b[0m \u001b[0mpm\u001b[0m\u001b[0;34m.\u001b[0m\u001b[0mNormal\u001b[0m\u001b[0;34m(\u001b[0m\u001b[0;34m'B'\u001b[0m\u001b[0;34m,\u001b[0m \u001b[0mmu\u001b[0m\u001b[0;34m=\u001b[0m\u001b[0;36m20\u001b[0m\u001b[0;34m+\u001b[0m\u001b[0mA\u001b[0m\u001b[0;34m,\u001b[0m \u001b[0msd\u001b[0m\u001b[0;34m=\u001b[0m\u001b[0;36m10\u001b[0m\u001b[0;34m)\u001b[0m\u001b[0;34m\u001b[0m\u001b[0;34m\u001b[0m\u001b[0m\n",
      "\u001b[0;32m~/miniconda3/envs/ml/lib/python3.6/site-packages/pymc3/distributions/distribution.py\u001b[0m in \u001b[0;36m__new__\u001b[0;34m(cls, name, *args, **kwargs)\u001b[0m\n\u001b[1;32m     40\u001b[0m             \u001b[0mtotal_size\u001b[0m \u001b[0;34m=\u001b[0m \u001b[0mkwargs\u001b[0m\u001b[0;34m.\u001b[0m\u001b[0mpop\u001b[0m\u001b[0;34m(\u001b[0m\u001b[0;34m'total_size'\u001b[0m\u001b[0;34m,\u001b[0m \u001b[0;32mNone\u001b[0m\u001b[0;34m)\u001b[0m\u001b[0;34m\u001b[0m\u001b[0;34m\u001b[0m\u001b[0m\n\u001b[1;32m     41\u001b[0m             \u001b[0mdist\u001b[0m \u001b[0;34m=\u001b[0m \u001b[0mcls\u001b[0m\u001b[0;34m.\u001b[0m\u001b[0mdist\u001b[0m\u001b[0;34m(\u001b[0m\u001b[0;34m*\u001b[0m\u001b[0margs\u001b[0m\u001b[0;34m,\u001b[0m \u001b[0;34m**\u001b[0m\u001b[0mkwargs\u001b[0m\u001b[0;34m)\u001b[0m\u001b[0;34m\u001b[0m\u001b[0;34m\u001b[0m\u001b[0m\n\u001b[0;32m---> 42\u001b[0;31m             \u001b[0;32mreturn\u001b[0m \u001b[0mmodel\u001b[0m\u001b[0;34m.\u001b[0m\u001b[0mVar\u001b[0m\u001b[0;34m(\u001b[0m\u001b[0mname\u001b[0m\u001b[0;34m,\u001b[0m \u001b[0mdist\u001b[0m\u001b[0;34m,\u001b[0m \u001b[0mdata\u001b[0m\u001b[0;34m,\u001b[0m \u001b[0mtotal_size\u001b[0m\u001b[0;34m)\u001b[0m\u001b[0;34m\u001b[0m\u001b[0;34m\u001b[0m\u001b[0m\n\u001b[0m\u001b[1;32m     43\u001b[0m         \u001b[0;32melse\u001b[0m\u001b[0;34m:\u001b[0m\u001b[0;34m\u001b[0m\u001b[0;34m\u001b[0m\u001b[0m\n\u001b[1;32m     44\u001b[0m             \u001b[0;32mraise\u001b[0m \u001b[0mTypeError\u001b[0m\u001b[0;34m(\u001b[0m\u001b[0;34m\"Name needs to be a string but got: {}\"\u001b[0m\u001b[0;34m.\u001b[0m\u001b[0mformat\u001b[0m\u001b[0;34m(\u001b[0m\u001b[0mname\u001b[0m\u001b[0;34m)\u001b[0m\u001b[0;34m)\u001b[0m\u001b[0;34m\u001b[0m\u001b[0;34m\u001b[0m\u001b[0m\n",
      "\u001b[0;32m~/miniconda3/envs/ml/lib/python3.6/site-packages/pymc3/model.py\u001b[0m in \u001b[0;36mVar\u001b[0;34m(self, name, dist, data, total_size)\u001b[0m\n\u001b[1;32m    807\u001b[0m                 \u001b[0;32mwith\u001b[0m \u001b[0mself\u001b[0m\u001b[0;34m:\u001b[0m\u001b[0;34m\u001b[0m\u001b[0;34m\u001b[0m\u001b[0m\n\u001b[1;32m    808\u001b[0m                     var = FreeRV(name=name, distribution=dist,\n\u001b[0;32m--> 809\u001b[0;31m                                  total_size=total_size, model=self)\n\u001b[0m\u001b[1;32m    810\u001b[0m                 \u001b[0mself\u001b[0m\u001b[0;34m.\u001b[0m\u001b[0mfree_RVs\u001b[0m\u001b[0;34m.\u001b[0m\u001b[0mappend\u001b[0m\u001b[0;34m(\u001b[0m\u001b[0mvar\u001b[0m\u001b[0;34m)\u001b[0m\u001b[0;34m\u001b[0m\u001b[0;34m\u001b[0m\u001b[0m\n\u001b[1;32m    811\u001b[0m             \u001b[0;32melse\u001b[0m\u001b[0;34m:\u001b[0m\u001b[0;34m\u001b[0m\u001b[0;34m\u001b[0m\u001b[0m\n",
      "\u001b[0;32m~/miniconda3/envs/ml/lib/python3.6/site-packages/pymc3/model.py\u001b[0m in \u001b[0;36m__init__\u001b[0;34m(self, type, owner, index, name, distribution, total_size, model)\u001b[0m\n\u001b[1;32m   1207\u001b[0m             self.tag.test_value = np.ones(\n\u001b[1;32m   1208\u001b[0m                 distribution.shape, distribution.dtype) * distribution.default()\n\u001b[0;32m-> 1209\u001b[0;31m             \u001b[0mself\u001b[0m\u001b[0;34m.\u001b[0m\u001b[0mlogp_elemwiset\u001b[0m \u001b[0;34m=\u001b[0m \u001b[0mdistribution\u001b[0m\u001b[0;34m.\u001b[0m\u001b[0mlogp\u001b[0m\u001b[0;34m(\u001b[0m\u001b[0mself\u001b[0m\u001b[0;34m)\u001b[0m\u001b[0;34m\u001b[0m\u001b[0;34m\u001b[0m\u001b[0m\n\u001b[0m\u001b[1;32m   1210\u001b[0m             \u001b[0;31m# The logp might need scaling in minibatches.\u001b[0m\u001b[0;34m\u001b[0m\u001b[0;34m\u001b[0m\u001b[0;34m\u001b[0m\u001b[0m\n\u001b[1;32m   1211\u001b[0m             \u001b[0;31m# This is done in `Factor`.\u001b[0m\u001b[0;34m\u001b[0m\u001b[0;34m\u001b[0m\u001b[0;34m\u001b[0m\u001b[0m\n",
      "\u001b[0;31mAttributeError\u001b[0m: 'BinaryMRF' object has no attribute 'logp'"
     ]
    }
   ],
   "source": [
    "with pm.Model() as model:\n",
    "    A = BinaryMRF('A', G)\n",
    "    B = pm.Normal('B', mu=20+A, sd=10)"
   ]
  },
  {
   "cell_type": "code",
   "execution_count": 44,
   "metadata": {},
   "outputs": [
    {
     "data": {
      "image/svg+xml": [
       "<?xml version=\"1.0\" encoding=\"UTF-8\" standalone=\"no\"?>\n",
       "<!DOCTYPE svg PUBLIC \"-//W3C//DTD SVG 1.1//EN\"\n",
       " \"http://www.w3.org/Graphics/SVG/1.1/DTD/svg11.dtd\">\n",
       "<!-- Generated by graphviz version 2.38.0 (20140413.2041)\n",
       " -->\n",
       "<!-- Title: %3 Pages: 1 -->\n",
       "<svg width=\"124pt\" height=\"116pt\"\n",
       " viewBox=\"0.00 0.00 123.69 116.00\" xmlns=\"http://www.w3.org/2000/svg\" xmlns:xlink=\"http://www.w3.org/1999/xlink\">\n",
       "<g id=\"graph0\" class=\"graph\" transform=\"scale(1 1) rotate(0) translate(4 112)\">\n",
       "<title>%3</title>\n",
       "<polygon fill=\"white\" stroke=\"none\" points=\"-4,4 -4,-112 119.69,-112 119.69,4 -4,4\"/>\n",
       "<!-- A -->\n",
       "<g id=\"node1\" class=\"node\"><title>A</title>\n",
       "<ellipse fill=\"none\" stroke=\"black\" cx=\"57.8449\" cy=\"-90\" rx=\"57.6901\" ry=\"18\"/>\n",
       "<text text-anchor=\"middle\" x=\"57.8449\" y=\"-86.3\" font-family=\"Times,serif\" font-size=\"14.00\">A ~ Constant</text>\n",
       "</g>\n",
       "<!-- B -->\n",
       "<g id=\"node2\" class=\"node\"><title>B</title>\n",
       "<ellipse fill=\"none\" stroke=\"black\" cx=\"57.8449\" cy=\"-18\" rx=\"53.8905\" ry=\"18\"/>\n",
       "<text text-anchor=\"middle\" x=\"57.8449\" y=\"-14.3\" font-family=\"Times,serif\" font-size=\"14.00\">B ~ Normal</text>\n",
       "</g>\n",
       "<!-- A&#45;&gt;B -->\n",
       "<g id=\"edge1\" class=\"edge\"><title>A&#45;&gt;B</title>\n",
       "<path fill=\"none\" stroke=\"black\" d=\"M57.8449,-71.6966C57.8449,-63.9827 57.8449,-54.7125 57.8449,-46.1124\"/>\n",
       "<polygon fill=\"black\" stroke=\"black\" points=\"61.345,-46.1043 57.8449,-36.1043 54.345,-46.1044 61.345,-46.1043\"/>\n",
       "</g>\n",
       "</g>\n",
       "</svg>\n"
      ],
      "text/plain": [
       "<graphviz.dot.Digraph at 0x7fd3c08e67b8>"
      ]
     },
     "execution_count": 44,
     "metadata": {},
     "output_type": "execute_result"
    }
   ],
   "source": [
    "model_to_graphviz(model, )"
   ]
  },
  {
   "cell_type": "code",
   "execution_count": 46,
   "metadata": {},
   "outputs": [
    {
     "name": "stderr",
     "output_type": "stream",
     "text": [
      "Multiprocess sampling (2 chains in 2 jobs)\n",
      "CompoundStep\n",
      ">Metropolis: [A]\n",
      ">NUTS: [B]\n",
      "Sampling 2 chains: 100%|██████████| 3000/3000 [00:00<00:00, 3084.93draws/s]\n",
      "The gelman-rubin statistic is larger than 1.05 for some parameters. This indicates slight problems during sampling.\n",
      "The estimated number of effective samples is smaller than 200 for some parameters.\n"
     ]
    }
   ],
   "source": [
    "with model:\n",
    "    pm.sample(1000, ninit=1000)"
   ]
  },
  {
   "cell_type": "code",
   "execution_count": 47,
   "metadata": {},
   "outputs": [
    {
     "data": {
      "image/png": "[encoded data removed]",
      "text/plain": [
       "<Figure size 864x288 with 4 Axes>"
      ]
     },
     "metadata": {
      "needs_background": "light"
     },
     "output_type": "display_data"
    }
   ],
   "source": [
    "az.plot_trace(trace);"
   ]
  },
  {
   "cell_type": "code",
   "execution_count": 93,
   "metadata": {},
   "outputs": [
    {
     "ename": "ImportError",
     "evalue": "This version of TensorFlow Probability requires TensorFlow version >= 1.13.1; Detected an installation of version 1.10.0. Please upgrade TensorFlow to proceed.",
     "output_type": "error",
     "traceback": [
      "\u001b[0;31m---------------------------------------------------------------------------\u001b[0m",
      "\u001b[0;31mImportError\u001b[0m                               Traceback (most recent call last)",
      "\u001b[0;32m<ipython-input-93-b7a23602885a>\u001b[0m in \u001b[0;36m<module>\u001b[0;34m\u001b[0m\n\u001b[1;32m      1\u001b[0m \u001b[0;32mimport\u001b[0m \u001b[0mtensorflow\u001b[0m \u001b[0;32mas\u001b[0m \u001b[0mtf\u001b[0m\u001b[0;34m\u001b[0m\u001b[0;34m\u001b[0m\u001b[0m\n\u001b[0;32m----> 2\u001b[0;31m \u001b[0;32mimport\u001b[0m \u001b[0mtensorflow_probability\u001b[0m \u001b[0;32mas\u001b[0m \u001b[0mtfp\u001b[0m\u001b[0;34m\u001b[0m\u001b[0;34m\u001b[0m\u001b[0m\n\u001b[0m\u001b[1;32m      3\u001b[0m \u001b[0mtfd\u001b[0m \u001b[0;34m=\u001b[0m \u001b[0mtfp\u001b[0m\u001b[0;34m.\u001b[0m\u001b[0mdistributions\u001b[0m\u001b[0;34m\u001b[0m\u001b[0;34m\u001b[0m\u001b[0m\n\u001b[1;32m      4\u001b[0m \u001b[0;34m\u001b[0m\u001b[0m\n\u001b[1;32m      5\u001b[0m \u001b[0;32mdef\u001b[0m \u001b[0mmake_likelihood\u001b[0m\u001b[0;34m(\u001b[0m\u001b[0mtrue_variances\u001b[0m\u001b[0;34m)\u001b[0m\u001b[0;34m:\u001b[0m\u001b[0;34m\u001b[0m\u001b[0;34m\u001b[0m\u001b[0m\n",
      "\u001b[0;32m~/miniconda3/envs/ml/lib/python3.6/site-packages/tensorflow_probability/__init__.py\u001b[0m in \u001b[0;36m<module>\u001b[0;34m\u001b[0m\n\u001b[1;32m     66\u001b[0m \u001b[0;34m\u001b[0m\u001b[0m\n\u001b[1;32m     67\u001b[0m \u001b[0;34m\u001b[0m\u001b[0m\n\u001b[0;32m---> 68\u001b[0;31m \u001b[0m_ensure_tf_install\u001b[0m\u001b[0;34m(\u001b[0m\u001b[0;34m)\u001b[0m\u001b[0;34m\u001b[0m\u001b[0;34m\u001b[0m\u001b[0m\n\u001b[0m\u001b[1;32m     69\u001b[0m \u001b[0;34m\u001b[0m\u001b[0m\n\u001b[1;32m     70\u001b[0m \u001b[0;34m\u001b[0m\u001b[0m\n",
      "\u001b[0;32m~/miniconda3/envs/ml/lib/python3.6/site-packages/tensorflow_probability/__init__.py\u001b[0m in \u001b[0;36m_ensure_tf_install\u001b[0;34m()\u001b[0m\n\u001b[1;32m     63\u001b[0m         \"Please upgrade TensorFlow to proceed.\".format(\n\u001b[1;32m     64\u001b[0m             \u001b[0mrequired\u001b[0m\u001b[0;34m=\u001b[0m\u001b[0mrequired_tensorflow_version\u001b[0m\u001b[0;34m,\u001b[0m\u001b[0;34m\u001b[0m\u001b[0;34m\u001b[0m\u001b[0m\n\u001b[0;32m---> 65\u001b[0;31m             present=tf.__version__))\n\u001b[0m\u001b[1;32m     66\u001b[0m \u001b[0;34m\u001b[0m\u001b[0m\n\u001b[1;32m     67\u001b[0m \u001b[0;34m\u001b[0m\u001b[0m\n",
      "\u001b[0;31mImportError\u001b[0m: This version of TensorFlow Probability requires TensorFlow version >= 1.13.1; Detected an installation of version 1.10.0. Please upgrade TensorFlow to proceed."
     ]
    }
   ],
   "source": [
    "import tensorflow as tf\n",
    "import tensorflow_probability as tfp\n",
    "tfd = tfp.distributions\n",
    "\n",
    "def make_likelihood(true_variances):\n",
    "    return tfd.MultivariateNormalDiag(\n",
    "        scale_diag=tf.sqrt(true_variances))\n",
    "\n",
    "dims = 10\n",
    "dtype = np.float32\n",
    "true_variances = tf.linspace(dtype(1), dtype(3), dims)\n",
    "likelihood = make_likelihood(true_variances)"
   ]
  },
  {
   "cell_type": "code",
   "execution_count": null,
   "metadata": {},
   "outputs": [],
   "source": [
    "\n",
    "states, kernel_results = tfp.mcmc.sample_chain(\n",
    "    num_results=1000,\n",
    "    current_state=tf.zeros(dims),\n",
    "    kernel=tfp.mcmc.HamiltonianMonteCarlo(\n",
    "      target_log_prob_fn=likelihood.log_prob,\n",
    "      step_size=0.5,\n",
    "      num_leapfrog_steps=2),\n",
    "    num_burnin_steps=500)\n",
    "\n",
    "# Compute sample stats.\n",
    "sample_mean = tf.reduce_mean(states, axis=0)\n",
    "sample_var = tf.reduce_mean(\n",
    "    tf.squared_difference(states, sample_mean),\n",
    "    axis=0)\n"
   ]
  }
 ],
 "metadata": {
  "kernelspec": {
   "display_name": "Python (ML)",
   "language": "python",
   "name": "ml"
  },
  "language_info": {
   "codemirror_mode": {
    "name": "ipython",
    "version": 3
   },
   "file_extension": ".py",
   "mimetype": "text/x-python",
   "name": "python",
   "nbconvert_exporter": "python",
   "pygments_lexer": "ipython3",
   "version": "3.6.8"
  }
 },
 "nbformat": 4,
 "nbformat_minor": 2
}
