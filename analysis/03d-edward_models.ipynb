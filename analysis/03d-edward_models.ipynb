{
 "cells": [
  {
   "cell_type": "markdown",
   "metadata": {},
   "source": [
    "# Structured hierarchical models\n",
    "\n",
    "The goal of this project is to model essential genes for multiple conditions given that we have prior knowledge about functional relations of these genes. We extend the model from before to:\n",
    "\n",
    "\\begin{align}\n",
    "\\boldsymbol \\pi & \\sim \\text{Dirichlet}(0.5, 0.5) \\\\\n",
    "z_g & \\sim \\text{Categorical}(\\boldsymbol \\pi) \\\\\n",
    "\\tau^2 & \\sim P(\\cdot) \\\\\n",
    "\\mu_{z_g} & \\sim \\mathcal{N}(0, 1) \\\\\n",
    "\\gamma_g \\mid z_g &  \\sim \\mathcal{N}(\\mu_{z_g}, \\tau^2) \\\\\n",
    "\\beta_{vg} \\mid \\gamma_g &  \\sim \\mathcal{N}(\\gamma_g, \\tau^2) \\\\\n",
    "l_{vg} & \\sim \\text{Gamma}(1, 1) \\\\\n",
    "x_{svg} \\mid \\beta_{vg} &  \\sim \\text{Pois}\\left(l_{vg} \\cdot \\exp \\left( \\beta_{vg} \\right) \\right) \\\\\n",
    "\\end{align}"
   ]
  },
  {
   "cell_type": "code",
   "execution_count": 5,
   "metadata": {},
   "outputs": [],
   "source": [
    "import warnings\n",
    "warnings.filterwarnings(\"ignore\")"
   ]
  },
  {
   "cell_type": "code",
   "execution_count": 34,
   "metadata": {},
   "outputs": [],
   "source": [
    "import pandas as pd\n",
    "import numpy as np\n",
    "import scipy as sp\n",
    "import tensorflow as tf\n",
    "import tensorflow_probability as tfp\n",
    "from tensorflow_probability import distributions as tfd\n",
    "from tensorflow_probability import edward2 as ed"
   ]
  },
  {
   "cell_type": "code",
   "execution_count": 3,
   "metadata": {},
   "outputs": [],
   "source": [
    "from sklearn import preprocessing"
   ]
  },
  {
   "cell_type": "code",
   "execution_count": 6,
   "metadata": {},
   "outputs": [],
   "source": [
    "%matplotlib inline\n",
    "from matplotlib import pyplot as plt\n",
    "import seaborn as sns\n",
    "import arviz as az\n",
    "\n",
    "sns.set_style(\n",
    "    \"white\", \n",
    "    {'xtick.bottom': True,\n",
    "     'ytick.left': True,\n",
    "     'axes.spines.top': False, \n",
    "     'axes.spines.right': False})"
   ]
  },
  {
   "cell_type": "markdown",
   "metadata": {},
   "source": [
    "## Simulated data"
   ]
  },
  {
   "cell_type": "code",
   "execution_count": 7,
   "metadata": {},
   "outputs": [],
   "source": [
    "seed = 42\n",
    "np.random.seed(seed)"
   ]
  },
  {
   "cell_type": "code",
   "execution_count": 8,
   "metadata": {},
   "outputs": [],
   "source": [
    "conditions = [\"C\" + str(i) for i in range(2)]\n",
    "genes = [\"G\" + str(i) for i in range(2)]\n",
    "sgrnas = [\"S\" + str(i) for i in range(2)]\n",
    "replicates = [\"R\" + str(i) for i in range(2)]"
   ]
  },
  {
   "cell_type": "code",
   "execution_count": 9,
   "metadata": {},
   "outputs": [],
   "source": [
    "combinations = [(g, c, s, r) \\\n",
    "     for g in genes for c in conditions \\\n",
    "     for s in sgrnas for r in replicates]"
   ]
  },
  {
   "cell_type": "code",
   "execution_count": 33,
   "metadata": {},
   "outputs": [
    {
     "data": {
      "text/plain": [
       "[('G0', 'C0', 'S0', 'R0'),\n",
       " ('G0', 'C0', 'S0', 'R1'),\n",
       " ('G0', 'C0', 'S1', 'R0'),\n",
       " ('G0', 'C0', 'S1', 'R1'),\n",
       " ('G0', 'C1', 'S0', 'R0'),\n",
       " ('G0', 'C1', 'S0', 'R1'),\n",
       " ('G0', 'C1', 'S1', 'R0'),\n",
       " ('G0', 'C1', 'S1', 'R1'),\n",
       " ('G1', 'C0', 'S0', 'R0'),\n",
       " ('G1', 'C0', 'S0', 'R1'),\n",
       " ('G1', 'C0', 'S1', 'R0'),\n",
       " ('G1', 'C0', 'S1', 'R1'),\n",
       " ('G1', 'C1', 'S0', 'R0'),\n",
       " ('G1', 'C1', 'S0', 'R1'),\n",
       " ('G1', 'C1', 'S1', 'R0'),\n",
       " ('G1', 'C1', 'S1', 'R1')]"
      ]
     },
     "execution_count": 33,
     "metadata": {},
     "output_type": "execute_result"
    }
   ],
   "source": [
    "combinations"
   ]
  },
  {
   "cell_type": "code",
   "execution_count": 10,
   "metadata": {},
   "outputs": [],
   "source": [
    "count_table = pd.DataFrame(\n",
    "    combinations, \n",
    "    columns=[\"genes\", \"conditions\", \"sgrnas\", \"replicates\"])"
   ]
  },
  {
   "cell_type": "code",
   "execution_count": 11,
   "metadata": {},
   "outputs": [
    {
     "data": {
      "text/plain": [
       "array([0.06671342])"
      ]
     },
     "execution_count": 11,
     "metadata": {},
     "output_type": "execute_result"
    }
   ],
   "source": [
    "tau_true = sp.stats.halfcauchy.rvs(0, .1, size=1)\n",
    "tau_true"
   ]
  },
  {
   "cell_type": "code",
   "execution_count": 15,
   "metadata": {},
   "outputs": [
    {
     "data": {
      "text/plain": [
       "array([0.6, 6. ])"
      ]
     },
     "execution_count": 15,
     "metadata": {},
     "output_type": "execute_result"
    }
   ],
   "source": [
    "gamma_true = sp.array([.6, 6])\n",
    "gamma_true"
   ]
  },
  {
   "cell_type": "code",
   "execution_count": 16,
   "metadata": {},
   "outputs": [
    {
     "data": {
      "text/plain": [
       "array([0.42570791, 0.66340242, 6.05446785, 5.89833701])"
      ]
     },
     "execution_count": 16,
     "metadata": {},
     "output_type": "execute_result"
    }
   ],
   "source": [
    "beta_true = sp.stats.norm.rvs(\n",
    "    np.repeat(gamma_true, len(conditions)), tau_true)\n",
    "beta_true"
   ]
  },
  {
   "cell_type": "code",
   "execution_count": 29,
   "metadata": {},
   "outputs": [
    {
     "data": {
      "text/plain": [
       "array([0.58874613, 1.67074132, 1.10194583, 2.63437244, 0.49556681,\n",
       "       0.72060644, 0.67563104, 0.23142141])"
      ]
     },
     "execution_count": 29,
     "metadata": {},
     "output_type": "execute_result"
    }
   ],
   "source": [
    "l_true = sp.stats.lognorm.rvs(\n",
    "    1, size= len(conditions) * len(genes) * len(sgrnas))\n",
    "l_true"
   ]
  },
  {
   "cell_type": "code",
   "execution_count": 30,
   "metadata": {},
   "outputs": [
    {
     "data": {
      "text/plain": [
       "array([0, 0, 1, 1, 2, 2, 3, 3, 4, 4, 5, 5, 6, 6, 7, 7])"
      ]
     },
     "execution_count": 30,
     "metadata": {},
     "output_type": "execute_result"
    }
   ],
   "source": [
    "l_idx = np.repeat(range(len(l_true)), len(replicates))\n",
    "l_idx"
   ]
  },
  {
   "cell_type": "code",
   "execution_count": 32,
   "metadata": {},
   "outputs": [
    {
     "data": {
      "text/plain": [
       "array([0, 0, 0, 0, 1, 1, 1, 1, 2, 2, 2, 2, 3, 3, 3, 3])"
      ]
     },
     "execution_count": 32,
     "metadata": {},
     "output_type": "execute_result"
    }
   ],
   "source": [
    "beta_idx = np.repeat(range(len(beta_true)),\n",
    "                     len(sgrnas) * len(replicates))\n",
    "beta_idx"
   ]
  },
  {
   "cell_type": "code",
   "execution_count": 27,
   "metadata": {},
   "outputs": [
    {
     "data": {
      "text/plain": [
       "array([   1,    1,    1,    1,    0,    4,    1,    0,    0,    0,    4,\n",
       "          3,   20,   30,    2,    1,  509,  470,  245,  265,  255,  213,\n",
       "       1125, 1126,  489,  475,  215,  189,  121,  124,  343,  317])"
      ]
     },
     "execution_count": 27,
     "metadata": {},
     "output_type": "execute_result"
    }
   ],
   "source": [
    "counts = sp.stats.poisson.rvs(\n",
    "    l_true[l_idx] * np.exp(beta_true[beta_idx]))\n",
    "counts"
   ]
  },
  {
   "cell_type": "markdown",
   "metadata": {},
   "source": [
    "## Model 1"
   ]
  },
  {
   "cell_type": "code",
   "execution_count": 88,
   "metadata": {},
   "outputs": [
    {
     "data": {
      "image/png": "[encoded data removed]",
      "text/plain": [
       "<Figure size 432x288 with 1 Axes>"
      ]
     },
     "metadata": {},
     "output_type": "display_data"
    }
   ],
   "source": [
    "d = tfd.InverseGamma(5, 1).sample(10000)\n",
    "with tf.Session() as sess:\n",
    "    sample = sess.run(d)\n",
    "plt.hist(sample, bins=100);"
   ]
  },
  {
   "cell_type": "code",
   "execution_count": null,
   "metadata": {},
   "outputs": [],
   "source": [
    "def easy_model(data_dim,\n",
    "               latent_dim, \n",
    "               num_datapoints, \n",
    "               stddv_datapoints):\n",
    "    gamma_tau = ed.InverseGamma(10, 1, name=\"g_tau\")\n",
    "    gamma = ed.Normal(tf.zeros(len_g), gamma_tau, name=\"g\")\n",
    "    \n",
    "    beta_tau = ed.InverseGamma(5, 1, name=\"b_tau\")\n",
    "    beta_f = ed.Normal(tf.zeros(len_beta), beta_tau, name=\"beta_f\")\n",
    "    beta = ed.Deterministic('beta', beta_tau * beta_f +  gamma)\n",
    "    \n",
    "      z = ed.Normal(loc=tf.zeros([latent_dim, num_datapoints]),\n",
    "                    scale=tf.ones([latent_dim, num_datapoints]), \n",
    "                    name=\"z\")  # parameter\n",
    "      x = ed.Normal(loc=tf.matmul(w, z),\n",
    "                    scale=stddv_datapoints * \n",
    "                    tf.ones([data_dim, num_datapoints]),\n",
    "                    name=\"x\")  # (modeled) data\n",
    "      return x, (w, z)\n",
    "\n",
    "log_joint = ed.make_log_joint_fn(probabilistic_pca)"
   ]
  }
 ],
 "metadata": {
  "kernelspec": {
   "display_name": "Python (TF)",
   "language": "python",
   "name": "python3"
  },
  "language_info": {
   "codemirror_mode": {
    "name": "ipython",
    "version": 3
   },
   "file_extension": ".py",
   "mimetype": "text/x-python",
   "name": "python",
   "nbconvert_exporter": "python",
   "pygments_lexer": "ipython3",
   "version": "3.6.7"
  }
 },
 "nbformat": 4,
 "nbformat_minor": 2
}
