{
 "cells": [
  {
   "cell_type": "markdown",
   "metadata": {},
   "source": [
    "# Structured hierarchical linear models\n",
    "\n",
    "This project proposes a family of models, the *structured hierarchical linear model*, in order to incorporate biological prior knowledge into probabilistic models. The models can be easily described as:\n",
    "\n",
    "\\begin{align}\n",
    "\\mathbf{z} & \\sim \\text{MRF} \\\\\n",
    "\\tau^2_g & \\sim \\text{Inverse-Gamma}(2, 1) \\\\\n",
    "\\mu_{z_g} & \\sim \\mathcal{N}(0, 1) \\\\\n",
    "\\gamma_g \\mid z_g &  \\sim \\mathcal{N}(\\mu_{z_g}, \\tau^2_{z_g}) \\\\\n",
    "\\mathbf{y} \\mid \\boldsymbol \\gamma & \\sim \\text{HM}(\\mathbf{y} \\mid \\gamma)\\\\\n",
    "\\end{align}\n",
    "\n",
    "The MRF is encoded as Potts-model. The HM can either be linear (this notebook) or nonlinear ([this notebook](./01b-hierarchical_nonlinear_model.ipynb))."
   ]
  },
  {
   "cell_type": "markdown",
   "metadata": {},
   "source": [
    "## SHMs for inferring pan-cellline essential genes\n",
    "\n",
    "We apply our model to infer essential pan-cellline genes from CRISPR genes:\n",
    "\n",
    "\\begin{align}\n",
    "\\mathbf{z} & \\sim \\text{MRF} \\\\\n",
    "\\tau^2_g & \\sim \\text{Inverse-Gamma}(2, 1) \\\\\n",
    "\\mu_{z_g} & \\sim \\mathcal{N}(0, 1) \\\\\n",
    "\\gamma_g \\mid z_g &  \\sim \\mathcal{N}(\\mu_{z_g}, \\tau^2_{z_g}) \\\\\n",
    "\\tau^2_c & \\sim \\text{Inverse-Gamma}(2, 1) \\\\\n",
    "\\beta_{gc} \\mid \\gamma_g & \\sim \\mathcal{N}(\\gamma_g, \\tau_c^2) \\\\\n",
    "l_{s} & \\sim \\text{Normal}(0, 1) \\\\\n",
    "\\sigma & \\sim \\text{Half-Cauchy}(0, 3)\\\\\n",
    "x_{gcs} \\mid \\beta_{cg}, l_s & \\sim \\mathcal{N}\\left(l_{s} + o_s \\cdot \\beta_{cg}, \\sigma^2 \\right) \\\\\n",
    "\\end{align}\n",
    "\n",
    "where we use $l_s$ as sgRNA correction factor and $o_s$ to model its binding affinity. Noise is expected to me homoscedastic. We compare the model against a model that does not have the clustering in the latent space and one that has a classical clustering model on the latent space."
   ]
  },
  {
   "cell_type": "code",
   "execution_count": 1,
   "metadata": {},
   "outputs": [],
   "source": [
    "import shm\n",
    "import numpy\n",
    "import networkx\n",
    "import matplotlib\n",
    "import seaborn as sns\n",
    "import pandas as pd\n",
    "import pickle\n",
    "import pymc3 as pm"
   ]
  },
  {
   "cell_type": "code",
   "execution_count": 2,
   "metadata": {},
   "outputs": [],
   "source": [
    "import arviz as az\n",
    "import shm.plot as sp\n",
    "import matplotlib.pyplot as plt\n",
    "import seaborn as sns\n",
    "from shm.models.hlm import HLM"
   ]
  },
  {
   "cell_type": "code",
   "execution_count": 3,
   "metadata": {},
   "outputs": [],
   "source": [
    "import os"
   ]
  },
  {
   "cell_type": "code",
   "execution_count": 4,
   "metadata": {},
   "outputs": [],
   "source": [
    "from pymc3 import model_to_graphviz"
   ]
  },
  {
   "cell_type": "code",
   "execution_count": 5,
   "metadata": {},
   "outputs": [
    {
     "name": "stdout",
     "output_type": "stream",
     "text": [
      "Populating the interactive namespace from numpy and matplotlib\n"
     ]
    }
   ],
   "source": [
    "%pylab inline\n",
    "pylab.rcParams['figure.figsize'] = (12, 3)"
   ]
  },
  {
   "cell_type": "code",
   "execution_count": 6,
   "metadata": {},
   "outputs": [],
   "source": [
    "sns.set_style(\n",
    "  \"white\",\n",
    "  {\n",
    "      \"xtick.bottom\": True,\n",
    "      \"ytick.left\": True,\n",
    "      \"axes.spines.top\": False,\n",
    "      \"axes.spines.right\": False,\n",
    "  },\n",
    ")"
   ]
  },
  {
   "cell_type": "code",
   "execution_count": 7,
   "metadata": {},
   "outputs": [],
   "source": [
    "def read_graph(infile):\n",
    "    with open(infile, \"rb\") as fh:\n",
    "        G = pickle.load(fh)\n",
    "    return G"
   ]
  },
  {
   "cell_type": "code",
   "execution_count": 8,
   "metadata": {},
   "outputs": [],
   "source": [
    "suffix = \"four_bad_sgrnas\""
   ]
  },
  {
   "cell_type": "markdown",
   "metadata": {},
   "source": [
    "# Model evaluation"
   ]
  },
  {
   "cell_type": "code",
   "execution_count": 9,
   "metadata": {},
   "outputs": [],
   "source": [
    "readout_file = \"../data_raw/{}-simulated_data.tsv\".format(suffix)\n",
    "graph_file = \"../data_raw/{}-graph.pickle\".format(suffix)\n",
    "data_file = \"../data_raw/{}-data.pickle\".format(suffix)"
   ]
  },
  {
   "cell_type": "code",
   "execution_count": 10,
   "metadata": {},
   "outputs": [],
   "source": [
    "with open(data_file, \"rb\") as fh:    \n",
    "    data = pickle.load(fh)"
   ]
  },
  {
   "cell_type": "code",
   "execution_count": 11,
   "metadata": {},
   "outputs": [],
   "source": [
    "readout = pd.read_csv(readout_file, sep=\"\\t\")\n",
    "G = read_graph(graph_file)"
   ]
  },
  {
   "cell_type": "code",
   "execution_count": 25,
   "metadata": {},
   "outputs": [
    {
     "data": {
      "text/html": [
       "<div>\n",
       "<style scoped>\n",
       "    .dataframe tbody tr th:only-of-type {\n",
       "        vertical-align: middle;\n",
       "    }\n",
       "\n",
       "    .dataframe tbody tr th {\n",
       "        vertical-align: top;\n",
       "    }\n",
       "\n",
       "    .dataframe thead th {\n",
       "        text-align: right;\n",
       "    }\n",
       "</style>\n",
       "<table border=\"1\" class=\"dataframe\">\n",
       "  <thead>\n",
       "    <tr style=\"text-align: right;\">\n",
       "      <th></th>\n",
       "      <th>gene</th>\n",
       "      <th>condition</th>\n",
       "      <th>intervention</th>\n",
       "      <th>replicate</th>\n",
       "      <th>gene_conditions</th>\n",
       "      <th>gamma</th>\n",
       "      <th>beta</th>\n",
       "      <th>affinity</th>\n",
       "      <th>l</th>\n",
       "      <th>readout</th>\n",
       "    </tr>\n",
       "  </thead>\n",
       "  <tbody>\n",
       "    <tr>\n",
       "      <th>0</th>\n",
       "      <td>POLR1B</td>\n",
       "      <td>C0</td>\n",
       "      <td>S0</td>\n",
       "      <td>R0</td>\n",
       "      <td>POLR1B-C0</td>\n",
       "      <td>-0.837565</td>\n",
       "      <td>0.028559</td>\n",
       "      <td>0.1</td>\n",
       "      <td>0.0</td>\n",
       "      <td>-0.001094</td>\n",
       "    </tr>\n",
       "    <tr>\n",
       "      <th>1</th>\n",
       "      <td>POLR1B</td>\n",
       "      <td>C0</td>\n",
       "      <td>S0</td>\n",
       "      <td>R1</td>\n",
       "      <td>POLR1B-C0</td>\n",
       "      <td>-0.837565</td>\n",
       "      <td>0.028559</td>\n",
       "      <td>0.1</td>\n",
       "      <td>0.0</td>\n",
       "      <td>-0.091094</td>\n",
       "    </tr>\n",
       "    <tr>\n",
       "      <th>2</th>\n",
       "      <td>POLR1B</td>\n",
       "      <td>C0</td>\n",
       "      <td>S0</td>\n",
       "      <td>R2</td>\n",
       "      <td>POLR1B-C0</td>\n",
       "      <td>-0.837565</td>\n",
       "      <td>0.028559</td>\n",
       "      <td>0.1</td>\n",
       "      <td>0.0</td>\n",
       "      <td>-0.006565</td>\n",
       "    </tr>\n",
       "    <tr>\n",
       "      <th>3</th>\n",
       "      <td>POLR1B</td>\n",
       "      <td>C0</td>\n",
       "      <td>S0</td>\n",
       "      <td>R3</td>\n",
       "      <td>POLR1B-C0</td>\n",
       "      <td>-0.837565</td>\n",
       "      <td>0.028559</td>\n",
       "      <td>0.1</td>\n",
       "      <td>0.0</td>\n",
       "      <td>-0.231858</td>\n",
       "    </tr>\n",
       "    <tr>\n",
       "      <th>4</th>\n",
       "      <td>POLR1B</td>\n",
       "      <td>C0</td>\n",
       "      <td>S0</td>\n",
       "      <td>R4</td>\n",
       "      <td>POLR1B-C0</td>\n",
       "      <td>-0.837565</td>\n",
       "      <td>0.028559</td>\n",
       "      <td>0.1</td>\n",
       "      <td>0.0</td>\n",
       "      <td>-0.188972</td>\n",
       "    </tr>\n",
       "    <tr>\n",
       "      <th>5</th>\n",
       "      <td>POLR1B</td>\n",
       "      <td>C0</td>\n",
       "      <td>S1</td>\n",
       "      <td>R0</td>\n",
       "      <td>POLR1B-C0</td>\n",
       "      <td>-0.837565</td>\n",
       "      <td>0.028559</td>\n",
       "      <td>0.1</td>\n",
       "      <td>0.0</td>\n",
       "      <td>-0.008353</td>\n",
       "    </tr>\n",
       "    <tr>\n",
       "      <th>6</th>\n",
       "      <td>POLR1B</td>\n",
       "      <td>C0</td>\n",
       "      <td>S1</td>\n",
       "      <td>R1</td>\n",
       "      <td>POLR1B-C0</td>\n",
       "      <td>-0.837565</td>\n",
       "      <td>0.028559</td>\n",
       "      <td>0.1</td>\n",
       "      <td>0.0</td>\n",
       "      <td>-0.084818</td>\n",
       "    </tr>\n",
       "    <tr>\n",
       "      <th>7</th>\n",
       "      <td>POLR1B</td>\n",
       "      <td>C0</td>\n",
       "      <td>S1</td>\n",
       "      <td>R2</td>\n",
       "      <td>POLR1B-C0</td>\n",
       "      <td>-0.837565</td>\n",
       "      <td>0.028559</td>\n",
       "      <td>0.1</td>\n",
       "      <td>0.0</td>\n",
       "      <td>-0.103776</td>\n",
       "    </tr>\n",
       "    <tr>\n",
       "      <th>8</th>\n",
       "      <td>POLR1B</td>\n",
       "      <td>C0</td>\n",
       "      <td>S1</td>\n",
       "      <td>R3</td>\n",
       "      <td>POLR1B-C0</td>\n",
       "      <td>-0.837565</td>\n",
       "      <td>0.028559</td>\n",
       "      <td>0.1</td>\n",
       "      <td>0.0</td>\n",
       "      <td>-0.098862</td>\n",
       "    </tr>\n",
       "    <tr>\n",
       "      <th>9</th>\n",
       "      <td>POLR1B</td>\n",
       "      <td>C0</td>\n",
       "      <td>S1</td>\n",
       "      <td>R4</td>\n",
       "      <td>POLR1B-C0</td>\n",
       "      <td>-0.837565</td>\n",
       "      <td>0.028559</td>\n",
       "      <td>0.1</td>\n",
       "      <td>0.0</td>\n",
       "      <td>-0.030728</td>\n",
       "    </tr>\n",
       "    <tr>\n",
       "      <th>10</th>\n",
       "      <td>POLR1B</td>\n",
       "      <td>C0</td>\n",
       "      <td>S2</td>\n",
       "      <td>R0</td>\n",
       "      <td>POLR1B-C0</td>\n",
       "      <td>-0.837565</td>\n",
       "      <td>0.028559</td>\n",
       "      <td>0.1</td>\n",
       "      <td>0.0</td>\n",
       "      <td>-0.140235</td>\n",
       "    </tr>\n",
       "    <tr>\n",
       "      <th>11</th>\n",
       "      <td>POLR1B</td>\n",
       "      <td>C0</td>\n",
       "      <td>S2</td>\n",
       "      <td>R1</td>\n",
       "      <td>POLR1B-C0</td>\n",
       "      <td>-0.837565</td>\n",
       "      <td>0.028559</td>\n",
       "      <td>0.1</td>\n",
       "      <td>0.0</td>\n",
       "      <td>-0.029870</td>\n",
       "    </tr>\n",
       "    <tr>\n",
       "      <th>12</th>\n",
       "      <td>POLR1B</td>\n",
       "      <td>C0</td>\n",
       "      <td>S2</td>\n",
       "      <td>R2</td>\n",
       "      <td>POLR1B-C0</td>\n",
       "      <td>-0.837565</td>\n",
       "      <td>0.028559</td>\n",
       "      <td>0.1</td>\n",
       "      <td>0.0</td>\n",
       "      <td>-0.172480</td>\n",
       "    </tr>\n",
       "    <tr>\n",
       "      <th>13</th>\n",
       "      <td>POLR1B</td>\n",
       "      <td>C0</td>\n",
       "      <td>S2</td>\n",
       "      <td>R3</td>\n",
       "      <td>POLR1B-C0</td>\n",
       "      <td>-0.837565</td>\n",
       "      <td>0.028559</td>\n",
       "      <td>0.1</td>\n",
       "      <td>0.0</td>\n",
       "      <td>-0.121626</td>\n",
       "    </tr>\n",
       "    <tr>\n",
       "      <th>14</th>\n",
       "      <td>POLR1B</td>\n",
       "      <td>C0</td>\n",
       "      <td>S2</td>\n",
       "      <td>R4</td>\n",
       "      <td>POLR1B-C0</td>\n",
       "      <td>-0.837565</td>\n",
       "      <td>0.028559</td>\n",
       "      <td>0.1</td>\n",
       "      <td>0.0</td>\n",
       "      <td>0.017594</td>\n",
       "    </tr>\n",
       "    <tr>\n",
       "      <th>15</th>\n",
       "      <td>POLR1B</td>\n",
       "      <td>C0</td>\n",
       "      <td>S3</td>\n",
       "      <td>R0</td>\n",
       "      <td>POLR1B-C0</td>\n",
       "      <td>-0.837565</td>\n",
       "      <td>0.028559</td>\n",
       "      <td>0.1</td>\n",
       "      <td>0.0</td>\n",
       "      <td>0.026225</td>\n",
       "    </tr>\n",
       "    <tr>\n",
       "      <th>16</th>\n",
       "      <td>POLR1B</td>\n",
       "      <td>C0</td>\n",
       "      <td>S3</td>\n",
       "      <td>R1</td>\n",
       "      <td>POLR1B-C0</td>\n",
       "      <td>-0.837565</td>\n",
       "      <td>0.028559</td>\n",
       "      <td>0.1</td>\n",
       "      <td>0.0</td>\n",
       "      <td>-0.190616</td>\n",
       "    </tr>\n",
       "    <tr>\n",
       "      <th>17</th>\n",
       "      <td>POLR1B</td>\n",
       "      <td>C0</td>\n",
       "      <td>S3</td>\n",
       "      <td>R2</td>\n",
       "      <td>POLR1B-C0</td>\n",
       "      <td>-0.837565</td>\n",
       "      <td>0.028559</td>\n",
       "      <td>0.1</td>\n",
       "      <td>0.0</td>\n",
       "      <td>0.002963</td>\n",
       "    </tr>\n",
       "    <tr>\n",
       "      <th>18</th>\n",
       "      <td>POLR1B</td>\n",
       "      <td>C0</td>\n",
       "      <td>S3</td>\n",
       "      <td>R3</td>\n",
       "      <td>POLR1B-C0</td>\n",
       "      <td>-0.837565</td>\n",
       "      <td>0.028559</td>\n",
       "      <td>0.1</td>\n",
       "      <td>0.0</td>\n",
       "      <td>-0.184819</td>\n",
       "    </tr>\n",
       "    <tr>\n",
       "      <th>19</th>\n",
       "      <td>POLR1B</td>\n",
       "      <td>C0</td>\n",
       "      <td>S3</td>\n",
       "      <td>R4</td>\n",
       "      <td>POLR1B-C0</td>\n",
       "      <td>-0.837565</td>\n",
       "      <td>0.028559</td>\n",
       "      <td>0.1</td>\n",
       "      <td>0.0</td>\n",
       "      <td>-0.007598</td>\n",
       "    </tr>\n",
       "    <tr>\n",
       "      <th>20</th>\n",
       "      <td>POLR1B</td>\n",
       "      <td>C0</td>\n",
       "      <td>S4</td>\n",
       "      <td>R0</td>\n",
       "      <td>POLR1B-C0</td>\n",
       "      <td>-0.837565</td>\n",
       "      <td>0.028559</td>\n",
       "      <td>1.0</td>\n",
       "      <td>0.0</td>\n",
       "      <td>-0.998888</td>\n",
       "    </tr>\n",
       "    <tr>\n",
       "      <th>21</th>\n",
       "      <td>POLR1B</td>\n",
       "      <td>C0</td>\n",
       "      <td>S4</td>\n",
       "      <td>R1</td>\n",
       "      <td>POLR1B-C0</td>\n",
       "      <td>-0.837565</td>\n",
       "      <td>0.028559</td>\n",
       "      <td>1.0</td>\n",
       "      <td>0.0</td>\n",
       "      <td>-0.920718</td>\n",
       "    </tr>\n",
       "    <tr>\n",
       "      <th>22</th>\n",
       "      <td>POLR1B</td>\n",
       "      <td>C0</td>\n",
       "      <td>S4</td>\n",
       "      <td>R2</td>\n",
       "      <td>POLR1B-C0</td>\n",
       "      <td>-0.837565</td>\n",
       "      <td>0.028559</td>\n",
       "      <td>1.0</td>\n",
       "      <td>0.0</td>\n",
       "      <td>-0.859904</td>\n",
       "    </tr>\n",
       "    <tr>\n",
       "      <th>23</th>\n",
       "      <td>POLR1B</td>\n",
       "      <td>C0</td>\n",
       "      <td>S4</td>\n",
       "      <td>R3</td>\n",
       "      <td>POLR1B-C0</td>\n",
       "      <td>-0.837565</td>\n",
       "      <td>0.028559</td>\n",
       "      <td>1.0</td>\n",
       "      <td>0.0</td>\n",
       "      <td>-0.825655</td>\n",
       "    </tr>\n",
       "    <tr>\n",
       "      <th>24</th>\n",
       "      <td>POLR1B</td>\n",
       "      <td>C0</td>\n",
       "      <td>S4</td>\n",
       "      <td>R4</td>\n",
       "      <td>POLR1B-C0</td>\n",
       "      <td>-0.837565</td>\n",
       "      <td>0.028559</td>\n",
       "      <td>1.0</td>\n",
       "      <td>0.0</td>\n",
       "      <td>-0.666645</td>\n",
       "    </tr>\n",
       "    <tr>\n",
       "      <th>25</th>\n",
       "      <td>POLR1B</td>\n",
       "      <td>C1</td>\n",
       "      <td>S5</td>\n",
       "      <td>R0</td>\n",
       "      <td>POLR1B-C1</td>\n",
       "      <td>-0.837565</td>\n",
       "      <td>0.088514</td>\n",
       "      <td>1.0</td>\n",
       "      <td>0.0</td>\n",
       "      <td>-0.658651</td>\n",
       "    </tr>\n",
       "    <tr>\n",
       "      <th>26</th>\n",
       "      <td>POLR1B</td>\n",
       "      <td>C1</td>\n",
       "      <td>S5</td>\n",
       "      <td>R1</td>\n",
       "      <td>POLR1B-C1</td>\n",
       "      <td>-0.837565</td>\n",
       "      <td>0.088514</td>\n",
       "      <td>1.0</td>\n",
       "      <td>0.0</td>\n",
       "      <td>-0.591505</td>\n",
       "    </tr>\n",
       "    <tr>\n",
       "      <th>27</th>\n",
       "      <td>POLR1B</td>\n",
       "      <td>C1</td>\n",
       "      <td>S5</td>\n",
       "      <td>R2</td>\n",
       "      <td>POLR1B-C1</td>\n",
       "      <td>-0.837565</td>\n",
       "      <td>0.088514</td>\n",
       "      <td>1.0</td>\n",
       "      <td>0.0</td>\n",
       "      <td>-0.628391</td>\n",
       "    </tr>\n",
       "    <tr>\n",
       "      <th>28</th>\n",
       "      <td>POLR1B</td>\n",
       "      <td>C1</td>\n",
       "      <td>S5</td>\n",
       "      <td>R3</td>\n",
       "      <td>POLR1B-C1</td>\n",
       "      <td>-0.837565</td>\n",
       "      <td>0.088514</td>\n",
       "      <td>1.0</td>\n",
       "      <td>0.0</td>\n",
       "      <td>-0.777338</td>\n",
       "    </tr>\n",
       "    <tr>\n",
       "      <th>29</th>\n",
       "      <td>POLR1B</td>\n",
       "      <td>C1</td>\n",
       "      <td>S5</td>\n",
       "      <td>R4</td>\n",
       "      <td>POLR1B-C1</td>\n",
       "      <td>-0.837565</td>\n",
       "      <td>0.088514</td>\n",
       "      <td>1.0</td>\n",
       "      <td>0.0</td>\n",
       "      <td>-0.775684</td>\n",
       "    </tr>\n",
       "    <tr>\n",
       "      <th>...</th>\n",
       "      <td>...</td>\n",
       "      <td>...</td>\n",
       "      <td>...</td>\n",
       "      <td>...</td>\n",
       "      <td>...</td>\n",
       "      <td>...</td>\n",
       "      <td>...</td>\n",
       "      <td>...</td>\n",
       "      <td>...</td>\n",
       "      <td>...</td>\n",
       "    </tr>\n",
       "    <tr>\n",
       "      <th>1470</th>\n",
       "      <td>ITGA2</td>\n",
       "      <td>C0</td>\n",
       "      <td>S294</td>\n",
       "      <td>R0</td>\n",
       "      <td>ITGA2-C0</td>\n",
       "      <td>0.053036</td>\n",
       "      <td>0.012016</td>\n",
       "      <td>1.0</td>\n",
       "      <td>0.0</td>\n",
       "      <td>0.049546</td>\n",
       "    </tr>\n",
       "    <tr>\n",
       "      <th>1471</th>\n",
       "      <td>ITGA2</td>\n",
       "      <td>C0</td>\n",
       "      <td>S294</td>\n",
       "      <td>R1</td>\n",
       "      <td>ITGA2-C0</td>\n",
       "      <td>0.053036</td>\n",
       "      <td>0.012016</td>\n",
       "      <td>1.0</td>\n",
       "      <td>0.0</td>\n",
       "      <td>0.276314</td>\n",
       "    </tr>\n",
       "    <tr>\n",
       "      <th>1472</th>\n",
       "      <td>ITGA2</td>\n",
       "      <td>C0</td>\n",
       "      <td>S294</td>\n",
       "      <td>R2</td>\n",
       "      <td>ITGA2-C0</td>\n",
       "      <td>0.053036</td>\n",
       "      <td>0.012016</td>\n",
       "      <td>1.0</td>\n",
       "      <td>0.0</td>\n",
       "      <td>0.090659</td>\n",
       "    </tr>\n",
       "    <tr>\n",
       "      <th>1473</th>\n",
       "      <td>ITGA2</td>\n",
       "      <td>C0</td>\n",
       "      <td>S294</td>\n",
       "      <td>R3</td>\n",
       "      <td>ITGA2-C0</td>\n",
       "      <td>0.053036</td>\n",
       "      <td>0.012016</td>\n",
       "      <td>1.0</td>\n",
       "      <td>0.0</td>\n",
       "      <td>0.044375</td>\n",
       "    </tr>\n",
       "    <tr>\n",
       "      <th>1474</th>\n",
       "      <td>ITGA2</td>\n",
       "      <td>C0</td>\n",
       "      <td>S294</td>\n",
       "      <td>R4</td>\n",
       "      <td>ITGA2-C0</td>\n",
       "      <td>0.053036</td>\n",
       "      <td>0.012016</td>\n",
       "      <td>1.0</td>\n",
       "      <td>0.0</td>\n",
       "      <td>0.113311</td>\n",
       "    </tr>\n",
       "    <tr>\n",
       "      <th>1475</th>\n",
       "      <td>ITGA2</td>\n",
       "      <td>C1</td>\n",
       "      <td>S295</td>\n",
       "      <td>R0</td>\n",
       "      <td>ITGA2-C1</td>\n",
       "      <td>0.053036</td>\n",
       "      <td>0.061720</td>\n",
       "      <td>1.0</td>\n",
       "      <td>0.0</td>\n",
       "      <td>0.004213</td>\n",
       "    </tr>\n",
       "    <tr>\n",
       "      <th>1476</th>\n",
       "      <td>ITGA2</td>\n",
       "      <td>C1</td>\n",
       "      <td>S295</td>\n",
       "      <td>R1</td>\n",
       "      <td>ITGA2-C1</td>\n",
       "      <td>0.053036</td>\n",
       "      <td>0.061720</td>\n",
       "      <td>1.0</td>\n",
       "      <td>0.0</td>\n",
       "      <td>0.156831</td>\n",
       "    </tr>\n",
       "    <tr>\n",
       "      <th>1477</th>\n",
       "      <td>ITGA2</td>\n",
       "      <td>C1</td>\n",
       "      <td>S295</td>\n",
       "      <td>R2</td>\n",
       "      <td>ITGA2-C1</td>\n",
       "      <td>0.053036</td>\n",
       "      <td>0.061720</td>\n",
       "      <td>1.0</td>\n",
       "      <td>0.0</td>\n",
       "      <td>0.276435</td>\n",
       "    </tr>\n",
       "    <tr>\n",
       "      <th>1478</th>\n",
       "      <td>ITGA2</td>\n",
       "      <td>C1</td>\n",
       "      <td>S295</td>\n",
       "      <td>R3</td>\n",
       "      <td>ITGA2-C1</td>\n",
       "      <td>0.053036</td>\n",
       "      <td>0.061720</td>\n",
       "      <td>1.0</td>\n",
       "      <td>0.0</td>\n",
       "      <td>0.026379</td>\n",
       "    </tr>\n",
       "    <tr>\n",
       "      <th>1479</th>\n",
       "      <td>ITGA2</td>\n",
       "      <td>C1</td>\n",
       "      <td>S295</td>\n",
       "      <td>R4</td>\n",
       "      <td>ITGA2-C1</td>\n",
       "      <td>0.053036</td>\n",
       "      <td>0.061720</td>\n",
       "      <td>1.0</td>\n",
       "      <td>0.0</td>\n",
       "      <td>0.144639</td>\n",
       "    </tr>\n",
       "    <tr>\n",
       "      <th>1480</th>\n",
       "      <td>ITGA2</td>\n",
       "      <td>C1</td>\n",
       "      <td>S296</td>\n",
       "      <td>R0</td>\n",
       "      <td>ITGA2-C1</td>\n",
       "      <td>0.053036</td>\n",
       "      <td>0.061720</td>\n",
       "      <td>1.0</td>\n",
       "      <td>0.0</td>\n",
       "      <td>0.191467</td>\n",
       "    </tr>\n",
       "    <tr>\n",
       "      <th>1481</th>\n",
       "      <td>ITGA2</td>\n",
       "      <td>C1</td>\n",
       "      <td>S296</td>\n",
       "      <td>R1</td>\n",
       "      <td>ITGA2-C1</td>\n",
       "      <td>0.053036</td>\n",
       "      <td>0.061720</td>\n",
       "      <td>1.0</td>\n",
       "      <td>0.0</td>\n",
       "      <td>-0.054579</td>\n",
       "    </tr>\n",
       "    <tr>\n",
       "      <th>1482</th>\n",
       "      <td>ITGA2</td>\n",
       "      <td>C1</td>\n",
       "      <td>S296</td>\n",
       "      <td>R2</td>\n",
       "      <td>ITGA2-C1</td>\n",
       "      <td>0.053036</td>\n",
       "      <td>0.061720</td>\n",
       "      <td>1.0</td>\n",
       "      <td>0.0</td>\n",
       "      <td>0.278645</td>\n",
       "    </tr>\n",
       "    <tr>\n",
       "      <th>1483</th>\n",
       "      <td>ITGA2</td>\n",
       "      <td>C1</td>\n",
       "      <td>S296</td>\n",
       "      <td>R3</td>\n",
       "      <td>ITGA2-C1</td>\n",
       "      <td>0.053036</td>\n",
       "      <td>0.061720</td>\n",
       "      <td>1.0</td>\n",
       "      <td>0.0</td>\n",
       "      <td>0.010256</td>\n",
       "    </tr>\n",
       "    <tr>\n",
       "      <th>1484</th>\n",
       "      <td>ITGA2</td>\n",
       "      <td>C1</td>\n",
       "      <td>S296</td>\n",
       "      <td>R4</td>\n",
       "      <td>ITGA2-C1</td>\n",
       "      <td>0.053036</td>\n",
       "      <td>0.061720</td>\n",
       "      <td>1.0</td>\n",
       "      <td>0.0</td>\n",
       "      <td>0.081250</td>\n",
       "    </tr>\n",
       "    <tr>\n",
       "      <th>1485</th>\n",
       "      <td>ITGA2</td>\n",
       "      <td>C1</td>\n",
       "      <td>S297</td>\n",
       "      <td>R0</td>\n",
       "      <td>ITGA2-C1</td>\n",
       "      <td>0.053036</td>\n",
       "      <td>0.061720</td>\n",
       "      <td>1.0</td>\n",
       "      <td>0.0</td>\n",
       "      <td>0.152823</td>\n",
       "    </tr>\n",
       "    <tr>\n",
       "      <th>1486</th>\n",
       "      <td>ITGA2</td>\n",
       "      <td>C1</td>\n",
       "      <td>S297</td>\n",
       "      <td>R1</td>\n",
       "      <td>ITGA2-C1</td>\n",
       "      <td>0.053036</td>\n",
       "      <td>0.061720</td>\n",
       "      <td>1.0</td>\n",
       "      <td>0.0</td>\n",
       "      <td>0.091496</td>\n",
       "    </tr>\n",
       "    <tr>\n",
       "      <th>1487</th>\n",
       "      <td>ITGA2</td>\n",
       "      <td>C1</td>\n",
       "      <td>S297</td>\n",
       "      <td>R2</td>\n",
       "      <td>ITGA2-C1</td>\n",
       "      <td>0.053036</td>\n",
       "      <td>0.061720</td>\n",
       "      <td>1.0</td>\n",
       "      <td>0.0</td>\n",
       "      <td>0.195050</td>\n",
       "    </tr>\n",
       "    <tr>\n",
       "      <th>1488</th>\n",
       "      <td>ITGA2</td>\n",
       "      <td>C1</td>\n",
       "      <td>S297</td>\n",
       "      <td>R3</td>\n",
       "      <td>ITGA2-C1</td>\n",
       "      <td>0.053036</td>\n",
       "      <td>0.061720</td>\n",
       "      <td>1.0</td>\n",
       "      <td>0.0</td>\n",
       "      <td>0.129848</td>\n",
       "    </tr>\n",
       "    <tr>\n",
       "      <th>1489</th>\n",
       "      <td>ITGA2</td>\n",
       "      <td>C1</td>\n",
       "      <td>S297</td>\n",
       "      <td>R4</td>\n",
       "      <td>ITGA2-C1</td>\n",
       "      <td>0.053036</td>\n",
       "      <td>0.061720</td>\n",
       "      <td>1.0</td>\n",
       "      <td>0.0</td>\n",
       "      <td>0.171731</td>\n",
       "    </tr>\n",
       "    <tr>\n",
       "      <th>1490</th>\n",
       "      <td>ITGA2</td>\n",
       "      <td>C1</td>\n",
       "      <td>S298</td>\n",
       "      <td>R0</td>\n",
       "      <td>ITGA2-C1</td>\n",
       "      <td>0.053036</td>\n",
       "      <td>0.061720</td>\n",
       "      <td>1.0</td>\n",
       "      <td>0.0</td>\n",
       "      <td>0.122253</td>\n",
       "    </tr>\n",
       "    <tr>\n",
       "      <th>1491</th>\n",
       "      <td>ITGA2</td>\n",
       "      <td>C1</td>\n",
       "      <td>S298</td>\n",
       "      <td>R1</td>\n",
       "      <td>ITGA2-C1</td>\n",
       "      <td>0.053036</td>\n",
       "      <td>0.061720</td>\n",
       "      <td>1.0</td>\n",
       "      <td>0.0</td>\n",
       "      <td>0.261956</td>\n",
       "    </tr>\n",
       "    <tr>\n",
       "      <th>1492</th>\n",
       "      <td>ITGA2</td>\n",
       "      <td>C1</td>\n",
       "      <td>S298</td>\n",
       "      <td>R2</td>\n",
       "      <td>ITGA2-C1</td>\n",
       "      <td>0.053036</td>\n",
       "      <td>0.061720</td>\n",
       "      <td>1.0</td>\n",
       "      <td>0.0</td>\n",
       "      <td>-0.086794</td>\n",
       "    </tr>\n",
       "    <tr>\n",
       "      <th>1493</th>\n",
       "      <td>ITGA2</td>\n",
       "      <td>C1</td>\n",
       "      <td>S298</td>\n",
       "      <td>R3</td>\n",
       "      <td>ITGA2-C1</td>\n",
       "      <td>0.053036</td>\n",
       "      <td>0.061720</td>\n",
       "      <td>1.0</td>\n",
       "      <td>0.0</td>\n",
       "      <td>0.151165</td>\n",
       "    </tr>\n",
       "    <tr>\n",
       "      <th>1494</th>\n",
       "      <td>ITGA2</td>\n",
       "      <td>C1</td>\n",
       "      <td>S298</td>\n",
       "      <td>R4</td>\n",
       "      <td>ITGA2-C1</td>\n",
       "      <td>0.053036</td>\n",
       "      <td>0.061720</td>\n",
       "      <td>1.0</td>\n",
       "      <td>0.0</td>\n",
       "      <td>0.084694</td>\n",
       "    </tr>\n",
       "    <tr>\n",
       "      <th>1495</th>\n",
       "      <td>ITGA2</td>\n",
       "      <td>C1</td>\n",
       "      <td>S299</td>\n",
       "      <td>R0</td>\n",
       "      <td>ITGA2-C1</td>\n",
       "      <td>0.053036</td>\n",
       "      <td>0.061720</td>\n",
       "      <td>1.0</td>\n",
       "      <td>0.0</td>\n",
       "      <td>0.018853</td>\n",
       "    </tr>\n",
       "    <tr>\n",
       "      <th>1496</th>\n",
       "      <td>ITGA2</td>\n",
       "      <td>C1</td>\n",
       "      <td>S299</td>\n",
       "      <td>R1</td>\n",
       "      <td>ITGA2-C1</td>\n",
       "      <td>0.053036</td>\n",
       "      <td>0.061720</td>\n",
       "      <td>1.0</td>\n",
       "      <td>0.0</td>\n",
       "      <td>0.033595</td>\n",
       "    </tr>\n",
       "    <tr>\n",
       "      <th>1497</th>\n",
       "      <td>ITGA2</td>\n",
       "      <td>C1</td>\n",
       "      <td>S299</td>\n",
       "      <td>R2</td>\n",
       "      <td>ITGA2-C1</td>\n",
       "      <td>0.053036</td>\n",
       "      <td>0.061720</td>\n",
       "      <td>1.0</td>\n",
       "      <td>0.0</td>\n",
       "      <td>0.057558</td>\n",
       "    </tr>\n",
       "    <tr>\n",
       "      <th>1498</th>\n",
       "      <td>ITGA2</td>\n",
       "      <td>C1</td>\n",
       "      <td>S299</td>\n",
       "      <td>R3</td>\n",
       "      <td>ITGA2-C1</td>\n",
       "      <td>0.053036</td>\n",
       "      <td>0.061720</td>\n",
       "      <td>1.0</td>\n",
       "      <td>0.0</td>\n",
       "      <td>0.172597</td>\n",
       "    </tr>\n",
       "    <tr>\n",
       "      <th>1499</th>\n",
       "      <td>ITGA2</td>\n",
       "      <td>C1</td>\n",
       "      <td>S299</td>\n",
       "      <td>R4</td>\n",
       "      <td>ITGA2-C1</td>\n",
       "      <td>0.053036</td>\n",
       "      <td>0.061720</td>\n",
       "      <td>1.0</td>\n",
       "      <td>0.0</td>\n",
       "      <td>0.025143</td>\n",
       "    </tr>\n",
       "  </tbody>\n",
       "</table>\n",
       "<p>1500 rows × 10 columns</p>\n",
       "</div>"
      ],
      "text/plain": [
       "        gene condition intervention replicate gene_conditions     gamma  \\\n",
       "0     POLR1B        C0           S0        R0       POLR1B-C0 -0.837565   \n",
       "1     POLR1B        C0           S0        R1       POLR1B-C0 -0.837565   \n",
       "2     POLR1B        C0           S0        R2       POLR1B-C0 -0.837565   \n",
       "3     POLR1B        C0           S0        R3       POLR1B-C0 -0.837565   \n",
       "4     POLR1B        C0           S0        R4       POLR1B-C0 -0.837565   \n",
       "5     POLR1B        C0           S1        R0       POLR1B-C0 -0.837565   \n",
       "6     POLR1B        C0           S1        R1       POLR1B-C0 -0.837565   \n",
       "7     POLR1B        C0           S1        R2       POLR1B-C0 -0.837565   \n",
       "8     POLR1B        C0           S1        R3       POLR1B-C0 -0.837565   \n",
       "9     POLR1B        C0           S1        R4       POLR1B-C0 -0.837565   \n",
       "10    POLR1B        C0           S2        R0       POLR1B-C0 -0.837565   \n",
       "11    POLR1B        C0           S2        R1       POLR1B-C0 -0.837565   \n",
       "12    POLR1B        C0           S2        R2       POLR1B-C0 -0.837565   \n",
       "13    POLR1B        C0           S2        R3       POLR1B-C0 -0.837565   \n",
       "14    POLR1B        C0           S2        R4       POLR1B-C0 -0.837565   \n",
       "15    POLR1B        C0           S3        R0       POLR1B-C0 -0.837565   \n",
       "16    POLR1B        C0           S3        R1       POLR1B-C0 -0.837565   \n",
       "17    POLR1B        C0           S3        R2       POLR1B-C0 -0.837565   \n",
       "18    POLR1B        C0           S3        R3       POLR1B-C0 -0.837565   \n",
       "19    POLR1B        C0           S3        R4       POLR1B-C0 -0.837565   \n",
       "20    POLR1B        C0           S4        R0       POLR1B-C0 -0.837565   \n",
       "21    POLR1B        C0           S4        R1       POLR1B-C0 -0.837565   \n",
       "22    POLR1B        C0           S4        R2       POLR1B-C0 -0.837565   \n",
       "23    POLR1B        C0           S4        R3       POLR1B-C0 -0.837565   \n",
       "24    POLR1B        C0           S4        R4       POLR1B-C0 -0.837565   \n",
       "25    POLR1B        C1           S5        R0       POLR1B-C1 -0.837565   \n",
       "26    POLR1B        C1           S5        R1       POLR1B-C1 -0.837565   \n",
       "27    POLR1B        C1           S5        R2       POLR1B-C1 -0.837565   \n",
       "28    POLR1B        C1           S5        R3       POLR1B-C1 -0.837565   \n",
       "29    POLR1B        C1           S5        R4       POLR1B-C1 -0.837565   \n",
       "...      ...       ...          ...       ...             ...       ...   \n",
       "1470   ITGA2        C0         S294        R0        ITGA2-C0  0.053036   \n",
       "1471   ITGA2        C0         S294        R1        ITGA2-C0  0.053036   \n",
       "1472   ITGA2        C0         S294        R2        ITGA2-C0  0.053036   \n",
       "1473   ITGA2        C0         S294        R3        ITGA2-C0  0.053036   \n",
       "1474   ITGA2        C0         S294        R4        ITGA2-C0  0.053036   \n",
       "1475   ITGA2        C1         S295        R0        ITGA2-C1  0.053036   \n",
       "1476   ITGA2        C1         S295        R1        ITGA2-C1  0.053036   \n",
       "1477   ITGA2        C1         S295        R2        ITGA2-C1  0.053036   \n",
       "1478   ITGA2        C1         S295        R3        ITGA2-C1  0.053036   \n",
       "1479   ITGA2        C1         S295        R4        ITGA2-C1  0.053036   \n",
       "1480   ITGA2        C1         S296        R0        ITGA2-C1  0.053036   \n",
       "1481   ITGA2        C1         S296        R1        ITGA2-C1  0.053036   \n",
       "1482   ITGA2        C1         S296        R2        ITGA2-C1  0.053036   \n",
       "1483   ITGA2        C1         S296        R3        ITGA2-C1  0.053036   \n",
       "1484   ITGA2        C1         S296        R4        ITGA2-C1  0.053036   \n",
       "1485   ITGA2        C1         S297        R0        ITGA2-C1  0.053036   \n",
       "1486   ITGA2        C1         S297        R1        ITGA2-C1  0.053036   \n",
       "1487   ITGA2        C1         S297        R2        ITGA2-C1  0.053036   \n",
       "1488   ITGA2        C1         S297        R3        ITGA2-C1  0.053036   \n",
       "1489   ITGA2        C1         S297        R4        ITGA2-C1  0.053036   \n",
       "1490   ITGA2        C1         S298        R0        ITGA2-C1  0.053036   \n",
       "1491   ITGA2        C1         S298        R1        ITGA2-C1  0.053036   \n",
       "1492   ITGA2        C1         S298        R2        ITGA2-C1  0.053036   \n",
       "1493   ITGA2        C1         S298        R3        ITGA2-C1  0.053036   \n",
       "1494   ITGA2        C1         S298        R4        ITGA2-C1  0.053036   \n",
       "1495   ITGA2        C1         S299        R0        ITGA2-C1  0.053036   \n",
       "1496   ITGA2        C1         S299        R1        ITGA2-C1  0.053036   \n",
       "1497   ITGA2        C1         S299        R2        ITGA2-C1  0.053036   \n",
       "1498   ITGA2        C1         S299        R3        ITGA2-C1  0.053036   \n",
       "1499   ITGA2        C1         S299        R4        ITGA2-C1  0.053036   \n",
       "\n",
       "          beta  affinity    l   readout  \n",
       "0     0.028559       0.1  0.0 -0.001094  \n",
       "1     0.028559       0.1  0.0 -0.091094  \n",
       "2     0.028559       0.1  0.0 -0.006565  \n",
       "3     0.028559       0.1  0.0 -0.231858  \n",
       "4     0.028559       0.1  0.0 -0.188972  \n",
       "5     0.028559       0.1  0.0 -0.008353  \n",
       "6     0.028559       0.1  0.0 -0.084818  \n",
       "7     0.028559       0.1  0.0 -0.103776  \n",
       "8     0.028559       0.1  0.0 -0.098862  \n",
       "9     0.028559       0.1  0.0 -0.030728  \n",
       "10    0.028559       0.1  0.0 -0.140235  \n",
       "11    0.028559       0.1  0.0 -0.029870  \n",
       "12    0.028559       0.1  0.0 -0.172480  \n",
       "13    0.028559       0.1  0.0 -0.121626  \n",
       "14    0.028559       0.1  0.0  0.017594  \n",
       "15    0.028559       0.1  0.0  0.026225  \n",
       "16    0.028559       0.1  0.0 -0.190616  \n",
       "17    0.028559       0.1  0.0  0.002963  \n",
       "18    0.028559       0.1  0.0 -0.184819  \n",
       "19    0.028559       0.1  0.0 -0.007598  \n",
       "20    0.028559       1.0  0.0 -0.998888  \n",
       "21    0.028559       1.0  0.0 -0.920718  \n",
       "22    0.028559       1.0  0.0 -0.859904  \n",
       "23    0.028559       1.0  0.0 -0.825655  \n",
       "24    0.028559       1.0  0.0 -0.666645  \n",
       "25    0.088514       1.0  0.0 -0.658651  \n",
       "26    0.088514       1.0  0.0 -0.591505  \n",
       "27    0.088514       1.0  0.0 -0.628391  \n",
       "28    0.088514       1.0  0.0 -0.777338  \n",
       "29    0.088514       1.0  0.0 -0.775684  \n",
       "...        ...       ...  ...       ...  \n",
       "1470  0.012016       1.0  0.0  0.049546  \n",
       "1471  0.012016       1.0  0.0  0.276314  \n",
       "1472  0.012016       1.0  0.0  0.090659  \n",
       "1473  0.012016       1.0  0.0  0.044375  \n",
       "1474  0.012016       1.0  0.0  0.113311  \n",
       "1475  0.061720       1.0  0.0  0.004213  \n",
       "1476  0.061720       1.0  0.0  0.156831  \n",
       "1477  0.061720       1.0  0.0  0.276435  \n",
       "1478  0.061720       1.0  0.0  0.026379  \n",
       "1479  0.061720       1.0  0.0  0.144639  \n",
       "1480  0.061720       1.0  0.0  0.191467  \n",
       "1481  0.061720       1.0  0.0 -0.054579  \n",
       "1482  0.061720       1.0  0.0  0.278645  \n",
       "1483  0.061720       1.0  0.0  0.010256  \n",
       "1484  0.061720       1.0  0.0  0.081250  \n",
       "1485  0.061720       1.0  0.0  0.152823  \n",
       "1486  0.061720       1.0  0.0  0.091496  \n",
       "1487  0.061720       1.0  0.0  0.195050  \n",
       "1488  0.061720       1.0  0.0  0.129848  \n",
       "1489  0.061720       1.0  0.0  0.171731  \n",
       "1490  0.061720       1.0  0.0  0.122253  \n",
       "1491  0.061720       1.0  0.0  0.261956  \n",
       "1492  0.061720       1.0  0.0 -0.086794  \n",
       "1493  0.061720       1.0  0.0  0.151165  \n",
       "1494  0.061720       1.0  0.0  0.084694  \n",
       "1495  0.061720       1.0  0.0  0.018853  \n",
       "1496  0.061720       1.0  0.0  0.033595  \n",
       "1497  0.061720       1.0  0.0  0.057558  \n",
       "1498  0.061720       1.0  0.0  0.172597  \n",
       "1499  0.061720       1.0  0.0  0.025143  \n",
       "\n",
       "[1500 rows x 10 columns]"
      ]
     },
     "execution_count": 25,
     "metadata": {},
     "output_type": "execute_result"
    }
   ],
   "source": [
    "data[\"count_table\"]"
   ]
  },
  {
   "cell_type": "code",
   "execution_count": 14,
   "metadata": {},
   "outputs": [
    {
     "name": "stderr",
     "output_type": "stream",
     "text": [
      "/home/simon/miniconda3/envs/ml/lib/python3.6/site-packages/networkx/drawing/nx_pylab.py:611: MatplotlibDeprecationWarning: isinstance(..., numbers.Number)\n",
      "  if cb.is_numlike(alpha):\n"
     ]
    },
    {
     "data": {
      "text/plain": [
       "<matplotlib.legend.Legend at 0x7f34105ed358>"
      ]
     },
     "execution_count": 14,
     "metadata": {},
     "output_type": "execute_result"
    },
    {
     "data": {
      "image/png": "[encoded data removed]",
      "text/plain": [
       "<Figure size 720x432 with 1 Axes>"
      ]
     },
     "metadata": {},
     "output_type": "display_data"
    }
   ],
   "source": [
    "plt.figure(figsize=(10, 6))\n",
    "pos = networkx.spring_layout(data[\"graph\"])\n",
    "networkx.draw_networkx_nodes(\n",
    "  data[\"graph\"], pos=pos,\n",
    "  nodelist=list(data['essential_genes']), node_size=300,\n",
    "  node_color='#316675', font_size=15, alpha=.9, label=\"Essential genes\")\n",
    "networkx.draw_networkx_nodes(\n",
    "  data[\"graph\"].subgraph([\"PSMB1\", \"POLR1B\"]), pos=pos,\n",
    "  nodelist=list([\"PSMB1\", \"POLR1B\"]), node_size=300,\n",
    "  node_color='#E84646', font_size=15, alpha=.9, \n",
    "    label=\"Essential genes\\nwith low-quality sgRNAs\")\n",
    "networkx.draw_networkx_nodes(\n",
    "  data[\"graph\"], pos=pos,\n",
    "  nodelist=list(data['nonessential_genes']), node_size=300,\n",
    "  node_color='black', font_size=15, alpha=.9, label=\"Non-essential genes\")\n",
    "networkx.draw_networkx_edges(data[\"graph\"], pos=pos)\n",
    "plt.axis('off')\n",
    "plt.legend(loc='center right', fancybox=False, framealpha=0, shadow=False,\n",
    "           borderpad=1, bbox_to_anchor=(1, 0), ncol=1)"
   ]
  },
  {
   "cell_type": "markdown",
   "metadata": {},
   "source": [
    "## Simple model"
   ]
  },
  {
   "cell_type": "code",
   "execution_count": 17,
   "metadata": {},
   "outputs": [
    {
     "name": "stderr",
     "output_type": "stream",
     "text": [
      "Building simple hierarchical model\n",
      "100%|██████████| 10000/10000 [00:07<00:00, 1362.74it/s]\n"
     ]
    }
   ],
   "source": [
    "trace_dir = \"../../../results/simple_model-{}_trace\".format(suffix)\n",
    "with HLM(readout, model=\"simple\") as model:\n",
    "    trace = pm.load_trace(trace_dir, model = model.model)\n",
    "    ppc_trace = pm.sample_posterior_predictive(trace, 10000, model.model)"
   ]
  },
  {
   "cell_type": "code",
   "execution_count": 16,
   "metadata": {},
   "outputs": [
    {
     "data": {
      "image/svg+xml": [
       "<?xml version=\"1.0\" encoding=\"UTF-8\" standalone=\"no\"?>\n",
       "<!DOCTYPE svg PUBLIC \"-//W3C//DTD SVG 1.1//EN\"\n",
       " \"http://www.w3.org/Graphics/SVG/1.1/DTD/svg11.dtd\">\n",
       "<!-- Generated by graphviz version 2.38.0 (20140413.2041)\n",
       " -->\n",
       "<!-- Title: %3 Pages: 1 -->\n",
       "<svg width=\"764pt\" height=\"238pt\"\n",
       " viewBox=\"0.00 0.00 763.83 238.00\" xmlns=\"http://www.w3.org/2000/svg\" xmlns:xlink=\"http://www.w3.org/1999/xlink\">\n",
       "<g id=\"graph0\" class=\"graph\" transform=\"scale(1 1) rotate(0) translate(4 234)\">\n",
       "<title>%3</title>\n",
       "<polygon fill=\"white\" stroke=\"none\" points=\"-4,4 -4,-234 759.833,-234 759.833,4 -4,4\"/>\n",
       "<g id=\"clust1\" class=\"cluster\"><title>cluster30</title>\n",
       "<path fill=\"none\" stroke=\"black\" d=\"M393.892,-91C393.892,-91 535.892,-91 535.892,-91 541.892,-91 547.892,-97 547.892,-103 547.892,-103 547.892,-154 547.892,-154 547.892,-160 541.892,-166 535.892,-166 535.892,-166 393.892,-166 393.892,-166 387.892,-166 381.892,-160 381.892,-154 381.892,-154 381.892,-103 381.892,-103 381.892,-97 387.892,-91 393.892,-91\"/>\n",
       "<text text-anchor=\"middle\" x=\"532.892\" y=\"-98.8\" font-family=\"Times,serif\" font-size=\"14.00\">30</text>\n",
       "</g>\n",
       "<g id=\"clust2\" class=\"cluster\"><title>cluster60</title>\n",
       "<path fill=\"none\" stroke=\"black\" d=\"M46.8916,-91C46.8916,-91 162.892,-91 162.892,-91 168.892,-91 174.892,-97 174.892,-103 174.892,-103 174.892,-154 174.892,-154 174.892,-160 168.892,-166 162.892,-166 162.892,-166 46.8916,-166 46.8916,-166 40.8916,-166 34.8916,-160 34.8916,-154 34.8916,-154 34.8916,-103 34.8916,-103 34.8916,-97 40.8916,-91 46.8916,-91\"/>\n",
       "<text text-anchor=\"middle\" x=\"159.892\" y=\"-98.8\" font-family=\"Times,serif\" font-size=\"14.00\">60</text>\n",
       "</g>\n",
       "<g id=\"clust3\" class=\"cluster\"><title>cluster300</title>\n",
       "<path fill=\"none\" stroke=\"black\" d=\"M606.892,-91C606.892,-91 698.892,-91 698.892,-91 704.892,-91 710.892,-97 710.892,-103 710.892,-103 710.892,-154 710.892,-154 710.892,-160 704.892,-166 698.892,-166 698.892,-166 606.892,-166 606.892,-166 600.892,-166 594.892,-160 594.892,-154 594.892,-154 594.892,-103 594.892,-103 594.892,-97 600.892,-91 606.892,-91\"/>\n",
       "<text text-anchor=\"middle\" x=\"692.392\" y=\"-98.8\" font-family=\"Times,serif\" font-size=\"14.00\">300</text>\n",
       "</g>\n",
       "<g id=\"clust4\" class=\"cluster\"><title>cluster1,500</title>\n",
       "<path fill=\"none\" stroke=\"black\" d=\"M328.892,-8C328.892,-8 424.892,-8 424.892,-8 430.892,-8 436.892,-14 436.892,-20 436.892,-20 436.892,-71 436.892,-71 436.892,-77 430.892,-83 424.892,-83 424.892,-83 328.892,-83 328.892,-83 322.892,-83 316.892,-77 316.892,-71 316.892,-71 316.892,-20 316.892,-20 316.892,-14 322.892,-8 328.892,-8\"/>\n",
       "<text text-anchor=\"middle\" x=\"413.392\" y=\"-15.8\" font-family=\"Times,serif\" font-size=\"14.00\">1,500</text>\n",
       "</g>\n",
       "<!-- tau_b -->\n",
       "<g id=\"node1\" class=\"node\"><title>tau_b</title>\n",
       "<ellipse fill=\"none\" stroke=\"black\" cx=\"94.8916\" cy=\"-212\" rx=\"94.7833\" ry=\"18\"/>\n",
       "<text text-anchor=\"middle\" x=\"94.8916\" y=\"-208.3\" font-family=\"Times,serif\" font-size=\"14.00\">tau_b ~ InverseGamma</text>\n",
       "</g>\n",
       "<!-- beta -->\n",
       "<g id=\"node7\" class=\"node\"><title>beta</title>\n",
       "<ellipse fill=\"none\" stroke=\"black\" cx=\"104.892\" cy=\"-140\" rx=\"62.2891\" ry=\"18\"/>\n",
       "<text text-anchor=\"middle\" x=\"104.892\" y=\"-136.3\" font-family=\"Times,serif\" font-size=\"14.00\">beta ~ Normal</text>\n",
       "</g>\n",
       "<!-- tau_b&#45;&gt;beta -->\n",
       "<g id=\"edge3\" class=\"edge\"><title>tau_b&#45;&gt;beta</title>\n",
       "<path fill=\"none\" stroke=\"black\" d=\"M97.3635,-193.697C98.4655,-185.983 99.7898,-176.712 101.018,-168.112\"/>\n",
       "<polygon fill=\"black\" stroke=\"black\" points=\"104.499,-168.499 102.448,-158.104 97.569,-167.509 104.499,-168.499\"/>\n",
       "</g>\n",
       "<!-- tau_g -->\n",
       "<g id=\"node2\" class=\"node\"><title>tau_g</title>\n",
       "<ellipse fill=\"none\" stroke=\"black\" cx=\"302.892\" cy=\"-212\" rx=\"94.7833\" ry=\"18\"/>\n",
       "<text text-anchor=\"middle\" x=\"302.892\" y=\"-208.3\" font-family=\"Times,serif\" font-size=\"14.00\">tau_g ~ InverseGamma</text>\n",
       "</g>\n",
       "<!-- gamma -->\n",
       "<g id=\"node6\" class=\"node\"><title>gamma</title>\n",
       "<ellipse fill=\"none\" stroke=\"black\" cx=\"464.892\" cy=\"-140\" rx=\"74.9875\" ry=\"18\"/>\n",
       "<text text-anchor=\"middle\" x=\"464.892\" y=\"-136.3\" font-family=\"Times,serif\" font-size=\"14.00\">gamma ~ Normal</text>\n",
       "</g>\n",
       "<!-- tau_g&#45;&gt;gamma -->\n",
       "<g id=\"edge1\" class=\"edge\"><title>tau_g&#45;&gt;gamma</title>\n",
       "<path fill=\"none\" stroke=\"black\" d=\"M339.248,-195.291C363.319,-184.889 395.04,-171.183 420.586,-160.144\"/>\n",
       "<polygon fill=\"black\" stroke=\"black\" points=\"422.255,-163.236 430.046,-156.057 419.478,-156.81 422.255,-163.236\"/>\n",
       "</g>\n",
       "<!-- sd -->\n",
       "<g id=\"node3\" class=\"node\"><title>sd</title>\n",
       "<ellipse fill=\"none\" stroke=\"black\" cx=\"288.892\" cy=\"-140\" rx=\"83.3857\" ry=\"18\"/>\n",
       "<text text-anchor=\"middle\" x=\"288.892\" y=\"-136.3\" font-family=\"Times,serif\" font-size=\"14.00\">sd ~ InverseGamma</text>\n",
       "</g>\n",
       "<!-- x -->\n",
       "<g id=\"node9\" class=\"node\"><title>x</title>\n",
       "<ellipse fill=\"lightgrey\" stroke=\"black\" cx=\"376.892\" cy=\"-57\" rx=\"51.9908\" ry=\"18\"/>\n",
       "<text text-anchor=\"middle\" x=\"376.892\" y=\"-53.3\" font-family=\"Times,serif\" font-size=\"14.00\">x ~ Normal</text>\n",
       "</g>\n",
       "<!-- sd&#45;&gt;x -->\n",
       "<g id=\"edge8\" class=\"edge\"><title>sd&#45;&gt;x</title>\n",
       "<path fill=\"none\" stroke=\"black\" d=\"M307.125,-122.217C320.038,-110.331 337.523,-94.2371 351.758,-81.1347\"/>\n",
       "<polygon fill=\"black\" stroke=\"black\" points=\"354.294,-83.5566 359.282,-74.209 349.554,-78.4062 354.294,-83.5566\"/>\n",
       "</g>\n",
       "<!-- mu_g -->\n",
       "<g id=\"node4\" class=\"node\"><title>mu_g</title>\n",
       "<ellipse fill=\"none\" stroke=\"black\" cx=\"483.892\" cy=\"-212\" rx=\"68.4888\" ry=\"18\"/>\n",
       "<text text-anchor=\"middle\" x=\"483.892\" y=\"-208.3\" font-family=\"Times,serif\" font-size=\"14.00\">mu_g ~ Normal</text>\n",
       "</g>\n",
       "<!-- mu_g&#45;&gt;gamma -->\n",
       "<g id=\"edge2\" class=\"edge\"><title>mu_g&#45;&gt;gamma</title>\n",
       "<path fill=\"none\" stroke=\"black\" d=\"M479.195,-193.697C477.078,-185.898 474.53,-176.509 472.174,-167.829\"/>\n",
       "<polygon fill=\"black\" stroke=\"black\" points=\"475.532,-166.838 469.534,-158.104 468.776,-168.672 475.532,-166.838\"/>\n",
       "</g>\n",
       "<!-- tau_l -->\n",
       "<g id=\"node5\" class=\"node\"><title>tau_l</title>\n",
       "<ellipse fill=\"none\" stroke=\"black\" cx=\"662.892\" cy=\"-212\" rx=\"92.8835\" ry=\"18\"/>\n",
       "<text text-anchor=\"middle\" x=\"662.892\" y=\"-208.3\" font-family=\"Times,serif\" font-size=\"14.00\">tau_l ~ InverseGamma</text>\n",
       "</g>\n",
       "<!-- l -->\n",
       "<g id=\"node8\" class=\"node\"><title>l</title>\n",
       "<ellipse fill=\"none\" stroke=\"black\" cx=\"652.892\" cy=\"-140\" rx=\"50.0912\" ry=\"18\"/>\n",
       "<text text-anchor=\"middle\" x=\"652.892\" y=\"-136.3\" font-family=\"Times,serif\" font-size=\"14.00\">l ~ Normal</text>\n",
       "</g>\n",
       "<!-- tau_l&#45;&gt;l -->\n",
       "<g id=\"edge4\" class=\"edge\"><title>tau_l&#45;&gt;l</title>\n",
       "<path fill=\"none\" stroke=\"black\" d=\"M660.42,-193.697C659.318,-185.983 657.993,-176.712 656.765,-168.112\"/>\n",
       "<polygon fill=\"black\" stroke=\"black\" points=\"660.214,-167.509 655.335,-158.104 653.285,-168.499 660.214,-167.509\"/>\n",
       "</g>\n",
       "<!-- gamma&#45;&gt;x -->\n",
       "<g id=\"edge7\" class=\"edge\"><title>gamma&#45;&gt;x</title>\n",
       "<path fill=\"none\" stroke=\"black\" d=\"M446.658,-122.217C433.745,-110.331 416.26,-94.2371 402.026,-81.1347\"/>\n",
       "<polygon fill=\"black\" stroke=\"black\" points=\"404.229,-78.4062 394.501,-74.209 399.489,-83.5566 404.229,-78.4062\"/>\n",
       "</g>\n",
       "<!-- beta&#45;&gt;x -->\n",
       "<g id=\"edge6\" class=\"edge\"><title>beta&#45;&gt;x</title>\n",
       "<path fill=\"none\" stroke=\"black\" d=\"M129.75,-123.416C147.761,-112.786 173.04,-99.1992 196.892,-91 235.996,-77.5575 281.865,-69.2538 317.512,-64.3382\"/>\n",
       "<polygon fill=\"black\" stroke=\"black\" points=\"318.3,-67.7644 327.753,-62.9799 317.38,-60.8251 318.3,-67.7644\"/>\n",
       "</g>\n",
       "<!-- l&#45;&gt;x -->\n",
       "<g id=\"edge5\" class=\"edge\"><title>l&#45;&gt;x</title>\n",
       "<path fill=\"none\" stroke=\"black\" d=\"M627.074,-124.45C607.107,-113.767 578.472,-99.6618 551.892,-91 513.9,-78.6196 469.665,-70.3289 435.174,-65.1539\"/>\n",
       "<polygon fill=\"black\" stroke=\"black\" points=\"435.66,-61.6878 425.26,-63.7115 434.652,-68.6149 435.66,-61.6878\"/>\n",
       "</g>\n",
       "</g>\n",
       "</svg>\n"
      ],
      "text/plain": [
       "<graphviz.dot.Digraph at 0x7f341059c518>"
      ]
     },
     "execution_count": 16,
     "metadata": {},
     "output_type": "execute_result"
    }
   ],
   "source": [
    "model_to_graphviz(model.model)"
   ]
  },
  {
   "cell_type": "code",
   "execution_count": 19,
   "metadata": {},
   "outputs": [
    {
     "data": {
      "image/png": "[encoded data removed]",
      "text/plain": [
       "<Figure size 864x216 with 1 Axes>"
      ]
     },
     "metadata": {},
     "output_type": "display_data"
    }
   ],
   "source": [
    "sp.plot_hist(trace, \"gamma\", 14, \"\");"
   ]
  },
  {
   "cell_type": "code",
   "execution_count": 20,
   "metadata": {},
   "outputs": [
    {
     "data": {
      "image/png": "[encoded data removed]",
      "text/plain": [
       "<Figure size 864x216 with 1 Axes>"
      ]
     },
     "metadata": {},
     "output_type": "display_data"
    }
   ],
   "source": [
    "sp.plot_hist(trace, \"gamma\", 18, \"\");"
   ]
  },
  {
   "cell_type": "code",
   "execution_count": 21,
   "metadata": {},
   "outputs": [
    {
     "data": {
      "text/plain": [
       "array(['POLR1B', 'POLR2C', 'POLR2D', 'POLR3K', 'PSMB1', 'PSMC1', 'PSMC3',\n",
       "       'PSMC5', 'PSMD4', 'MAP2K5', 'NIT2', 'RPL7A', 'PSMD7', 'ADRM1',\n",
       "       'DDX19B', 'ERBB2', 'AHSA1', 'MRPL41', 'RPF1', 'ALDOART1',\n",
       "       'HIST1H2BK', 'TAF15', 'RPL11', 'INSIG2', 'UBE2V1', 'RPS17',\n",
       "       'GM8994', 'COX4I1', 'JAGN1', 'ITGA2'], dtype='<U9')"
      ]
     },
     "execution_count": 21,
     "metadata": {},
     "output_type": "execute_result"
    }
   ],
   "source": [
    "data['genes']"
   ]
  },
  {
   "cell_type": "code",
   "execution_count": 22,
   "metadata": {},
   "outputs": [
    {
     "data": {
      "text/plain": [
       "array([-0.83756546, -0.91345924])"
      ]
     },
     "execution_count": 22,
     "metadata": {},
     "output_type": "execute_result"
    }
   ],
   "source": [
    "data['gamma'][[0, 4]]"
   ]
  },
  {
   "cell_type": "code",
   "execution_count": 26,
   "metadata": {},
   "outputs": [
    {
     "data": {
      "text/plain": [
       "array([-0.48996777, -0.73992565])"
      ]
     },
     "execution_count": 26,
     "metadata": {},
     "output_type": "execute_result"
    }
   ],
   "source": [
    "numpy.mean(trace['gamma'], 0)[[14, 18]]"
   ]
  },
  {
   "cell_type": "code",
   "execution_count": 24,
   "metadata": {},
   "outputs": [
    {
     "data": {
      "image/png": "[encoded data removed]",
      "text/plain": [
       "<Figure size 864x216 with 1 Axes>"
      ]
     },
     "metadata": {},
     "output_type": "display_data"
    }
   ],
   "source": [
    "sp.plot_steps(readout, ppc_trace, bins=19);"
   ]
  },
  {
   "cell_type": "markdown",
   "metadata": {},
   "source": [
    "## Clustering model"
   ]
  },
  {
   "cell_type": "code",
   "execution_count": 27,
   "metadata": {},
   "outputs": [
    {
     "name": "stderr",
     "output_type": "stream",
     "text": [
      "Building cluster hierarchical model\n",
      "100%|██████████| 10000/10000 [00:07<00:00, 1341.70it/s]\n"
     ]
    }
   ],
   "source": [
    "trace_dir = \"../../../results/clustering_model-{}_trace\".format(suffix)\n",
    "with HLM(readout, model=\"clustering\") as model:\n",
    "    trace = pm.load_trace(trace_dir, model = model.model)\n",
    "    ppc_trace = pm.sample_posterior_predictive(trace, 10000, model.model)"
   ]
  },
  {
   "cell_type": "code",
   "execution_count": 28,
   "metadata": {},
   "outputs": [
    {
     "data": {
      "image/png": "[encoded data removed]",
      "text/plain": [
       "<Figure size 864x216 with 1 Axes>"
      ]
     },
     "metadata": {},
     "output_type": "display_data"
    }
   ],
   "source": [
    "sp.plot_hist(trace, \"gamma\", 14, \"\");"
   ]
  },
  {
   "cell_type": "code",
   "execution_count": 29,
   "metadata": {},
   "outputs": [
    {
     "data": {
      "image/png": "[encoded data removed]",
      "text/plain": [
       "<Figure size 864x216 with 1 Axes>"
      ]
     },
     "metadata": {},
     "output_type": "display_data"
    }
   ],
   "source": [
    "sp.plot_hist(trace, \"gamma\", 18, \"\");"
   ]
  },
  {
   "cell_type": "code",
   "execution_count": 30,
   "metadata": {},
   "outputs": [
    {
     "data": {
      "image/png": "[encoded data removed]",
      "text/plain": [
       "<Figure size 864x216 with 1 Axes>"
      ]
     },
     "metadata": {},
     "output_type": "display_data"
    }
   ],
   "source": [
    "sp.plot_steps(readout, ppc_trace, bins=19);"
   ]
  },
  {
   "cell_type": "code",
   "execution_count": 31,
   "metadata": {},
   "outputs": [
    {
     "data": {
      "text/plain": [
       "array([-0.83756546, -0.91345924])"
      ]
     },
     "execution_count": 31,
     "metadata": {},
     "output_type": "execute_result"
    }
   ],
   "source": [
    "data['gamma'][[0, 4]]"
   ]
  },
  {
   "cell_type": "code",
   "execution_count": 32,
   "metadata": {},
   "outputs": [
    {
     "data": {
      "text/plain": [
       "array([-0.49184879, -0.78132288])"
      ]
     },
     "execution_count": 32,
     "metadata": {},
     "output_type": "execute_result"
    }
   ],
   "source": [
    "numpy.mean(trace['gamma'], 0)[[14, 18]]"
   ]
  },
  {
   "cell_type": "code",
   "execution_count": 33,
   "metadata": {},
   "outputs": [
    {
     "data": {
      "image/png": "[encoded data removed]",
      "text/plain": [
       "<Figure size 864x216 with 1 Axes>"
      ]
     },
     "metadata": {},
     "output_type": "display_data"
    }
   ],
   "source": [
    "sp.plot_posterior_labels(\n",
    "    trace, \n",
    "    [model._index_to_gene[x] for x in sorted(model._index_to_gene.keys())]);"
   ]
  },
  {
   "cell_type": "code",
   "execution_count": 39,
   "metadata": {},
   "outputs": [
    {
     "data": {
      "text/plain": [
       "0.009970435901601044"
      ]
     },
     "execution_count": 39,
     "metadata": {},
     "output_type": "execute_result"
    }
   ],
   "source": [
    "np.mean((readout[\"readout\"].values - np.mean(ppc_trace['x'], 0))**2)"
   ]
  },
  {
   "cell_type": "markdown",
   "metadata": {},
   "source": [
    "## MRF model"
   ]
  },
  {
   "cell_type": "code",
   "execution_count": 12,
   "metadata": {},
   "outputs": [
    {
     "name": "stderr",
     "output_type": "stream",
     "text": [
      "Building mrf hierarchical model\n",
      "100%|██████████| 10000/10000 [00:07<00:00, 1367.84it/s]\n"
     ]
    }
   ],
   "source": [
    "trace_dir = \"../../../results/mrf_model_trace\"\n",
    "with HLM(readout, model=\"mrf\", graph=G) as model:\n",
    "    trace = pm.load_trace(trace_dir, model = model.model)\n",
    "    ppc_trace = pm.sample_posterior_predictive(trace, 10000, model.model)"
   ]
  },
  {
   "cell_type": "code",
   "execution_count": 13,
   "metadata": {},
   "outputs": [
    {
     "data": {
      "image/png": "[encoded data removed]",
      "text/plain": [
       "<Figure size 864x216 with 1 Axes>"
      ]
     },
     "metadata": {},
     "output_type": "display_data"
    }
   ],
   "source": [
    "sp.plot_hist(trace, \"gamma\", 14, \"\");"
   ]
  },
  {
   "cell_type": "code",
   "execution_count": 14,
   "metadata": {},
   "outputs": [
    {
     "data": {
      "image/png": "[encoded data removed]",
      "text/plain": [
       "<Figure size 864x216 with 1 Axes>"
      ]
     },
     "metadata": {},
     "output_type": "display_data"
    }
   ],
   "source": [
    "sp.plot_hist(trace, \"gamma\", 15, \"\");"
   ]
  },
  {
   "cell_type": "code",
   "execution_count": 16,
   "metadata": {},
   "outputs": [
    {
     "data": {
      "text/plain": [
       "array([-0.83756546, -0.91345924])"
      ]
     },
     "execution_count": 16,
     "metadata": {},
     "output_type": "execute_result"
    }
   ],
   "source": [
    "data['gamma'][[0, 4]]"
   ]
  },
  {
   "cell_type": "code",
   "execution_count": 17,
   "metadata": {},
   "outputs": [
    {
     "data": {
      "text/plain": [
       "array([-0.66355273, -0.63526061])"
      ]
     },
     "execution_count": 17,
     "metadata": {},
     "output_type": "execute_result"
    }
   ],
   "source": [
    "numpy.mean(trace['gamma'], 0)[[14, 18]]"
   ]
  },
  {
   "cell_type": "code",
   "execution_count": 18,
   "metadata": {},
   "outputs": [
    {
     "data": {
      "image/png": "[encoded data removed]",
      "text/plain": [
       "<Figure size 864x216 with 1 Axes>"
      ]
     },
     "metadata": {},
     "output_type": "display_data"
    }
   ],
   "source": [
    "sp.plot_steps(readout, ppc_trace, bins=19);"
   ]
  },
  {
   "cell_type": "code",
   "execution_count": 19,
   "metadata": {},
   "outputs": [
    {
     "data": {
      "image/png": "[encoded data removed]",
      "text/plain": [
       "<Figure size 864x216 with 1 Axes>"
      ]
     },
     "metadata": {},
     "output_type": "display_data"
    }
   ],
   "source": [
    "sp.plot_posterior_labels(\n",
    "    trace,  [model._index_to_gene[x] for x in sorted(model._index_to_gene.keys())]);"
   ]
  },
  {
   "cell_type": "code",
   "execution_count": 21,
   "metadata": {},
   "outputs": [
    {
     "data": {
      "image/png": "[encoded data removed]",
      "text/plain": [
       "<Figure size 864x216 with 1 Axes>"
      ]
     },
     "metadata": {},
     "output_type": "display_data"
    }
   ],
   "source": [
    "sp.plot_neff(trace, \"gamma\");"
   ]
  },
  {
   "cell_type": "code",
   "execution_count": 22,
   "metadata": {},
   "outputs": [
    {
     "data": {
      "image/png": "[encoded data removed]",
      "text/plain": [
       "<Figure size 864x216 with 1 Axes>"
      ]
     },
     "metadata": {},
     "output_type": "display_data"
    }
   ],
   "source": [
    "sp.plot_rhat(trace, \"gamma\");"
   ]
  },
  {
   "cell_type": "code",
   "execution_count": 29,
   "metadata": {},
   "outputs": [
    {
     "data": {
      "text/plain": [
       "0.008748406477614079"
      ]
     },
     "execution_count": 29,
     "metadata": {},
     "output_type": "execute_result"
    }
   ],
   "source": [
    "np.mean((readout[\"readout\"].values - np.mean(ppc_trace['x'], 0))**2)"
   ]
  },
  {
   "cell_type": "code",
   "execution_count": null,
   "metadata": {},
   "outputs": [],
   "source": []
  }
 ],
 "metadata": {
  "kernelspec": {
   "display_name": "Python (ML)",
   "language": "python",
   "name": "ml"
  },
  "language_info": {
   "codemirror_mode": {
    "name": "ipython",
    "version": 3
   },
   "file_extension": ".py",
   "mimetype": "text/x-python",
   "name": "python",
   "nbconvert_exporter": "python",
   "pygments_lexer": "ipython3",
   "version": "3.6.8"
  }
 },
 "nbformat": 4,
 "nbformat_minor": 2
}
