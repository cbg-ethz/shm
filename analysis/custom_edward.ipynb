{
 "cells": [
  {
   "cell_type": "code",
   "execution_count": 85,
   "metadata": {},
   "outputs": [],
   "source": [
    "import warnings\n",
    "warnings.filterwarnings(\"ignore\")\n",
    "\n",
    "import tensorflow as tf\n",
    "import tensorflow_probability as tfp\n",
    "from tensorflow_probability import edward2 as ed\n",
    "import numpy as np\n",
    "import scipy as sp\n",
    "import scipy.stats\n",
    "tfd = tfp.distributions"
   ]
  },
  {
   "cell_type": "code",
   "execution_count": 132,
   "metadata": {},
   "outputs": [],
   "source": [
    "import matplotlib.pyplot as plt"
   ]
  },
  {
   "cell_type": "code",
   "execution_count": 167,
   "metadata": {},
   "outputs": [],
   "source": [
    "normal_data = sp.stats.norm.rvs(7, 1, size=10)"
   ]
  },
  {
   "cell_type": "code",
   "execution_count": 168,
   "metadata": {},
   "outputs": [
    {
     "data": {
      "text/plain": [
       "array([5.30434367, 7.90830354, 7.41106737, 5.86660476, 7.17944534,\n",
       "       7.83612387, 6.31405214, 7.10732185, 6.19206451, 8.53363127])"
      ]
     },
     "execution_count": 168,
     "metadata": {},
     "output_type": "execute_result"
    }
   ],
   "source": [
    "normal_data"
   ]
  },
  {
   "cell_type": "code",
   "execution_count": 74,
   "metadata": {},
   "outputs": [],
   "source": [
    "with tf.Session() as sess:\n",
    "    sam = sess.run([normal])"
   ]
  },
  {
   "cell_type": "code",
   "execution_count": 114,
   "metadata": {},
   "outputs": [
    {
     "data": {
      "text/plain": [
       "0.27924741993949376"
      ]
     },
     "execution_count": 114,
     "metadata": {},
     "output_type": "execute_result"
    }
   ],
   "source": [
    "scipy.stats.uniform.rvs(0, 1)"
   ]
  },
  {
   "cell_type": "code",
   "execution_count": 143,
   "metadata": {},
   "outputs": [],
   "source": [
    "def sample_poisson(last, accept=0.5):\n",
    "    proposal = scipy.stats.poisson.rvs(last)\n",
    "    q_p = scipy.stats.poisson.pmf(proposal, last)\n",
    "    q_last = scipy.stats.poisson.pmf(last, proposal)\n",
    "    f_p = scipy.stats.poisson.pmf(proposal, 7)\n",
    "    f_last = scipy.stats.poisson.pmf(last, 7)\n",
    "    \n",
    "    a = np.minimum(1., (f_p * q_last) / (f_last * q_p))\n",
    "    if a > scipy.stats.uniform.rvs(0, 1):\n",
    "        return proposal\n",
    "    return last"
   ]
  },
  {
   "cell_type": "code",
   "execution_count": 160,
   "metadata": {},
   "outputs": [],
   "source": [
    "proposals = np.ones(10000)\n",
    "for i in range(1, 10000):\n",
    "    proposals[i] = sample_poisson(proposals[i - 1])"
   ]
  },
  {
   "cell_type": "code",
   "execution_count": 161,
   "metadata": {},
   "outputs": [
    {
     "data": {
      "image/png": "[encoded data removed]",
      "text/plain": [
       "<Figure size 432x288 with 1 Axes>"
      ]
     },
     "metadata": {
      "needs_background": "light"
     },
     "output_type": "display_data"
    }
   ],
   "source": [
    "plt.hist(proposals[1000:], bins=50);"
   ]
  },
  {
   "cell_type": "code",
   "execution_count": 162,
   "metadata": {},
   "outputs": [
    {
     "data": {
      "image/png": "[encoded data removed]",
      "text/plain": [
       "<Figure size 432x288 with 1 Axes>"
      ]
     },
     "metadata": {
      "needs_background": "light"
     },
     "output_type": "display_data"
    }
   ],
   "source": [
    "plt.hist(scipy.stats.poisson.rvs(7, size=10000), color=\"red\", bins=50);"
   ]
  },
  {
   "cell_type": "code",
   "execution_count": 169,
   "metadata": {},
   "outputs": [],
   "source": [
    "def log_likelihood(loc):    \n",
    "    sigma = ed.InverseGamma(1, 1)\n",
    "    y = ed.Normal(loc=loc, scale=sigma, name=\"y\")\n",
    "    return y"
   ]
  },
  {
   "cell_type": "code",
   "execution_count": null,
   "metadata": {},
   "outputs": [],
   "source": [
    "def target_log_prob_fn(m, c):\n",
    "    return ed.make_log_joint_fn(log_likelihood)(\n",
    "        y=normal_data)\n",
    "    return log_joint(x, cmin, cmax, mmu, msigma, sigma, m=m, c=c,\n",
    "                     y=normal_data)"
   ]
  },
  {
   "cell_type": "code",
   "execution_count": 184,
   "metadata": {},
   "outputs": [],
   "source": [
    "kernel = tfp.mcmc.HamiltonianMonteCarlo(\n",
    "                target_log_prob_fn=make_likelihood(idx).log_prob,\n",
    "                step_size=0.5, num_leapfrog_steps=2)"
   ]
  },
  {
   "cell_type": "code",
   "execution_count": 182,
   "metadata": {},
   "outputs": [
    {
     "data": {
      "text/plain": [
       "<bound method Distribution.log_prob of <tfp.distributions.Normal 'Normal_118/' batch_shape=() event_shape=() dtype=float32>>"
      ]
     },
     "execution_count": 182,
     "metadata": {},
     "output_type": "execute_result"
    }
   ],
   "source": [
    "kernel._"
   ]
  },
  {
   "cell_type": "code",
   "execution_count": 191,
   "metadata": {},
   "outputs": [
    {
     "ename": "SyntaxError",
     "evalue": "invalid syntax (<ipython-input-191-2767c39d706f>, line 10)",
     "output_type": "error",
     "traceback": [
      "\u001b[0;36m  File \u001b[0;32m\"<ipython-input-191-2767c39d706f>\"\u001b[0;36m, line \u001b[0;32m10\u001b[0m\n\u001b[0;31m    target_log_prob_fn=make_likelihood((int)proposals[0, i]).log_prob,\u001b[0m\n\u001b[0m                                                    ^\u001b[0m\n\u001b[0;31mSyntaxError\u001b[0m\u001b[0;31m:\u001b[0m invalid syntax\n"
     ]
    }
   ],
   "source": [
    "current_state = tf.zeros(1)\n",
    "proposals = np.zeros(shape=(2, 10000))\n",
    "with tf.Session() as sess:    \n",
    "    for idx in range(1, 10000):\n",
    "        proposals[0, i] = sample_poisson(proposals[0, i - 1])\n",
    "        states, kernel_results = tfp.mcmc.sample_chain(\n",
    "            current_state=states,            \n",
    "            num_results=1,\n",
    "            kernel=tfp.mcmc.HamiltonianMonteCarlo(\n",
    "                target_log_prob_fn=make_likelihood((int)proposals[0, i]).log_prob,\n",
    "                step_size=0.5, num_leapfrog_steps=2), num_burnin_steps=0)\n",
    "        states, kernel_results = sess.run([states, kernel_results])\n",
    "        states = states.reshape((1))\n",
    "        if idx % 10 == 0:\n",
    "            print(states)        \n",
    "        proposals[1, i] = states"
   ]
  },
  {
   "cell_type": "code",
   "execution_count": 193,
   "metadata": {},
   "outputs": [
    {
     "ename": "TypeError",
     "evalue": "descriptor 'astype' requires a 'numpy.ndarray' object but received a 'numpy.float64'",
     "output_type": "error",
     "traceback": [
      "\u001b[0;31m---------------------------------------------------------------------------\u001b[0m",
      "\u001b[0;31mTypeError\u001b[0m                                 Traceback (most recent call last)",
      "\u001b[0;32m<ipython-input-193-cbf61b1016e5>\u001b[0m in \u001b[0;36m<module>\u001b[0;34m\u001b[0m\n\u001b[0;32m----> 1\u001b[0;31m \u001b[0mnp\u001b[0m\u001b[0;34m.\u001b[0m\u001b[0mndarray\u001b[0m\u001b[0;34m.\u001b[0m\u001b[0mastype\u001b[0m\u001b[0;34m(\u001b[0m\u001b[0mproposals\u001b[0m\u001b[0;34m[\u001b[0m\u001b[0;36m0\u001b[0m\u001b[0;34m,\u001b[0m \u001b[0mi\u001b[0m\u001b[0;34m]\u001b[0m\u001b[0;34m)\u001b[0m\u001b[0;34m\u001b[0m\u001b[0;34m\u001b[0m\u001b[0m\n\u001b[0m",
      "\u001b[0;31mTypeError\u001b[0m: descriptor 'astype' requires a 'numpy.ndarray' object but received a 'numpy.float64'"
     ]
    }
   ],
   "source": [
    "np.ndarray.astype(proposals[0, i])"
   ]
  },
  {
   "cell_type": "code",
   "execution_count": null,
   "metadata": {},
   "outputs": [],
   "source": []
  }
 ],
 "metadata": {
  "kernelspec": {
   "display_name": "Python (TF)",
   "language": "python",
   "name": "python3"
  },
  "language_info": {
   "codemirror_mode": {
    "name": "ipython",
    "version": 3
   },
   "file_extension": ".py",
   "mimetype": "text/x-python",
   "name": "python",
   "nbconvert_exporter": "python",
   "pygments_lexer": "ipython3",
   "version": "3.6.7"
  }
 },
 "nbformat": 4,
 "nbformat_minor": 2
}
