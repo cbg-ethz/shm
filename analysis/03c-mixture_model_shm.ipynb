{
 "cells": [
  {
   "cell_type": "markdown",
   "metadata": {},
   "source": [
    "# Structured hierarchical models\n",
    "\n",
    "The goal of this project is to model essential genes for multiple conditions given that we have prior knowledge about functional relations of these genes. We extend the model from before to:\n",
    "\n",
    "\\begin{align}\n",
    "\\boldsymbol \\pi & \\sim \\text{Dirichlet}(0.5, 0.5) \\\\\n",
    "z_g & \\sim \\text{Categorical}(\\boldsymbol \\pi) \\\\\n",
    "\\tau^2 & \\sim P(\\cdot) \\\\\n",
    "\\mu_{z_g} & \\sim \\mathcal{N}(0, 1) \\\\\n",
    "\\gamma_g \\mid z_g &  \\sim \\mathcal{N}(\\mu_{z_g}, \\tau^2) \\\\\n",
    "\\beta_{vg} \\mid \\gamma_g &  \\sim \\mathcal{N}(\\gamma_g, \\tau^2) \\\\\n",
    "l_{vg} & \\sim \\text{Gamma}(1, 1) \\\\\n",
    "x_{svg} \\mid \\beta_{vg} &  \\sim \\text{Pois}\\left(l_{vg} \\cdot \\exp \\left( \\beta_{vg} \\right) \\right) \\\\\n",
    "\\end{align}"
   ]
  },
  {
   "cell_type": "code",
   "execution_count": null,
   "metadata": {},
   "outputs": [],
   "source": [
    "N = 1000\n",
    "\n",
    "W = np.array([0.35, 0.4, 0.25])\n",
    "\n",
    "MU = np.array([0., 2., 5.])\n",
    "SIGMA = np.array([0.5, 0.5, 1.])\n"
   ]
  },
  {
   "cell_type": "code",
   "execution_count": 1,
   "metadata": {},
   "outputs": [],
   "source": [
    "import warnings\n",
    "warnings.filterwarnings(\"ignore\")"
   ]
  },
  {
   "cell_type": "code",
   "execution_count": 2,
   "metadata": {},
   "outputs": [],
   "source": [
    "import pandas as pd\n",
    "import pymc3 as pm\n",
    "import numpy as np\n",
    "import scipy as sp\n",
    "import theano.tensor as tt"
   ]
  },
  {
   "cell_type": "code",
   "execution_count": 3,
   "metadata": {},
   "outputs": [],
   "source": [
    "from sklearn import preprocessing\n",
    "from pymc3 import  model_to_graphviz"
   ]
  },
  {
   "cell_type": "code",
   "execution_count": 4,
   "metadata": {},
   "outputs": [],
   "source": [
    "%matplotlib inline\n",
    "from matplotlib import pyplot as plt\n",
    "import seaborn as sns\n",
    "import arviz as az\n",
    "\n",
    "sns.set_style(\n",
    "    \"white\", \n",
    "    {'xtick.bottom': True,\n",
    "     'ytick.left': True,\n",
    "     'axes.spines.top': False, \n",
    "     'axes.spines.right': False})"
   ]
  },
  {
   "cell_type": "markdown",
   "metadata": {},
   "source": [
    "## Test"
   ]
  },
  {
   "cell_type": "code",
   "execution_count": 62,
   "metadata": {},
   "outputs": [
    {
     "data": {
      "image/png": "[encoded data removed]",
      "text/plain": [
       "<Figure size 432x288 with 1 Axes>"
      ]
     },
     "metadata": {},
     "output_type": "display_data"
    }
   ],
   "source": [
    "k = 3\n",
    "ndata = 500\n",
    "spread = 5\n",
    "centers = np.array([-spread, 0, spread])\n",
    "\n",
    "v = np.random.randint(0, k, ndata)\n",
    "data = centers[v] + np.random.randn(ndata)\n",
    "plt.hist(data);"
   ]
  },
  {
   "cell_type": "code",
   "execution_count": 63,
   "metadata": {},
   "outputs": [],
   "source": [
    "model = pm.Model()\n",
    "with model:\n",
    "    p = pm.Dirichlet('p', a=np.array([1., 1., 1.]), shape=k)\n",
    "    p_min_potential = pm.Potential('p_min_potential', tt.switch(tt.min(p) < .1, -np.inf, 0))\n",
    "    \n",
    "    means = pm.Normal('means', mu=[0, 0, 0], sd=15, shape=k)    \n",
    "    order_means_potential = pm.Potential(\n",
    "        'omp', tt.switch(means[1] - means[0] < 0, -np.inf, 0) + \\\n",
    "               tt.switch(means[2] - means[1] < 0, -np.inf, 0))    \n",
    "    sd = pm.Uniform('sd', lower=0, upper=20)\n",
    "    \n",
    "    category = pm.Categorical('category', p=p, shape=ndata)\n",
    "\n",
    "    points = pm.Normal('obs', mu=means[category], sd=sd, observed=data)"
   ]
  },
  {
   "cell_type": "code",
   "execution_count": 64,
   "metadata": {},
   "outputs": [
    {
     "data": {
      "image/svg+xml": [
       "<?xml version=\"1.0\" encoding=\"UTF-8\" standalone=\"no\"?>\n",
       "<!DOCTYPE svg PUBLIC \"-//W3C//DTD SVG 1.1//EN\"\n",
       " \"http://www.w3.org/Graphics/SVG/1.1/DTD/svg11.dtd\">\n",
       "<!-- Generated by graphviz version 2.38.0 (20140413.2041)\n",
       " -->\n",
       "<!-- Title: %3 Pages: 1 -->\n",
       "<svg width=\"726pt\" height=\"254pt\"\n",
       " viewBox=\"0.00 0.00 725.64 254.00\" xmlns=\"http://www.w3.org/2000/svg\" xmlns:xlink=\"http://www.w3.org/1999/xlink\">\n",
       "<g id=\"graph0\" class=\"graph\" transform=\"scale(1 1) rotate(0) translate(4 250)\">\n",
       "<title>%3</title>\n",
       "<polygon fill=\"white\" stroke=\"none\" points=\"-4,4 -4,-250 721.645,-250 721.645,4 -4,4\"/>\n",
       "<g id=\"clust1\" class=\"cluster\"><title>cluster3</title>\n",
       "<path fill=\"none\" stroke=\"black\" d=\"M82.5,-163C82.5,-163 346.5,-163 346.5,-163 352.5,-163 358.5,-169 358.5,-175 358.5,-175 358.5,-226 358.5,-226 358.5,-232 352.5,-238 346.5,-238 346.5,-238 82.5,-238 82.5,-238 76.5,-238 70.5,-232 70.5,-226 70.5,-226 70.5,-175 70.5,-175 70.5,-169 76.5,-163 82.5,-163\"/>\n",
       "<text text-anchor=\"middle\" x=\"347\" y=\"-170.8\" font-family=\"Times,serif\" font-size=\"14.00\">3</text>\n",
       "</g>\n",
       "<g id=\"clust2\" class=\"cluster\"><title>cluster500</title>\n",
       "<path fill=\"none\" stroke=\"black\" d=\"M403.5,-8C403.5,-8 577.5,-8 577.5,-8 583.5,-8 589.5,-14 589.5,-20 589.5,-20 589.5,-143 589.5,-143 589.5,-149 583.5,-155 577.5,-155 577.5,-155 403.5,-155 403.5,-155 397.5,-155 391.5,-149 391.5,-143 391.5,-143 391.5,-20 391.5,-20 391.5,-14 397.5,-8 403.5,-8\"/>\n",
       "<text text-anchor=\"middle\" x=\"571\" y=\"-15.8\" font-family=\"Times,serif\" font-size=\"14.00\">500</text>\n",
       "</g>\n",
       "<!-- means -->\n",
       "<g id=\"node1\" class=\"node\"><title>means</title>\n",
       "<ellipse fill=\"none\" stroke=\"black\" cx=\"149.5\" cy=\"-212\" rx=\"70.6878\" ry=\"18\"/>\n",
       "<text text-anchor=\"middle\" x=\"149.5\" y=\"-208.3\" font-family=\"Times,serif\" font-size=\"14.00\">means ~ Normal</text>\n",
       "</g>\n",
       "<!-- omp -->\n",
       "<g id=\"node4\" class=\"node\"><title>omp</title>\n",
       "<polygon fill=\"none\" stroke=\"black\" points=\"131,-147 0,-147 0,-111 131,-111 131,-147\"/>\n",
       "<text text-anchor=\"middle\" x=\"65.5\" y=\"-125.3\" font-family=\"Times,serif\" font-size=\"14.00\">omp ~ Deterministic</text>\n",
       "</g>\n",
       "<!-- means&#45;&gt;omp -->\n",
       "<g id=\"edge2\" class=\"edge\"><title>means&#45;&gt;omp</title>\n",
       "<path fill=\"none\" stroke=\"black\" d=\"M132.095,-194.217C120.124,-182.673 104.037,-167.161 90.6736,-154.275\"/>\n",
       "<polygon fill=\"black\" stroke=\"black\" points=\"92.7995,-151.462 83.1716,-147.04 87.9405,-156.501 92.7995,-151.462\"/>\n",
       "</g>\n",
       "<!-- obs -->\n",
       "<g id=\"node7\" class=\"node\"><title>obs</title>\n",
       "<ellipse fill=\"lightgrey\" stroke=\"black\" cx=\"490.5\" cy=\"-57\" rx=\"59.5901\" ry=\"18\"/>\n",
       "<text text-anchor=\"middle\" x=\"490.5\" y=\"-53.3\" font-family=\"Times,serif\" font-size=\"14.00\">obs ~ Normal</text>\n",
       "</g>\n",
       "<!-- means&#45;&gt;obs -->\n",
       "<g id=\"edge5\" class=\"edge\"><title>means&#45;&gt;obs</title>\n",
       "<path fill=\"none\" stroke=\"black\" d=\"M149.092,-193.64C149.575,-171.085 154.048,-132.105 177.5,-111 212.564,-79.4457 340.683,-66.3929 421.733,-61.2074\"/>\n",
       "<polygon fill=\"black\" stroke=\"black\" points=\"422.098,-64.6917 431.864,-60.5844 421.668,-57.7049 422.098,-64.6917\"/>\n",
       "</g>\n",
       "<!-- p -->\n",
       "<g id=\"node2\" class=\"node\"><title>p</title>\n",
       "<ellipse fill=\"none\" stroke=\"black\" cx=\"294.5\" cy=\"-212\" rx=\"55.7903\" ry=\"18\"/>\n",
       "<text text-anchor=\"middle\" x=\"294.5\" y=\"-208.3\" font-family=\"Times,serif\" font-size=\"14.00\">p ~ Dirichlet</text>\n",
       "</g>\n",
       "<!-- p_min_potential -->\n",
       "<g id=\"node5\" class=\"node\"><title>p_min_potential</title>\n",
       "<polygon fill=\"none\" stroke=\"black\" points=\"382,-147 187,-147 187,-111 382,-111 382,-147\"/>\n",
       "<text text-anchor=\"middle\" x=\"284.5\" y=\"-125.3\" font-family=\"Times,serif\" font-size=\"14.00\">p_min_potential ~ Deterministic</text>\n",
       "</g>\n",
       "<!-- p&#45;&gt;p_min_potential -->\n",
       "<g id=\"edge1\" class=\"edge\"><title>p&#45;&gt;p_min_potential</title>\n",
       "<path fill=\"none\" stroke=\"black\" d=\"M292.379,-193.822C291.067,-183.19 289.353,-169.306 287.858,-157.204\"/>\n",
       "<polygon fill=\"black\" stroke=\"black\" points=\"291.317,-156.649 286.618,-147.153 284.369,-157.507 291.317,-156.649\"/>\n",
       "</g>\n",
       "<!-- category -->\n",
       "<g id=\"node6\" class=\"node\"><title>category</title>\n",
       "<ellipse fill=\"none\" stroke=\"black\" cx=\"490.5\" cy=\"-129\" rx=\"90.9839\" ry=\"18\"/>\n",
       "<text text-anchor=\"middle\" x=\"490.5\" y=\"-125.3\" font-family=\"Times,serif\" font-size=\"14.00\">category ~ Categorical</text>\n",
       "</g>\n",
       "<!-- p&#45;&gt;category -->\n",
       "<g id=\"edge3\" class=\"edge\"><title>p&#45;&gt;category</title>\n",
       "<path fill=\"none\" stroke=\"black\" d=\"M327.749,-197.259C359.631,-184.084 408.063,-164.068 443.809,-149.296\"/>\n",
       "<polygon fill=\"black\" stroke=\"black\" points=\"445.163,-152.524 453.068,-145.469 442.489,-146.054 445.163,-152.524\"/>\n",
       "</g>\n",
       "<!-- sd -->\n",
       "<g id=\"node3\" class=\"node\"><title>sd</title>\n",
       "<ellipse fill=\"none\" stroke=\"black\" cx=\"658.5\" cy=\"-129\" rx=\"59.2899\" ry=\"18\"/>\n",
       "<text text-anchor=\"middle\" x=\"658.5\" y=\"-125.3\" font-family=\"Times,serif\" font-size=\"14.00\">sd ~ Uniform</text>\n",
       "</g>\n",
       "<!-- sd&#45;&gt;obs -->\n",
       "<g id=\"edge6\" class=\"edge\"><title>sd&#45;&gt;obs</title>\n",
       "<path fill=\"none\" stroke=\"black\" d=\"M624.906,-114.003C598.581,-103.034 561.775,-87.6978 533.333,-75.847\"/>\n",
       "<polygon fill=\"black\" stroke=\"black\" points=\"534.612,-72.5885 524.035,-71.973 531.92,-79.05 534.612,-72.5885\"/>\n",
       "</g>\n",
       "<!-- category&#45;&gt;obs -->\n",
       "<g id=\"edge4\" class=\"edge\"><title>category&#45;&gt;obs</title>\n",
       "<path fill=\"none\" stroke=\"black\" d=\"M490.5,-110.697C490.5,-102.983 490.5,-93.7125 490.5,-85.1124\"/>\n",
       "<polygon fill=\"black\" stroke=\"black\" points=\"494,-85.1043 490.5,-75.1043 487,-85.1044 494,-85.1043\"/>\n",
       "</g>\n",
       "</g>\n",
       "</svg>\n"
      ],
      "text/plain": [
       "<graphviz.dot.Digraph at 0x7f39cb7e6588>"
      ]
     },
     "execution_count": 64,
     "metadata": {},
     "output_type": "execute_result"
    }
   ],
   "source": [
    "model_to_graphviz(model)"
   ]
  },
  {
   "cell_type": "code",
   "execution_count": 66,
   "metadata": {},
   "outputs": [
    {
     "name": "stderr",
     "output_type": "stream",
     "text": [
      "Multiprocess sampling (2 chains in 2 jobs)\n",
      "CompoundStep\n",
      ">NUTS: [sd, means, p]\n",
      ">CategoricalGibbsMetropolis: [category]\n",
      "Sampling 2 chains: 100%|██████████| 12000/12000 [06:35<00:00, 14.99draws/s]\n",
      "The acceptance probability does not match the target. It is 0.8822263093011226, but should be close to 0.8. Try to increase the number of tuning steps.\n"
     ]
    }
   ],
   "source": [
    "with model:    \n",
    "    trace = pm.sample(5000, n_init=10000, tune=1000, chains=2, init=\"advi\", random_seed=seed)"
   ]
  },
  {
   "cell_type": "code",
   "execution_count": 71,
   "metadata": {},
   "outputs": [
    {
     "data": {
      "text/html": [
       "<div>\n",
       "<style scoped>\n",
       "    .dataframe tbody tr th:only-of-type {\n",
       "        vertical-align: middle;\n",
       "    }\n",
       "\n",
       "    .dataframe tbody tr th {\n",
       "        vertical-align: top;\n",
       "    }\n",
       "\n",
       "    .dataframe thead th {\n",
       "        text-align: right;\n",
       "    }\n",
       "</style>\n",
       "<table border=\"1\" class=\"dataframe\">\n",
       "  <thead>\n",
       "    <tr style=\"text-align: right;\">\n",
       "      <th></th>\n",
       "      <th>means</th>\n",
       "      <th>category</th>\n",
       "      <th>p</th>\n",
       "      <th>sd</th>\n",
       "    </tr>\n",
       "    <tr>\n",
       "      <th>p_dim_0</th>\n",
       "      <th></th>\n",
       "      <th></th>\n",
       "      <th></th>\n",
       "      <th></th>\n",
       "    </tr>\n",
       "  </thead>\n",
       "  <tbody>\n",
       "    <tr>\n",
       "      <th>0</th>\n",
       "      <td>9098.0</td>\n",
       "      <td>2181.0</td>\n",
       "      <td>9222.0</td>\n",
       "      <td>9478.0</td>\n",
       "    </tr>\n",
       "    <tr>\n",
       "      <th>1</th>\n",
       "      <td>9098.0</td>\n",
       "      <td>2181.0</td>\n",
       "      <td>9590.0</td>\n",
       "      <td>9478.0</td>\n",
       "    </tr>\n",
       "    <tr>\n",
       "      <th>2</th>\n",
       "      <td>9098.0</td>\n",
       "      <td>2181.0</td>\n",
       "      <td>10280.0</td>\n",
       "      <td>9478.0</td>\n",
       "    </tr>\n",
       "  </tbody>\n",
       "</table>\n",
       "</div>"
      ],
      "text/plain": [
       "          means  category        p      sd\n",
       "p_dim_0                                   \n",
       "0        9098.0    2181.0   9222.0  9478.0\n",
       "1        9098.0    2181.0   9590.0  9478.0\n",
       "2        9098.0    2181.0  10280.0  9478.0"
      ]
     },
     "execution_count": 71,
     "metadata": {},
     "output_type": "execute_result"
    }
   ],
   "source": [
    "az.effective_sample_size(trace).to_dataframe().loc[0, 0]"
   ]
  },
  {
   "cell_type": "code",
   "execution_count": 72,
   "metadata": {},
   "outputs": [
    {
     "data": {
      "text/html": [
       "<div>\n",
       "<style scoped>\n",
       "    .dataframe tbody tr th:only-of-type {\n",
       "        vertical-align: middle;\n",
       "    }\n",
       "\n",
       "    .dataframe tbody tr th {\n",
       "        vertical-align: top;\n",
       "    }\n",
       "\n",
       "    .dataframe thead th {\n",
       "        text-align: right;\n",
       "    }\n",
       "</style>\n",
       "<table border=\"1\" class=\"dataframe\">\n",
       "  <thead>\n",
       "    <tr style=\"text-align: right;\">\n",
       "      <th></th>\n",
       "      <th>means</th>\n",
       "      <th>category</th>\n",
       "      <th>p</th>\n",
       "      <th>sd</th>\n",
       "    </tr>\n",
       "    <tr>\n",
       "      <th>p_dim_0</th>\n",
       "      <th></th>\n",
       "      <th></th>\n",
       "      <th></th>\n",
       "      <th></th>\n",
       "    </tr>\n",
       "  </thead>\n",
       "  <tbody>\n",
       "    <tr>\n",
       "      <th>0</th>\n",
       "      <td>1.0</td>\n",
       "      <td>1.0</td>\n",
       "      <td>1.0</td>\n",
       "      <td>1.0</td>\n",
       "    </tr>\n",
       "    <tr>\n",
       "      <th>1</th>\n",
       "      <td>1.0</td>\n",
       "      <td>1.0</td>\n",
       "      <td>1.0</td>\n",
       "      <td>1.0</td>\n",
       "    </tr>\n",
       "    <tr>\n",
       "      <th>2</th>\n",
       "      <td>1.0</td>\n",
       "      <td>1.0</td>\n",
       "      <td>1.0</td>\n",
       "      <td>1.0</td>\n",
       "    </tr>\n",
       "  </tbody>\n",
       "</table>\n",
       "</div>"
      ],
      "text/plain": [
       "         means  category    p   sd\n",
       "p_dim_0                           \n",
       "0          1.0       1.0  1.0  1.0\n",
       "1          1.0       1.0  1.0  1.0\n",
       "2          1.0       1.0  1.0  1.0"
      ]
     },
     "execution_count": 72,
     "metadata": {},
     "output_type": "execute_result"
    }
   ],
   "source": [
    "az.rhat(trace).to_dataframe().loc[0, 0]"
   ]
  },
  {
   "cell_type": "code",
   "execution_count": 74,
   "metadata": {},
   "outputs": [
    {
     "data": {
      "image/png": "[encoded data removed]",
      "text/plain": [
       "<Figure size 864x432 with 6 Axes>"
      ]
     },
     "metadata": {},
     "output_type": "display_data"
    }
   ],
   "source": [
    "az.plot_trace(trace, var_names=[\"means\"]);"
   ]
  },
  {
   "cell_type": "markdown",
   "metadata": {},
   "source": [
    "## Simulated data"
   ]
  },
  {
   "cell_type": "code",
   "execution_count": 92,
   "metadata": {},
   "outputs": [],
   "source": [
    "seed = 42\n",
    "np.random.seed(seed)"
   ]
  },
  {
   "cell_type": "code",
   "execution_count": 93,
   "metadata": {},
   "outputs": [],
   "source": [
    "conditions = [\"C\" + str(i) for i in range(2)]\n",
    "genes = [\"G\" + str(i) for i in range(2)]\n",
    "sgrnas = [\"S\" + str(i) for i in range(2)]\n",
    "replicates = [\"R\" + str(i) for i in range(2)]"
   ]
  },
  {
   "cell_type": "code",
   "execution_count": 94,
   "metadata": {},
   "outputs": [],
   "source": [
    "combinations = [(g, c, s, r) \\\n",
    "     for g in genes for c in conditions \\\n",
    "     for s in sgrnas for r in replicates]"
   ]
  },
  {
   "cell_type": "code",
   "execution_count": 95,
   "metadata": {},
   "outputs": [],
   "source": [
    "count_table = pd.DataFrame(\n",
    "    combinations, \n",
    "    columns=[\"genes\", \"conditions\", \"sgrnas\", \"replicates\"])"
   ]
  },
  {
   "cell_type": "code",
   "execution_count": 96,
   "metadata": {},
   "outputs": [
    {
     "data": {
      "text/plain": [
       "array([0.06671342])"
      ]
     },
     "execution_count": 96,
     "metadata": {},
     "output_type": "execute_result"
    }
   ],
   "source": [
    "tau_true = sp.stats.halfcauchy.rvs(0, .1, size=1)\n",
    "tau_true"
   ]
  },
  {
   "cell_type": "code",
   "execution_count": 97,
   "metadata": {},
   "outputs": [
    {
     "data": {
      "text/plain": [
       "array([-0.07417733,  0.02127506,  1.0186158 ,  1.06741494])"
      ]
     },
     "execution_count": 97,
     "metadata": {},
     "output_type": "execute_result"
    }
   ],
   "source": [
    "gamma_true = sp.append(\n",
    "    sp.stats.norm.rvs(0, tau_true, size=len(genes)),\n",
    "    sp.stats.norm.rvs(1, tau_true, size=len(genes)))\n",
    "gamma_true"
   ]
  },
  {
   "cell_type": "code",
   "execution_count": 98,
   "metadata": {},
   "outputs": [
    {
     "data": {
      "text/plain": [
       "array([-0.1129297 , -0.10921321, -0.01684367, -0.04037367,  0.84432371,\n",
       "        1.08201822,  1.12188278,  0.96575195])"
      ]
     },
     "execution_count": 98,
     "metadata": {},
     "output_type": "execute_result"
    }
   ],
   "source": [
    "beta_true = sp.stats.norm.rvs(\n",
    "    np.repeat(gamma_true, len(conditions)), tau_true)\n",
    "beta_true"
   ]
  },
  {
   "cell_type": "code",
   "execution_count": 99,
   "metadata": {},
   "outputs": [
    {
     "data": {
      "text/plain": [
       "array([ 0.65178139,  0.47596696,  0.49492759,  0.11769948,  0.53287151,\n",
       "        1.81796995, 12.92919627,  1.48324614,  1.13000173,  0.59724034,\n",
       "        0.54867234,  2.57909825,  1.33781007,  0.52963895,  0.36003566,\n",
       "        0.85064926])"
      ]
     },
     "execution_count": 99,
     "metadata": {},
     "output_type": "execute_result"
    }
   ],
   "source": [
    "l_true = sp.stats.lognorm.rvs(\n",
    "    1, size= len(conditions) * len(genes) * 2 * len(sgrnas))\n",
    "l_true"
   ]
  },
  {
   "cell_type": "code",
   "execution_count": 100,
   "metadata": {},
   "outputs": [
    {
     "data": {
      "text/plain": [
       "array([ 0,  0,  0,  1,  1,  1,  2,  2,  2,  3,  3,  3,  4,  4,  4,  5,  5,\n",
       "        5,  6,  6,  6,  7,  7,  7,  8,  8,  8,  9,  9,  9, 10, 10, 10, 11,\n",
       "       11, 11, 12, 12, 12, 13, 13, 13, 14, 14, 14, 15, 15, 15])"
      ]
     },
     "execution_count": 100,
     "metadata": {},
     "output_type": "execute_result"
    }
   ],
   "source": [
    "l_idx = np.repeat(range(len(l_true)), 3)\n",
    "l_idx"
   ]
  },
  {
   "cell_type": "code",
   "execution_count": 101,
   "metadata": {},
   "outputs": [
    {
     "data": {
      "text/plain": [
       "array([0, 0, 0, 0, 0, 0, 1, 1, 1, 1, 1, 1, 2, 2, 2, 2, 2, 2, 3, 3, 3, 3,\n",
       "       3, 3, 4, 4, 4, 4, 4, 4, 5, 5, 5, 5, 5, 5, 6, 6, 6, 6, 6, 6, 7, 7,\n",
       "       7, 7, 7, 7])"
      ]
     },
     "execution_count": 101,
     "metadata": {},
     "output_type": "execute_result"
    }
   ],
   "source": [
    "beta_idx = np.repeat(range(len(beta_true)), 6)\n",
    "beta_idx"
   ]
  },
  {
   "cell_type": "code",
   "execution_count": 112,
   "metadata": {},
   "outputs": [
    {
     "data": {
      "text/plain": [
       "['G0', 'G1']"
      ]
     },
     "execution_count": 112,
     "metadata": {},
     "output_type": "execute_result"
    }
   ],
   "source": [
    "genes"
   ]
  },
  {
   "cell_type": "code",
   "execution_count": 102,
   "metadata": {},
   "outputs": [],
   "source": [
    "counts = sp.stats.poisson.rvs(\n",
    "    l_true[l_idx] * np.exp(beta_true[beta_idx]))"
   ]
  },
  {
   "cell_type": "code",
   "execution_count": 119,
   "metadata": {},
   "outputs": [],
   "source": [
    "with pm.Model() as model:\n",
    "    p = pm.Dirichlet('p', a=np.array([1., 1.]), shape=2)\n",
    "    p_min_pot = pm.Potential('p_pot', tt.switch(tt.min(p) < .05, -np.inf, 0))\n",
    "    category = pm.Categorical('category', p=p, shape=4)\n",
    "    \n",
    "    tau_g = pm.HalfCauchy('tau_g', 1., shape=1)\n",
    "    mean_g = pm.Normal('mu_g', mu=np.array([0, 1]), sd=.5, shape=2)\n",
    "    mean_order_pot = pm.Potential('mop', tt.switch(mean_g[1] - mean_g[0] < 0, -np.inf, 0))    \n",
    "    gamma = pm.Normal('gamma', mean_g[category], tau_g, shape=4)\n",
    "    \n",
    "    tau_b = pm.HalfCauchy('tau_b', 1., shape=1)\n",
    "    beta = pm.Normal('beta', gamma[np.repeat([0, 1, 2, 3], 2)], tau_b, shape=8)\n",
    "    l = pm.Lognormal('l', 0, .25, shape = 4 * 2 * 2)\n",
    "    \n",
    "    x = pm.Poisson(\n",
    "        'x', \n",
    "        mu = np.exp(beta[beta_idx]) * l[l_idx] ,\n",
    "        observed=counts)"
   ]
  },
  {
   "cell_type": "code",
   "execution_count": 120,
   "metadata": {},
   "outputs": [
    {
     "data": {
      "image/svg+xml": [
       "<?xml version=\"1.0\" encoding=\"UTF-8\" standalone=\"no\"?>\n",
       "<!DOCTYPE svg PUBLIC \"-//W3C//DTD SVG 1.1//EN\"\n",
       " \"http://www.w3.org/Graphics/SVG/1.1/DTD/svg11.dtd\">\n",
       "<!-- Generated by graphviz version 2.38.0 (20140413.2041)\n",
       " -->\n",
       "<!-- Title: %3 Pages: 1 -->\n",
       "<svg width=\"766pt\" height=\"420pt\"\n",
       " viewBox=\"0.00 0.00 765.50 420.00\" xmlns=\"http://www.w3.org/2000/svg\" xmlns:xlink=\"http://www.w3.org/1999/xlink\">\n",
       "<g id=\"graph0\" class=\"graph\" transform=\"scale(1 1) rotate(0) translate(4 416)\">\n",
       "<title>%3</title>\n",
       "<polygon fill=\"white\" stroke=\"none\" points=\"-4,4 -4,-416 761.5,-416 761.5,4 -4,4\"/>\n",
       "<g id=\"clust1\" class=\"cluster\"><title>cluster2</title>\n",
       "<path fill=\"none\" stroke=\"black\" d=\"M73.5,-329C73.5,-329 331.5,-329 331.5,-329 337.5,-329 343.5,-335 343.5,-341 343.5,-341 343.5,-392 343.5,-392 343.5,-398 337.5,-404 331.5,-404 331.5,-404 73.5,-404 73.5,-404 67.5,-404 61.5,-398 61.5,-392 61.5,-392 61.5,-341 61.5,-341 61.5,-335 67.5,-329 73.5,-329\"/>\n",
       "<text text-anchor=\"middle\" x=\"332\" y=\"-336.8\" font-family=\"Times,serif\" font-size=\"14.00\">2</text>\n",
       "</g>\n",
       "<g id=\"clust2\" class=\"cluster\"><title>cluster4</title>\n",
       "<path fill=\"none\" stroke=\"black\" d=\"M346.5,-174C346.5,-174 520.5,-174 520.5,-174 526.5,-174 532.5,-180 532.5,-186 532.5,-186 532.5,-309 532.5,-309 532.5,-315 526.5,-321 520.5,-321 520.5,-321 346.5,-321 346.5,-321 340.5,-321 334.5,-315 334.5,-309 334.5,-309 334.5,-186 334.5,-186 334.5,-180 340.5,-174 346.5,-174\"/>\n",
       "<text text-anchor=\"middle\" x=\"521\" y=\"-181.8\" font-family=\"Times,serif\" font-size=\"14.00\">4</text>\n",
       "</g>\n",
       "<g id=\"clust3\" class=\"cluster\"><title>cluster8</title>\n",
       "<path fill=\"none\" stroke=\"black\" d=\"M473.5,-91C473.5,-91 589.5,-91 589.5,-91 595.5,-91 601.5,-97 601.5,-103 601.5,-103 601.5,-154 601.5,-154 601.5,-160 595.5,-166 589.5,-166 589.5,-166 473.5,-166 473.5,-166 467.5,-166 461.5,-160 461.5,-154 461.5,-154 461.5,-103 461.5,-103 461.5,-97 467.5,-91 473.5,-91\"/>\n",
       "<text text-anchor=\"middle\" x=\"590\" y=\"-98.8\" font-family=\"Times,serif\" font-size=\"14.00\">8</text>\n",
       "</g>\n",
       "<g id=\"clust4\" class=\"cluster\"><title>cluster16</title>\n",
       "<path fill=\"none\" stroke=\"black\" d=\"M621.5,-91C621.5,-91 737.5,-91 737.5,-91 743.5,-91 749.5,-97 749.5,-103 749.5,-103 749.5,-154 749.5,-154 749.5,-160 743.5,-166 737.5,-166 737.5,-166 621.5,-166 621.5,-166 615.5,-166 609.5,-160 609.5,-154 609.5,-154 609.5,-103 609.5,-103 609.5,-97 615.5,-91 621.5,-91\"/>\n",
       "<text text-anchor=\"middle\" x=\"734.5\" y=\"-98.8\" font-family=\"Times,serif\" font-size=\"14.00\">16</text>\n",
       "</g>\n",
       "<g id=\"clust5\" class=\"cluster\"><title>cluster48</title>\n",
       "<path fill=\"none\" stroke=\"black\" d=\"M557.5,-8C557.5,-8 653.5,-8 653.5,-8 659.5,-8 665.5,-14 665.5,-20 665.5,-20 665.5,-71 665.5,-71 665.5,-77 659.5,-83 653.5,-83 653.5,-83 557.5,-83 557.5,-83 551.5,-83 545.5,-77 545.5,-71 545.5,-71 545.5,-20 545.5,-20 545.5,-14 551.5,-8 557.5,-8\"/>\n",
       "<text text-anchor=\"middle\" x=\"650.5\" y=\"-15.8\" font-family=\"Times,serif\" font-size=\"14.00\">48</text>\n",
       "</g>\n",
       "<!-- mu_g -->\n",
       "<g id=\"node1\" class=\"node\"><title>mu_g</title>\n",
       "<ellipse fill=\"none\" stroke=\"black\" cx=\"137.5\" cy=\"-378\" rx=\"68.4888\" ry=\"18\"/>\n",
       "<text text-anchor=\"middle\" x=\"137.5\" y=\"-374.3\" font-family=\"Times,serif\" font-size=\"14.00\">mu_g ~ Normal</text>\n",
       "</g>\n",
       "<!-- mop -->\n",
       "<g id=\"node5\" class=\"node\"><title>mop</title>\n",
       "<polygon fill=\"none\" stroke=\"black\" points=\"131,-313 0,-313 0,-277 131,-277 131,-313\"/>\n",
       "<text text-anchor=\"middle\" x=\"65.5\" y=\"-291.3\" font-family=\"Times,serif\" font-size=\"14.00\">mop ~ Deterministic</text>\n",
       "</g>\n",
       "<!-- mu_g&#45;&gt;mop -->\n",
       "<g id=\"edge3\" class=\"edge\"><title>mu_g&#45;&gt;mop</title>\n",
       "<path fill=\"none\" stroke=\"black\" d=\"M122.582,-360.217C112.417,-348.781 98.7895,-333.451 87.3991,-320.637\"/>\n",
       "<polygon fill=\"black\" stroke=\"black\" points=\"89.9067,-318.189 80.647,-313.04 84.6748,-322.84 89.9067,-318.189\"/>\n",
       "</g>\n",
       "<!-- gamma -->\n",
       "<g id=\"node8\" class=\"node\"><title>gamma</title>\n",
       "<ellipse fill=\"none\" stroke=\"black\" cx=\"440.5\" cy=\"-223\" rx=\"74.9875\" ry=\"18\"/>\n",
       "<text text-anchor=\"middle\" x=\"440.5\" y=\"-219.3\" font-family=\"Times,serif\" font-size=\"14.00\">gamma ~ Normal</text>\n",
       "</g>\n",
       "<!-- mu_g&#45;&gt;gamma -->\n",
       "<g id=\"edge4\" class=\"edge\"><title>mu_g&#45;&gt;gamma</title>\n",
       "<path fill=\"none\" stroke=\"black\" d=\"M139.551,-359.97C143.211,-337.414 153.044,-298.038 178.5,-277 206.061,-254.223 295.366,-239.664 362.1,-231.681\"/>\n",
       "<polygon fill=\"black\" stroke=\"black\" points=\"362.661,-235.14 372.188,-230.504 361.849,-228.187 362.661,-235.14\"/>\n",
       "</g>\n",
       "<!-- p -->\n",
       "<g id=\"node2\" class=\"node\"><title>p</title>\n",
       "<ellipse fill=\"none\" stroke=\"black\" cx=\"279.5\" cy=\"-378\" rx=\"55.7903\" ry=\"18\"/>\n",
       "<text text-anchor=\"middle\" x=\"279.5\" y=\"-374.3\" font-family=\"Times,serif\" font-size=\"14.00\">p ~ Dirichlet</text>\n",
       "</g>\n",
       "<!-- p_pot -->\n",
       "<g id=\"node3\" class=\"node\"><title>p_pot</title>\n",
       "<polygon fill=\"none\" stroke=\"black\" points=\"325,-313 188,-313 188,-277 325,-277 325,-313\"/>\n",
       "<text text-anchor=\"middle\" x=\"256.5\" y=\"-291.3\" font-family=\"Times,serif\" font-size=\"14.00\">p_pot ~ Deterministic</text>\n",
       "</g>\n",
       "<!-- p&#45;&gt;p_pot -->\n",
       "<g id=\"edge1\" class=\"edge\"><title>p&#45;&gt;p_pot</title>\n",
       "<path fill=\"none\" stroke=\"black\" d=\"M274.622,-359.822C271.573,-349.083 267.581,-335.025 264.12,-322.837\"/>\n",
       "<polygon fill=\"black\" stroke=\"black\" points=\"267.469,-321.817 261.371,-313.153 260.735,-323.729 267.469,-321.817\"/>\n",
       "</g>\n",
       "<!-- category -->\n",
       "<g id=\"node7\" class=\"node\"><title>category</title>\n",
       "<ellipse fill=\"none\" stroke=\"black\" cx=\"433.5\" cy=\"-295\" rx=\"90.9839\" ry=\"18\"/>\n",
       "<text text-anchor=\"middle\" x=\"433.5\" y=\"-291.3\" font-family=\"Times,serif\" font-size=\"14.00\">category ~ Categorical</text>\n",
       "</g>\n",
       "<!-- p&#45;&gt;category -->\n",
       "<g id=\"edge2\" class=\"edge\"><title>p&#45;&gt;category</title>\n",
       "<path fill=\"none\" stroke=\"black\" d=\"M307.388,-362.332C331.607,-349.593 366.951,-331.003 394.064,-316.742\"/>\n",
       "<polygon fill=\"black\" stroke=\"black\" points=\"395.694,-319.839 402.916,-312.087 392.436,-313.644 395.694,-319.839\"/>\n",
       "</g>\n",
       "<!-- tau_b -->\n",
       "<g id=\"node4\" class=\"node\"><title>tau_b</title>\n",
       "<ellipse fill=\"none\" stroke=\"black\" cx=\"623.5\" cy=\"-223\" rx=\"82.5854\" ry=\"18\"/>\n",
       "<text text-anchor=\"middle\" x=\"623.5\" y=\"-219.3\" font-family=\"Times,serif\" font-size=\"14.00\">tau_b ~ HalfCauchy</text>\n",
       "</g>\n",
       "<!-- beta -->\n",
       "<g id=\"node9\" class=\"node\"><title>beta</title>\n",
       "<ellipse fill=\"none\" stroke=\"black\" cx=\"531.5\" cy=\"-140\" rx=\"62.2891\" ry=\"18\"/>\n",
       "<text text-anchor=\"middle\" x=\"531.5\" y=\"-136.3\" font-family=\"Times,serif\" font-size=\"14.00\">beta ~ Normal</text>\n",
       "</g>\n",
       "<!-- tau_b&#45;&gt;beta -->\n",
       "<g id=\"edge8\" class=\"edge\"><title>tau_b&#45;&gt;beta</title>\n",
       "<path fill=\"none\" stroke=\"black\" d=\"M604.438,-205.217C590.938,-193.331 572.658,-177.237 557.776,-164.135\"/>\n",
       "<polygon fill=\"black\" stroke=\"black\" points=\"559.729,-161.19 549.91,-157.209 555.103,-166.444 559.729,-161.19\"/>\n",
       "</g>\n",
       "<!-- tau_g -->\n",
       "<g id=\"node6\" class=\"node\"><title>tau_g</title>\n",
       "<ellipse fill=\"none\" stroke=\"black\" cx=\"625.5\" cy=\"-295\" rx=\"82.5854\" ry=\"18\"/>\n",
       "<text text-anchor=\"middle\" x=\"625.5\" y=\"-291.3\" font-family=\"Times,serif\" font-size=\"14.00\">tau_g ~ HalfCauchy</text>\n",
       "</g>\n",
       "<!-- tau_g&#45;&gt;gamma -->\n",
       "<g id=\"edge6\" class=\"edge\"><title>tau_g&#45;&gt;gamma</title>\n",
       "<path fill=\"none\" stroke=\"black\" d=\"M586.266,-279.155C557.746,-268.363 518.976,-253.694 488.59,-242.196\"/>\n",
       "<polygon fill=\"black\" stroke=\"black\" points=\"489.634,-238.849 479.043,-238.584 487.157,-245.396 489.634,-238.849\"/>\n",
       "</g>\n",
       "<!-- category&#45;&gt;gamma -->\n",
       "<g id=\"edge5\" class=\"edge\"><title>category&#45;&gt;gamma</title>\n",
       "<path fill=\"none\" stroke=\"black\" d=\"M435.23,-276.697C436.002,-268.983 436.929,-259.712 437.789,-251.112\"/>\n",
       "<polygon fill=\"black\" stroke=\"black\" points=\"441.277,-251.403 438.79,-241.104 434.312,-250.706 441.277,-251.403\"/>\n",
       "</g>\n",
       "<!-- gamma&#45;&gt;beta -->\n",
       "<g id=\"edge7\" class=\"edge\"><title>gamma&#45;&gt;beta</title>\n",
       "<path fill=\"none\" stroke=\"black\" d=\"M459.355,-205.217C472.621,-193.409 490.551,-177.449 505.218,-164.394\"/>\n",
       "<polygon fill=\"black\" stroke=\"black\" points=\"507.838,-166.748 512.98,-157.485 503.184,-161.519 507.838,-166.748\"/>\n",
       "</g>\n",
       "<!-- x -->\n",
       "<g id=\"node11\" class=\"node\"><title>x</title>\n",
       "<ellipse fill=\"lightgrey\" stroke=\"black\" cx=\"605.5\" cy=\"-57\" rx=\"51.9908\" ry=\"18\"/>\n",
       "<text text-anchor=\"middle\" x=\"605.5\" y=\"-53.3\" font-family=\"Times,serif\" font-size=\"14.00\">x ~ Poisson</text>\n",
       "</g>\n",
       "<!-- beta&#45;&gt;x -->\n",
       "<g id=\"edge9\" class=\"edge\"><title>beta&#45;&gt;x</title>\n",
       "<path fill=\"none\" stroke=\"black\" d=\"M546.833,-122.217C557.42,-110.628 571.662,-95.0384 583.463,-82.1219\"/>\n",
       "<polygon fill=\"black\" stroke=\"black\" points=\"586.279,-84.2282 590.44,-74.4846 581.111,-79.5068 586.279,-84.2282\"/>\n",
       "</g>\n",
       "<!-- l -->\n",
       "<g id=\"node10\" class=\"node\"><title>l</title>\n",
       "<ellipse fill=\"none\" stroke=\"black\" cx=\"679.5\" cy=\"-140\" rx=\"62.2891\" ry=\"18\"/>\n",
       "<text text-anchor=\"middle\" x=\"679.5\" y=\"-136.3\" font-family=\"Times,serif\" font-size=\"14.00\">l ~ Lognormal</text>\n",
       "</g>\n",
       "<!-- l&#45;&gt;x -->\n",
       "<g id=\"edge10\" class=\"edge\"><title>l&#45;&gt;x</title>\n",
       "<path fill=\"none\" stroke=\"black\" d=\"M664.167,-122.217C653.58,-110.628 639.338,-95.0384 627.537,-82.1219\"/>\n",
       "<polygon fill=\"black\" stroke=\"black\" points=\"629.889,-79.5068 620.56,-74.4846 624.721,-84.2282 629.889,-79.5068\"/>\n",
       "</g>\n",
       "</g>\n",
       "</svg>\n"
      ],
      "text/plain": [
       "<graphviz.dot.Digraph at 0x7f39b6e14668>"
      ]
     },
     "execution_count": 120,
     "metadata": {},
     "output_type": "execute_result"
    }
   ],
   "source": [
    "model_to_graphviz(model)"
   ]
  },
  {
   "cell_type": "code",
   "execution_count": null,
   "metadata": {},
   "outputs": [],
   "source": [
    "with model:    \n",
    "    trace = pm.sample(5000, n_init=10000, tune=1000,\n",
    "                      chains=2, init=\"advi\", random_seed=seed)"
   ]
  }
 ],
 "metadata": {
  "kernelspec": {
   "display_name": "Python (ML)",
   "language": "python",
   "name": "ml"
  },
  "language_info": {
   "codemirror_mode": {
    "name": "ipython",
    "version": 3
   },
   "file_extension": ".py",
   "mimetype": "text/x-python",
   "name": "python",
   "nbconvert_exporter": "python",
   "pygments_lexer": "ipython3",
   "version": "3.6.8"
  }
 },
 "nbformat": 4,
 "nbformat_minor": 2
}
