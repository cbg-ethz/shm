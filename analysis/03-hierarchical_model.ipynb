{
 "cells": [
  {
   "cell_type": "markdown",
   "metadata": {},
   "source": [
    "# Structured hierarchical models\n",
    "\n",
    "The goal of this project is to model essential genes for multiple conditions given that we have prior knowledge about functional relations of these genes. The model we want to use is:\n",
    "\n",
    "\\begin{align}\n",
    "\\mathbf{z} & \\sim \\text{MRF} \\\\\n",
    "\\tau^2 & \\sim P(\\cdot) \\\\\n",
    "\\mu_{z_g} & \\sim \\mathcal{N}(0, 1) \\\\\n",
    "\\gamma_g \\mid z_g &  \\sim \\mathcal{N}(\\mu_{z_g}, \\tau^2) \\\\\n",
    "\\beta_{vg} \\mid \\gamma_g &  \\sim \\mathcal{N}(\\gamma_g, \\tau^2) \\\\\n",
    "l_{vg} & \\sim \\text{Gamma}(1, 1) \\\\\n",
    "\\sigma_2 & \\sim \\text{Half-Cauchy}(0, 1) \\\\\n",
    "x_{svg} \\mid \\beta_{vg} &  \\sim \\text{Pois}\\left(l_{vg} \\cdot \\exp \\left( \\beta_{vg} \\right), \\sigma^2\\right) \\\\\n",
    "\\end{align}\n",
    "\n",
    "\n",
    "We start with some simple models, see them in the other notebooks."
   ]
  },
  {
   "cell_type": "code",
   "execution_count": 1,
   "metadata": {},
   "outputs": [],
   "source": [
    "import warnings\n",
    "warnings.filterwarnings(\"ignore\")\n",
    "import os"
   ]
  },
  {
   "cell_type": "code",
   "execution_count": 2,
   "metadata": {},
   "outputs": [],
   "source": [
    "import pandas as pd\n",
    "import pymc3 as pm\n",
    "import numpy as np\n",
    "import scipy as sp\n",
    "import theano.tensor as tt"
   ]
  },
  {
   "cell_type": "code",
   "execution_count": 9,
   "metadata": {},
   "outputs": [],
   "source": [
    "from sklearn.preprocessing import LabelEncoder\n",
    "from pymc3 import  model_to_graphviz"
   ]
  },
  {
   "cell_type": "code",
   "execution_count": 4,
   "metadata": {},
   "outputs": [],
   "source": [
    "%matplotlib inline\n",
    "from matplotlib import pyplot as plt\n",
    "import seaborn as sns\n",
    "import arviz as az\n",
    "\n",
    "sns.set_style(\n",
    "    \"white\", \n",
    "    {'xtick.bottom': True,\n",
    "     'ytick.left': True,\n",
    "     'axes.spines.top': False, \n",
    "     'axes.spines.right': False})"
   ]
  },
  {
   "cell_type": "markdown",
   "metadata": {},
   "source": [
    "Since the MRF is particularly hard to estimate, we make use of a simpler representation first.\n",
    "\n",
    "\\begin{align}\n",
    "\\boldsymbol \\pi & \\sim \\text{Dirichlet}(1, 1) \\\\\n",
    "z_g & \\sim \\text{Categorical}(\\boldsymbol \\pi) \\\\\n",
    "\\tau_g^2 & \\sim \\text{Gamma}(1, 1) \\\\\n",
    "\\mu_{z_g} & \\sim \\mathcal{N}(0, 1) \\\\\n",
    "\\gamma_g \\mid z_g &  \\sim \\mathcal{N}(\\mu_{z_g}, \\tau_g^2) \\\\\n",
    "\\tau_b^2 & \\sim \\text{Gamma}(1, 1) \\\\\n",
    "\\beta_{cg} \\mid \\gamma_g &  \\sim \\mathcal{N}(\\gamma_g, \\tau_b^2) \\\\\n",
    "l_{cgs} & \\sim \\text{Lognormal}(1, 1) \\\\\n",
    "x_{cgs} \\mid \\beta_{vg} &  \\sim \\text{Pois}\\left(l_{vgs} \\cdot \\exp \\left( \\beta_{cg} \\right) \\right) \\\\\n",
    "\\end{align}"
   ]
  },
  {
   "cell_type": "markdown",
   "metadata": {},
   "source": [
    "## Data"
   ]
  },
  {
   "cell_type": "code",
   "execution_count": 11,
   "metadata": {},
   "outputs": [],
   "source": [
    "file_path = os.path.join('../', 'data_raw', 'read_counts-normalized.tsv')"
   ]
  },
  {
   "cell_type": "code",
   "execution_count": 92,
   "metadata": {},
   "outputs": [],
   "source": [
    "sirna_data = pd.read_csv(file_path, sep=\"\\t\")"
   ]
  },
  {
   "cell_type": "code",
   "execution_count": 93,
   "metadata": {},
   "outputs": [],
   "source": [
    "sirna_data = (sirna_data[[\"Gene\", \"sgRNA\", \"LSLCas9_134\", \"LSLCas9_136\"]]\n",
    "    .query(\"Gene != 'Control'\")\n",
    "    .rename(index=str, columns={\"LSLCas9_134\": \"r1\", \"LSLCas9_136\": \"r2\"})\n",
    "    .melt(id_vars=['Gene', 'sgRNA'], value_vars=['r1', 'r2'],\n",
    "          var_name='replicate', value_name='counts')\n",
    "    .sort_values(['Gene', 'sgRNA', 'replicate'])\n",
    ")"
   ]
  },
  {
   "cell_type": "code",
   "execution_count": 96,
   "metadata": {},
   "outputs": [],
   "source": [
    "sirna_data[\"sgRNA\"] = le.fit_transform(sirna_data[\"sgRNA\"].values)"
   ]
  },
  {
   "cell_type": "code",
   "execution_count": 97,
   "metadata": {},
   "outputs": [
    {
     "data": {
      "text/html": [
       "<div>\n",
       "<style scoped>\n",
       "    .dataframe tbody tr th:only-of-type {\n",
       "        vertical-align: middle;\n",
       "    }\n",
       "\n",
       "    .dataframe tbody tr th {\n",
       "        vertical-align: top;\n",
       "    }\n",
       "\n",
       "    .dataframe thead th {\n",
       "        text-align: right;\n",
       "    }\n",
       "</style>\n",
       "<table border=\"1\" class=\"dataframe\">\n",
       "  <thead>\n",
       "    <tr style=\"text-align: right;\">\n",
       "      <th></th>\n",
       "      <th>Gene</th>\n",
       "      <th>sgRNA</th>\n",
       "      <th>replicate</th>\n",
       "      <th>counts</th>\n",
       "    </tr>\n",
       "  </thead>\n",
       "  <tbody>\n",
       "    <tr>\n",
       "      <th>0</th>\n",
       "      <td>ACSM3</td>\n",
       "      <td>0</td>\n",
       "      <td>r1</td>\n",
       "      <td>8987.015957</td>\n",
       "    </tr>\n",
       "    <tr>\n",
       "      <th>900</th>\n",
       "      <td>ACSM3</td>\n",
       "      <td>0</td>\n",
       "      <td>r2</td>\n",
       "      <td>9300.411518</td>\n",
       "    </tr>\n",
       "    <tr>\n",
       "      <th>1</th>\n",
       "      <td>ACSM3</td>\n",
       "      <td>1</td>\n",
       "      <td>r1</td>\n",
       "      <td>15742.897879</td>\n",
       "    </tr>\n",
       "    <tr>\n",
       "      <th>901</th>\n",
       "      <td>ACSM3</td>\n",
       "      <td>1</td>\n",
       "      <td>r2</td>\n",
       "      <td>15869.905865</td>\n",
       "    </tr>\n",
       "    <tr>\n",
       "      <th>2</th>\n",
       "      <td>ACSM3</td>\n",
       "      <td>2</td>\n",
       "      <td>r1</td>\n",
       "      <td>17348.226026</td>\n",
       "    </tr>\n",
       "  </tbody>\n",
       "</table>\n",
       "</div>"
      ],
      "text/plain": [
       "      Gene  sgRNA replicate        counts\n",
       "0    ACSM3      0        r1   8987.015957\n",
       "900  ACSM3      0        r2   9300.411518\n",
       "1    ACSM3      1        r1  15742.897879\n",
       "901  ACSM3      1        r2  15869.905865\n",
       "2    ACSM3      2        r1  17348.226026"
      ]
     },
     "execution_count": 97,
     "metadata": {},
     "output_type": "execute_result"
    }
   ],
   "source": [
    "sirna_data[:5]"
   ]
  },
  {
   "cell_type": "code",
   "execution_count": 29,
   "metadata": {},
   "outputs": [
    {
     "data": {
      "image/png": "[encoded data removed]",
      "text/plain": [
       "<Figure size 432x288 with 1 Axes>"
      ]
     },
     "metadata": {},
     "output_type": "display_data"
    }
   ],
   "source": [
    "plt.hist(sirna_data[[\"counts\"]].values, color=\"darkgrey\", bins=50, density=True);\n",
    "plt.show()"
   ]
  },
  {
   "cell_type": "code",
   "execution_count": 109,
   "metadata": {},
   "outputs": [
    {
     "data": {
      "text/html": [
       "<div>\n",
       "<style scoped>\n",
       "    .dataframe tbody tr th:only-of-type {\n",
       "        vertical-align: middle;\n",
       "    }\n",
       "\n",
       "    .dataframe tbody tr th {\n",
       "        vertical-align: top;\n",
       "    }\n",
       "\n",
       "    .dataframe thead th {\n",
       "        text-align: right;\n",
       "    }\n",
       "</style>\n",
       "<table border=\"1\" class=\"dataframe\">\n",
       "  <thead>\n",
       "    <tr style=\"text-align: right;\">\n",
       "      <th></th>\n",
       "      <th>Gene</th>\n",
       "      <th>sgRNA</th>\n",
       "      <th>replicate</th>\n",
       "      <th>counts</th>\n",
       "    </tr>\n",
       "  </thead>\n",
       "  <tbody>\n",
       "    <tr>\n",
       "      <th>78</th>\n",
       "      <td>B4GALT6</td>\n",
       "      <td>78</td>\n",
       "      <td>r1</td>\n",
       "      <td>1.007739</td>\n",
       "    </tr>\n",
       "    <tr>\n",
       "      <th>978</th>\n",
       "      <td>B4GALT6</td>\n",
       "      <td>78</td>\n",
       "      <td>r2</td>\n",
       "      <td>1.092367</td>\n",
       "    </tr>\n",
       "    <tr>\n",
       "      <th>357</th>\n",
       "      <td>FMO3</td>\n",
       "      <td>357</td>\n",
       "      <td>r1</td>\n",
       "      <td>1.007739</td>\n",
       "    </tr>\n",
       "    <tr>\n",
       "      <th>1257</th>\n",
       "      <td>FMO3</td>\n",
       "      <td>357</td>\n",
       "      <td>r2</td>\n",
       "      <td>1.092367</td>\n",
       "    </tr>\n",
       "    <tr>\n",
       "      <th>555</th>\n",
       "      <td>MNAT1</td>\n",
       "      <td>555</td>\n",
       "      <td>r1</td>\n",
       "      <td>1.007739</td>\n",
       "    </tr>\n",
       "    <tr>\n",
       "      <th>1455</th>\n",
       "      <td>MNAT1</td>\n",
       "      <td>555</td>\n",
       "      <td>r2</td>\n",
       "      <td>1.092367</td>\n",
       "    </tr>\n",
       "    <tr>\n",
       "      <th>687</th>\n",
       "      <td>PRPH2</td>\n",
       "      <td>687</td>\n",
       "      <td>r1</td>\n",
       "      <td>1.007739</td>\n",
       "    </tr>\n",
       "    <tr>\n",
       "      <th>1587</th>\n",
       "      <td>PRPH2</td>\n",
       "      <td>687</td>\n",
       "      <td>r2</td>\n",
       "      <td>1.092367</td>\n",
       "    </tr>\n",
       "    <tr>\n",
       "      <th>777</th>\n",
       "      <td>SEL1L2</td>\n",
       "      <td>777</td>\n",
       "      <td>r1</td>\n",
       "      <td>12.092867</td>\n",
       "    </tr>\n",
       "    <tr>\n",
       "      <th>1677</th>\n",
       "      <td>SEL1L2</td>\n",
       "      <td>777</td>\n",
       "      <td>r2</td>\n",
       "      <td>30.586272</td>\n",
       "    </tr>\n",
       "    <tr>\n",
       "      <th>811</th>\n",
       "      <td>SULT1E1</td>\n",
       "      <td>811</td>\n",
       "      <td>r1</td>\n",
       "      <td>22.170257</td>\n",
       "    </tr>\n",
       "    <tr>\n",
       "      <th>1711</th>\n",
       "      <td>SULT1E1</td>\n",
       "      <td>811</td>\n",
       "      <td>r2</td>\n",
       "      <td>1.092367</td>\n",
       "    </tr>\n",
       "    <tr>\n",
       "      <th>866</th>\n",
       "      <td>TMPRSS11E</td>\n",
       "      <td>866</td>\n",
       "      <td>r1</td>\n",
       "      <td>1.007739</td>\n",
       "    </tr>\n",
       "    <tr>\n",
       "      <th>1766</th>\n",
       "      <td>TMPRSS11E</td>\n",
       "      <td>866</td>\n",
       "      <td>r2</td>\n",
       "      <td>1.092367</td>\n",
       "    </tr>\n",
       "    <tr>\n",
       "      <th>883</th>\n",
       "      <td>ULBP1</td>\n",
       "      <td>883</td>\n",
       "      <td>r1</td>\n",
       "      <td>1.007739</td>\n",
       "    </tr>\n",
       "    <tr>\n",
       "      <th>1783</th>\n",
       "      <td>ULBP1</td>\n",
       "      <td>883</td>\n",
       "      <td>r2</td>\n",
       "      <td>1.092367</td>\n",
       "    </tr>\n",
       "  </tbody>\n",
       "</table>\n",
       "</div>"
      ],
      "text/plain": [
       "           Gene  sgRNA replicate     counts\n",
       "78      B4GALT6     78        r1   1.007739\n",
       "978     B4GALT6     78        r2   1.092367\n",
       "357        FMO3    357        r1   1.007739\n",
       "1257       FMO3    357        r2   1.092367\n",
       "555       MNAT1    555        r1   1.007739\n",
       "1455      MNAT1    555        r2   1.092367\n",
       "687       PRPH2    687        r1   1.007739\n",
       "1587      PRPH2    687        r2   1.092367\n",
       "777      SEL1L2    777        r1  12.092867\n",
       "1677     SEL1L2    777        r2  30.586272\n",
       "811     SULT1E1    811        r1  22.170257\n",
       "1711    SULT1E1    811        r2   1.092367\n",
       "866   TMPRSS11E    866        r1   1.007739\n",
       "1766  TMPRSS11E    866        r2   1.092367\n",
       "883       ULBP1    883        r1   1.007739\n",
       "1783      ULBP1    883        r2   1.092367"
      ]
     },
     "execution_count": 109,
     "metadata": {},
     "output_type": "execute_result"
    }
   ],
   "source": [
    "sirna_data.query(\"counts < 200\")"
   ]
  },
  {
   "cell_type": "markdown",
   "metadata": {},
   "source": [
    "Since it is always _both_ replicates that have a low read count, it is safe to assume that these are no batch effects."
   ]
  },
  {
   "cell_type": "markdown",
   "metadata": {},
   "source": [
    "## Inference"
   ]
  },
  {
   "cell_type": "code",
   "execution_count": 131,
   "metadata": {},
   "outputs": [
    {
     "data": {
      "text/html": [
       "<div>\n",
       "<style scoped>\n",
       "    .dataframe tbody tr th:only-of-type {\n",
       "        vertical-align: middle;\n",
       "    }\n",
       "\n",
       "    .dataframe tbody tr th {\n",
       "        vertical-align: top;\n",
       "    }\n",
       "\n",
       "    .dataframe thead th {\n",
       "        text-align: right;\n",
       "    }\n",
       "</style>\n",
       "<table border=\"1\" class=\"dataframe\">\n",
       "  <thead>\n",
       "    <tr style=\"text-align: right;\">\n",
       "      <th></th>\n",
       "      <th>Gene</th>\n",
       "      <th>sgRNA</th>\n",
       "      <th>replicate</th>\n",
       "      <th>counts</th>\n",
       "    </tr>\n",
       "  </thead>\n",
       "  <tbody>\n",
       "    <tr>\n",
       "      <th>0</th>\n",
       "      <td>ACSM3</td>\n",
       "      <td>0</td>\n",
       "      <td>r1</td>\n",
       "      <td>8987.015957</td>\n",
       "    </tr>\n",
       "    <tr>\n",
       "      <th>900</th>\n",
       "      <td>ACSM3</td>\n",
       "      <td>0</td>\n",
       "      <td>r2</td>\n",
       "      <td>9300.411518</td>\n",
       "    </tr>\n",
       "    <tr>\n",
       "      <th>1</th>\n",
       "      <td>ACSM3</td>\n",
       "      <td>1</td>\n",
       "      <td>r1</td>\n",
       "      <td>15742.897879</td>\n",
       "    </tr>\n",
       "    <tr>\n",
       "      <th>901</th>\n",
       "      <td>ACSM3</td>\n",
       "      <td>1</td>\n",
       "      <td>r2</td>\n",
       "      <td>15869.905865</td>\n",
       "    </tr>\n",
       "    <tr>\n",
       "      <th>2</th>\n",
       "      <td>ACSM3</td>\n",
       "      <td>2</td>\n",
       "      <td>r1</td>\n",
       "      <td>17348.226026</td>\n",
       "    </tr>\n",
       "    <tr>\n",
       "      <th>902</th>\n",
       "      <td>ACSM3</td>\n",
       "      <td>2</td>\n",
       "      <td>r2</td>\n",
       "      <td>17373.002676</td>\n",
       "    </tr>\n",
       "    <tr>\n",
       "      <th>3</th>\n",
       "      <td>ACSM3</td>\n",
       "      <td>3</td>\n",
       "      <td>r1</td>\n",
       "      <td>9330.654939</td>\n",
       "    </tr>\n",
       "    <tr>\n",
       "      <th>903</th>\n",
       "      <td>ACSM3</td>\n",
       "      <td>3</td>\n",
       "      <td>r2</td>\n",
       "      <td>9374.692465</td>\n",
       "    </tr>\n",
       "    <tr>\n",
       "      <th>4</th>\n",
       "      <td>ACSM3</td>\n",
       "      <td>4</td>\n",
       "      <td>r1</td>\n",
       "      <td>8995.077869</td>\n",
       "    </tr>\n",
       "    <tr>\n",
       "      <th>904</th>\n",
       "      <td>ACSM3</td>\n",
       "      <td>4</td>\n",
       "      <td>r2</td>\n",
       "      <td>9365.953530</td>\n",
       "    </tr>\n",
       "    <tr>\n",
       "      <th>5</th>\n",
       "      <td>ACSM3</td>\n",
       "      <td>5</td>\n",
       "      <td>r1</td>\n",
       "      <td>20333.148797</td>\n",
       "    </tr>\n",
       "    <tr>\n",
       "      <th>905</th>\n",
       "      <td>ACSM3</td>\n",
       "      <td>5</td>\n",
       "      <td>r2</td>\n",
       "      <td>20061.317539</td>\n",
       "    </tr>\n",
       "    <tr>\n",
       "      <th>6</th>\n",
       "      <td>ACSM3</td>\n",
       "      <td>6</td>\n",
       "      <td>r1</td>\n",
       "      <td>12011.240547</td>\n",
       "    </tr>\n",
       "    <tr>\n",
       "      <th>906</th>\n",
       "      <td>ACSM3</td>\n",
       "      <td>6</td>\n",
       "      <td>r2</td>\n",
       "      <td>12021.497387</td>\n",
       "    </tr>\n",
       "    <tr>\n",
       "      <th>7</th>\n",
       "      <td>ACSM3</td>\n",
       "      <td>7</td>\n",
       "      <td>r1</td>\n",
       "      <td>12854.718048</td>\n",
       "    </tr>\n",
       "    <tr>\n",
       "      <th>907</th>\n",
       "      <td>ACSM3</td>\n",
       "      <td>7</td>\n",
       "      <td>r2</td>\n",
       "      <td>12881.190113</td>\n",
       "    </tr>\n",
       "    <tr>\n",
       "      <th>8</th>\n",
       "      <td>ACSM3</td>\n",
       "      <td>8</td>\n",
       "      <td>r1</td>\n",
       "      <td>11793.568933</td>\n",
       "    </tr>\n",
       "    <tr>\n",
       "      <th>908</th>\n",
       "      <td>ACSM3</td>\n",
       "      <td>8</td>\n",
       "      <td>r2</td>\n",
       "      <td>11597.659043</td>\n",
       "    </tr>\n",
       "    <tr>\n",
       "      <th>9</th>\n",
       "      <td>ACSM3</td>\n",
       "      <td>9</td>\n",
       "      <td>r1</td>\n",
       "      <td>14593.067737</td>\n",
       "    </tr>\n",
       "    <tr>\n",
       "      <th>909</th>\n",
       "      <td>ACSM3</td>\n",
       "      <td>9</td>\n",
       "      <td>r2</td>\n",
       "      <td>14655.193907</td>\n",
       "    </tr>\n",
       "  </tbody>\n",
       "</table>\n",
       "</div>"
      ],
      "text/plain": [
       "      Gene  sgRNA replicate        counts\n",
       "0    ACSM3      0        r1   8987.015957\n",
       "900  ACSM3      0        r2   9300.411518\n",
       "1    ACSM3      1        r1  15742.897879\n",
       "901  ACSM3      1        r2  15869.905865\n",
       "2    ACSM3      2        r1  17348.226026\n",
       "902  ACSM3      2        r2  17373.002676\n",
       "3    ACSM3      3        r1   9330.654939\n",
       "903  ACSM3      3        r2   9374.692465\n",
       "4    ACSM3      4        r1   8995.077869\n",
       "904  ACSM3      4        r2   9365.953530\n",
       "5    ACSM3      5        r1  20333.148797\n",
       "905  ACSM3      5        r2  20061.317539\n",
       "6    ACSM3      6        r1  12011.240547\n",
       "906  ACSM3      6        r2  12021.497387\n",
       "7    ACSM3      7        r1  12854.718048\n",
       "907  ACSM3      7        r2  12881.190113\n",
       "8    ACSM3      8        r1  11793.568933\n",
       "908  ACSM3      8        r2  11597.659043\n",
       "9    ACSM3      9        r1  14593.067737\n",
       "909  ACSM3      9        r2  14655.193907"
      ]
     },
     "execution_count": 131,
     "metadata": {},
     "output_type": "execute_result"
    }
   ],
   "source": [
    "sirna_data[:20]"
   ]
  },
  {
   "cell_type": "code",
   "execution_count": 126,
   "metadata": {},
   "outputs": [
    {
     "data": {
      "text/plain": [
       "(1800, 4)"
      ]
     },
     "execution_count": 126,
     "metadata": {},
     "output_type": "execute_result"
    }
   ],
   "source": [
    "sirna_data.shape"
   ]
  },
  {
   "cell_type": "code",
   "execution_count": 102,
   "metadata": {},
   "outputs": [],
   "source": [
    "gene_idx = le.fit_transform(sirna_data[\"Gene\"].values)\n",
    "len_genes = len(np.unique(gene_idx))"
   ]
  },
  {
   "cell_type": "code",
   "execution_count": 104,
   "metadata": {},
   "outputs": [
    {
     "data": {
      "text/plain": [
       "90"
      ]
     },
     "execution_count": 104,
     "metadata": {},
     "output_type": "execute_result"
    }
   ],
   "source": [
    "len_genes"
   ]
  },
  {
   "cell_type": "code",
   "execution_count": 103,
   "metadata": {},
   "outputs": [
    {
     "data": {
      "text/plain": [
       "array([ 0,  0,  0, ..., 89, 89, 89])"
      ]
     },
     "execution_count": 103,
     "metadata": {},
     "output_type": "execute_result"
    }
   ],
   "source": [
    "gene_idx"
   ]
  },
  {
   "cell_type": "code",
   "execution_count": 105,
   "metadata": {},
   "outputs": [],
   "source": [
    "len_conditions = 1"
   ]
  },
  {
   "cell_type": "code",
   "execution_count": 111,
   "metadata": {},
   "outputs": [
    {
     "data": {
      "text/plain": [
       "900"
      ]
     },
     "execution_count": 111,
     "metadata": {},
     "output_type": "execute_result"
    }
   ],
   "source": [
    "len_sirnas = len(np.unique(sirna_data[\"sgRNA\"].values))\n",
    "len_sirnas"
   ]
  },
  {
   "cell_type": "code",
   "execution_count": 133,
   "metadata": {},
   "outputs": [
    {
     "data": {
      "text/plain": [
       "10"
      ]
     },
     "execution_count": 133,
     "metadata": {},
     "output_type": "execute_result"
    }
   ],
   "source": [
    "len_sirnas_per_gene = int(len_sirnas / len_genes)\n",
    "len_sirnas_per_gene"
   ]
  },
  {
   "cell_type": "code",
   "execution_count": 112,
   "metadata": {},
   "outputs": [
    {
     "data": {
      "text/plain": [
       "2"
      ]
     },
     "execution_count": 112,
     "metadata": {},
     "output_type": "execute_result"
    }
   ],
   "source": [
    "len_replicates = len(np.unique(sirna_data[\"replicate\"].values))\n",
    "len_replicates"
   ]
  },
  {
   "cell_type": "code",
   "execution_count": 127,
   "metadata": {},
   "outputs": [
    {
     "data": {
      "text/plain": [
       "array([ 0,  1,  2,  3,  4,  5,  6,  7,  8,  9, 10, 11, 12, 13, 14, 15, 16,\n",
       "       17, 18, 19, 20, 21, 22, 23, 24, 25, 26, 27, 28, 29, 30, 31, 32, 33,\n",
       "       34, 35, 36, 37, 38, 39, 40, 41, 42, 43, 44, 45, 46, 47, 48, 49, 50,\n",
       "       51, 52, 53, 54, 55, 56, 57, 58, 59, 60, 61, 62, 63, 64, 65, 66, 67,\n",
       "       68, 69, 70, 71, 72, 73, 74, 75, 76, 77, 78, 79, 80, 81, 82, 83, 84,\n",
       "       85, 86, 87, 88, 89])"
      ]
     },
     "execution_count": 127,
     "metadata": {},
     "output_type": "execute_result"
    }
   ],
   "source": [
    "beta_idx = np.repeat(range(len_genes), len_conditions)\n",
    "beta_idx"
   ]
  },
  {
   "cell_type": "code",
   "execution_count": 136,
   "metadata": {},
   "outputs": [
    {
     "data": {
      "text/plain": [
       "array([0, 0, 0, 0, 0, 0, 0, 0, 0, 0, 0, 0, 0, 0, 0, 0, 0, 0, 0, 0, 1, 1,\n",
       "       1, 1, 1, 1, 1, 1, 1, 1, 1, 1, 1, 1, 1, 1, 1, 1, 1, 1, 2, 2, 2, 2,\n",
       "       2, 2, 2, 2, 2, 2, 2, 2, 2, 2, 2, 2, 2, 2, 2, 2, 3, 3, 3, 3, 3, 3,\n",
       "       3, 3, 3, 3, 3, 3, 3, 3, 3, 3, 3, 3, 3, 3, 4, 4, 4, 4, 4, 4, 4, 4,\n",
       "       4, 4, 4, 4, 4, 4, 4, 4, 4, 4, 4, 4])"
      ]
     },
     "execution_count": 136,
     "metadata": {},
     "output_type": "execute_result"
    }
   ],
   "source": [
    "beta_data_idx = np.repeat(beta_idx, len_replicates * len_sirnas_per_gene)\n",
    "beta_data_idx[:100]"
   ]
  },
  {
   "cell_type": "code",
   "execution_count": 141,
   "metadata": {},
   "outputs": [
    {
     "data": {
      "text/plain": [
       "array([  0,   0,   1, ..., 898, 899, 899])"
      ]
     },
     "execution_count": 141,
     "metadata": {},
     "output_type": "execute_result"
    }
   ],
   "source": [
    "l_idx = np.repeat(range(len_genes * len_conditions * len_sirnas_per_gene), len_replicates)\n",
    "l_idx"
   ]
  },
  {
   "cell_type": "code",
   "execution_count": 150,
   "metadata": {},
   "outputs": [
    {
     "data": {
      "text/plain": [
       "array([ 8987.01595723,  9300.41151812, 15742.89787888, 15869.90586508,\n",
       "       17348.22602643, 17373.00267609,  9330.65493922,  9374.69246518,\n",
       "        8995.07786883,  9365.95353023])"
      ]
     },
     "execution_count": 150,
     "metadata": {},
     "output_type": "execute_result"
    }
   ],
   "source": [
    "counts = np.squeeze(sirna_data[[\"counts\"]].values)\n",
    "counts[:10]"
   ]
  },
  {
   "cell_type": "code",
   "execution_count": 148,
   "metadata": {},
   "outputs": [],
   "source": [
    "with pm.Model() as model:\n",
    "    p = pm.Dirichlet('p', a=np.array([1., 1.]), shape=2)\n",
    "    p_min_pot = pm.Potential('p_pot', tt.switch(tt.min(p) < .05, -np.inf, 0))\n",
    "    category = pm.Categorical('category', p=p, shape=len_genes)\n",
    "    \n",
    "    tau_g = pm.Gamma('tau_g', 1., 1., shape=1)\n",
    "    mean_g = pm.Normal('mu_g', mu=np.array([0, 0]), sd=.5, shape=2)\n",
    "    mean_order_pot = pm.Potential('mop', tt.switch(mean_g[1] - mean_g[0] < 0, -np.inf, 0))    \n",
    "    gamma = pm.Normal('gamma', mean_g[category], tau_g, shape=len_genes)\n",
    "    \n",
    "    tau_b = pm.Gamma('tau_b', 1., 1., shape=1)\n",
    "    beta = pm.Normal('beta', gamma[beta_idx], tau_b, shape=len(beta_idx))\n",
    "    l = pm.Lognormal('l', 0, .25, shape = len_sirnas)\n",
    "    \n",
    "    x = pm.Poisson(\n",
    "        'x', \n",
    "        mu = np.exp(beta[beta_data_idx]) * l[l_idx] ,\n",
    "        observed=counts)"
   ]
  },
  {
   "cell_type": "code",
   "execution_count": 149,
   "metadata": {},
   "outputs": [
    {
     "data": {
      "image/svg+xml": [
       "<?xml version=\"1.0\" encoding=\"UTF-8\" standalone=\"no\"?>\n",
       "<!DOCTYPE svg PUBLIC \"-//W3C//DTD SVG 1.1//EN\"\n",
       " \"http://www.w3.org/Graphics/SVG/1.1/DTD/svg11.dtd\">\n",
       "<!-- Generated by graphviz version 2.38.0 (20140413.2041)\n",
       " -->\n",
       "<!-- Title: %3 Pages: 1 -->\n",
       "<svg width=\"697pt\" height=\"409pt\"\n",
       " viewBox=\"0.00 0.00 696.50 409.00\" xmlns=\"http://www.w3.org/2000/svg\" xmlns:xlink=\"http://www.w3.org/1999/xlink\">\n",
       "<g id=\"graph0\" class=\"graph\" transform=\"scale(1 1) rotate(0) translate(4 405)\">\n",
       "<title>%3</title>\n",
       "<polygon fill=\"white\" stroke=\"none\" points=\"-4,4 -4,-405 692.5,-405 692.5,4 -4,4\"/>\n",
       "<g id=\"clust1\" class=\"cluster\"><title>cluster2</title>\n",
       "<path fill=\"none\" stroke=\"black\" d=\"M73.5,-318C73.5,-318 331.5,-318 331.5,-318 337.5,-318 343.5,-324 343.5,-330 343.5,-330 343.5,-381 343.5,-381 343.5,-387 337.5,-393 331.5,-393 331.5,-393 73.5,-393 73.5,-393 67.5,-393 61.5,-387 61.5,-381 61.5,-381 61.5,-330 61.5,-330 61.5,-324 67.5,-318 73.5,-318\"/>\n",
       "<text text-anchor=\"middle\" x=\"332\" y=\"-325.8\" font-family=\"Times,serif\" font-size=\"14.00\">2</text>\n",
       "</g>\n",
       "<g id=\"clust2\" class=\"cluster\"><title>cluster90</title>\n",
       "<path fill=\"none\" stroke=\"black\" d=\"M346.5,-91C346.5,-91 520.5,-91 520.5,-91 526.5,-91 532.5,-97 532.5,-103 532.5,-103 532.5,-298 532.5,-298 532.5,-304 526.5,-310 520.5,-310 520.5,-310 346.5,-310 346.5,-310 340.5,-310 334.5,-304 334.5,-298 334.5,-298 334.5,-103 334.5,-103 334.5,-97 340.5,-91 346.5,-91\"/>\n",
       "<text text-anchor=\"middle\" x=\"517.5\" y=\"-98.8\" font-family=\"Times,serif\" font-size=\"14.00\">90</text>\n",
       "</g>\n",
       "<g id=\"clust3\" class=\"cluster\"><title>cluster900</title>\n",
       "<path fill=\"none\" stroke=\"black\" d=\"M552.5,-91C552.5,-91 668.5,-91 668.5,-91 674.5,-91 680.5,-97 680.5,-103 680.5,-103 680.5,-154 680.5,-154 680.5,-160 674.5,-166 668.5,-166 668.5,-166 552.5,-166 552.5,-166 546.5,-166 540.5,-160 540.5,-154 540.5,-154 540.5,-103 540.5,-103 540.5,-97 546.5,-91 552.5,-91\"/>\n",
       "<text text-anchor=\"middle\" x=\"662\" y=\"-98.8\" font-family=\"Times,serif\" font-size=\"14.00\">900</text>\n",
       "</g>\n",
       "<g id=\"clust4\" class=\"cluster\"><title>cluster1,800</title>\n",
       "<path fill=\"none\" stroke=\"black\" d=\"M488.5,-8C488.5,-8 584.5,-8 584.5,-8 590.5,-8 596.5,-14 596.5,-20 596.5,-20 596.5,-71 596.5,-71 596.5,-77 590.5,-83 584.5,-83 584.5,-83 488.5,-83 488.5,-83 482.5,-83 476.5,-77 476.5,-71 476.5,-71 476.5,-20 476.5,-20 476.5,-14 482.5,-8 488.5,-8\"/>\n",
       "<text text-anchor=\"middle\" x=\"573\" y=\"-15.8\" font-family=\"Times,serif\" font-size=\"14.00\">1,800</text>\n",
       "</g>\n",
       "<!-- mu_g -->\n",
       "<g id=\"node1\" class=\"node\"><title>mu_g</title>\n",
       "<ellipse fill=\"none\" stroke=\"black\" cx=\"137.5\" cy=\"-367\" rx=\"68.4888\" ry=\"18\"/>\n",
       "<text text-anchor=\"middle\" x=\"137.5\" y=\"-363.3\" font-family=\"Times,serif\" font-size=\"14.00\">mu_g ~ Normal</text>\n",
       "</g>\n",
       "<!-- mop -->\n",
       "<g id=\"node6\" class=\"node\"><title>mop</title>\n",
       "<polygon fill=\"none\" stroke=\"black\" points=\"131,-302 0,-302 0,-266 131,-266 131,-302\"/>\n",
       "<text text-anchor=\"middle\" x=\"65.5\" y=\"-280.3\" font-family=\"Times,serif\" font-size=\"14.00\">mop ~ Deterministic</text>\n",
       "</g>\n",
       "<!-- mu_g&#45;&gt;mop -->\n",
       "<g id=\"edge3\" class=\"edge\"><title>mu_g&#45;&gt;mop</title>\n",
       "<path fill=\"none\" stroke=\"black\" d=\"M122.582,-349.217C112.417,-337.781 98.7895,-322.451 87.3991,-309.637\"/>\n",
       "<polygon fill=\"black\" stroke=\"black\" points=\"89.9067,-307.189 80.647,-302.04 84.6748,-311.84 89.9067,-307.189\"/>\n",
       "</g>\n",
       "<!-- gamma -->\n",
       "<g id=\"node9\" class=\"node\"><title>gamma</title>\n",
       "<ellipse fill=\"none\" stroke=\"black\" cx=\"440.5\" cy=\"-212\" rx=\"74.9875\" ry=\"18\"/>\n",
       "<text text-anchor=\"middle\" x=\"440.5\" y=\"-208.3\" font-family=\"Times,serif\" font-size=\"14.00\">gamma ~ Normal</text>\n",
       "</g>\n",
       "<!-- mu_g&#45;&gt;gamma -->\n",
       "<g id=\"edge6\" class=\"edge\"><title>mu_g&#45;&gt;gamma</title>\n",
       "<path fill=\"none\" stroke=\"black\" d=\"M139.551,-348.97C143.211,-326.414 153.044,-287.038 178.5,-266 206.061,-243.223 295.366,-228.664 362.1,-220.681\"/>\n",
       "<polygon fill=\"black\" stroke=\"black\" points=\"362.661,-224.14 372.188,-219.504 361.849,-217.187 362.661,-224.14\"/>\n",
       "</g>\n",
       "<!-- p -->\n",
       "<g id=\"node2\" class=\"node\"><title>p</title>\n",
       "<ellipse fill=\"none\" stroke=\"black\" cx=\"279.5\" cy=\"-367\" rx=\"55.7903\" ry=\"18\"/>\n",
       "<text text-anchor=\"middle\" x=\"279.5\" y=\"-363.3\" font-family=\"Times,serif\" font-size=\"14.00\">p ~ Dirichlet</text>\n",
       "</g>\n",
       "<!-- p_pot -->\n",
       "<g id=\"node5\" class=\"node\"><title>p_pot</title>\n",
       "<polygon fill=\"none\" stroke=\"black\" points=\"325,-302 188,-302 188,-266 325,-266 325,-302\"/>\n",
       "<text text-anchor=\"middle\" x=\"256.5\" y=\"-280.3\" font-family=\"Times,serif\" font-size=\"14.00\">p_pot ~ Deterministic</text>\n",
       "</g>\n",
       "<!-- p&#45;&gt;p_pot -->\n",
       "<g id=\"edge1\" class=\"edge\"><title>p&#45;&gt;p_pot</title>\n",
       "<path fill=\"none\" stroke=\"black\" d=\"M274.622,-348.822C271.573,-338.083 267.581,-324.025 264.12,-311.837\"/>\n",
       "<polygon fill=\"black\" stroke=\"black\" points=\"267.469,-310.817 261.371,-302.153 260.735,-312.729 267.469,-310.817\"/>\n",
       "</g>\n",
       "<!-- category -->\n",
       "<g id=\"node7\" class=\"node\"><title>category</title>\n",
       "<ellipse fill=\"none\" stroke=\"black\" cx=\"433.5\" cy=\"-284\" rx=\"90.9839\" ry=\"18\"/>\n",
       "<text text-anchor=\"middle\" x=\"433.5\" y=\"-280.3\" font-family=\"Times,serif\" font-size=\"14.00\">category ~ Categorical</text>\n",
       "</g>\n",
       "<!-- p&#45;&gt;category -->\n",
       "<g id=\"edge2\" class=\"edge\"><title>p&#45;&gt;category</title>\n",
       "<path fill=\"none\" stroke=\"black\" d=\"M307.388,-351.332C331.607,-338.593 366.951,-320.003 394.064,-305.742\"/>\n",
       "<polygon fill=\"black\" stroke=\"black\" points=\"395.694,-308.839 402.916,-301.087 392.436,-302.644 395.694,-308.839\"/>\n",
       "</g>\n",
       "<!-- tau_g -->\n",
       "<g id=\"node3\" class=\"node\"><title>tau_g</title>\n",
       "<ellipse fill=\"none\" stroke=\"black\" cx=\"611.5\" cy=\"-284\" rx=\"68.7879\" ry=\"18\"/>\n",
       "<text text-anchor=\"middle\" x=\"611.5\" y=\"-280.3\" font-family=\"Times,serif\" font-size=\"14.00\">tau_g ~ Gamma</text>\n",
       "</g>\n",
       "<!-- tau_g&#45;&gt;gamma -->\n",
       "<g id=\"edge4\" class=\"edge\"><title>tau_g&#45;&gt;gamma</title>\n",
       "<path fill=\"none\" stroke=\"black\" d=\"M576.069,-268.496C549.965,-257.81 514.248,-243.189 486.028,-231.637\"/>\n",
       "<polygon fill=\"black\" stroke=\"black\" points=\"487.35,-228.397 476.77,-227.847 484.698,-234.875 487.35,-228.397\"/>\n",
       "</g>\n",
       "<!-- tau_b -->\n",
       "<g id=\"node4\" class=\"node\"><title>tau_b</title>\n",
       "<ellipse fill=\"none\" stroke=\"black\" cx=\"609.5\" cy=\"-212\" rx=\"68.7879\" ry=\"18\"/>\n",
       "<text text-anchor=\"middle\" x=\"609.5\" y=\"-208.3\" font-family=\"Times,serif\" font-size=\"14.00\">tau_b ~ Gamma</text>\n",
       "</g>\n",
       "<!-- beta -->\n",
       "<g id=\"node8\" class=\"node\"><title>beta</title>\n",
       "<ellipse fill=\"none\" stroke=\"black\" cx=\"462.5\" cy=\"-140\" rx=\"62.2891\" ry=\"18\"/>\n",
       "<text text-anchor=\"middle\" x=\"462.5\" y=\"-136.3\" font-family=\"Times,serif\" font-size=\"14.00\">beta ~ Normal</text>\n",
       "</g>\n",
       "<!-- tau_b&#45;&gt;beta -->\n",
       "<g id=\"edge7\" class=\"edge\"><title>tau_b&#45;&gt;beta</title>\n",
       "<path fill=\"none\" stroke=\"black\" d=\"M577.965,-195.983C555.92,-185.486 526.301,-171.381 502.581,-160.086\"/>\n",
       "<polygon fill=\"black\" stroke=\"black\" points=\"504.012,-156.891 493.478,-155.752 501.002,-163.211 504.012,-156.891\"/>\n",
       "</g>\n",
       "<!-- category&#45;&gt;gamma -->\n",
       "<g id=\"edge5\" class=\"edge\"><title>category&#45;&gt;gamma</title>\n",
       "<path fill=\"none\" stroke=\"black\" d=\"M435.23,-265.697C436.002,-257.983 436.929,-248.712 437.789,-240.112\"/>\n",
       "<polygon fill=\"black\" stroke=\"black\" points=\"441.277,-240.403 438.79,-230.104 434.312,-239.706 441.277,-240.403\"/>\n",
       "</g>\n",
       "<!-- x -->\n",
       "<g id=\"node11\" class=\"node\"><title>x</title>\n",
       "<ellipse fill=\"lightgrey\" stroke=\"black\" cx=\"536.5\" cy=\"-57\" rx=\"51.9908\" ry=\"18\"/>\n",
       "<text text-anchor=\"middle\" x=\"536.5\" y=\"-53.3\" font-family=\"Times,serif\" font-size=\"14.00\">x ~ Poisson</text>\n",
       "</g>\n",
       "<!-- beta&#45;&gt;x -->\n",
       "<g id=\"edge9\" class=\"edge\"><title>beta&#45;&gt;x</title>\n",
       "<path fill=\"none\" stroke=\"black\" d=\"M477.833,-122.217C488.42,-110.628 502.662,-95.0384 514.463,-82.1219\"/>\n",
       "<polygon fill=\"black\" stroke=\"black\" points=\"517.279,-84.2282 521.44,-74.4846 512.111,-79.5068 517.279,-84.2282\"/>\n",
       "</g>\n",
       "<!-- gamma&#45;&gt;beta -->\n",
       "<g id=\"edge8\" class=\"edge\"><title>gamma&#45;&gt;beta</title>\n",
       "<path fill=\"none\" stroke=\"black\" d=\"M445.938,-193.697C448.389,-185.898 451.34,-176.509 454.068,-167.829\"/>\n",
       "<polygon fill=\"black\" stroke=\"black\" points=\"457.465,-168.694 457.124,-158.104 450.787,-166.595 457.465,-168.694\"/>\n",
       "</g>\n",
       "<!-- l -->\n",
       "<g id=\"node10\" class=\"node\"><title>l</title>\n",
       "<ellipse fill=\"none\" stroke=\"black\" cx=\"610.5\" cy=\"-140\" rx=\"62.2891\" ry=\"18\"/>\n",
       "<text text-anchor=\"middle\" x=\"610.5\" y=\"-136.3\" font-family=\"Times,serif\" font-size=\"14.00\">l ~ Lognormal</text>\n",
       "</g>\n",
       "<!-- l&#45;&gt;x -->\n",
       "<g id=\"edge10\" class=\"edge\"><title>l&#45;&gt;x</title>\n",
       "<path fill=\"none\" stroke=\"black\" d=\"M595.167,-122.217C584.58,-110.628 570.338,-95.0384 558.537,-82.1219\"/>\n",
       "<polygon fill=\"black\" stroke=\"black\" points=\"560.889,-79.5068 551.56,-74.4846 555.721,-84.2282 560.889,-79.5068\"/>\n",
       "</g>\n",
       "</g>\n",
       "</svg>\n"
      ],
      "text/plain": [
       "<graphviz.dot.Digraph at 0x7f878fff3780>"
      ]
     },
     "execution_count": 149,
     "metadata": {},
     "output_type": "execute_result"
    }
   ],
   "source": [
    "model_to_graphviz(model)"
   ]
  },
  {
   "cell_type": "code",
   "execution_count": 152,
   "metadata": {},
   "outputs": [
    {
     "name": "stderr",
     "output_type": "stream",
     "text": [
      "Multiprocess sampling (2 chains in 2 jobs)\n",
      "CompoundStep\n",
      ">NUTS: [l, beta, tau_b, gamma, mu_g, tau_g, p]\n",
      ">BinaryGibbsMetropolis: [category]\n",
      "Sampling 2 chains: 100%|██████████| 22000/22000 [1:09:10<00:00,  2.37draws/s]\n",
      "There were 1437 divergences after tuning. Increase `target_accept` or reparameterize.\n",
      "The acceptance probability does not match the target. It is 0.7067871783921574, but should be close to 0.8. Try to increase the number of tuning steps.\n",
      "The chain reached the maximum tree depth. Increase max_treedepth, increase target_accept or reparameterize.\n",
      "The chain contains only diverging samples. The model is probably misspecified.\n",
      "The acceptance probability does not match the target. It is 0.12532512724851755, but should be close to 0.8. Try to increase the number of tuning steps.\n",
      "The gelman-rubin statistic is larger than 1.4 for some parameters. The sampler did not converge.\n",
      "The estimated number of effective samples is smaller than 200 for some parameters.\n"
     ]
    }
   ],
   "source": [
    "with model:\n",
    "    trace = pm.sample(10000, tune=1000, n_init=10000, init=\"advi\", random_seed=23)"
   ]
  },
  {
   "cell_type": "code",
   "execution_count": 153,
   "metadata": {},
   "outputs": [],
   "source": [
    "trace_1 = pm.save_trace(trace)"
   ]
  },
  {
   "cell_type": "code",
   "execution_count": 155,
   "metadata": {},
   "outputs": [
    {
     "data": {
      "text/plain": [
       "<xarray.Dataset>\n",
       "Dimensions:         (beta_dim_0: 90, category_dim_0: 90, gamma_dim_0: 90, l_dim_0: 900, mu_g_dim_0: 2, p_dim_0: 2, tau_b_dim_0: 1, tau_g_dim_0: 1)\n",
       "Coordinates:\n",
       "  * category_dim_0  (category_dim_0) int64 0 1 2 3 4 5 6 ... 84 85 86 87 88 89\n",
       "  * mu_g_dim_0      (mu_g_dim_0) int64 0 1\n",
       "  * gamma_dim_0     (gamma_dim_0) int64 0 1 2 3 4 5 6 7 ... 83 84 85 86 87 88 89\n",
       "  * beta_dim_0      (beta_dim_0) int64 0 1 2 3 4 5 6 7 ... 83 84 85 86 87 88 89\n",
       "  * p_dim_0         (p_dim_0) int64 0 1\n",
       "  * tau_g_dim_0     (tau_g_dim_0) int64 0\n",
       "  * tau_b_dim_0     (tau_b_dim_0) int64 0\n",
       "  * l_dim_0         (l_dim_0) int64 0 1 2 3 4 5 6 ... 894 895 896 897 898 899\n",
       "Data variables:\n",
       "    category        (category_dim_0) float64 1.0 1.01 1.01 ... 1.01 1.02 1.02\n",
       "    mu_g            (mu_g_dim_0) float64 1.41 1.5\n",
       "    gamma           (gamma_dim_0) float64 1.93 1.25 1.28 3.52 ... 2.69 3.11 1.02\n",
       "    beta            (beta_dim_0) float64 3.38 1.14 12.53 1.91 ... 3.16 2.37 2.49\n",
       "    p               (p_dim_0) float64 1.17 1.17\n",
       "    tau_g           (tau_g_dim_0) float64 3.63\n",
       "    tau_b           (tau_b_dim_0) float64 1.42\n",
       "    l               (l_dim_0) float64 3.59 3.75 3.6 3.51 ... 2.28 2.26 2.27 2.29"
      ]
     },
     "execution_count": 155,
     "metadata": {},
     "output_type": "execute_result"
    }
   ],
   "source": [
    "az.rhat(trace)"
   ]
  },
  {
   "cell_type": "code",
   "execution_count": 156,
   "metadata": {},
   "outputs": [
    {
     "data": {
      "text/plain": [
       "<xarray.Dataset>\n",
       "Dimensions:         (beta_dim_0: 90, category_dim_0: 90, gamma_dim_0: 90, l_dim_0: 900, mu_g_dim_0: 2, p_dim_0: 2, tau_b_dim_0: 1, tau_g_dim_0: 1)\n",
       "Coordinates:\n",
       "  * category_dim_0  (category_dim_0) int64 0 1 2 3 4 5 6 ... 84 85 86 87 88 89\n",
       "  * mu_g_dim_0      (mu_g_dim_0) int64 0 1\n",
       "  * gamma_dim_0     (gamma_dim_0) int64 0 1 2 3 4 5 6 7 ... 83 84 85 86 87 88 89\n",
       "  * beta_dim_0      (beta_dim_0) int64 0 1 2 3 4 5 6 7 ... 83 84 85 86 87 88 89\n",
       "  * p_dim_0         (p_dim_0) int64 0 1\n",
       "  * tau_g_dim_0     (tau_g_dim_0) int64 0\n",
       "  * tau_b_dim_0     (tau_b_dim_0) int64 0\n",
       "  * l_dim_0         (l_dim_0) int64 0 1 2 3 4 5 6 ... 894 895 896 897 898 899\n",
       "Data variables:\n",
       "    category        (category_dim_0) float64 248.0 167.0 142.0 ... 136.0 84.0\n",
       "    mu_g            (mu_g_dim_0) float64 9.0 2.0\n",
       "    gamma           (gamma_dim_0) float64 5.0 6.0 6.0 1.0 ... 5.0 1.0 1.0 63.0\n",
       "    beta            (beta_dim_0) float64 1.0 9.0 1.0 1.0 1.0 ... 1.0 1.0 1.0 1.0\n",
       "    p               (p_dim_0) float64 10.0 10.0\n",
       "    tau_g           (tau_g_dim_0) float64 1.0\n",
       "    tau_b           (tau_b_dim_0) float64 1.0\n",
       "    l               (l_dim_0) float64 1.0 1.0 1.0 1.0 1.0 ... 1.0 1.0 1.0 1.0"
      ]
     },
     "execution_count": 156,
     "metadata": {},
     "output_type": "execute_result"
    }
   ],
   "source": [
    "az.effective_sample_size(trace)"
   ]
  },
  {
   "cell_type": "code",
   "execution_count": 170,
   "metadata": {},
   "outputs": [
    {
     "data": {
      "text/plain": [
       "array([0, 0, 0, 0, 0, 0, 0, 0, 0, 0, 0, 0, 0, 0, 0, 0, 0, 0, 0, 0, 1])"
      ]
     },
     "execution_count": 170,
     "metadata": {},
     "output_type": "execute_result"
    }
   ],
   "source": [
    "beta_data_idx[:21]"
   ]
  },
  {
   "cell_type": "code",
   "execution_count": 172,
   "metadata": {},
   "outputs": [
    {
     "data": {
      "text/plain": [
       "array([ 0,  0,  1,  1,  2,  2,  3,  3,  4,  4,  5,  5,  6,  6,  7,  7,  8,\n",
       "        8,  9,  9, 10])"
      ]
     },
     "execution_count": 172,
     "metadata": {},
     "output_type": "execute_result"
    }
   ],
   "source": [
    "l_idx[:21]"
   ]
  },
  {
   "cell_type": "code",
   "execution_count": 169,
   "metadata": {},
   "outputs": [
    {
     "data": {
      "text/html": [
       "<div>\n",
       "<style scoped>\n",
       "    .dataframe tbody tr th:only-of-type {\n",
       "        vertical-align: middle;\n",
       "    }\n",
       "\n",
       "    .dataframe tbody tr th {\n",
       "        vertical-align: top;\n",
       "    }\n",
       "\n",
       "    .dataframe thead th {\n",
       "        text-align: right;\n",
       "    }\n",
       "</style>\n",
       "<table border=\"1\" class=\"dataframe\">\n",
       "  <thead>\n",
       "    <tr style=\"text-align: right;\">\n",
       "      <th></th>\n",
       "      <th>Gene</th>\n",
       "      <th>sgRNA</th>\n",
       "      <th>replicate</th>\n",
       "      <th>counts</th>\n",
       "    </tr>\n",
       "  </thead>\n",
       "  <tbody>\n",
       "    <tr>\n",
       "      <th>0</th>\n",
       "      <td>ACSM3</td>\n",
       "      <td>0</td>\n",
       "      <td>r1</td>\n",
       "      <td>8987.015957</td>\n",
       "    </tr>\n",
       "    <tr>\n",
       "      <th>900</th>\n",
       "      <td>ACSM3</td>\n",
       "      <td>0</td>\n",
       "      <td>r2</td>\n",
       "      <td>9300.411518</td>\n",
       "    </tr>\n",
       "    <tr>\n",
       "      <th>1</th>\n",
       "      <td>ACSM3</td>\n",
       "      <td>1</td>\n",
       "      <td>r1</td>\n",
       "      <td>15742.897879</td>\n",
       "    </tr>\n",
       "    <tr>\n",
       "      <th>901</th>\n",
       "      <td>ACSM3</td>\n",
       "      <td>1</td>\n",
       "      <td>r2</td>\n",
       "      <td>15869.905865</td>\n",
       "    </tr>\n",
       "    <tr>\n",
       "      <th>2</th>\n",
       "      <td>ACSM3</td>\n",
       "      <td>2</td>\n",
       "      <td>r1</td>\n",
       "      <td>17348.226026</td>\n",
       "    </tr>\n",
       "    <tr>\n",
       "      <th>902</th>\n",
       "      <td>ACSM3</td>\n",
       "      <td>2</td>\n",
       "      <td>r2</td>\n",
       "      <td>17373.002676</td>\n",
       "    </tr>\n",
       "    <tr>\n",
       "      <th>3</th>\n",
       "      <td>ACSM3</td>\n",
       "      <td>3</td>\n",
       "      <td>r1</td>\n",
       "      <td>9330.654939</td>\n",
       "    </tr>\n",
       "    <tr>\n",
       "      <th>903</th>\n",
       "      <td>ACSM3</td>\n",
       "      <td>3</td>\n",
       "      <td>r2</td>\n",
       "      <td>9374.692465</td>\n",
       "    </tr>\n",
       "    <tr>\n",
       "      <th>4</th>\n",
       "      <td>ACSM3</td>\n",
       "      <td>4</td>\n",
       "      <td>r1</td>\n",
       "      <td>8995.077869</td>\n",
       "    </tr>\n",
       "    <tr>\n",
       "      <th>904</th>\n",
       "      <td>ACSM3</td>\n",
       "      <td>4</td>\n",
       "      <td>r2</td>\n",
       "      <td>9365.953530</td>\n",
       "    </tr>\n",
       "    <tr>\n",
       "      <th>5</th>\n",
       "      <td>ACSM3</td>\n",
       "      <td>5</td>\n",
       "      <td>r1</td>\n",
       "      <td>20333.148797</td>\n",
       "    </tr>\n",
       "    <tr>\n",
       "      <th>905</th>\n",
       "      <td>ACSM3</td>\n",
       "      <td>5</td>\n",
       "      <td>r2</td>\n",
       "      <td>20061.317539</td>\n",
       "    </tr>\n",
       "    <tr>\n",
       "      <th>6</th>\n",
       "      <td>ACSM3</td>\n",
       "      <td>6</td>\n",
       "      <td>r1</td>\n",
       "      <td>12011.240547</td>\n",
       "    </tr>\n",
       "    <tr>\n",
       "      <th>906</th>\n",
       "      <td>ACSM3</td>\n",
       "      <td>6</td>\n",
       "      <td>r2</td>\n",
       "      <td>12021.497387</td>\n",
       "    </tr>\n",
       "    <tr>\n",
       "      <th>7</th>\n",
       "      <td>ACSM3</td>\n",
       "      <td>7</td>\n",
       "      <td>r1</td>\n",
       "      <td>12854.718048</td>\n",
       "    </tr>\n",
       "    <tr>\n",
       "      <th>907</th>\n",
       "      <td>ACSM3</td>\n",
       "      <td>7</td>\n",
       "      <td>r2</td>\n",
       "      <td>12881.190113</td>\n",
       "    </tr>\n",
       "    <tr>\n",
       "      <th>8</th>\n",
       "      <td>ACSM3</td>\n",
       "      <td>8</td>\n",
       "      <td>r1</td>\n",
       "      <td>11793.568933</td>\n",
       "    </tr>\n",
       "    <tr>\n",
       "      <th>908</th>\n",
       "      <td>ACSM3</td>\n",
       "      <td>8</td>\n",
       "      <td>r2</td>\n",
       "      <td>11597.659043</td>\n",
       "    </tr>\n",
       "    <tr>\n",
       "      <th>9</th>\n",
       "      <td>ACSM3</td>\n",
       "      <td>9</td>\n",
       "      <td>r1</td>\n",
       "      <td>14593.067737</td>\n",
       "    </tr>\n",
       "    <tr>\n",
       "      <th>909</th>\n",
       "      <td>ACSM3</td>\n",
       "      <td>9</td>\n",
       "      <td>r2</td>\n",
       "      <td>14655.193907</td>\n",
       "    </tr>\n",
       "    <tr>\n",
       "      <th>10</th>\n",
       "      <td>ANAPC4</td>\n",
       "      <td>10</td>\n",
       "      <td>r1</td>\n",
       "      <td>12745.882241</td>\n",
       "    </tr>\n",
       "  </tbody>\n",
       "</table>\n",
       "</div>"
      ],
      "text/plain": [
       "       Gene  sgRNA replicate        counts\n",
       "0     ACSM3      0        r1   8987.015957\n",
       "900   ACSM3      0        r2   9300.411518\n",
       "1     ACSM3      1        r1  15742.897879\n",
       "901   ACSM3      1        r2  15869.905865\n",
       "2     ACSM3      2        r1  17348.226026\n",
       "902   ACSM3      2        r2  17373.002676\n",
       "3     ACSM3      3        r1   9330.654939\n",
       "903   ACSM3      3        r2   9374.692465\n",
       "4     ACSM3      4        r1   8995.077869\n",
       "904   ACSM3      4        r2   9365.953530\n",
       "5     ACSM3      5        r1  20333.148797\n",
       "905   ACSM3      5        r2  20061.317539\n",
       "6     ACSM3      6        r1  12011.240547\n",
       "906   ACSM3      6        r2  12021.497387\n",
       "7     ACSM3      7        r1  12854.718048\n",
       "907   ACSM3      7        r2  12881.190113\n",
       "8     ACSM3      8        r1  11793.568933\n",
       "908   ACSM3      8        r2  11597.659043\n",
       "9     ACSM3      9        r1  14593.067737\n",
       "909   ACSM3      9        r2  14655.193907\n",
       "10   ANAPC4     10        r1  12745.882241"
      ]
     },
     "execution_count": 169,
     "metadata": {},
     "output_type": "execute_result"
    }
   ],
   "source": [
    "sirna_data[:21]"
   ]
  },
  {
   "cell_type": "code",
   "execution_count": 173,
   "metadata": {},
   "outputs": [],
   "source": [
    "with pm.Model() as model2:\n",
    "    #p = pm.Dirichlet('p', a=np.array([1., 1.]), shape=2)\n",
    "    #p_min_pot = pm.Potential('p_pot', tt.switch(tt.min(p) < .05, -np.inf, 0))\n",
    "    #category a= pm.Categorical('category', p=p, shape=len_genes)\n",
    "    \n",
    "    tau_g = pm.Gamma('tau_g', 1., 1., shape=1)\n",
    "    #mean_g = pm.Normal('mu_g', mu=np.array([0, 0]), sd=.5, shape=2)\n",
    "    #mean_order_pot = pm.Potential('mop', tt.switch(mean_g[1] - mean_g[0] < 0, -np.inf, 0))    \n",
    "    gamma = pm.Normal('gamma', 0, tau_g, shape=len_genes)\n",
    "    \n",
    "    #tau_b = pm.Gamma('tau_b', 1., 1., shape=1)\n",
    "    #beta = pm.Normal('beta', gamma[beta_idx], tau_b, shape=len(beta_idx))\n",
    "    l = pm.Lognormal('l', 0, .25, shape = sirna_data.shape[0])\n",
    "    \n",
    "    x = pm.Poisson(\n",
    "        'x', \n",
    "        mu = np.exp(gamma[beta_data_idx]) * l[l_idx] ,\n",
    "        observed=counts)"
   ]
  },
  {
   "cell_type": "code",
   "execution_count": 174,
   "metadata": {},
   "outputs": [
    {
     "data": {
      "image/svg+xml": [
       "<?xml version=\"1.0\" encoding=\"UTF-8\" standalone=\"no\"?>\n",
       "<!DOCTYPE svg PUBLIC \"-//W3C//DTD SVG 1.1//EN\"\n",
       " \"http://www.w3.org/Graphics/SVG/1.1/DTD/svg11.dtd\">\n",
       "<!-- Generated by graphviz version 2.38.0 (20140413.2041)\n",
       " -->\n",
       "<!-- Title: %3 Pages: 1 -->\n",
       "<svg width=\"338pt\" height=\"230pt\"\n",
       " viewBox=\"0.00 0.00 338.00 230.00\" xmlns=\"http://www.w3.org/2000/svg\" xmlns:xlink=\"http://www.w3.org/1999/xlink\">\n",
       "<g id=\"graph0\" class=\"graph\" transform=\"scale(1 1) rotate(0) translate(4 226)\">\n",
       "<title>%3</title>\n",
       "<polygon fill=\"white\" stroke=\"none\" points=\"-4,4 -4,-226 334,-226 334,4 -4,4\"/>\n",
       "<g id=\"clust1\" class=\"cluster\"><title>cluster90</title>\n",
       "<path fill=\"none\" stroke=\"black\" d=\"M20,-83C20,-83 162,-83 162,-83 168,-83 174,-89 174,-95 174,-95 174,-146 174,-146 174,-152 168,-158 162,-158 162,-158 20,-158 20,-158 14,-158 8,-152 8,-146 8,-146 8,-95 8,-95 8,-89 14,-83 20,-83\"/>\n",
       "<text text-anchor=\"middle\" x=\"159\" y=\"-90.8\" font-family=\"Times,serif\" font-size=\"14.00\">90</text>\n",
       "</g>\n",
       "<g id=\"clust2\" class=\"cluster\"><title>cluster1,800</title>\n",
       "<path fill=\"none\" stroke=\"black\" d=\"M194,-8C194,-8 310,-8 310,-8 316,-8 322,-14 322,-20 322,-20 322,-146 322,-146 322,-152 316,-158 310,-158 310,-158 194,-158 194,-158 188,-158 182,-152 182,-146 182,-146 182,-20 182,-20 182,-14 188,-8 194,-8\"/>\n",
       "<text text-anchor=\"middle\" x=\"298.5\" y=\"-15.8\" font-family=\"Times,serif\" font-size=\"14.00\">1,800</text>\n",
       "</g>\n",
       "<!-- tau_g -->\n",
       "<g id=\"node1\" class=\"node\"><title>tau_g</title>\n",
       "<ellipse fill=\"none\" stroke=\"black\" cx=\"91\" cy=\"-204\" rx=\"68.7879\" ry=\"18\"/>\n",
       "<text text-anchor=\"middle\" x=\"91\" y=\"-200.3\" font-family=\"Times,serif\" font-size=\"14.00\">tau_g ~ Gamma</text>\n",
       "</g>\n",
       "<!-- gamma -->\n",
       "<g id=\"node2\" class=\"node\"><title>gamma</title>\n",
       "<ellipse fill=\"none\" stroke=\"black\" cx=\"91\" cy=\"-132\" rx=\"74.9875\" ry=\"18\"/>\n",
       "<text text-anchor=\"middle\" x=\"91\" y=\"-128.3\" font-family=\"Times,serif\" font-size=\"14.00\">gamma ~ Normal</text>\n",
       "</g>\n",
       "<!-- tau_g&#45;&gt;gamma -->\n",
       "<g id=\"edge1\" class=\"edge\"><title>tau_g&#45;&gt;gamma</title>\n",
       "<path fill=\"none\" stroke=\"black\" d=\"M91,-185.697C91,-177.983 91,-168.712 91,-160.112\"/>\n",
       "<polygon fill=\"black\" stroke=\"black\" points=\"94.5001,-160.104 91,-150.104 87.5001,-160.104 94.5001,-160.104\"/>\n",
       "</g>\n",
       "<!-- x -->\n",
       "<g id=\"node3\" class=\"node\"><title>x</title>\n",
       "<ellipse fill=\"lightgrey\" stroke=\"black\" cx=\"247\" cy=\"-57\" rx=\"51.9908\" ry=\"18\"/>\n",
       "<text text-anchor=\"middle\" x=\"247\" y=\"-53.3\" font-family=\"Times,serif\" font-size=\"14.00\">x ~ Poisson</text>\n",
       "</g>\n",
       "<!-- gamma&#45;&gt;x -->\n",
       "<g id=\"edge3\" class=\"edge\"><title>gamma&#45;&gt;x</title>\n",
       "<path fill=\"none\" stroke=\"black\" d=\"M117.482,-114.97C134.44,-105.064 157.106,-92.4785 178,-83 185.424,-79.632 193.448,-76.3859 201.307,-73.4111\"/>\n",
       "<polygon fill=\"black\" stroke=\"black\" points=\"202.588,-76.6691 210.761,-69.9271 200.167,-70.101 202.588,-76.6691\"/>\n",
       "</g>\n",
       "<!-- l -->\n",
       "<g id=\"node4\" class=\"node\"><title>l</title>\n",
       "<ellipse fill=\"none\" stroke=\"black\" cx=\"252\" cy=\"-132\" rx=\"62.2891\" ry=\"18\"/>\n",
       "<text text-anchor=\"middle\" x=\"252\" y=\"-128.3\" font-family=\"Times,serif\" font-size=\"14.00\">l ~ Lognormal</text>\n",
       "</g>\n",
       "<!-- l&#45;&gt;x -->\n",
       "<g id=\"edge2\" class=\"edge\"><title>l&#45;&gt;x</title>\n",
       "<path fill=\"none\" stroke=\"black\" d=\"M250.815,-113.7C250.236,-105.245 249.525,-94.8688 248.875,-85.3732\"/>\n",
       "<polygon fill=\"black\" stroke=\"black\" points=\"252.352,-84.9132 248.176,-75.1758 245.368,-85.3916 252.352,-84.9132\"/>\n",
       "</g>\n",
       "</g>\n",
       "</svg>\n"
      ],
      "text/plain": [
       "<graphviz.dot.Digraph at 0x7f87ac13fa20>"
      ]
     },
     "execution_count": 174,
     "metadata": {},
     "output_type": "execute_result"
    }
   ],
   "source": [
    "model_to_graphviz(model2)"
   ]
  },
  {
   "cell_type": "code",
   "execution_count": 6,
   "metadata": {},
   "outputs": [],
   "source": [
    "infile = \"/home/simon/PROJECTS/cell_lines/src/shm/data_raw/read_counts-normalized.tsv\""
   ]
  },
  {
   "cell_type": "code",
   "execution_count": 7,
   "metadata": {},
   "outputs": [],
   "source": [
    "def _load_data(infile):    \n",
    "    dat = pd.read_csv(infile, sep=\"\\t\")\n",
    "    dat = (dat[[\"Condition\", \"Gene\", \"sgRNA\", \"r1\", \"r2\"]]\n",
    "           .query(\"Gene != 'Control'\")\n",
    "           .melt(id_vars=[\"Gene\", \"Condition\", \"sgRNA\"],\n",
    "                 value_vars=[\"r1\", \"r2\"],\n",
    "                 var_name=\"replicate\",\n",
    "                 value_name=\"counts\")\n",
    "           .sort_values([\"Gene\", \"Condition\", \"sgRNA\", \"replicate\"])\n",
    "    )\n",
    "    dat[\"sgRNA\"] = LabelEncoder().fit_transform(dat[\"sgRNA\"].values)\n",
    "    dat[\"counts\"] = sp.floor(dat[\"counts\"].values)\n",
    "    return dat"
   ]
  },
  {
   "cell_type": "code",
   "execution_count": 10,
   "metadata": {},
   "outputs": [],
   "source": [
    "read_counts = _load_data(infile)\n",
    "read_counts = read_counts.query(\"Gene == 'POLR3K' | Gene == 'BCR'\")"
   ]
  },
  {
   "cell_type": "code",
   "execution_count": 11,
   "metadata": {},
   "outputs": [],
   "source": [
    "def shm(read_counts: pd.DataFrame):\n",
    "    n, _ = read_counts.shape\n",
    "    le = LabelEncoder()\n",
    "\n",
    "    gene_idx = le.fit_transform(read_counts[\"Gene\"].values)\n",
    "    con_idx = le.fit_transform(read_counts[\"Condition\"].values)\n",
    "\n",
    "    len_genes = len(sp.unique(gene_idx))\n",
    "    len_conditions = len(sp.unique(con_idx))\n",
    "    len_sirnas = len(sp.unique(read_counts[\"sgRNA\"].values))\n",
    "    len_replicates = len(sp.unique(read_counts[\"replicate\"].values))\n",
    "    len_sirnas_per_gene = int(len_sirnas / len_genes)\n",
    "\n",
    "    beta_idx = np.repeat(range(len_genes), len_conditions)\n",
    "    beta_data_idx = np.repeat(beta_idx, int(n / len(beta_idx)))\n",
    "\n",
    "    l_idx = np.repeat(\n",
    "      range(len_genes * len_conditions * len_sirnas_per_gene), len_replicates\n",
    "    )\n",
    "\n",
    "    with pm.Model() as model:\n",
    "        p = pm.Dirichlet(\"p\", a=np.array([1.0, 1.0]), shape=2)\n",
    "        pm.Potential(\"p_pot\", tt.switch(tt.min(p) < 0.05, -np.inf, 0))\n",
    "        category = pm.Categorical(\"category\", p=p, shape=len_genes)\n",
    "\n",
    "        tau_g = pm.Gamma(\"tau_g\", 1.0, 1.0, shape=1)\n",
    "        mean_g = pm.Normal(\"mu_g\", mu=np.array([0, 0]), sd=0.5, shape=2)\n",
    "        pm.Potential(\"m_opot\", tt.switch(mean_g[1] - mean_g[0] < 0, -np.inf, 0))\n",
    "        gamma = pm.Normal(\"gamma\", mean_g[category], tau_g, shape=len_genes)\n",
    "\n",
    "        tau_b = pm.Gamma(\"tau_b\", 1.0, 1.0, shape=1)\n",
    "        if len_conditions == 1:\n",
    "            beta = pm.Deterministic(\"beta\", gamma)\n",
    "        else:\n",
    "            beta = pm.Normal(\"beta\", gamma[beta_idx], tau_b,\n",
    "                             shape=len(beta_idx))\n",
    "        l = pm.Lognormal(\"l\", 0, 0.25, shape=len_sirnas)\n",
    "\n",
    "        pm.Poisson(\n",
    "          \"x\",\n",
    "          mu=np.exp(beta[beta_data_idx]) * l[l_idx],\n",
    "          observed=sp.squeeze(read_counts[\"counts\"].values),\n",
    "        )\n",
    "\n",
    "    return model"
   ]
  },
  {
   "cell_type": "code",
   "execution_count": 12,
   "metadata": {},
   "outputs": [],
   "source": [
    "model = shm(read_counts)"
   ]
  },
  {
   "cell_type": "code",
   "execution_count": 14,
   "metadata": {},
   "outputs": [
    {
     "name": "stderr",
     "output_type": "stream",
     "text": [
      "Multiprocess sampling (4 chains in 2 jobs)\n",
      "CompoundStep\n",
      ">NUTS: [l, tau_b, gamma, mu_g, tau_g, p]\n",
      ">BinaryGibbsMetropolis: [category]\n",
      "Sampling 4 chains: 100%|██████████| 6000/6000 [01:22<00:00, 72.46draws/s] \n",
      "There were 620 divergences after tuning. Increase `target_accept` or reparameterize.\n",
      "The acceptance probability does not match the target. It is 0.960271914823274, but should be close to 0.8. Try to increase the number of tuning steps.\n",
      "There were 728 divergences after tuning. Increase `target_accept` or reparameterize.\n",
      "The acceptance probability does not match the target. It is 0.8893725036014983, but should be close to 0.8. Try to increase the number of tuning steps.\n",
      "There were 684 divergences after tuning. Increase `target_accept` or reparameterize.\n",
      "The acceptance probability does not match the target. It is 0.9082475127341609, but should be close to 0.8. Try to increase the number of tuning steps.\n",
      "There were 652 divergences after tuning. Increase `target_accept` or reparameterize.\n",
      "The acceptance probability does not match the target. It is 0.8840991339328469, but should be close to 0.8. Try to increase the number of tuning steps.\n",
      "The estimated number of effective samples is smaller than 200 for some parameters.\n"
     ]
    }
   ],
   "source": [
    "with model:\n",
    "    trace = pm.sample(\n",
    "      1000,\n",
    "      tune=500,\n",
    "      init=\"advi\",\n",
    "      n_init=1000,\n",
    "      chains=4,\n",
    "      random_seed=42,\n",
    "      progressbar=True,\n",
    "      discard_tuned_samples=False)"
   ]
  },
  {
   "cell_type": "code",
   "execution_count": 17,
   "metadata": {},
   "outputs": [
    {
     "data": {
      "image/png": "[encoded data removed]",
      "text/plain": [
       "<Figure size 864x288 with 4 Axes>"
      ]
     },
     "metadata": {},
     "output_type": "display_data"
    }
   ],
   "source": [
    "az.plot_trace(trace, var_names=\"category\");"
   ]
  },
  {
   "cell_type": "code",
   "execution_count": 26,
   "metadata": {},
   "outputs": [],
   "source": [
    "hat  = az.rhat(trace)"
   ]
  },
  {
   "cell_type": "code",
   "execution_count": 27,
   "metadata": {},
   "outputs": [],
   "source": [
    "s = hat.gamma"
   ]
  },
  {
   "cell_type": "code",
   "execution_count": 30,
   "metadata": {},
   "outputs": [],
   "source": [
    "k = s.to_dataframe()"
   ]
  },
  {
   "cell_type": "code",
   "execution_count": 34,
   "metadata": {},
   "outputs": [
    {
     "data": {
      "text/plain": [
       "gamma_dim_0\n",
       "0    1.04\n",
       "1    1.03\n",
       "Name: gamma, dtype: float64"
      ]
     },
     "execution_count": 34,
     "metadata": {},
     "output_type": "execute_result"
    }
   ],
   "source": [
    "k[\"gamma\"]"
   ]
  },
  {
   "cell_type": "code",
   "execution_count": null,
   "metadata": {},
   "outputs": [],
   "source": []
  }
 ],
 "metadata": {
  "kernelspec": {
   "display_name": "Python (ML)",
   "language": "python",
   "name": "ml"
  },
  "language_info": {
   "codemirror_mode": {
    "name": "ipython",
    "version": 3
   },
   "file_extension": ".py",
   "mimetype": "text/x-python",
   "name": "python",
   "nbconvert_exporter": "python",
   "pygments_lexer": "ipython3",
   "version": "3.6.8"
  }
 },
 "nbformat": 4,
 "nbformat_minor": 2
}
