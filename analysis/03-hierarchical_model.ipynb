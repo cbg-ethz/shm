{
 "cells": [
  {
   "cell_type": "markdown",
   "metadata": {},
   "source": [
    "# Structured hierarchical models\n",
    "\n",
    "The goal of this project is to model essential genes for multiple conditions given that we have prior knowledge about functional relations of these genes."
   ]
  },
  {
   "cell_type": "code",
   "execution_count": 34,
   "metadata": {},
   "outputs": [],
   "source": [
    "options(repr.plot.width=8, repr.plot.height=3)"
   ]
  },
  {
   "cell_type": "code",
   "execution_count": 3,
   "metadata": {},
   "outputs": [],
   "source": [
    "library(rstan)\n",
    "options(mc.cores = parallel::detectCores() - 1)\n",
    "rstan_options(auto_write = TRUE)"
   ]
  },
  {
   "cell_type": "code",
   "execution_count": 161,
   "metadata": {},
   "outputs": [
    {
     "name": "stderr",
     "output_type": "stream",
     "text": [
      "\n",
      "Attaching package: ‘magrittr’\n",
      "\n",
      "The following object is masked from ‘package:purrr’:\n",
      "\n",
      "    set_names\n",
      "\n",
      "The following object is masked from ‘package:tidyr’:\n",
      "\n",
      "    extract\n",
      "\n"
     ]
    }
   ],
   "source": [
    "library(readr)\n",
    "library(magrittr)\n",
    "library(dplyr)\n",
    "library(ggplot2)\n",
    "library(greta)\n",
    "library(LaplacesDemon)"
   ]
  },
  {
   "cell_type": "markdown",
   "metadata": {},
   "source": [
    "The goal of this project is to estimate the model:\n",
    "\n",
    "\\begin{align}\n",
    "\\mathbf{z} & \\sim \\text{MRF} \\\\\n",
    "\\tau^2 & \\sim P(\\cdot) \\\\\n",
    "\\mu_{z_g} & \\sim \\mathcal{N}(0, 1) \\\\\n",
    "\\gamma_g \\mid z_g &  \\sim \\mathcal{N}(\\mu_{z_g}, \\tau^2) \\\\\n",
    "\\beta_{vg} \\mid \\gamma_g &  \\sim \\mathcal{N}(\\gamma_g, \\tau^2) \\\\\n",
    "l_{vg} & \\sim \\text{Gamma}(1, 1) \\\\\n",
    "\\sigma_2 & \\sim \\text{Half-Cauchy}(0, 1) \\\\\n",
    "x_{svg} \\mid \\beta_{vg} &  \\sim \\text{Pois}\\left(l_{vg} \\cdot \\exp \\left( \\beta_{vg} \\right), \\sigma^2\\right) \\\\\n",
    "\\end{align}"
   ]
  },
  {
   "cell_type": "markdown",
   "metadata": {},
   "source": [
    "Since the MRF is particularly hard to estimate, we make use of a simpler representation first.\n",
    "\n",
    "\\begin{align}\n",
    "\\boldsymbol \\pi & \\sim \\text{Dirichlet}(0.5, 0.5) \\\\\n",
    "z_g & \\sim \\text{Categorical}(\\boldsymbol \\pi) \\\\\n",
    "\\tau^2 & \\sim P(\\cdot) \\\\\n",
    "\\mu_{z_g} & \\sim \\mathcal{N}(0, 1) \\\\\n",
    "\\gamma_g \\mid z_g &  \\sim \\mathcal{N}(\\mu_{z_g}, \\tau^2) \\\\\n",
    "\\beta_{vg} \\mid \\gamma_g &  \\sim \\mathcal{N}(\\gamma_g, \\tau^2) \\\\\n",
    "l_{vg} & \\sim \\text{Gamma}(1, 1) \\\\\n",
    "\\sigma_2 & \\sim \\text{Half-Cauchy}(0, 1) \\\\\n",
    "x_{svg} \\mid \\beta_{vg} &  \\sim \\text{Pois}\\left(l_{vg} \\cdot \\exp \\left( \\beta_{vg} \\right), \\sigma^2\\right) \\\\\n",
    "\\end{align}"
   ]
  },
  {
   "cell_type": "markdown",
   "metadata": {},
   "source": [
    "Another way to make thie easier:\n",
    "\n",
    "\\begin{align}\n",
    "\\tau^2 & \\sim P(\\cdot) \\\\\n",
    "\\gamma_g &  \\sim \\mathcal{N}(0, \\tau^2) \\\\\n",
    "\\beta_{vg} \\mid \\gamma_g &  \\sim \\mathcal{N}(\\gamma_g, \\tau^2) \\\\\n",
    "l_{vg} & \\sim \\text{Log-Norm}(0, .1) \\\\\n",
    "\\sigma_2 & \\sim \\text{Half-Cauchy}(0, 1) \\\\\n",
    "\\alpha & \\propto 1 \\\\\n",
    "x_{vgs} \\mid \\beta_{vg} &  \\sim \\text{Pois}\\left(l_{vgs} \\cdot \\exp \\left(\\alpha +  \\beta_{vg} \\right) \\right) \\\\\n",
    "\\end{align}"
   ]
  },
  {
   "cell_type": "code",
   "execution_count": 79,
   "metadata": {},
   "outputs": [],
   "source": [
    "file_path <- file.path('../', 'data_raw', 'read_counts-normalized.tsv')"
   ]
  },
  {
   "cell_type": "code",
   "execution_count": 96,
   "metadata": {},
   "outputs": [],
   "source": [
    "suppressMessages(\n",
    "    sirnas <- readr::read_tsv(file_path) %>%\n",
    "    dplyr::filter(Gene != \"Control\")\n",
    ")"
   ]
  },
  {
   "cell_type": "code",
   "execution_count": 97,
   "metadata": {},
   "outputs": [],
   "source": [
    "genes <- unique(sirnas$Gene)\n",
    "replicates <- seq(2)\n",
    "viruses <- 1"
   ]
  },
  {
   "cell_type": "code",
   "execution_count": 98,
   "metadata": {},
   "outputs": [],
   "source": [
    "sirnas <- sirnas %>% \n",
    "    dplyr::select(sgRNA, Gene, LSLCas9_134, LSLCas9_136) %>%\n",
    "    dplyr::rename(r1 = LSLCas9_134, r2 = LSLCas9_136) %>%\n",
    "    tidyr::gather(\"replicate\", \"counts\", -sgRNA, -Gene) %>%\n",
    "    dplyr::mutate(counts = floor(counts)) %>%\n",
    "    dplyr::arrange(sgRNA, replicate)"
   ]
  },
  {
   "cell_type": "code",
   "execution_count": 99,
   "metadata": {},
   "outputs": [
    {
     "data": {
      "text/html": [
       "<table>\n",
       "<thead><tr><th scope=col>sgRNA</th><th scope=col>Gene</th><th scope=col>replicate</th><th scope=col>counts</th></tr></thead>\n",
       "<tbody>\n",
       "\t<tr><td>ACSM3_sg001</td><td>ACSM3      </td><td>r1         </td><td> 8987      </td></tr>\n",
       "\t<tr><td>ACSM3_sg001</td><td>ACSM3      </td><td>r2         </td><td> 9300      </td></tr>\n",
       "\t<tr><td>ACSM3_sg002</td><td>ACSM3      </td><td>r1         </td><td>15742      </td></tr>\n",
       "\t<tr><td>ACSM3_sg002</td><td>ACSM3      </td><td>r2         </td><td>15869      </td></tr>\n",
       "\t<tr><td>ACSM3_sg003</td><td>ACSM3      </td><td>r1         </td><td>17348      </td></tr>\n",
       "\t<tr><td>ACSM3_sg003</td><td>ACSM3      </td><td>r2         </td><td>17373      </td></tr>\n",
       "</tbody>\n",
       "</table>\n"
      ],
      "text/latex": [
       "\\begin{tabular}{r|llll}\n",
       " sgRNA & Gene & replicate & counts\\\\\n",
       "\\hline\n",
       "\t ACSM3\\_sg001 & ACSM3         & r1            &  8987        \\\\\n",
       "\t ACSM3\\_sg001 & ACSM3         & r2            &  9300        \\\\\n",
       "\t ACSM3\\_sg002 & ACSM3         & r1            & 15742        \\\\\n",
       "\t ACSM3\\_sg002 & ACSM3         & r2            & 15869        \\\\\n",
       "\t ACSM3\\_sg003 & ACSM3         & r1            & 17348        \\\\\n",
       "\t ACSM3\\_sg003 & ACSM3         & r2            & 17373        \\\\\n",
       "\\end{tabular}\n"
      ],
      "text/markdown": [
       "\n",
       "| sgRNA | Gene | replicate | counts |\n",
       "|---|---|---|---|\n",
       "| ACSM3_sg001 | ACSM3       | r1          |  8987       |\n",
       "| ACSM3_sg001 | ACSM3       | r2          |  9300       |\n",
       "| ACSM3_sg002 | ACSM3       | r1          | 15742       |\n",
       "| ACSM3_sg002 | ACSM3       | r2          | 15869       |\n",
       "| ACSM3_sg003 | ACSM3       | r1          | 17348       |\n",
       "| ACSM3_sg003 | ACSM3       | r2          | 17373       |\n",
       "\n"
      ],
      "text/plain": [
       "  sgRNA       Gene  replicate counts\n",
       "1 ACSM3_sg001 ACSM3 r1         8987 \n",
       "2 ACSM3_sg001 ACSM3 r2         9300 \n",
       "3 ACSM3_sg002 ACSM3 r1        15742 \n",
       "4 ACSM3_sg002 ACSM3 r2        15869 \n",
       "5 ACSM3_sg003 ACSM3 r1        17348 \n",
       "6 ACSM3_sg003 ACSM3 r2        17373 "
      ]
     },
     "metadata": {},
     "output_type": "display_data"
    }
   ],
   "source": [
    "head(sirnas)"
   ]
  },
  {
   "cell_type": "code",
   "execution_count": 92,
   "metadata": {},
   "outputs": [
    {
     "name": "stderr",
     "output_type": "stream",
     "text": [
      "`stat_bin()` using `bins = 30`. Pick better value with `binwidth`.\n"
     ]
    },
    {
     "data": {
      "image/png": "[encoded data removed]",
      "text/plain": [
       "plot without title"
      ]
     },
     "metadata": {},
     "output_type": "display_data"
    }
   ],
   "source": [
    "ggplot2::ggplot(sirnas, aes(counts)) +\n",
    "    geom_histogram() +\n",
    "    theme_minimal()"
   ]
  },
  {
   "cell_type": "markdown",
   "metadata": {},
   "source": [
    "Since it is always _both_ replicates that have a low read count, it is safe to assume that these are no batch effects."
   ]
  },
  {
   "cell_type": "code",
   "execution_count": 108,
   "metadata": {},
   "outputs": [
    {
     "data": {
      "text/html": [
       "<table>\n",
       "<thead><tr><th scope=col>Gene</th><th scope=col>n</th></tr></thead>\n",
       "<tbody>\n",
       "\t<tr><td>B4GALT6  </td><td>2        </td></tr>\n",
       "\t<tr><td>DKK4     </td><td>2        </td></tr>\n",
       "\t<tr><td>EPHA4    </td><td>2        </td></tr>\n",
       "\t<tr><td>EPN2     </td><td>2        </td></tr>\n",
       "\t<tr><td>ESPL1    </td><td>2        </td></tr>\n",
       "\t<tr><td>F11      </td><td>2        </td></tr>\n",
       "\t<tr><td>FEZF2    </td><td>2        </td></tr>\n",
       "\t<tr><td>FMO3     </td><td>2        </td></tr>\n",
       "\t<tr><td>GNAI3    </td><td>2        </td></tr>\n",
       "\t<tr><td>MNAT1    </td><td>2        </td></tr>\n",
       "\t<tr><td>PRDM13   </td><td>2        </td></tr>\n",
       "\t<tr><td>PRPH2    </td><td>2        </td></tr>\n",
       "\t<tr><td>SEL1L2   </td><td>2        </td></tr>\n",
       "\t<tr><td>SULT1E1  </td><td>2        </td></tr>\n",
       "\t<tr><td>SUMO1    </td><td>2        </td></tr>\n",
       "\t<tr><td>TMPRSS11E</td><td>2        </td></tr>\n",
       "\t<tr><td>ULBP1    </td><td>2        </td></tr>\n",
       "</tbody>\n",
       "</table>\n"
      ],
      "text/latex": [
       "\\begin{tabular}{r|ll}\n",
       " Gene & n\\\\\n",
       "\\hline\n",
       "\t B4GALT6   & 2        \\\\\n",
       "\t DKK4      & 2        \\\\\n",
       "\t EPHA4     & 2        \\\\\n",
       "\t EPN2      & 2        \\\\\n",
       "\t ESPL1     & 2        \\\\\n",
       "\t F11       & 2        \\\\\n",
       "\t FEZF2     & 2        \\\\\n",
       "\t FMO3      & 2        \\\\\n",
       "\t GNAI3     & 2        \\\\\n",
       "\t MNAT1     & 2        \\\\\n",
       "\t PRDM13    & 2        \\\\\n",
       "\t PRPH2     & 2        \\\\\n",
       "\t SEL1L2    & 2        \\\\\n",
       "\t SULT1E1   & 2        \\\\\n",
       "\t SUMO1     & 2        \\\\\n",
       "\t TMPRSS11E & 2        \\\\\n",
       "\t ULBP1     & 2        \\\\\n",
       "\\end{tabular}\n"
      ],
      "text/markdown": [
       "\n",
       "| Gene | n |\n",
       "|---|---|\n",
       "| B4GALT6   | 2         |\n",
       "| DKK4      | 2         |\n",
       "| EPHA4     | 2         |\n",
       "| EPN2      | 2         |\n",
       "| ESPL1     | 2         |\n",
       "| F11       | 2         |\n",
       "| FEZF2     | 2         |\n",
       "| FMO3      | 2         |\n",
       "| GNAI3     | 2         |\n",
       "| MNAT1     | 2         |\n",
       "| PRDM13    | 2         |\n",
       "| PRPH2     | 2         |\n",
       "| SEL1L2    | 2         |\n",
       "| SULT1E1   | 2         |\n",
       "| SUMO1     | 2         |\n",
       "| TMPRSS11E | 2         |\n",
       "| ULBP1     | 2         |\n",
       "\n"
      ],
      "text/plain": [
       "   Gene      n\n",
       "1  B4GALT6   2\n",
       "2  DKK4      2\n",
       "3  EPHA4     2\n",
       "4  EPN2      2\n",
       "5  ESPL1     2\n",
       "6  F11       2\n",
       "7  FEZF2     2\n",
       "8  FMO3      2\n",
       "9  GNAI3     2\n",
       "10 MNAT1     2\n",
       "11 PRDM13    2\n",
       "12 PRPH2     2\n",
       "13 SEL1L2    2\n",
       "14 SULT1E1   2\n",
       "15 SUMO1     2\n",
       "16 TMPRSS11E 2\n",
       "17 ULBP1     2"
      ]
     },
     "metadata": {},
     "output_type": "display_data"
    }
   ],
   "source": [
    "dplyr::filter(sirnas, counts < 5000) %>%\n",
    "        dplyr::group_by(Gene) %>%\n",
    "        dplyr::summarize(n=n())"
   ]
  },
  {
   "cell_type": "markdown",
   "metadata": {},
   "source": [
    "## Model 1"
   ]
  },
  {
   "cell_type": "markdown",
   "metadata": {},
   "source": [
    "We start modelling with a simple hierarchical model to see if this suffices:\n",
    "\n",
    "\\begin{align}\n",
    "\\tau^2 & \\sim P(\\cdot) \\\\\n",
    "\\gamma_g &  \\sim \\mathcal{N}(0, \\tau^2) \\\\\n",
    "\\beta_{vg} \\mid \\gamma_g &  \\sim \\mathcal{N}(\\gamma_g, \\tau^2) \\\\\n",
    "l_{vg} & \\sim \\text{Log-Norm}(0, .1) \\\\\n",
    "\\alpha & \\propto 1 \\\\\n",
    "x_{vgs} \\mid \\beta_{vg} &  \\sim \\text{Pois}\\left(l_{vgs} \\cdot \\exp \\left(\\alpha +  \\beta_{vg} \\right) \\right) \\\\\n",
    "\\end{align}"
   ]
  },
  {
   "cell_type": "markdown",
   "metadata": {},
   "source": [
    "## Simulated data"
   ]
  },
  {
   "cell_type": "code",
   "execution_count": 182,
   "metadata": {},
   "outputs": [],
   "source": [
    "conditions <- paste0(\"C\", 1:3)\n",
    "genes   <- paste0(\"G\", 1:3)\n",
    "sirnas  <- paste0(\"S\", 1:3)\n",
    "replicates <- paste0(\"R\", 1:3)"
   ]
  },
  {
   "cell_type": "code",
   "execution_count": 183,
   "metadata": {},
   "outputs": [],
   "source": [
    "factor_table <- expand.grid(conditions, genes, sirnas, replicates) %>%\n",
    "    magrittr::set_colnames(c(\"conditions\", \"genes\", \"sirnas\", \"replicates\")) %>%\n",
    "    dplyr::arrange(conditions, genes, sirnas, replicates)"
   ]
  },
  {
   "cell_type": "code",
   "execution_count": 184,
   "metadata": {},
   "outputs": [
    {
     "data": {
      "text/html": [
       "<ol class=list-inline>\n",
       "\t<li>81</li>\n",
       "\t<li>4</li>\n",
       "</ol>\n"
      ],
      "text/latex": [
       "\\begin{enumerate*}\n",
       "\\item 81\n",
       "\\item 4\n",
       "\\end{enumerate*}\n"
      ],
      "text/markdown": [
       "1. 81\n",
       "2. 4\n",
       "\n",
       "\n"
      ],
      "text/plain": [
       "[1] 81  4"
      ]
     },
     "metadata": {},
     "output_type": "display_data"
    }
   ],
   "source": [
    "dim(factor_table)"
   ]
  },
  {
   "cell_type": "code",
   "execution_count": 185,
   "metadata": {},
   "outputs": [
    {
     "data": {
      "text/html": [
       "<table>\n",
       "<thead><tr><th scope=col>conditions</th><th scope=col>genes</th><th scope=col>sirnas</th><th scope=col>replicates</th></tr></thead>\n",
       "<tbody>\n",
       "\t<tr><td>C1</td><td>G1</td><td>S1</td><td>R1</td></tr>\n",
       "\t<tr><td>C1</td><td>G1</td><td>S1</td><td>R2</td></tr>\n",
       "\t<tr><td>C1</td><td>G1</td><td>S1</td><td>R3</td></tr>\n",
       "\t<tr><td>C1</td><td>G1</td><td>S2</td><td>R1</td></tr>\n",
       "\t<tr><td>C1</td><td>G1</td><td>S2</td><td>R2</td></tr>\n",
       "\t<tr><td>C1</td><td>G1</td><td>S2</td><td>R3</td></tr>\n",
       "\t<tr><td>C1</td><td>G1</td><td>S3</td><td>R1</td></tr>\n",
       "\t<tr><td>C1</td><td>G1</td><td>S3</td><td>R2</td></tr>\n",
       "\t<tr><td>C1</td><td>G1</td><td>S3</td><td>R3</td></tr>\n",
       "\t<tr><td>C1</td><td>G2</td><td>S1</td><td>R1</td></tr>\n",
       "</tbody>\n",
       "</table>\n"
      ],
      "text/latex": [
       "\\begin{tabular}{r|llll}\n",
       " conditions & genes & sirnas & replicates\\\\\n",
       "\\hline\n",
       "\t C1 & G1 & S1 & R1\\\\\n",
       "\t C1 & G1 & S1 & R2\\\\\n",
       "\t C1 & G1 & S1 & R3\\\\\n",
       "\t C1 & G1 & S2 & R1\\\\\n",
       "\t C1 & G1 & S2 & R2\\\\\n",
       "\t C1 & G1 & S2 & R3\\\\\n",
       "\t C1 & G1 & S3 & R1\\\\\n",
       "\t C1 & G1 & S3 & R2\\\\\n",
       "\t C1 & G1 & S3 & R3\\\\\n",
       "\t C1 & G2 & S1 & R1\\\\\n",
       "\\end{tabular}\n"
      ],
      "text/markdown": [
       "\n",
       "| conditions | genes | sirnas | replicates |\n",
       "|---|---|---|---|\n",
       "| C1 | G1 | S1 | R1 |\n",
       "| C1 | G1 | S1 | R2 |\n",
       "| C1 | G1 | S1 | R3 |\n",
       "| C1 | G1 | S2 | R1 |\n",
       "| C1 | G1 | S2 | R2 |\n",
       "| C1 | G1 | S2 | R3 |\n",
       "| C1 | G1 | S3 | R1 |\n",
       "| C1 | G1 | S3 | R2 |\n",
       "| C1 | G1 | S3 | R3 |\n",
       "| C1 | G2 | S1 | R1 |\n",
       "\n"
      ],
      "text/plain": [
       "   conditions genes sirnas replicates\n",
       "1  C1         G1    S1     R1        \n",
       "2  C1         G1    S1     R2        \n",
       "3  C1         G1    S1     R3        \n",
       "4  C1         G1    S2     R1        \n",
       "5  C1         G1    S2     R2        \n",
       "6  C1         G1    S2     R3        \n",
       "7  C1         G1    S3     R1        \n",
       "8  C1         G1    S3     R2        \n",
       "9  C1         G1    S3     R3        \n",
       "10 C1         G2    S1     R1        "
      ]
     },
     "metadata": {},
     "output_type": "display_data"
    }
   ],
   "source": [
    "factor_table[1:10,]"
   ]
  },
  {
   "cell_type": "code",
   "execution_count": 186,
   "metadata": {},
   "outputs": [],
   "source": [
    "tau_true <- rgamma(1, 1, 1)\n",
    "gamma_true <- rnorm(length(genes), 0, tau)"
   ]
  },
  {
   "cell_type": "code",
   "execution_count": 211,
   "metadata": {},
   "outputs": [],
   "source": [
    "beta_true <- MASS::mvrnorm(\n",
    "    1, \n",
    "    rep(gamma_true, each=length(conditions)), \n",
    "    diag(tau, length(conditions) * length(genes)))\n",
    "beta_true <- rep(beta_true, each = length(sirnas) * length(replicates))"
   ]
  },
  {
   "cell_type": "code",
   "execution_count": 214,
   "metadata": {},
   "outputs": [],
   "source": [
    "l_true <- rlnorm(length(conditions) * length(genes) * length(sirnas), 0, 1)\n",
    "l_true <- rep(l_true, each = length(replicates))"
   ]
  },
  {
   "cell_type": "code",
   "execution_count": 216,
   "metadata": {},
   "outputs": [],
   "source": [
    "alpha_true <- runif(1, -10, 10)"
   ]
  },
  {
   "cell_type": "code",
   "execution_count": 217,
   "metadata": {},
   "outputs": [],
   "source": [
    "factor_table$counts <- rpois(\n",
    "    nrow(factor_table), \n",
    "    l_true * exp(alpha_true + beta_true)\n",
    ")"
   ]
  },
  {
   "cell_type": "code",
   "execution_count": null,
   "metadata": {},
   "outputs": [],
   "source": [
    "factor_"
   ]
  },
  {
   "cell_type": "code",
   "execution_count": null,
   "metadata": {},
   "outputs": [],
   "source": []
  },
  {
   "cell_type": "code",
   "execution_count": null,
   "metadata": {},
   "outputs": [],
   "source": []
  },
  {
   "cell_type": "code",
   "execution_count": null,
   "metadata": {},
   "outputs": [],
   "source": []
  },
  {
   "cell_type": "code",
   "execution_count": 68,
   "metadata": {},
   "outputs": [],
   "source": [
    "tau <- cauchy(0, 3, truncation = c(0, Inf))\n",
    "gamma <- greta::normal(0, tau, dim = length(genes))\n",
    "l <- greta::lognormal(0, 1, dim = length(genes) * length(viruses))\n",
    "beta <- rep(gamma, each = length(viruses))"
   ]
  },
  {
   "cell_type": "code",
   "execution_count": 69,
   "metadata": {},
   "outputs": [],
   "source": [
    "l <- rep(l, each = 2 * 10)\n",
    "beta <- rep(beta, each = 2 * 10)"
   ]
  },
  {
   "cell_type": "code",
   "execution_count": 70,
   "metadata": {},
   "outputs": [],
   "source": [
    "counts <- floor(sirnas$value)"
   ]
  },
  {
   "cell_type": "code",
   "execution_count": 71,
   "metadata": {},
   "outputs": [
    {
     "data": {
      "image/png": "[encoded data removed]",
      "text/plain": [
       "Plot with title “Histogram of counts”"
      ]
     },
     "metadata": {},
     "output_type": "display_data"
    }
   ],
   "source": [
    "hist(counts, breaks = 50)"
   ]
  },
  {
   "cell_type": "code",
   "execution_count": 72,
   "metadata": {},
   "outputs": [],
   "source": [
    "greta::distribution(counts) <- greta::poisson(l * exp(beta))"
   ]
  },
  {
   "cell_type": "code",
   "execution_count": 73,
   "metadata": {},
   "outputs": [],
   "source": [
    "m <- greta::model(gamma)"
   ]
  },
  {
   "cell_type": "code",
   "execution_count": 74,
   "metadata": {},
   "outputs": [
    {
     "name": "stderr",
     "output_type": "stream",
     "text": [
      "\n",
      "running 4 chains simultaneously on up to 4 cores\n",
      "\n",
      "    warmup ====================================== 1000/1000 | eta:  0s | <1% bad\n",
      "  sampling ====================================== 1000/1000 | eta:  0s          \n"
     ]
    }
   ],
   "source": [
    "samples <- greta::mcmc(m)"
   ]
  },
  {
   "cell_type": "code",
   "execution_count": 77,
   "metadata": {},
   "outputs": [
    {
     "data": {
      "text/html": [
       "<dl class=dl-horizontal>\n",
       "\t<dt>gamma[1,1]</dt>\n",
       "\t\t<dd>10.5098389744349</dd>\n",
       "\t<dt>gamma[2,1]</dt>\n",
       "\t\t<dd>15.5406485189394</dd>\n",
       "\t<dt>gamma[3,1]</dt>\n",
       "\t\t<dd>20.6064962138701</dd>\n",
       "\t<dt>gamma[4,1]</dt>\n",
       "\t\t<dd>13.8097903907306</dd>\n",
       "\t<dt>gamma[5,1]</dt>\n",
       "\t\t<dd>21.0281366409384</dd>\n",
       "\t<dt>gamma[6,1]</dt>\n",
       "\t\t<dd>13.5412167304261</dd>\n",
       "\t<dt>gamma[7,1]</dt>\n",
       "\t\t<dd>17.1012038489876</dd>\n",
       "\t<dt>gamma[8,1]</dt>\n",
       "\t\t<dd>20.4099704254465</dd>\n",
       "\t<dt>gamma[9,1]</dt>\n",
       "\t\t<dd>14.7387860263437</dd>\n",
       "\t<dt>gamma[10,1]</dt>\n",
       "\t\t<dd>9.24760448597421</dd>\n",
       "\t<dt>gamma[11,1]</dt>\n",
       "\t\t<dd>11.0805280832592</dd>\n",
       "\t<dt>gamma[12,1]</dt>\n",
       "\t\t<dd>12.0412018151111</dd>\n",
       "\t<dt>gamma[13,1]</dt>\n",
       "\t\t<dd>12.035630032202</dd>\n",
       "\t<dt>gamma[14,1]</dt>\n",
       "\t\t<dd>11.5653004063364</dd>\n",
       "\t<dt>gamma[15,1]</dt>\n",
       "\t\t<dd>13.7942837906813</dd>\n",
       "\t<dt>gamma[16,1]</dt>\n",
       "\t\t<dd>9.89520660444259</dd>\n",
       "\t<dt>gamma[17,1]</dt>\n",
       "\t\t<dd>11.9832517402035</dd>\n",
       "\t<dt>gamma[18,1]</dt>\n",
       "\t\t<dd>12.9101063043578</dd>\n",
       "\t<dt>gamma[19,1]</dt>\n",
       "\t\t<dd>16.8966666040122</dd>\n",
       "\t<dt>gamma[20,1]</dt>\n",
       "\t\t<dd>18.3832942805413</dd>\n",
       "\t<dt>gamma[21,1]</dt>\n",
       "\t\t<dd>16.7899605234514</dd>\n",
       "\t<dt>gamma[22,1]</dt>\n",
       "\t\t<dd>13.512948483521</dd>\n",
       "\t<dt>gamma[23,1]</dt>\n",
       "\t\t<dd>10.2573058310273</dd>\n",
       "\t<dt>gamma[24,1]</dt>\n",
       "\t\t<dd>18.7742421538397</dd>\n",
       "\t<dt>gamma[25,1]</dt>\n",
       "\t\t<dd>20.7990011274213</dd>\n",
       "\t<dt>gamma[26,1]</dt>\n",
       "\t\t<dd>12.5096335253545</dd>\n",
       "\t<dt>gamma[27,1]</dt>\n",
       "\t\t<dd>8.94447081717781</dd>\n",
       "\t<dt>gamma[28,1]</dt>\n",
       "\t\t<dd>16.9001202403725</dd>\n",
       "\t<dt>gamma[29,1]</dt>\n",
       "\t\t<dd>12.2746940848537</dd>\n",
       "\t<dt>gamma[30,1]</dt>\n",
       "\t\t<dd>11.3141035907948</dd>\n",
       "\t<dt>gamma[31,1]</dt>\n",
       "\t\t<dd>17.84214002239</dd>\n",
       "\t<dt>gamma[32,1]</dt>\n",
       "\t\t<dd>11.8670740421704</dd>\n",
       "\t<dt>gamma[33,1]</dt>\n",
       "\t\t<dd>13.9167886160213</dd>\n",
       "\t<dt>gamma[34,1]</dt>\n",
       "\t\t<dd>10.9033967846536</dd>\n",
       "\t<dt>gamma[35,1]</dt>\n",
       "\t\t<dd>13.5911573281759</dd>\n",
       "\t<dt>gamma[36,1]</dt>\n",
       "\t\t<dd>16.0446060844802</dd>\n",
       "\t<dt>gamma[37,1]</dt>\n",
       "\t\t<dd>14.9644467609474</dd>\n",
       "\t<dt>gamma[38,1]</dt>\n",
       "\t\t<dd>14.3720026433308</dd>\n",
       "\t<dt>gamma[39,1]</dt>\n",
       "\t\t<dd>12.8994952249947</dd>\n",
       "\t<dt>gamma[40,1]</dt>\n",
       "\t\t<dd>16.3831297324578</dd>\n",
       "\t<dt>gamma[41,1]</dt>\n",
       "\t\t<dd>13.5393218317462</dd>\n",
       "\t<dt>gamma[42,1]</dt>\n",
       "\t\t<dd>18.6266123374695</dd>\n",
       "\t<dt>gamma[43,1]</dt>\n",
       "\t\t<dd>8.74893653675666</dd>\n",
       "\t<dt>gamma[44,1]</dt>\n",
       "\t\t<dd>19.8324104569819</dd>\n",
       "\t<dt>gamma[45,1]</dt>\n",
       "\t\t<dd>11.2101261473301</dd>\n",
       "\t<dt>gamma[46,1]</dt>\n",
       "\t\t<dd>14.6163661302732</dd>\n",
       "\t<dt>gamma[47,1]</dt>\n",
       "\t\t<dd>14.535436623561</dd>\n",
       "\t<dt>gamma[48,1]</dt>\n",
       "\t\t<dd>17.6288653165151</dd>\n",
       "\t<dt>gamma[49,1]</dt>\n",
       "\t\t<dd>15.43623646105</dd>\n",
       "\t<dt>gamma[50,1]</dt>\n",
       "\t\t<dd>14.9474293551356</dd>\n",
       "\t<dt>gamma[51,1]</dt>\n",
       "\t\t<dd>10.900562703039</dd>\n",
       "\t<dt>gamma[52,1]</dt>\n",
       "\t\t<dd>22.2407414254551</dd>\n",
       "\t<dt>gamma[53,1]</dt>\n",
       "\t\t<dd>18.6825556736393</dd>\n",
       "\t<dt>gamma[54,1]</dt>\n",
       "\t\t<dd>10.1376091008871</dd>\n",
       "\t<dt>gamma[55,1]</dt>\n",
       "\t\t<dd>5.99906079760772</dd>\n",
       "\t<dt>gamma[56,1]</dt>\n",
       "\t\t<dd>10.6541733542435</dd>\n",
       "\t<dt>gamma[57,1]</dt>\n",
       "\t\t<dd>12.6181800235635</dd>\n",
       "\t<dt>gamma[58,1]</dt>\n",
       "\t\t<dd>11.9924233838953</dd>\n",
       "\t<dt>gamma[59,1]</dt>\n",
       "\t\t<dd>16.4972739412855</dd>\n",
       "\t<dt>gamma[60,1]</dt>\n",
       "\t\t<dd>14.6994107971847</dd>\n",
       "\t<dt>gamma[61,1]</dt>\n",
       "\t\t<dd>11.5396727235407</dd>\n",
       "\t<dt>gamma[62,1]</dt>\n",
       "\t\t<dd>9.6538136084462</dd>\n",
       "\t<dt>gamma[63,1]</dt>\n",
       "\t\t<dd>15.2415219946519</dd>\n",
       "\t<dt>gamma[64,1]</dt>\n",
       "\t\t<dd>13.6348707206123</dd>\n",
       "\t<dt>gamma[65,1]</dt>\n",
       "\t\t<dd>15.3970114495864</dd>\n",
       "\t<dt>gamma[66,1]</dt>\n",
       "\t\t<dd>22.1367388535416</dd>\n",
       "\t<dt>gamma[67,1]</dt>\n",
       "\t\t<dd>10.499963592037</dd>\n",
       "\t<dt>gamma[68,1]</dt>\n",
       "\t\t<dd>11.5764015407717</dd>\n",
       "\t<dt>gamma[69,1]</dt>\n",
       "\t\t<dd>11.5558553463725</dd>\n",
       "\t<dt>gamma[70,1]</dt>\n",
       "\t\t<dd>16.8097563335931</dd>\n",
       "\t<dt>gamma[71,1]</dt>\n",
       "\t\t<dd>19.9798918323613</dd>\n",
       "\t<dt>gamma[72,1]</dt>\n",
       "\t\t<dd>14.8850509551552</dd>\n",
       "\t<dt>gamma[73,1]</dt>\n",
       "\t\t<dd>11.1316335066643</dd>\n",
       "\t<dt>gamma[74,1]</dt>\n",
       "\t\t<dd>24.8283993204171</dd>\n",
       "\t<dt>gamma[75,1]</dt>\n",
       "\t\t<dd>16.489168368453</dd>\n",
       "\t<dt>gamma[76,1]</dt>\n",
       "\t\t<dd>10.6102814190962</dd>\n",
       "\t<dt>gamma[77,1]</dt>\n",
       "\t\t<dd>22.6491474587022</dd>\n",
       "\t<dt>gamma[78,1]</dt>\n",
       "\t\t<dd>22.9522172809554</dd>\n",
       "\t<dt>gamma[79,1]</dt>\n",
       "\t\t<dd>14.4170530637017</dd>\n",
       "\t<dt>gamma[80,1]</dt>\n",
       "\t\t<dd>18.0301997093606</dd>\n",
       "\t<dt>gamma[81,1]</dt>\n",
       "\t\t<dd>18.0064808377532</dd>\n",
       "\t<dt>gamma[82,1]</dt>\n",
       "\t\t<dd>7.31167335991266</dd>\n",
       "\t<dt>gamma[83,1]</dt>\n",
       "\t\t<dd>14.8227205825287</dd>\n",
       "\t<dt>gamma[84,1]</dt>\n",
       "\t\t<dd>18.3511978311447</dd>\n",
       "\t<dt>gamma[85,1]</dt>\n",
       "\t\t<dd>9.5994984655561</dd>\n",
       "\t<dt>gamma[86,1]</dt>\n",
       "\t\t<dd>19.1387748037337</dd>\n",
       "\t<dt>gamma[87,1]</dt>\n",
       "\t\t<dd>9.84586349444079</dd>\n",
       "\t<dt>gamma[88,1]</dt>\n",
       "\t\t<dd>17.4321005467496</dd>\n",
       "\t<dt>gamma[89,1]</dt>\n",
       "\t\t<dd>16.6102847602721</dd>\n",
       "\t<dt>gamma[90,1]</dt>\n",
       "\t\t<dd>25.4302353158124</dd>\n",
       "</dl>\n"
      ],
      "text/latex": [
       "\\begin{description*}\n",
       "\\item[gamma\\{{[}\\}1,1\\{{]}\\}] 10.5098389744349\n",
       "\\item[gamma\\{{[}\\}2,1\\{{]}\\}] 15.5406485189394\n",
       "\\item[gamma\\{{[}\\}3,1\\{{]}\\}] 20.6064962138701\n",
       "\\item[gamma\\{{[}\\}4,1\\{{]}\\}] 13.8097903907306\n",
       "\\item[gamma\\{{[}\\}5,1\\{{]}\\}] 21.0281366409384\n",
       "\\item[gamma\\{{[}\\}6,1\\{{]}\\}] 13.5412167304261\n",
       "\\item[gamma\\{{[}\\}7,1\\{{]}\\}] 17.1012038489876\n",
       "\\item[gamma\\{{[}\\}8,1\\{{]}\\}] 20.4099704254465\n",
       "\\item[gamma\\{{[}\\}9,1\\{{]}\\}] 14.7387860263437\n",
       "\\item[gamma\\{{[}\\}10,1\\{{]}\\}] 9.24760448597421\n",
       "\\item[gamma\\{{[}\\}11,1\\{{]}\\}] 11.0805280832592\n",
       "\\item[gamma\\{{[}\\}12,1\\{{]}\\}] 12.0412018151111\n",
       "\\item[gamma\\{{[}\\}13,1\\{{]}\\}] 12.035630032202\n",
       "\\item[gamma\\{{[}\\}14,1\\{{]}\\}] 11.5653004063364\n",
       "\\item[gamma\\{{[}\\}15,1\\{{]}\\}] 13.7942837906813\n",
       "\\item[gamma\\{{[}\\}16,1\\{{]}\\}] 9.89520660444259\n",
       "\\item[gamma\\{{[}\\}17,1\\{{]}\\}] 11.9832517402035\n",
       "\\item[gamma\\{{[}\\}18,1\\{{]}\\}] 12.9101063043578\n",
       "\\item[gamma\\{{[}\\}19,1\\{{]}\\}] 16.8966666040122\n",
       "\\item[gamma\\{{[}\\}20,1\\{{]}\\}] 18.3832942805413\n",
       "\\item[gamma\\{{[}\\}21,1\\{{]}\\}] 16.7899605234514\n",
       "\\item[gamma\\{{[}\\}22,1\\{{]}\\}] 13.512948483521\n",
       "\\item[gamma\\{{[}\\}23,1\\{{]}\\}] 10.2573058310273\n",
       "\\item[gamma\\{{[}\\}24,1\\{{]}\\}] 18.7742421538397\n",
       "\\item[gamma\\{{[}\\}25,1\\{{]}\\}] 20.7990011274213\n",
       "\\item[gamma\\{{[}\\}26,1\\{{]}\\}] 12.5096335253545\n",
       "\\item[gamma\\{{[}\\}27,1\\{{]}\\}] 8.94447081717781\n",
       "\\item[gamma\\{{[}\\}28,1\\{{]}\\}] 16.9001202403725\n",
       "\\item[gamma\\{{[}\\}29,1\\{{]}\\}] 12.2746940848537\n",
       "\\item[gamma\\{{[}\\}30,1\\{{]}\\}] 11.3141035907948\n",
       "\\item[gamma\\{{[}\\}31,1\\{{]}\\}] 17.84214002239\n",
       "\\item[gamma\\{{[}\\}32,1\\{{]}\\}] 11.8670740421704\n",
       "\\item[gamma\\{{[}\\}33,1\\{{]}\\}] 13.9167886160213\n",
       "\\item[gamma\\{{[}\\}34,1\\{{]}\\}] 10.9033967846536\n",
       "\\item[gamma\\{{[}\\}35,1\\{{]}\\}] 13.5911573281759\n",
       "\\item[gamma\\{{[}\\}36,1\\{{]}\\}] 16.0446060844802\n",
       "\\item[gamma\\{{[}\\}37,1\\{{]}\\}] 14.9644467609474\n",
       "\\item[gamma\\{{[}\\}38,1\\{{]}\\}] 14.3720026433308\n",
       "\\item[gamma\\{{[}\\}39,1\\{{]}\\}] 12.8994952249947\n",
       "\\item[gamma\\{{[}\\}40,1\\{{]}\\}] 16.3831297324578\n",
       "\\item[gamma\\{{[}\\}41,1\\{{]}\\}] 13.5393218317462\n",
       "\\item[gamma\\{{[}\\}42,1\\{{]}\\}] 18.6266123374695\n",
       "\\item[gamma\\{{[}\\}43,1\\{{]}\\}] 8.74893653675666\n",
       "\\item[gamma\\{{[}\\}44,1\\{{]}\\}] 19.8324104569819\n",
       "\\item[gamma\\{{[}\\}45,1\\{{]}\\}] 11.2101261473301\n",
       "\\item[gamma\\{{[}\\}46,1\\{{]}\\}] 14.6163661302732\n",
       "\\item[gamma\\{{[}\\}47,1\\{{]}\\}] 14.535436623561\n",
       "\\item[gamma\\{{[}\\}48,1\\{{]}\\}] 17.6288653165151\n",
       "\\item[gamma\\{{[}\\}49,1\\{{]}\\}] 15.43623646105\n",
       "\\item[gamma\\{{[}\\}50,1\\{{]}\\}] 14.9474293551356\n",
       "\\item[gamma\\{{[}\\}51,1\\{{]}\\}] 10.900562703039\n",
       "\\item[gamma\\{{[}\\}52,1\\{{]}\\}] 22.2407414254551\n",
       "\\item[gamma\\{{[}\\}53,1\\{{]}\\}] 18.6825556736393\n",
       "\\item[gamma\\{{[}\\}54,1\\{{]}\\}] 10.1376091008871\n",
       "\\item[gamma\\{{[}\\}55,1\\{{]}\\}] 5.99906079760772\n",
       "\\item[gamma\\{{[}\\}56,1\\{{]}\\}] 10.6541733542435\n",
       "\\item[gamma\\{{[}\\}57,1\\{{]}\\}] 12.6181800235635\n",
       "\\item[gamma\\{{[}\\}58,1\\{{]}\\}] 11.9924233838953\n",
       "\\item[gamma\\{{[}\\}59,1\\{{]}\\}] 16.4972739412855\n",
       "\\item[gamma\\{{[}\\}60,1\\{{]}\\}] 14.6994107971847\n",
       "\\item[gamma\\{{[}\\}61,1\\{{]}\\}] 11.5396727235407\n",
       "\\item[gamma\\{{[}\\}62,1\\{{]}\\}] 9.6538136084462\n",
       "\\item[gamma\\{{[}\\}63,1\\{{]}\\}] 15.2415219946519\n",
       "\\item[gamma\\{{[}\\}64,1\\{{]}\\}] 13.6348707206123\n",
       "\\item[gamma\\{{[}\\}65,1\\{{]}\\}] 15.3970114495864\n",
       "\\item[gamma\\{{[}\\}66,1\\{{]}\\}] 22.1367388535416\n",
       "\\item[gamma\\{{[}\\}67,1\\{{]}\\}] 10.499963592037\n",
       "\\item[gamma\\{{[}\\}68,1\\{{]}\\}] 11.5764015407717\n",
       "\\item[gamma\\{{[}\\}69,1\\{{]}\\}] 11.5558553463725\n",
       "\\item[gamma\\{{[}\\}70,1\\{{]}\\}] 16.8097563335931\n",
       "\\item[gamma\\{{[}\\}71,1\\{{]}\\}] 19.9798918323613\n",
       "\\item[gamma\\{{[}\\}72,1\\{{]}\\}] 14.8850509551552\n",
       "\\item[gamma\\{{[}\\}73,1\\{{]}\\}] 11.1316335066643\n",
       "\\item[gamma\\{{[}\\}74,1\\{{]}\\}] 24.8283993204171\n",
       "\\item[gamma\\{{[}\\}75,1\\{{]}\\}] 16.489168368453\n",
       "\\item[gamma\\{{[}\\}76,1\\{{]}\\}] 10.6102814190962\n",
       "\\item[gamma\\{{[}\\}77,1\\{{]}\\}] 22.6491474587022\n",
       "\\item[gamma\\{{[}\\}78,1\\{{]}\\}] 22.9522172809554\n",
       "\\item[gamma\\{{[}\\}79,1\\{{]}\\}] 14.4170530637017\n",
       "\\item[gamma\\{{[}\\}80,1\\{{]}\\}] 18.0301997093606\n",
       "\\item[gamma\\{{[}\\}81,1\\{{]}\\}] 18.0064808377532\n",
       "\\item[gamma\\{{[}\\}82,1\\{{]}\\}] 7.31167335991266\n",
       "\\item[gamma\\{{[}\\}83,1\\{{]}\\}] 14.8227205825287\n",
       "\\item[gamma\\{{[}\\}84,1\\{{]}\\}] 18.3511978311447\n",
       "\\item[gamma\\{{[}\\}85,1\\{{]}\\}] 9.5994984655561\n",
       "\\item[gamma\\{{[}\\}86,1\\{{]}\\}] 19.1387748037337\n",
       "\\item[gamma\\{{[}\\}87,1\\{{]}\\}] 9.84586349444079\n",
       "\\item[gamma\\{{[}\\}88,1\\{{]}\\}] 17.4321005467496\n",
       "\\item[gamma\\{{[}\\}89,1\\{{]}\\}] 16.6102847602721\n",
       "\\item[gamma\\{{[}\\}90,1\\{{]}\\}] 25.4302353158124\n",
       "\\end{description*}\n"
      ],
      "text/markdown": [
       "gamma[1,1]\n",
       ":   10.5098389744349gamma[2,1]\n",
       ":   15.5406485189394gamma[3,1]\n",
       ":   20.6064962138701gamma[4,1]\n",
       ":   13.8097903907306gamma[5,1]\n",
       ":   21.0281366409384gamma[6,1]\n",
       ":   13.5412167304261gamma[7,1]\n",
       ":   17.1012038489876gamma[8,1]\n",
       ":   20.4099704254465gamma[9,1]\n",
       ":   14.7387860263437gamma[10,1]\n",
       ":   9.24760448597421gamma[11,1]\n",
       ":   11.0805280832592gamma[12,1]\n",
       ":   12.0412018151111gamma[13,1]\n",
       ":   12.035630032202gamma[14,1]\n",
       ":   11.5653004063364gamma[15,1]\n",
       ":   13.7942837906813gamma[16,1]\n",
       ":   9.89520660444259gamma[17,1]\n",
       ":   11.9832517402035gamma[18,1]\n",
       ":   12.9101063043578gamma[19,1]\n",
       ":   16.8966666040122gamma[20,1]\n",
       ":   18.3832942805413gamma[21,1]\n",
       ":   16.7899605234514gamma[22,1]\n",
       ":   13.512948483521gamma[23,1]\n",
       ":   10.2573058310273gamma[24,1]\n",
       ":   18.7742421538397gamma[25,1]\n",
       ":   20.7990011274213gamma[26,1]\n",
       ":   12.5096335253545gamma[27,1]\n",
       ":   8.94447081717781gamma[28,1]\n",
       ":   16.9001202403725gamma[29,1]\n",
       ":   12.2746940848537gamma[30,1]\n",
       ":   11.3141035907948gamma[31,1]\n",
       ":   17.84214002239gamma[32,1]\n",
       ":   11.8670740421704gamma[33,1]\n",
       ":   13.9167886160213gamma[34,1]\n",
       ":   10.9033967846536gamma[35,1]\n",
       ":   13.5911573281759gamma[36,1]\n",
       ":   16.0446060844802gamma[37,1]\n",
       ":   14.9644467609474gamma[38,1]\n",
       ":   14.3720026433308gamma[39,1]\n",
       ":   12.8994952249947gamma[40,1]\n",
       ":   16.3831297324578gamma[41,1]\n",
       ":   13.5393218317462gamma[42,1]\n",
       ":   18.6266123374695gamma[43,1]\n",
       ":   8.74893653675666gamma[44,1]\n",
       ":   19.8324104569819gamma[45,1]\n",
       ":   11.2101261473301gamma[46,1]\n",
       ":   14.6163661302732gamma[47,1]\n",
       ":   14.535436623561gamma[48,1]\n",
       ":   17.6288653165151gamma[49,1]\n",
       ":   15.43623646105gamma[50,1]\n",
       ":   14.9474293551356gamma[51,1]\n",
       ":   10.900562703039gamma[52,1]\n",
       ":   22.2407414254551gamma[53,1]\n",
       ":   18.6825556736393gamma[54,1]\n",
       ":   10.1376091008871gamma[55,1]\n",
       ":   5.99906079760772gamma[56,1]\n",
       ":   10.6541733542435gamma[57,1]\n",
       ":   12.6181800235635gamma[58,1]\n",
       ":   11.9924233838953gamma[59,1]\n",
       ":   16.4972739412855gamma[60,1]\n",
       ":   14.6994107971847gamma[61,1]\n",
       ":   11.5396727235407gamma[62,1]\n",
       ":   9.6538136084462gamma[63,1]\n",
       ":   15.2415219946519gamma[64,1]\n",
       ":   13.6348707206123gamma[65,1]\n",
       ":   15.3970114495864gamma[66,1]\n",
       ":   22.1367388535416gamma[67,1]\n",
       ":   10.499963592037gamma[68,1]\n",
       ":   11.5764015407717gamma[69,1]\n",
       ":   11.5558553463725gamma[70,1]\n",
       ":   16.8097563335931gamma[71,1]\n",
       ":   19.9798918323613gamma[72,1]\n",
       ":   14.8850509551552gamma[73,1]\n",
       ":   11.1316335066643gamma[74,1]\n",
       ":   24.8283993204171gamma[75,1]\n",
       ":   16.489168368453gamma[76,1]\n",
       ":   10.6102814190962gamma[77,1]\n",
       ":   22.6491474587022gamma[78,1]\n",
       ":   22.9522172809554gamma[79,1]\n",
       ":   14.4170530637017gamma[80,1]\n",
       ":   18.0301997093606gamma[81,1]\n",
       ":   18.0064808377532gamma[82,1]\n",
       ":   7.31167335991266gamma[83,1]\n",
       ":   14.8227205825287gamma[84,1]\n",
       ":   18.3511978311447gamma[85,1]\n",
       ":   9.5994984655561gamma[86,1]\n",
       ":   19.1387748037337gamma[87,1]\n",
       ":   9.84586349444079gamma[88,1]\n",
       ":   17.4321005467496gamma[89,1]\n",
       ":   16.6102847602721gamma[90,1]\n",
       ":   25.4302353158124\n",
       "\n"
      ],
      "text/plain": [
       " gamma[1,1]  gamma[2,1]  gamma[3,1]  gamma[4,1]  gamma[5,1]  gamma[6,1] \n",
       "  10.509839   15.540649   20.606496   13.809790   21.028137   13.541217 \n",
       " gamma[7,1]  gamma[8,1]  gamma[9,1] gamma[10,1] gamma[11,1] gamma[12,1] \n",
       "  17.101204   20.409970   14.738786    9.247604   11.080528   12.041202 \n",
       "gamma[13,1] gamma[14,1] gamma[15,1] gamma[16,1] gamma[17,1] gamma[18,1] \n",
       "  12.035630   11.565300   13.794284    9.895207   11.983252   12.910106 \n",
       "gamma[19,1] gamma[20,1] gamma[21,1] gamma[22,1] gamma[23,1] gamma[24,1] \n",
       "  16.896667   18.383294   16.789961   13.512948   10.257306   18.774242 \n",
       "gamma[25,1] gamma[26,1] gamma[27,1] gamma[28,1] gamma[29,1] gamma[30,1] \n",
       "  20.799001   12.509634    8.944471   16.900120   12.274694   11.314104 \n",
       "gamma[31,1] gamma[32,1] gamma[33,1] gamma[34,1] gamma[35,1] gamma[36,1] \n",
       "  17.842140   11.867074   13.916789   10.903397   13.591157   16.044606 \n",
       "gamma[37,1] gamma[38,1] gamma[39,1] gamma[40,1] gamma[41,1] gamma[42,1] \n",
       "  14.964447   14.372003   12.899495   16.383130   13.539322   18.626612 \n",
       "gamma[43,1] gamma[44,1] gamma[45,1] gamma[46,1] gamma[47,1] gamma[48,1] \n",
       "   8.748937   19.832410   11.210126   14.616366   14.535437   17.628865 \n",
       "gamma[49,1] gamma[50,1] gamma[51,1] gamma[52,1] gamma[53,1] gamma[54,1] \n",
       "  15.436236   14.947429   10.900563   22.240741   18.682556   10.137609 \n",
       "gamma[55,1] gamma[56,1] gamma[57,1] gamma[58,1] gamma[59,1] gamma[60,1] \n",
       "   5.999061   10.654173   12.618180   11.992423   16.497274   14.699411 \n",
       "gamma[61,1] gamma[62,1] gamma[63,1] gamma[64,1] gamma[65,1] gamma[66,1] \n",
       "  11.539673    9.653814   15.241522   13.634871   15.397011   22.136739 \n",
       "gamma[67,1] gamma[68,1] gamma[69,1] gamma[70,1] gamma[71,1] gamma[72,1] \n",
       "  10.499964   11.576402   11.555855   16.809756   19.979892   14.885051 \n",
       "gamma[73,1] gamma[74,1] gamma[75,1] gamma[76,1] gamma[77,1] gamma[78,1] \n",
       "  11.131634   24.828399   16.489168   10.610281   22.649147   22.952217 \n",
       "gamma[79,1] gamma[80,1] gamma[81,1] gamma[82,1] gamma[83,1] gamma[84,1] \n",
       "  14.417053   18.030200   18.006481    7.311673   14.822721   18.351198 \n",
       "gamma[85,1] gamma[86,1] gamma[87,1] gamma[88,1] gamma[89,1] gamma[90,1] \n",
       "   9.599498   19.138775    9.845863   17.432101   16.610285   25.430235 "
      ]
     },
     "metadata": {},
     "output_type": "display_data"
    }
   ],
   "source": [
    "coda::effectiveSize(samples)"
   ]
  },
  {
   "cell_type": "code",
   "execution_count": 78,
   "metadata": {},
   "outputs": [
    {
     "data": {
      "image/png": "[encoded data removed]",
      "text/plain": [
       "plot without title"
      ]
     },
     "metadata": {},
     "output_type": "display_data"
    }
   ],
   "source": [
    "bayesplot::mcmc_trace(samples, pars = \"gamma[1,1]\")"
   ]
  },
  {
   "cell_type": "code",
   "execution_count": 95,
   "metadata": {},
   "outputs": [],
   "source": [
    "s <- coda::gelman.diag(samples)"
   ]
  },
  {
   "cell_type": "code",
   "execution_count": 101,
   "metadata": {},
   "outputs": [
    {
     "data": {
      "text/plain": [
       "\n",
       "1.84156155032365 1.89481113491342 2.17045352493196 2.17460680804946 \n",
       "               1                1                1                1 \n",
       "2.23639671351334 2.30954406974991   2.638097461915 2.66954355217775 \n",
       "               1                1                1                1 \n",
       "2.67564464840803 2.67599205926657  2.8773214460867 3.08971541555882 \n",
       "               1                1                1                1 \n",
       "3.10215178006098 3.11919707956556 3.35140892567331 3.42298914858063 \n",
       "               1                1                1                1 \n",
       "3.42991919274125 3.54964452734447 3.65920294266368 3.78128422118451 \n",
       "               1                1                1                1 \n",
       "3.86739082326524 3.96310642197123  4.0400594831625 4.12618985951701 \n",
       "               1                1                1                1 \n",
       " 4.1649987639838 4.22951169242769 4.24576131881433 4.30437167265184 \n",
       "               1                1                1                1 \n",
       "4.32364169874033 4.33181554597987 4.33406176004475 4.34422305016122 \n",
       "               1                1                1                1 \n",
       "4.35380330486571 4.39092419888907 4.42622551828569 4.53595065758872 \n",
       "               1                1                1                1 \n",
       "4.54381143020942  4.5658345933857 4.63458119300599 4.66698200341898 \n",
       "               1                1                1                1 \n",
       "4.69657982725576 4.71672036949161 4.80227190073749 4.82759390601325 \n",
       "               1                1                1                1 \n",
       "4.86288146136126   4.884270106888  4.8931724476904 4.90167887718241 \n",
       "               1                1                1                1 \n",
       "4.90385966385768 4.95193203910405 4.97190742709694 5.14568964264864 \n",
       "               1                1                1                1 \n",
       "5.22774409802932 5.23730146124569  5.2476506507073 5.39696561809906 \n",
       "               1                1                1                1 \n",
       " 5.6565193364465 5.66508303217422 5.77950848833873 5.78467378973243 \n",
       "               1                1                1                1 \n",
       "5.98676257207229 6.12817896103262 6.30120039184527 6.49103644275308 \n",
       "               1                1                1                1 \n",
       "7.03567230927024 7.31577866806599 7.35562055397434 7.42968598050212 \n",
       "               1                1                1                1 \n",
       "7.68090996579015 7.84578400270729 7.85884983023423 7.86583001487311 \n",
       "               1                1                1                1 \n",
       "8.17858223621341 8.55299555074599 8.57163994299063 8.65128514616573 \n",
       "               1                1                1                1 \n",
       "8.75249455577533 8.78616926429896 8.79929539954751 8.92422324652347 \n",
       "               1                1                1                1 \n",
       "9.20516615995885 9.22777928988247 9.32660963066161 9.33052763144858 \n",
       "               1                1                1                1 \n",
       "9.48135762068149 10.1989605766977 10.5483416903666 10.6103532891489 \n",
       "               1                1                1                1 \n",
       "13.9327625878529 15.3333394415289 \n",
       "               1                1 "
      ]
     },
     "metadata": {},
     "output_type": "display_data"
    }
   ],
   "source": [
    "table(s$psrf[,1])"
   ]
  },
  {
   "cell_type": "code",
   "execution_count": null,
   "metadata": {},
   "outputs": [],
   "source": []
  }
 ],
 "metadata": {
  "kernelspec": {
   "display_name": "R 3.5",
   "language": "R",
   "name": "ir35"
  },
  "language_info": {
   "codemirror_mode": "r",
   "file_extension": ".r",
   "mimetype": "text/x-r-source",
   "name": "R",
   "pygments_lexer": "r",
   "version": "3.5.1"
  }
 },
 "nbformat": 4,
 "nbformat_minor": 2
}
