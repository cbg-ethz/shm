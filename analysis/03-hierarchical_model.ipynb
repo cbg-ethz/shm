{
 "cells": [
  {
   "cell_type": "markdown",
   "metadata": {},
   "source": [
    "# Structured hierarchical models\n",
    "\n",
    "The goal of this project is to model essential genes for multiple conditions given that we have prior knowledge about functional relations of these genes. The model we want to use is:\n",
    "\n",
    "\\begin{align}\n",
    "\\mathbf{z} & \\sim \\text{MRF} \\\\\n",
    "\\tau^2 & \\sim P(\\cdot) \\\\\n",
    "\\mu_{z_g} & \\sim \\mathcal{N}(0, 1) \\\\\n",
    "\\gamma_g \\mid z_g &  \\sim \\mathcal{N}(\\mu_{z_g}, \\tau^2) \\\\\n",
    "\\beta_{vg} \\mid \\gamma_g &  \\sim \\mathcal{N}(\\gamma_g, \\tau^2) \\\\\n",
    "l_{vg} & \\sim \\text{Gamma}(1, 1) \\\\\n",
    "\\sigma_2 & \\sim \\text{Half-Cauchy}(0, 1) \\\\\n",
    "x_{svg} \\mid \\beta_{vg} &  \\sim \\text{Pois}\\left(l_{vg} \\cdot \\exp \\left( \\beta_{vg} \\right), \\sigma^2\\right) \\\\\n",
    "\\end{align}\n",
    "\n",
    "\n",
    "We start with some simple models, see them in the other notebooks."
   ]
  },
  {
   "cell_type": "code",
   "execution_count": 1,
   "metadata": {},
   "outputs": [],
   "source": [
    "import warnings\n",
    "warnings.filterwarnings(\"ignore\")\n",
    "import os"
   ]
  },
  {
   "cell_type": "code",
   "execution_count": 2,
   "metadata": {},
   "outputs": [],
   "source": [
    "import pandas as pd\n",
    "import pymc3 as pm\n",
    "import numpy as np\n",
    "import scipy as sp\n",
    "import theano.tensor as tt"
   ]
  },
  {
   "cell_type": "code",
   "execution_count": 3,
   "metadata": {},
   "outputs": [],
   "source": [
    "from sklearn import preprocessing\n",
    "from pymc3 import  model_to_graphviz"
   ]
  },
  {
   "cell_type": "code",
   "execution_count": 4,
   "metadata": {},
   "outputs": [],
   "source": [
    "%matplotlib inline\n",
    "from matplotlib import pyplot as plt\n",
    "import seaborn as sns\n",
    "import arviz as az\n",
    "\n",
    "sns.set_style(\n",
    "    \"white\", \n",
    "    {'xtick.bottom': True,\n",
    "     'ytick.left': True,\n",
    "     'axes.spines.top': False, \n",
    "     'axes.spines.right': False})"
   ]
  },
  {
   "cell_type": "markdown",
   "metadata": {},
   "source": [
    "Since the MRF is particularly hard to estimate, we make use of a simpler representation first.\n",
    "\n",
    "\\begin{align}\n",
    "\\boldsymbol \\pi & \\sim \\text{Dirichlet}(1, 1) \\\\\n",
    "z_g & \\sim \\text{Categorical}(\\boldsymbol \\pi) \\\\\n",
    "\\tau_g^2 & \\sim \\text{Gamma}(1, 1) \\\\\n",
    "\\mu_{z_g} & \\sim \\mathcal{N}(0, 1) \\\\\n",
    "\\gamma_g \\mid z_g &  \\sim \\mathcal{N}(\\mu_{z_g}, \\tau_g^2) \\\\\n",
    "\\tau_b^2 & \\sim \\text{Gamma}(1, 1) \\\\\n",
    "\\beta_{cg} \\mid \\gamma_g &  \\sim \\mathcal{N}(\\gamma_g, \\tau_b^2) \\\\\n",
    "l_{cgs} & \\sim \\text{Lognormal}(1, 1) \\\\\n",
    "x_{cgs} \\mid \\beta_{vg} &  \\sim \\text{Pois}\\left(l_{vgs} \\cdot \\exp \\left( \\beta_{cg} \\right) \\right) \\\\\n",
    "\\end{align}"
   ]
  },
  {
   "cell_type": "markdown",
   "metadata": {},
   "source": [
    "## Data"
   ]
  },
  {
   "cell_type": "code",
   "execution_count": null,
   "metadata": {},
   "outputs": [],
   "source": [
    "le = preprocessing.LabelEncoder()"
   ]
  },
  {
   "cell_type": "code",
   "execution_count": 11,
   "metadata": {},
   "outputs": [],
   "source": [
    "file_path = os.path.join('../', 'data_raw', 'read_counts-normalized.tsv')"
   ]
  },
  {
   "cell_type": "code",
   "execution_count": 92,
   "metadata": {},
   "outputs": [],
   "source": [
    "sirna_data = pd.read_csv(file_path, sep=\"\\t\")"
   ]
  },
  {
   "cell_type": "code",
   "execution_count": 93,
   "metadata": {},
   "outputs": [],
   "source": [
    "sirna_data = (sirna_data[[\"Gene\", \"sgRNA\", \"LSLCas9_134\", \"LSLCas9_136\"]]\n",
    "    .query(\"Gene != 'Control'\")\n",
    "    .rename(index=str, columns={\"LSLCas9_134\": \"r1\", \"LSLCas9_136\": \"r2\"})\n",
    "    .melt(id_vars=['Gene', 'sgRNA'], value_vars=['r1', 'r2'],\n",
    "          var_name='replicate', value_name='counts')\n",
    "    .sort_values(['Gene', 'sgRNA', 'replicate'])\n",
    ")"
   ]
  },
  {
   "cell_type": "code",
   "execution_count": 96,
   "metadata": {},
   "outputs": [],
   "source": [
    "sirna_data[\"sgRNA\"] = le.fit_transform(sirna_data[\"sgRNA\"].values)"
   ]
  },
  {
   "cell_type": "code",
   "execution_count": 97,
   "metadata": {},
   "outputs": [
    {
     "data": {
      "text/html": [
       "<div>\n",
       "<style scoped>\n",
       "    .dataframe tbody tr th:only-of-type {\n",
       "        vertical-align: middle;\n",
       "    }\n",
       "\n",
       "    .dataframe tbody tr th {\n",
       "        vertical-align: top;\n",
       "    }\n",
       "\n",
       "    .dataframe thead th {\n",
       "        text-align: right;\n",
       "    }\n",
       "</style>\n",
       "<table border=\"1\" class=\"dataframe\">\n",
       "  <thead>\n",
       "    <tr style=\"text-align: right;\">\n",
       "      <th></th>\n",
       "      <th>Gene</th>\n",
       "      <th>sgRNA</th>\n",
       "      <th>replicate</th>\n",
       "      <th>counts</th>\n",
       "    </tr>\n",
       "  </thead>\n",
       "  <tbody>\n",
       "    <tr>\n",
       "      <th>0</th>\n",
       "      <td>ACSM3</td>\n",
       "      <td>0</td>\n",
       "      <td>r1</td>\n",
       "      <td>8987.015957</td>\n",
       "    </tr>\n",
       "    <tr>\n",
       "      <th>900</th>\n",
       "      <td>ACSM3</td>\n",
       "      <td>0</td>\n",
       "      <td>r2</td>\n",
       "      <td>9300.411518</td>\n",
       "    </tr>\n",
       "    <tr>\n",
       "      <th>1</th>\n",
       "      <td>ACSM3</td>\n",
       "      <td>1</td>\n",
       "      <td>r1</td>\n",
       "      <td>15742.897879</td>\n",
       "    </tr>\n",
       "    <tr>\n",
       "      <th>901</th>\n",
       "      <td>ACSM3</td>\n",
       "      <td>1</td>\n",
       "      <td>r2</td>\n",
       "      <td>15869.905865</td>\n",
       "    </tr>\n",
       "    <tr>\n",
       "      <th>2</th>\n",
       "      <td>ACSM3</td>\n",
       "      <td>2</td>\n",
       "      <td>r1</td>\n",
       "      <td>17348.226026</td>\n",
       "    </tr>\n",
       "  </tbody>\n",
       "</table>\n",
       "</div>"
      ],
      "text/plain": [
       "      Gene  sgRNA replicate        counts\n",
       "0    ACSM3      0        r1   8987.015957\n",
       "900  ACSM3      0        r2   9300.411518\n",
       "1    ACSM3      1        r1  15742.897879\n",
       "901  ACSM3      1        r2  15869.905865\n",
       "2    ACSM3      2        r1  17348.226026"
      ]
     },
     "execution_count": 97,
     "metadata": {},
     "output_type": "execute_result"
    }
   ],
   "source": [
    "sirna_data[:5]"
   ]
  },
  {
   "cell_type": "code",
   "execution_count": 29,
   "metadata": {},
   "outputs": [
    {
     "data": {
      "image/png": "[encoded data removed]",
      "text/plain": [
       "<Figure size 432x288 with 1 Axes>"
      ]
     },
     "metadata": {},
     "output_type": "display_data"
    }
   ],
   "source": [
    "plt.hist(sirna_data[[\"counts\"]].values, color=\"darkgrey\", bins=50, density=True);\n",
    "plt.show()"
   ]
  },
  {
   "cell_type": "code",
   "execution_count": 109,
   "metadata": {},
   "outputs": [
    {
     "data": {
      "text/html": [
       "<div>\n",
       "<style scoped>\n",
       "    .dataframe tbody tr th:only-of-type {\n",
       "        vertical-align: middle;\n",
       "    }\n",
       "\n",
       "    .dataframe tbody tr th {\n",
       "        vertical-align: top;\n",
       "    }\n",
       "\n",
       "    .dataframe thead th {\n",
       "        text-align: right;\n",
       "    }\n",
       "</style>\n",
       "<table border=\"1\" class=\"dataframe\">\n",
       "  <thead>\n",
       "    <tr style=\"text-align: right;\">\n",
       "      <th></th>\n",
       "      <th>Gene</th>\n",
       "      <th>sgRNA</th>\n",
       "      <th>replicate</th>\n",
       "      <th>counts</th>\n",
       "    </tr>\n",
       "  </thead>\n",
       "  <tbody>\n",
       "    <tr>\n",
       "      <th>78</th>\n",
       "      <td>B4GALT6</td>\n",
       "      <td>78</td>\n",
       "      <td>r1</td>\n",
       "      <td>1.007739</td>\n",
       "    </tr>\n",
       "    <tr>\n",
       "      <th>978</th>\n",
       "      <td>B4GALT6</td>\n",
       "      <td>78</td>\n",
       "      <td>r2</td>\n",
       "      <td>1.092367</td>\n",
       "    </tr>\n",
       "    <tr>\n",
       "      <th>357</th>\n",
       "      <td>FMO3</td>\n",
       "      <td>357</td>\n",
       "      <td>r1</td>\n",
       "      <td>1.007739</td>\n",
       "    </tr>\n",
       "    <tr>\n",
       "      <th>1257</th>\n",
       "      <td>FMO3</td>\n",
       "      <td>357</td>\n",
       "      <td>r2</td>\n",
       "      <td>1.092367</td>\n",
       "    </tr>\n",
       "    <tr>\n",
       "      <th>555</th>\n",
       "      <td>MNAT1</td>\n",
       "      <td>555</td>\n",
       "      <td>r1</td>\n",
       "      <td>1.007739</td>\n",
       "    </tr>\n",
       "    <tr>\n",
       "      <th>1455</th>\n",
       "      <td>MNAT1</td>\n",
       "      <td>555</td>\n",
       "      <td>r2</td>\n",
       "      <td>1.092367</td>\n",
       "    </tr>\n",
       "    <tr>\n",
       "      <th>687</th>\n",
       "      <td>PRPH2</td>\n",
       "      <td>687</td>\n",
       "      <td>r1</td>\n",
       "      <td>1.007739</td>\n",
       "    </tr>\n",
       "    <tr>\n",
       "      <th>1587</th>\n",
       "      <td>PRPH2</td>\n",
       "      <td>687</td>\n",
       "      <td>r2</td>\n",
       "      <td>1.092367</td>\n",
       "    </tr>\n",
       "    <tr>\n",
       "      <th>777</th>\n",
       "      <td>SEL1L2</td>\n",
       "      <td>777</td>\n",
       "      <td>r1</td>\n",
       "      <td>12.092867</td>\n",
       "    </tr>\n",
       "    <tr>\n",
       "      <th>1677</th>\n",
       "      <td>SEL1L2</td>\n",
       "      <td>777</td>\n",
       "      <td>r2</td>\n",
       "      <td>30.586272</td>\n",
       "    </tr>\n",
       "    <tr>\n",
       "      <th>811</th>\n",
       "      <td>SULT1E1</td>\n",
       "      <td>811</td>\n",
       "      <td>r1</td>\n",
       "      <td>22.170257</td>\n",
       "    </tr>\n",
       "    <tr>\n",
       "      <th>1711</th>\n",
       "      <td>SULT1E1</td>\n",
       "      <td>811</td>\n",
       "      <td>r2</td>\n",
       "      <td>1.092367</td>\n",
       "    </tr>\n",
       "    <tr>\n",
       "      <th>866</th>\n",
       "      <td>TMPRSS11E</td>\n",
       "      <td>866</td>\n",
       "      <td>r1</td>\n",
       "      <td>1.007739</td>\n",
       "    </tr>\n",
       "    <tr>\n",
       "      <th>1766</th>\n",
       "      <td>TMPRSS11E</td>\n",
       "      <td>866</td>\n",
       "      <td>r2</td>\n",
       "      <td>1.092367</td>\n",
       "    </tr>\n",
       "    <tr>\n",
       "      <th>883</th>\n",
       "      <td>ULBP1</td>\n",
       "      <td>883</td>\n",
       "      <td>r1</td>\n",
       "      <td>1.007739</td>\n",
       "    </tr>\n",
       "    <tr>\n",
       "      <th>1783</th>\n",
       "      <td>ULBP1</td>\n",
       "      <td>883</td>\n",
       "      <td>r2</td>\n",
       "      <td>1.092367</td>\n",
       "    </tr>\n",
       "  </tbody>\n",
       "</table>\n",
       "</div>"
      ],
      "text/plain": [
       "           Gene  sgRNA replicate     counts\n",
       "78      B4GALT6     78        r1   1.007739\n",
       "978     B4GALT6     78        r2   1.092367\n",
       "357        FMO3    357        r1   1.007739\n",
       "1257       FMO3    357        r2   1.092367\n",
       "555       MNAT1    555        r1   1.007739\n",
       "1455      MNAT1    555        r2   1.092367\n",
       "687       PRPH2    687        r1   1.007739\n",
       "1587      PRPH2    687        r2   1.092367\n",
       "777      SEL1L2    777        r1  12.092867\n",
       "1677     SEL1L2    777        r2  30.586272\n",
       "811     SULT1E1    811        r1  22.170257\n",
       "1711    SULT1E1    811        r2   1.092367\n",
       "866   TMPRSS11E    866        r1   1.007739\n",
       "1766  TMPRSS11E    866        r2   1.092367\n",
       "883       ULBP1    883        r1   1.007739\n",
       "1783      ULBP1    883        r2   1.092367"
      ]
     },
     "execution_count": 109,
     "metadata": {},
     "output_type": "execute_result"
    }
   ],
   "source": [
    "sirna_data.query(\"counts < 200\")"
   ]
  },
  {
   "cell_type": "markdown",
   "metadata": {},
   "source": [
    "Since it is always _both_ replicates that have a low read count, it is safe to assume that these are no batch effects."
   ]
  },
  {
   "cell_type": "markdown",
   "metadata": {},
   "source": [
    "## Inference"
   ]
  },
  {
   "cell_type": "code",
   "execution_count": 131,
   "metadata": {},
   "outputs": [
    {
     "data": {
      "text/html": [
       "<div>\n",
       "<style scoped>\n",
       "    .dataframe tbody tr th:only-of-type {\n",
       "        vertical-align: middle;\n",
       "    }\n",
       "\n",
       "    .dataframe tbody tr th {\n",
       "        vertical-align: top;\n",
       "    }\n",
       "\n",
       "    .dataframe thead th {\n",
       "        text-align: right;\n",
       "    }\n",
       "</style>\n",
       "<table border=\"1\" class=\"dataframe\">\n",
       "  <thead>\n",
       "    <tr style=\"text-align: right;\">\n",
       "      <th></th>\n",
       "      <th>Gene</th>\n",
       "      <th>sgRNA</th>\n",
       "      <th>replicate</th>\n",
       "      <th>counts</th>\n",
       "    </tr>\n",
       "  </thead>\n",
       "  <tbody>\n",
       "    <tr>\n",
       "      <th>0</th>\n",
       "      <td>ACSM3</td>\n",
       "      <td>0</td>\n",
       "      <td>r1</td>\n",
       "      <td>8987.015957</td>\n",
       "    </tr>\n",
       "    <tr>\n",
       "      <th>900</th>\n",
       "      <td>ACSM3</td>\n",
       "      <td>0</td>\n",
       "      <td>r2</td>\n",
       "      <td>9300.411518</td>\n",
       "    </tr>\n",
       "    <tr>\n",
       "      <th>1</th>\n",
       "      <td>ACSM3</td>\n",
       "      <td>1</td>\n",
       "      <td>r1</td>\n",
       "      <td>15742.897879</td>\n",
       "    </tr>\n",
       "    <tr>\n",
       "      <th>901</th>\n",
       "      <td>ACSM3</td>\n",
       "      <td>1</td>\n",
       "      <td>r2</td>\n",
       "      <td>15869.905865</td>\n",
       "    </tr>\n",
       "    <tr>\n",
       "      <th>2</th>\n",
       "      <td>ACSM3</td>\n",
       "      <td>2</td>\n",
       "      <td>r1</td>\n",
       "      <td>17348.226026</td>\n",
       "    </tr>\n",
       "    <tr>\n",
       "      <th>902</th>\n",
       "      <td>ACSM3</td>\n",
       "      <td>2</td>\n",
       "      <td>r2</td>\n",
       "      <td>17373.002676</td>\n",
       "    </tr>\n",
       "    <tr>\n",
       "      <th>3</th>\n",
       "      <td>ACSM3</td>\n",
       "      <td>3</td>\n",
       "      <td>r1</td>\n",
       "      <td>9330.654939</td>\n",
       "    </tr>\n",
       "    <tr>\n",
       "      <th>903</th>\n",
       "      <td>ACSM3</td>\n",
       "      <td>3</td>\n",
       "      <td>r2</td>\n",
       "      <td>9374.692465</td>\n",
       "    </tr>\n",
       "    <tr>\n",
       "      <th>4</th>\n",
       "      <td>ACSM3</td>\n",
       "      <td>4</td>\n",
       "      <td>r1</td>\n",
       "      <td>8995.077869</td>\n",
       "    </tr>\n",
       "    <tr>\n",
       "      <th>904</th>\n",
       "      <td>ACSM3</td>\n",
       "      <td>4</td>\n",
       "      <td>r2</td>\n",
       "      <td>9365.953530</td>\n",
       "    </tr>\n",
       "    <tr>\n",
       "      <th>5</th>\n",
       "      <td>ACSM3</td>\n",
       "      <td>5</td>\n",
       "      <td>r1</td>\n",
       "      <td>20333.148797</td>\n",
       "    </tr>\n",
       "    <tr>\n",
       "      <th>905</th>\n",
       "      <td>ACSM3</td>\n",
       "      <td>5</td>\n",
       "      <td>r2</td>\n",
       "      <td>20061.317539</td>\n",
       "    </tr>\n",
       "    <tr>\n",
       "      <th>6</th>\n",
       "      <td>ACSM3</td>\n",
       "      <td>6</td>\n",
       "      <td>r1</td>\n",
       "      <td>12011.240547</td>\n",
       "    </tr>\n",
       "    <tr>\n",
       "      <th>906</th>\n",
       "      <td>ACSM3</td>\n",
       "      <td>6</td>\n",
       "      <td>r2</td>\n",
       "      <td>12021.497387</td>\n",
       "    </tr>\n",
       "    <tr>\n",
       "      <th>7</th>\n",
       "      <td>ACSM3</td>\n",
       "      <td>7</td>\n",
       "      <td>r1</td>\n",
       "      <td>12854.718048</td>\n",
       "    </tr>\n",
       "    <tr>\n",
       "      <th>907</th>\n",
       "      <td>ACSM3</td>\n",
       "      <td>7</td>\n",
       "      <td>r2</td>\n",
       "      <td>12881.190113</td>\n",
       "    </tr>\n",
       "    <tr>\n",
       "      <th>8</th>\n",
       "      <td>ACSM3</td>\n",
       "      <td>8</td>\n",
       "      <td>r1</td>\n",
       "      <td>11793.568933</td>\n",
       "    </tr>\n",
       "    <tr>\n",
       "      <th>908</th>\n",
       "      <td>ACSM3</td>\n",
       "      <td>8</td>\n",
       "      <td>r2</td>\n",
       "      <td>11597.659043</td>\n",
       "    </tr>\n",
       "    <tr>\n",
       "      <th>9</th>\n",
       "      <td>ACSM3</td>\n",
       "      <td>9</td>\n",
       "      <td>r1</td>\n",
       "      <td>14593.067737</td>\n",
       "    </tr>\n",
       "    <tr>\n",
       "      <th>909</th>\n",
       "      <td>ACSM3</td>\n",
       "      <td>9</td>\n",
       "      <td>r2</td>\n",
       "      <td>14655.193907</td>\n",
       "    </tr>\n",
       "  </tbody>\n",
       "</table>\n",
       "</div>"
      ],
      "text/plain": [
       "      Gene  sgRNA replicate        counts\n",
       "0    ACSM3      0        r1   8987.015957\n",
       "900  ACSM3      0        r2   9300.411518\n",
       "1    ACSM3      1        r1  15742.897879\n",
       "901  ACSM3      1        r2  15869.905865\n",
       "2    ACSM3      2        r1  17348.226026\n",
       "902  ACSM3      2        r2  17373.002676\n",
       "3    ACSM3      3        r1   9330.654939\n",
       "903  ACSM3      3        r2   9374.692465\n",
       "4    ACSM3      4        r1   8995.077869\n",
       "904  ACSM3      4        r2   9365.953530\n",
       "5    ACSM3      5        r1  20333.148797\n",
       "905  ACSM3      5        r2  20061.317539\n",
       "6    ACSM3      6        r1  12011.240547\n",
       "906  ACSM3      6        r2  12021.497387\n",
       "7    ACSM3      7        r1  12854.718048\n",
       "907  ACSM3      7        r2  12881.190113\n",
       "8    ACSM3      8        r1  11793.568933\n",
       "908  ACSM3      8        r2  11597.659043\n",
       "9    ACSM3      9        r1  14593.067737\n",
       "909  ACSM3      9        r2  14655.193907"
      ]
     },
     "execution_count": 131,
     "metadata": {},
     "output_type": "execute_result"
    }
   ],
   "source": [
    "sirna_data[:20]"
   ]
  },
  {
   "cell_type": "code",
   "execution_count": 126,
   "metadata": {},
   "outputs": [
    {
     "data": {
      "text/plain": [
       "(1800, 4)"
      ]
     },
     "execution_count": 126,
     "metadata": {},
     "output_type": "execute_result"
    }
   ],
   "source": [
    "sirna_data.shape"
   ]
  },
  {
   "cell_type": "code",
   "execution_count": 102,
   "metadata": {},
   "outputs": [],
   "source": [
    "gene_idx = le.fit_transform(sirna_data[\"Gene\"].values)\n",
    "len_genes = len(np.unique(gene_idx))"
   ]
  },
  {
   "cell_type": "code",
   "execution_count": 104,
   "metadata": {},
   "outputs": [
    {
     "data": {
      "text/plain": [
       "90"
      ]
     },
     "execution_count": 104,
     "metadata": {},
     "output_type": "execute_result"
    }
   ],
   "source": [
    "len_genes"
   ]
  },
  {
   "cell_type": "code",
   "execution_count": 103,
   "metadata": {},
   "outputs": [
    {
     "data": {
      "text/plain": [
       "array([ 0,  0,  0, ..., 89, 89, 89])"
      ]
     },
     "execution_count": 103,
     "metadata": {},
     "output_type": "execute_result"
    }
   ],
   "source": [
    "gene_idx"
   ]
  },
  {
   "cell_type": "code",
   "execution_count": 105,
   "metadata": {},
   "outputs": [],
   "source": [
    "len_conditions = 1"
   ]
  },
  {
   "cell_type": "code",
   "execution_count": 111,
   "metadata": {},
   "outputs": [
    {
     "data": {
      "text/plain": [
       "900"
      ]
     },
     "execution_count": 111,
     "metadata": {},
     "output_type": "execute_result"
    }
   ],
   "source": [
    "len_sirnas = len(np.unique(sirna_data[\"sgRNA\"].values))\n",
    "len_sirnas"
   ]
  },
  {
   "cell_type": "code",
   "execution_count": 133,
   "metadata": {},
   "outputs": [
    {
     "data": {
      "text/plain": [
       "10"
      ]
     },
     "execution_count": 133,
     "metadata": {},
     "output_type": "execute_result"
    }
   ],
   "source": [
    "len_sirnas_per_gene = int(len_sirnas / len_genes)\n",
    "len_sirnas_per_gene"
   ]
  },
  {
   "cell_type": "code",
   "execution_count": 112,
   "metadata": {},
   "outputs": [
    {
     "data": {
      "text/plain": [
       "2"
      ]
     },
     "execution_count": 112,
     "metadata": {},
     "output_type": "execute_result"
    }
   ],
   "source": [
    "len_replicates = len(np.unique(sirna_data[\"replicate\"].values))\n",
    "len_replicates"
   ]
  },
  {
   "cell_type": "code",
   "execution_count": 127,
   "metadata": {},
   "outputs": [
    {
     "data": {
      "text/plain": [
       "array([ 0,  1,  2,  3,  4,  5,  6,  7,  8,  9, 10, 11, 12, 13, 14, 15, 16,\n",
       "       17, 18, 19, 20, 21, 22, 23, 24, 25, 26, 27, 28, 29, 30, 31, 32, 33,\n",
       "       34, 35, 36, 37, 38, 39, 40, 41, 42, 43, 44, 45, 46, 47, 48, 49, 50,\n",
       "       51, 52, 53, 54, 55, 56, 57, 58, 59, 60, 61, 62, 63, 64, 65, 66, 67,\n",
       "       68, 69, 70, 71, 72, 73, 74, 75, 76, 77, 78, 79, 80, 81, 82, 83, 84,\n",
       "       85, 86, 87, 88, 89])"
      ]
     },
     "execution_count": 127,
     "metadata": {},
     "output_type": "execute_result"
    }
   ],
   "source": [
    "beta_idx = np.repeat(range(len_genes), len_conditions)\n",
    "beta_idx"
   ]
  },
  {
   "cell_type": "code",
   "execution_count": 136,
   "metadata": {},
   "outputs": [
    {
     "data": {
      "text/plain": [
       "array([0, 0, 0, 0, 0, 0, 0, 0, 0, 0, 0, 0, 0, 0, 0, 0, 0, 0, 0, 0, 1, 1,\n",
       "       1, 1, 1, 1, 1, 1, 1, 1, 1, 1, 1, 1, 1, 1, 1, 1, 1, 1, 2, 2, 2, 2,\n",
       "       2, 2, 2, 2, 2, 2, 2, 2, 2, 2, 2, 2, 2, 2, 2, 2, 3, 3, 3, 3, 3, 3,\n",
       "       3, 3, 3, 3, 3, 3, 3, 3, 3, 3, 3, 3, 3, 3, 4, 4, 4, 4, 4, 4, 4, 4,\n",
       "       4, 4, 4, 4, 4, 4, 4, 4, 4, 4, 4, 4])"
      ]
     },
     "execution_count": 136,
     "metadata": {},
     "output_type": "execute_result"
    }
   ],
   "source": [
    "beta_data_idx = np.repeat(beta_idx, len_replicates * len_sirnas_per_gene)\n",
    "beta_data_idx[:100]"
   ]
  },
  {
   "cell_type": "code",
   "execution_count": 141,
   "metadata": {},
   "outputs": [
    {
     "data": {
      "text/plain": [
       "array([  0,   0,   1, ..., 898, 899, 899])"
      ]
     },
     "execution_count": 141,
     "metadata": {},
     "output_type": "execute_result"
    }
   ],
   "source": [
    "l_idx = np.repeat(range(len_genes * len_conditions * len_sirnas_per_gene), len_replicates)\n",
    "l_idx"
   ]
  },
  {
   "cell_type": "code",
   "execution_count": 143,
   "metadata": {},
   "outputs": [
    {
     "data": {
      "text/plain": [
       "array([[ 8987.01595723],\n",
       "       [ 9300.41151812],\n",
       "       [15742.89787888],\n",
       "       [15869.90586508],\n",
       "       [17348.22602643],\n",
       "       [17373.00267609],\n",
       "       [ 9330.65493922],\n",
       "       [ 9374.69246518],\n",
       "       [ 8995.07786883],\n",
       "       [ 9365.95353023]])"
      ]
     },
     "execution_count": 143,
     "metadata": {},
     "output_type": "execute_result"
    }
   ],
   "source": [
    "counts = sirna_data[[\"counts\"]].values\n",
    "counts[:10]"
   ]
  },
  {
   "cell_type": "code",
   "execution_count": null,
   "metadata": {},
   "outputs": [],
   "source": [
    "with pm.Model() as model:\n",
    "    p = pm.Dirichlet('p', a=np.array([1., 1.]), shape=2)\n",
    "    p_min_pot = pm.Potential('p_pot', tt.switch(tt.min(p) < .05, -np.inf, 0))\n",
    "    category = pm.Categorical('category', p=p, shape=len_genes)\n",
    "    \n",
    "    tau_g = pm.Gamma('tau_g', 1., 1., shape=1)\n",
    "    mean_g = pm.Normal('mu_g', mu=np.array([0, 0]), sd=.5, shape=2)\n",
    "    mean_order_pot = pm.Potential('mop', tt.switch(mean_g[1] - mean_g[0] < 0, -np.inf, 0))    \n",
    "    gamma = pm.Normal('gamma', mean_g[category], tau_g, shape=len_genes)\n",
    "    \n",
    "    tau_b = pm.Gamma('tau_b', 1., 1., shape=1)\n",
    "    beta = pm.Normal('beta', gamma[beta_idx], tau_b, shape=len(beta_idx))\n",
    "    l = pm.Lognormal('l', 0, .25, shape = len_sirnas)\n",
    "    \n",
    "    x = pm.Poisson(\n",
    "        'x', \n",
    "        mu = np.exp(beta[beta_data_idx]) * l[l_idx] ,\n",
    "        observed=counts)"
   ]
  },
  {
   "cell_type": "code",
   "execution_count": null,
   "metadata": {},
   "outputs": [],
   "source": [
    "model_to_gr"
   ]
  }
 ],
 "metadata": {
  "kernelspec": {
   "display_name": "Python (ML)",
   "language": "python",
   "name": "ml"
  },
  "language_info": {
   "codemirror_mode": {
    "name": "ipython",
    "version": 3
   },
   "file_extension": ".py",
   "mimetype": "text/x-python",
   "name": "python",
   "nbconvert_exporter": "python",
   "pygments_lexer": "ipython3",
   "version": "3.6.8"
  }
 },
 "nbformat": 4,
 "nbformat_minor": 2
}
